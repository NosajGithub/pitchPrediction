{
 "cells": [
  {
   "cell_type": "markdown",
   "metadata": {},
   "source": [
    "# DATASCI 210: Predicting The Next Pitch"
   ]
  },
  {
   "cell_type": "markdown",
   "metadata": {},
   "source": [
    "Lorem ipsum delorum."
   ]
  },
  {
   "cell_type": "code",
   "execution_count": 10,
   "metadata": {
    "collapsed": false
   },
   "outputs": [],
   "source": [
    "import psycopg2\n",
    "\n",
    "import numpy as np\n",
    "import pandas as pd\n",
    "\n",
    "from sklearn import cross_validation\n",
    "\n",
    "from config import REDSHIFT_CONFIG\n",
    "from src.features import *\n",
    "from src.utils import *\n",
    "from src.validation import *"
   ]
  },
  {
   "cell_type": "code",
   "execution_count": 20,
   "metadata": {
    "collapsed": true
   },
   "outputs": [],
   "source": [
    "conn = create_conn(config=REDSHIFT_CONFIG)\n",
    "cur = conn.cursor()"
   ]
  },
  {
   "cell_type": "code",
   "execution_count": 23,
   "metadata": {
    "collapsed": false
   },
   "outputs": [],
   "source": [
    "colnames = [header[0] for header in cur.description]"
   ]
  },
  {
   "cell_type": "code",
   "execution_count": 24,
   "metadata": {
    "collapsed": false
   },
   "outputs": [
    {
     "data": {
      "text/html": [
       "<div style=\"max-height:1000px;max-width:1500px;overflow:auto;\">\n",
       "<table border=\"1\" class=\"dataframe\">\n",
       "  <thead>\n",
       "    <tr style=\"text-align: right;\">\n",
       "      <th></th>\n",
       "      <th>game_id</th>\n",
       "      <th>num</th>\n",
       "      <th>pitcher</th>\n",
       "      <th>batter</th>\n",
       "      <th>b</th>\n",
       "      <th>s</th>\n",
       "      <th>des</th>\n",
       "      <th>id</th>\n",
       "      <th>type</th>\n",
       "      <th>x</th>\n",
       "      <th>...</th>\n",
       "      <th>ay</th>\n",
       "      <th>az</th>\n",
       "      <th>break_y</th>\n",
       "      <th>break_angle</th>\n",
       "      <th>break_length</th>\n",
       "      <th>pitch_type</th>\n",
       "      <th>type_confidence</th>\n",
       "      <th>spin_dir</th>\n",
       "      <th>spin_rate</th>\n",
       "      <th>zone</th>\n",
       "    </tr>\n",
       "  </thead>\n",
       "  <tbody>\n",
       "    <tr>\n",
       "      <th>0</th>\n",
       "      <td> 2006/06/04/anamlb-clemlb-1</td>\n",
       "      <td> 1</td>\n",
       "      <td> 282332</td>\n",
       "      <td> 408210</td>\n",
       "      <td> 0</td>\n",
       "      <td> 0</td>\n",
       "      <td>            Ball</td>\n",
       "      <td>  3</td>\n",
       "      <td> B</td>\n",
       "      <td>  83.260</td>\n",
       "      <td>...</td>\n",
       "      <td> NaN</td>\n",
       "      <td> NaN</td>\n",
       "      <td> NaN</td>\n",
       "      <td> NaN</td>\n",
       "      <td> NaN</td>\n",
       "      <td> NaN</td>\n",
       "      <td> NaN</td>\n",
       "      <td> NaN</td>\n",
       "      <td> NaN</td>\n",
       "      <td>NaN</td>\n",
       "    </tr>\n",
       "    <tr>\n",
       "      <th>1</th>\n",
       "      <td> 2006/06/04/anamlb-clemlb-1</td>\n",
       "      <td> 1</td>\n",
       "      <td> 282332</td>\n",
       "      <td> 408210</td>\n",
       "      <td> 1</td>\n",
       "      <td> 1</td>\n",
       "      <td>            Ball</td>\n",
       "      <td>  5</td>\n",
       "      <td> B</td>\n",
       "      <td>  62.660</td>\n",
       "      <td>...</td>\n",
       "      <td> NaN</td>\n",
       "      <td> NaN</td>\n",
       "      <td> NaN</td>\n",
       "      <td> NaN</td>\n",
       "      <td> NaN</td>\n",
       "      <td> NaN</td>\n",
       "      <td> NaN</td>\n",
       "      <td> NaN</td>\n",
       "      <td> NaN</td>\n",
       "      <td>NaN</td>\n",
       "    </tr>\n",
       "    <tr>\n",
       "      <th>2</th>\n",
       "      <td> 2006/06/04/anamlb-clemlb-1</td>\n",
       "      <td> 1</td>\n",
       "      <td> 282332</td>\n",
       "      <td> 408210</td>\n",
       "      <td> 2</td>\n",
       "      <td> 2</td>\n",
       "      <td>            Foul</td>\n",
       "      <td>  7</td>\n",
       "      <td> S</td>\n",
       "      <td> 100.430</td>\n",
       "      <td>...</td>\n",
       "      <td> NaN</td>\n",
       "      <td> NaN</td>\n",
       "      <td> NaN</td>\n",
       "      <td> NaN</td>\n",
       "      <td> NaN</td>\n",
       "      <td> NaN</td>\n",
       "      <td> NaN</td>\n",
       "      <td> NaN</td>\n",
       "      <td> NaN</td>\n",
       "      <td>NaN</td>\n",
       "    </tr>\n",
       "    <tr>\n",
       "      <th>3</th>\n",
       "      <td> 2006/06/04/anamlb-clemlb-1</td>\n",
       "      <td> 1</td>\n",
       "      <td> 282332</td>\n",
       "      <td> 408210</td>\n",
       "      <td> 3</td>\n",
       "      <td> 3</td>\n",
       "      <td> In play, run(s)</td>\n",
       "      <td>  9</td>\n",
       "      <td> X</td>\n",
       "      <td> 105.580</td>\n",
       "      <td>...</td>\n",
       "      <td> NaN</td>\n",
       "      <td> NaN</td>\n",
       "      <td> NaN</td>\n",
       "      <td> NaN</td>\n",
       "      <td> NaN</td>\n",
       "      <td> NaN</td>\n",
       "      <td> NaN</td>\n",
       "      <td> NaN</td>\n",
       "      <td> NaN</td>\n",
       "      <td>NaN</td>\n",
       "    </tr>\n",
       "    <tr>\n",
       "      <th>4</th>\n",
       "      <td> 2006/06/04/anamlb-clemlb-1</td>\n",
       "      <td> 2</td>\n",
       "      <td> 282332</td>\n",
       "      <td> 111851</td>\n",
       "      <td> 0</td>\n",
       "      <td> 1</td>\n",
       "      <td> Swinging Strike</td>\n",
       "      <td> 15</td>\n",
       "      <td> S</td>\n",
       "      <td>  77.250</td>\n",
       "      <td>...</td>\n",
       "      <td> NaN</td>\n",
       "      <td> NaN</td>\n",
       "      <td> NaN</td>\n",
       "      <td> NaN</td>\n",
       "      <td> NaN</td>\n",
       "      <td> NaN</td>\n",
       "      <td> NaN</td>\n",
       "      <td> NaN</td>\n",
       "      <td> NaN</td>\n",
       "      <td>NaN</td>\n",
       "    </tr>\n",
       "  </tbody>\n",
       "</table>\n",
       "<p>5 rows × 40 columns</p>\n",
       "</div>"
      ],
      "text/plain": [
       "                      game_id  num  pitcher  batter  b  s              des  \\\n",
       "0  2006/06/04/anamlb-clemlb-1    1   282332  408210  0  0             Ball   \n",
       "1  2006/06/04/anamlb-clemlb-1    1   282332  408210  1  1             Ball   \n",
       "2  2006/06/04/anamlb-clemlb-1    1   282332  408210  2  2             Foul   \n",
       "3  2006/06/04/anamlb-clemlb-1    1   282332  408210  3  3  In play, run(s)   \n",
       "4  2006/06/04/anamlb-clemlb-1    2   282332  111851  0  1  Swinging Strike   \n",
       "\n",
       "   id type        x ...    ay   az  break_y  break_angle break_length  \\\n",
       "0   3    B   83.260 ...   NaN  NaN      NaN          NaN          NaN   \n",
       "1   5    B   62.660 ...   NaN  NaN      NaN          NaN          NaN   \n",
       "2   7    S  100.430 ...   NaN  NaN      NaN          NaN          NaN   \n",
       "3   9    X  105.580 ...   NaN  NaN      NaN          NaN          NaN   \n",
       "4  15    S   77.250 ...   NaN  NaN      NaN          NaN          NaN   \n",
       "\n",
       "  pitch_type type_confidence spin_dir spin_rate zone  \n",
       "0        NaN             NaN      NaN       NaN  NaN  \n",
       "1        NaN             NaN      NaN       NaN  NaN  \n",
       "2        NaN             NaN      NaN       NaN  NaN  \n",
       "3        NaN             NaN      NaN       NaN  NaN  \n",
       "4        NaN             NaN      NaN       NaN  NaN  \n",
       "\n",
       "[5 rows x 40 columns]"
      ]
     },
     "execution_count": 24,
     "metadata": {},
     "output_type": "execute_result"
    }
   ],
   "source": [
    "pitch_df = pd.DataFrame(rows)\n",
    "pitch_df.columns = colnames\n",
    "pitch_df.head()"
   ]
  },
  {
   "cell_type": "code",
   "execution_count": 19,
   "metadata": {
    "collapsed": false
   },
   "outputs": [
    {
     "data": {
      "text/plain": [
       "'\\ncur.close()\\nconn.close()\\n'"
      ]
     },
     "execution_count": 19,
     "metadata": {},
     "output_type": "execute_result"
    }
   ],
   "source": [
    "\"\"\"\n",
    "cur.close()\n",
    "conn.close()\n",
    "\"\"\""
   ]
  },
  {
   "cell_type": "code",
   "execution_count": 25,
   "metadata": {
    "collapsed": true
   },
   "outputs": [],
   "source": [
    "def get_available_rs_tables(cursor, *args, **kwargs):\n",
    "    query = \"\"\"select distinct(tablename) from pg_table_def where schemaname = 'public';\"\"\"\n",
    "    cur = cursor\n",
    "    cur.execute(query)\n",
    "    rows = cur.fetchall()\n",
    "    header = [colnames[0] for colnames in cur.description]\n",
    "    return header, rows"
   ]
  },
  {
   "cell_type": "code",
   "execution_count": 26,
   "metadata": {
    "collapsed": true
   },
   "outputs": [],
   "source": [
    "available_tables_header, available_tables_data = get_available_rs_tables(cur)"
   ]
  },
  {
   "cell_type": "code",
   "execution_count": 28,
   "metadata": {
    "collapsed": false
   },
   "outputs": [
    {
     "data": {
      "text/plain": [
       "(['tablename'],\n",
       " [('atbat',),\n",
       "  ('atbat_pkey',),\n",
       "  ('game',),\n",
       "  ('game_pkey',),\n",
       "  ('hitchart',),\n",
       "  ('hitchart_pkey',),\n",
       "  ('pitch',),\n",
       "  ('pitch_pkey',),\n",
       "  ('player',),\n",
       "  ('player_pkey',)])"
      ]
     },
     "execution_count": 28,
     "metadata": {},
     "output_type": "execute_result"
    }
   ],
   "source": [
    "available_table_headers, available_table_data"
   ]
  },
  {
   "cell_type": "code",
   "execution_count": null,
   "metadata": {
    "collapsed": true
   },
   "outputs": [],
   "source": [
    "# close_rs_conn(cur, conn)"
   ]
  }
 ],
 "metadata": {
  "kernelspec": {
   "display_name": "Python 2",
   "language": "python",
   "name": "python2"
  },
  "language_info": {
   "codemirror_mode": {
    "name": "ipython",
    "version": 2
   },
   "file_extension": ".py",
   "mimetype": "text/x-python",
   "name": "python",
   "nbconvert_exporter": "python",
   "pygments_lexer": "ipython2",
   "version": "2.7.9"
  }
 },
 "nbformat": 4,
 "nbformat_minor": 0
}
