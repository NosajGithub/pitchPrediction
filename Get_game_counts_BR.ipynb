{
 "cells": [
  {
   "cell_type": "code",
   "execution_count": 73,
   "metadata": {
    "collapsed": false
   },
   "outputs": [],
   "source": [
    "import urllib\n",
    "from bs4 import BeautifulSoup\n",
    "import pandas as pd\n",
    "import lxml\n",
    "from collections import defaultdict, Counter\n",
    "from time import sleep\n",
    "from random import randint\n",
    "import itertools\n",
    "\n",
    "def get_team_year(team, year):\n",
    "\n",
    "    d = defaultdict(int)\n",
    "\n",
    "    content = urllib.urlopen(\"http://www.baseball-reference.com/teams/%s/%04d-schedule-scores.shtml\" % (team, year))\n",
    "    s = content.read()\n",
    "\n",
    "#     s = open(\"ari_sch.html\")\n",
    "    soup = BeautifulSoup(s, \"lxml\")\n",
    "\n",
    "    table = soup.find(\"table\", { \"id\" : \"team_schedule\" })\n",
    "\n",
    "    for row in table.tbody.findAll(\"tr\"):\n",
    "        if row['class'] ==  \" thead\":\n",
    "            continue\n",
    "        for num, data in enumerate(row.findAll(\"td\")):\n",
    "            if num == 2:\n",
    "                d[data['csk']] += 1\n",
    "    \n",
    "    result = Counter(d)\n",
    "    return result"
   ]
  },
  {
   "cell_type": "code",
   "execution_count": 85,
   "metadata": {
    "collapsed": false
   },
   "outputs": [],
   "source": [
    "c = Counter()\n",
    "\n",
    "teams = [\"LAA\", \"ARI\", \"ATL\", \"BAL\", \"BOS\", \"CHC\",\n",
    "         \"CHW\", \"CIN\", \"CLE\", \"COL\", \"DET\", \"FLA\", \n",
    "         \"HOU\", \"KCR\", \"LAD\", \"MIL\", \"MIN\", \"NYM\", \n",
    "         \"NYY\", \"OAK\", \"PHI\", \"PIT\", \"SD\", \"SEA\", \n",
    "         \"STL\", \"TB\", \"TEX\", \"TOR\", \"WSN\", \"SFG\"]\n",
    "\n",
    "years = [2008,2009,2010,2011,2012,2013,2014,2015]\n",
    "\n",
    "team_years = [(t,y) for t in teams for y in years]\n",
    "\n",
    "for i in [(\"FLA\",2012),(\"FLA\",2013),(\"FLA\",2014),(\"FLA\",2015)]:\n",
    "    team_years.remove(i)\n",
    "\n",
    "for i in [(\"MIA\",2012),(\"MIA\",2013),(\"MIA\",2014),(\"MIA\",2015)]:\n",
    "    team_years.append(i)\n",
    "\n",
    "for num, (t,y) in enumerate(team_years):\n",
    "    sleep(randint(2,4))\n",
    "    print str(num) + \": \", t, str(y)\n",
    "    c = c + get_team_year(t,y)\n",
    "\n",
    "print c"
   ]
  },
  {
   "cell_type": "code",
   "execution_count": 84,
   "metadata": {
    "collapsed": false
   },
   "outputs": [],
   "source": [
    "dates = []\n",
    "counts = []\n",
    "\n",
    "for key, value in c.iteritems():\n",
    "    dates.append(key)\n",
    "    counts.append(value/2)\n",
    "\n",
    "df = pd.DataFrame({'date':dates, 'count':counts})\n",
    "df"
   ]
  },
  {
   "cell_type": "code",
   "execution_count": 83,
   "metadata": {
    "collapsed": false
   },
   "outputs": [],
   "source": [
    "df.sort('date').to_csv(\"date_counts.csv\")"
   ]
  }
 ],
 "metadata": {
  "kernelspec": {
   "display_name": "Python 2",
   "language": "python",
   "name": "python2"
  },
  "language_info": {
   "codemirror_mode": {
    "name": "ipython",
    "version": 2
   },
   "file_extension": ".py",
   "mimetype": "text/x-python",
   "name": "python",
   "nbconvert_exporter": "python",
   "pygments_lexer": "ipython2",
   "version": "2.7.9"
  }
 },
 "nbformat": 4,
 "nbformat_minor": 0
}
