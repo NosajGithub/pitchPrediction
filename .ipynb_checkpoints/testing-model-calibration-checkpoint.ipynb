{
 "cells": [
  {
   "cell_type": "markdown",
   "metadata": {},
   "source": [
    "#Reclassified Pitch and Ensemble Testing "
   ]
  },
  {
   "cell_type": "code",
   "execution_count": 1,
   "metadata": {
    "collapsed": true
   },
   "outputs": [],
   "source": [
    "#todo:\n",
    "#Scale features for some classifiers\n",
    "#automate ensemble\n",
    "#Boruta\n",
    "#Add classifiers (non-linear SVM)"
   ]
  },
  {
   "cell_type": "code",
   "execution_count": 2,
   "metadata": {
    "collapsed": true
   },
   "outputs": [],
   "source": [
    "#Import necessary packages\n",
    "import psycopg2\n",
    "import sys  \n",
    "\n",
    "import numpy as np\n",
    "import pandas as pd\n",
    "\n",
    "from config import REDSHIFT_CONFIG\n",
    "from src.features import *\n",
    "from src.utils import *\n",
    "from src.validation import *\n",
    "\n",
    "reload(sys)\n",
    "sys.setdefaultencoding('utf8')\n",
    "\n",
    "from src.exploration import *"
   ]
  },
  {
   "cell_type": "code",
   "execution_count": 3,
   "metadata": {
    "collapsed": true
   },
   "outputs": [],
   "source": [
    "# Establish a connection to the redshift database\n",
    "conn = create_rs_conn(config=REDSHIFT_CONFIG)\n",
    "cur = conn.cursor()"
   ]
  },
  {
   "cell_type": "markdown",
   "metadata": {},
   "source": [
    "## Creating data sets for Verlander from both the original pitch data and the rule-based reclassification provided by Alan. Then, going to run through some modeling with them and compare the accuracy differences "
   ]
  },
  {
   "cell_type": "code",
   "execution_count": 14,
   "metadata": {
    "collapsed": true
   },
   "outputs": [],
   "source": [
    "#Going to run through these steps with the real verlander and reclassed verlander data side by side\n",
    "verlander_df = get_pitcher_df_for_modeling(cur, pitcher_id = 434378, date_subsetting = False)\n",
    "verlander_df_rc = get_pitcher_df_for_modeling(cur, pitcher_id = 434378, date_subsetting = False, table = 'all_pitch_data_reclass')"
   ]
  },
  {
   "cell_type": "code",
   "execution_count": 15,
   "metadata": {
    "collapsed": true
   },
   "outputs": [],
   "source": [
    "#Subset the dates to get rid of weird data before 2009 and partial season data in 2015\n",
    "verlander_df = verlander_df[(verlander_df['date'] >= '2009-01-01') &\n",
    "                            (verlander_df['date'] <= '2015-01-01')]\n",
    "verlander_df_rc = verlander_df_rc[(verlander_df_rc['date'] >= '2009-01-01') &\n",
    "                            (verlander_df_rc['date'] <= '2015-01-01')]"
   ]
  },
  {
   "cell_type": "markdown",
   "metadata": {},
   "source": [
    "###Check out the binarized breakdown of pitch types by year for the original and reclassified pitches"
   ]
  },
  {
   "cell_type": "code",
   "execution_count": 16,
   "metadata": {
    "collapsed": false
   },
   "outputs": [
    {
     "data": {
      "text/html": [
       "<div>\n",
       "<table border=\"1\" class=\"dataframe\">\n",
       "  <thead>\n",
       "    <tr style=\"text-align: right;\">\n",
       "      <th>pitch_type</th>\n",
       "      <th>Fastball</th>\n",
       "      <th>Not_Fastball</th>\n",
       "    </tr>\n",
       "  </thead>\n",
       "  <tbody>\n",
       "    <tr>\n",
       "      <th>2009</th>\n",
       "      <td>2633</td>\n",
       "      <td>1285</td>\n",
       "    </tr>\n",
       "    <tr>\n",
       "      <th>2010</th>\n",
       "      <td>2187</td>\n",
       "      <td>1551</td>\n",
       "    </tr>\n",
       "    <tr>\n",
       "      <th>2011</th>\n",
       "      <td>2456</td>\n",
       "      <td>1811</td>\n",
       "    </tr>\n",
       "    <tr>\n",
       "      <th>2012</th>\n",
       "      <td>2303</td>\n",
       "      <td>1829</td>\n",
       "    </tr>\n",
       "    <tr>\n",
       "      <th>2013</th>\n",
       "      <td>2225</td>\n",
       "      <td>1704</td>\n",
       "    </tr>\n",
       "    <tr>\n",
       "      <th>2014</th>\n",
       "      <td>1936</td>\n",
       "      <td>1574</td>\n",
       "    </tr>\n",
       "  </tbody>\n",
       "</table>\n",
       "</div>"
      ],
      "text/plain": [
       "pitch_type  Fastball  Not_Fastball\n",
       "2009            2633          1285\n",
       "2010            2187          1551\n",
       "2011            2456          1811\n",
       "2012            2303          1829\n",
       "2013            2225          1704\n",
       "2014            1936          1574"
      ]
     },
     "execution_count": 16,
     "metadata": {},
     "output_type": "execute_result"
    }
   ],
   "source": [
    "get_pitch_types_by_year(verlander_df, use_gameday=False)"
   ]
  },
  {
   "cell_type": "code",
   "execution_count": 17,
   "metadata": {
    "collapsed": false
   },
   "outputs": [
    {
     "data": {
      "text/html": [
       "<div>\n",
       "<table border=\"1\" class=\"dataframe\">\n",
       "  <thead>\n",
       "    <tr style=\"text-align: right;\">\n",
       "      <th>pitch_type</th>\n",
       "      <th>Fastball</th>\n",
       "      <th>Not_Fastball</th>\n",
       "    </tr>\n",
       "  </thead>\n",
       "  <tbody>\n",
       "    <tr>\n",
       "      <th>2009</th>\n",
       "      <td>2633</td>\n",
       "      <td>1285</td>\n",
       "    </tr>\n",
       "    <tr>\n",
       "      <th>2010</th>\n",
       "      <td>2187</td>\n",
       "      <td>1551</td>\n",
       "    </tr>\n",
       "    <tr>\n",
       "      <th>2011</th>\n",
       "      <td>2456</td>\n",
       "      <td>1811</td>\n",
       "    </tr>\n",
       "    <tr>\n",
       "      <th>2012</th>\n",
       "      <td>2303</td>\n",
       "      <td>1829</td>\n",
       "    </tr>\n",
       "    <tr>\n",
       "      <th>2013</th>\n",
       "      <td>2225</td>\n",
       "      <td>1704</td>\n",
       "    </tr>\n",
       "    <tr>\n",
       "      <th>2014</th>\n",
       "      <td>1936</td>\n",
       "      <td>1574</td>\n",
       "    </tr>\n",
       "  </tbody>\n",
       "</table>\n",
       "</div>"
      ],
      "text/plain": [
       "pitch_type  Fastball  Not_Fastball\n",
       "2009            2633          1285\n",
       "2010            2187          1551\n",
       "2011            2456          1811\n",
       "2012            2303          1829\n",
       "2013            2225          1704\n",
       "2014            1936          1574"
      ]
     },
     "execution_count": 17,
     "metadata": {},
     "output_type": "execute_result"
    }
   ],
   "source": [
    "#Same totals but different fractions of each pitch\n",
    "get_pitch_types_by_year(verlander_df_rc, use_gameday=False)"
   ]
  },
  {
   "cell_type": "markdown",
   "metadata": {},
   "source": [
    "### Splitting the data half-way through the 2014 season and then checking to make sure the two data sets are identical in terms of number of observations"
   ]
  },
  {
   "cell_type": "code",
   "execution_count": 18,
   "metadata": {
    "collapsed": true
   },
   "outputs": [],
   "source": [
    "modeling_data = split_test_train(verlander_df, '2014-06-01')\n",
    "modeling_data_rc = split_test_train(verlander_df_rc, '2014-06-01')"
   ]
  },
  {
   "cell_type": "code",
   "execution_count": 19,
   "metadata": {
    "collapsed": false
   },
   "outputs": [
    {
     "data": {
      "text/plain": [
       "21332"
      ]
     },
     "execution_count": 19,
     "metadata": {},
     "output_type": "execute_result"
    }
   ],
   "source": [
    "len(modeling_data['train_data'])"
   ]
  },
  {
   "cell_type": "code",
   "execution_count": 20,
   "metadata": {
    "collapsed": false
   },
   "outputs": [
    {
     "data": {
      "text/plain": [
       "True"
      ]
     },
     "execution_count": 20,
     "metadata": {},
     "output_type": "execute_result"
    }
   ],
   "source": [
    "len(modeling_data['train_data']) == len(modeling_data_rc['train_data'])"
   ]
  },
  {
   "cell_type": "code",
   "execution_count": 21,
   "metadata": {
    "collapsed": false
   },
   "outputs": [
    {
     "data": {
      "text/plain": [
       "2162"
      ]
     },
     "execution_count": 21,
     "metadata": {},
     "output_type": "execute_result"
    }
   ],
   "source": [
    "len(modeling_data['test_data'])"
   ]
  },
  {
   "cell_type": "code",
   "execution_count": 22,
   "metadata": {
    "collapsed": false
   },
   "outputs": [
    {
     "data": {
      "text/plain": [
       "True"
      ]
     },
     "execution_count": 22,
     "metadata": {},
     "output_type": "execute_result"
    }
   ],
   "source": [
    "len(modeling_data['test_data'])  == len(modeling_data_rc['test_data']) "
   ]
  },
  {
   "cell_type": "code",
   "execution_count": 23,
   "metadata": {
    "collapsed": true
   },
   "outputs": [],
   "source": [
    "#Increase the number of columns displayed with Pandas\n",
    "pd.set_option('display.max_columns', 500)"
   ]
  },
  {
   "cell_type": "markdown",
   "metadata": {},
   "source": [
    "### Importing libraries needed to run a Random Forest and evaluate the accuracy"
   ]
  },
  {
   "cell_type": "code",
   "execution_count": 24,
   "metadata": {
    "collapsed": true
   },
   "outputs": [],
   "source": [
    "from sklearn.ensemble import RandomForestClassifier\n",
    "from sklearn.grid_search import RandomizedSearchCV\n",
    "from scipy.stats import randint as sp_randint\n",
    "from sklearn.metrics import accuracy_score"
   ]
  },
  {
   "cell_type": "markdown",
   "metadata": {},
   "source": [
    "Function to Subset the data down to contain only certain columns"
   ]
  },
  {
   "cell_type": "code",
   "execution_count": 25,
   "metadata": {
    "collapsed": true
   },
   "outputs": [],
   "source": [
    "def subset_data(modeling_dict, cols_of_interest):\n",
    "    new_dict = modeling_dict.copy()\n",
    "    new_dict['train_data'] = new_dict['train_data'][cols_of_interest]\n",
    "    new_dict['test_data'] = new_dict['test_data'][cols_of_interest]\n",
    "    return new_dict"
   ]
  },
  {
   "cell_type": "markdown",
   "metadata": {},
   "source": [
    "Check out the columns for potential subsetting"
   ]
  },
  {
   "cell_type": "code",
   "execution_count": 26,
   "metadata": {
    "collapsed": false
   },
   "outputs": [
    {
     "data": {
      "text/plain": [
       "Index([u'b', u's', u'on_1b', u'on_2b', u'on_3b', u'o', u'home_wins',\n",
       "       u'home_loss', u'away_wins', u'away_loss', u'Not_Fastball_pb_prior',\n",
       "       u'Not_Fastball_pbs_prior', u'Fastball_pb_prior', u'Fastball_pbs_prior',\n",
       "       u'Not_Fastball_pc_prior', u'Not_Fastball_pcs_prior',\n",
       "       u'Fastball_pc_prior', u'Fastball_pcs_prior', u'Not_Fastball_pg_prior',\n",
       "       u'Not_Fastball_pgs_prior', u'Fastball_pg_prior', u'Fastball_pgs_prior',\n",
       "       u'score_diff', u'ingame_pitch_count', u'season_pitch_count',\n",
       "       u'prev_pitches_mean_start_speed', u'prev_pitches_mean_end_speed',\n",
       "       u'prev_pitches_mean_break_y', u'prev_pitches_mean_break_angle',\n",
       "       u'prev_pitches_mean_break_length', u'cur_season', u'stand_L',\n",
       "       u'stand_R', u'p_throws_R', u'stadium_name_AT&T Park',\n",
       "       u'stadium_name_Angel Stadium of Anaheim', u'stadium_name_Busch Stadium',\n",
       "       u'stadium_name_Chase Field', u'stadium_name_Citi Field',\n",
       "       u'stadium_name_Comerica Park', u'stadium_name_Coors Field',\n",
       "       u'stadium_name_Fenway Park', u'stadium_name_Great American Ball Park',\n",
       "       u'stadium_name_Hubert H. Humphrey Metrodome',\n",
       "       u'stadium_name_Kauffman Stadium', u'stadium_name_Marlins Park',\n",
       "       u'stadium_name_Minute Maid Park', u'stadium_name_O.co Coliseum',\n",
       "       u'stadium_name_Oakland Coliseum',\n",
       "       u'stadium_name_Oriole Park at Camden Yards', u'stadium_name_PNC Park',\n",
       "       u'stadium_name_Petco Park', u'stadium_name_Progressive Field',\n",
       "       u'stadium_name_Rangers Ballpark in Arlington',\n",
       "       u'stadium_name_Rogers Centre', u'stadium_name_Safeco Field',\n",
       "       u'stadium_name_Target Field', u'stadium_name_Tropicana Field',\n",
       "       u'stadium_name_Turner Field', u'stadium_name_U.S. Cellular Field',\n",
       "       u'stadium_name_Wrigley Field', u'stadium_name_Yankee Stadium',\n",
       "       u'last_pitch_type_Fastball', u'last_pitch_type_Not_Fastball',\n",
       "       u'last_pitch_type_not_available', u'second_last_pitch_type_Fastball',\n",
       "       u'second_last_pitch_type_Not_Fastball',\n",
       "       u'second_last_pitch_type_not_available',\n",
       "       u'third_last_pitch_type_Fastball',\n",
       "       u'third_last_pitch_type_Not_Fastball',\n",
       "       u'third_last_pitch_type_not_available'],\n",
       "      dtype='object')"
      ]
     },
     "execution_count": 26,
     "metadata": {},
     "output_type": "execute_result"
    }
   ],
   "source": [
    "modeling_data['train_data'].columns"
   ]
  },
  {
   "cell_type": "markdown",
   "metadata": {},
   "source": [
    "Create different potential column subset groups"
   ]
  },
  {
   "cell_type": "code",
   "execution_count": 27,
   "metadata": {
    "collapsed": true
   },
   "outputs": [],
   "source": [
    "#Basic features\n",
    "the_basics = [u'b', u's', u'on_1b', u'on_2b', u'on_3b', u'o', \n",
    "              u'home_wins',u'home_loss', u'away_wins', u'away_loss', \n",
    "              u'stand_L', u'stand_R', u'p_throws_R']\n",
    "\n",
    "#Adding previous batter priors\n",
    "with_pbs_priors = the_basics + [u'Not_Fastball_pb_prior',\n",
    "                                u'Not_Fastball_pbs_prior', u'Fastball_pb_prior', u'Fastball_pbs_prior']\n",
    "\n",
    "#Adding pc priors\n",
    "with_pc_priors = the_basics + [u'Not_Fastball_pc_prior', u'Not_Fastball_pcs_prior',\n",
    "                               u'Fastball_pc_prior', u'Fastball_pcs_prior']\n",
    "\n",
    "#Adding previous games priors\n",
    "with_pg_priors = the_basics + [u'Not_Fastball_pg_prior', u'Not_Fastball_pgs_prior', \n",
    "                               u'Fastball_pg_prior', u'Fastball_pgs_prior']\n",
    "\n",
    "#Adding all priors\n",
    "basics_and_priors = (the_basics + [u'Not_Fastball_pb_prior',\n",
    "                                u'Not_Fastball_pbs_prior', u'Fastball_pb_prior', u'Fastball_pbs_prior'] +\n",
    "                     [u'Not_Fastball_pc_prior', u'Not_Fastball_pcs_prior',\n",
    "                               u'Fastball_pc_prior', u'Fastball_pcs_prior'] + \n",
    "                    [u'Not_Fastball_pg_prior', u'Not_Fastball_pgs_prior', \n",
    "                               u'Fastball_pg_prior', u'Fastball_pgs_prior'])\n",
    "\n",
    "#Adding previous pitch info\n",
    "with_previous_pitch_info = the_basics + [u'last_pitch_type_Fastball', u'last_pitch_type_Not_Fastball',\n",
    "       u'last_pitch_type_not_available', u'second_last_pitch_type_Fastball',\n",
    "       u'second_last_pitch_type_Not_Fastball',\n",
    "       u'second_last_pitch_type_not_available',\n",
    "       u'third_last_pitch_type_Fastball',\n",
    "       u'third_last_pitch_type_Not_Fastball',\n",
    "       u'third_last_pitch_type_not_available', u'prev_pitches_mean_start_speed', u'prev_pitches_mean_end_speed',\n",
    "       u'prev_pitches_mean_break_y', u'prev_pitches_mean_break_angle',\n",
    "       u'prev_pitches_mean_break_length']\n",
    "\n",
    "#priors and previous pitch info\n",
    "basics_priors_prev = basics_and_priors + [u'last_pitch_type_Fastball', u'last_pitch_type_Not_Fastball',\n",
    "       u'last_pitch_type_not_available', u'second_last_pitch_type_Fastball',\n",
    "       u'second_last_pitch_type_Not_Fastball',\n",
    "       u'second_last_pitch_type_not_available',\n",
    "       u'third_last_pitch_type_Fastball',\n",
    "       u'third_last_pitch_type_Not_Fastball',\n",
    "       u'third_last_pitch_type_not_available', u'prev_pitches_mean_start_speed', u'prev_pitches_mean_end_speed',\n",
    "       u'prev_pitches_mean_break_y', u'prev_pitches_mean_break_angle',\n",
    "       u'prev_pitches_mean_break_length']\n",
    "\n",
    "#Adding pitch_counts and previous pitches speeds and breaks\n",
    "with_pitch_counts_speeds_breaks = the_basics + [u'ingame_pitch_count', u'cur_season', \n",
    "                                                u'season_pitch_count']\n",
    "\n",
    "#Combining it with the above\n",
    "basics_pitch_stats_prev = basics_priors_prev + [u'ingame_pitch_count', u'cur_season', u'season_pitch_count']\n",
    "\n",
    "#Everything previous with stadiums Stadiums (should be all variables\n",
    "with_stadiums = basics_pitch_stats_prev + [u'stadium_name_Angel Stadium of Anaheim',\n",
    "       u'stadium_name_Citi Field', u'stadium_name_Comerica Park',\n",
    "       u'stadium_name_Fenway Park', u'stadium_name_Great American Ball Park',\n",
    "       u'stadium_name_Hubert H. Humphrey Metrodome',\n",
    "       u'stadium_name_Kauffman Stadium', u'stadium_name_Minute Maid Park',\n",
    "       u'stadium_name_Oakland Coliseum',\n",
    "       u'stadium_name_Oriole Park at Camden Yards', u'stadium_name_PNC Park',\n",
    "       u'stadium_name_Progressive Field',\n",
    "       u'stadium_name_Rangers Ballpark in Arlington',\n",
    "       u'stadium_name_Rogers Centre', u'stadium_name_Safeco Field',\n",
    "       u'stadium_name_Target Field', u'stadium_name_Tropicana Field',\n",
    "       u'stadium_name_Turner Field', u'stadium_name_U.S. Cellular Field',\n",
    "       u'stadium_name_Wrigley Field', u'stadium_name_Yankee Stadium']"
   ]
  },
  {
   "cell_type": "markdown",
   "metadata": {},
   "source": [
    "Function to guage the accuracy of just guessing the most frequent pitch"
   ]
  },
  {
   "cell_type": "code",
   "execution_count": 28,
   "metadata": {
    "collapsed": true
   },
   "outputs": [],
   "source": [
    "#Function to calculate the naive accuracy for a pitcher\n",
    "def naive_accuracy(data_dict):\n",
    "    biggest_count = data_dict['train_targets'].value_counts()[0]\n",
    "    all_counts = data_dict['train_targets'].value_counts().sum()\n",
    "    return round(float(biggest_count) / all_counts, 3)"
   ]
  },
  {
   "cell_type": "markdown",
   "metadata": {},
   "source": [
    "### Creating a Random Forest Model and evaluating its accuracy compared to the naive accuracy "
   ]
  },
  {
   "cell_type": "markdown",
   "metadata": {},
   "source": [
    "Naive Accuracy when Using the original data"
   ]
  },
  {
   "cell_type": "code",
   "execution_count": 29,
   "metadata": {
    "collapsed": false
   },
   "outputs": [
    {
     "data": {
      "text/plain": [
       "0.586"
      ]
     },
     "execution_count": 29,
     "metadata": {},
     "output_type": "execute_result"
    }
   ],
   "source": [
    "#Get the baseline accuracy for guessing the most frequent pitch with orig data\n",
    "naive_accuracy(modeling_data)"
   ]
  },
  {
   "cell_type": "markdown",
   "metadata": {},
   "source": [
    "Accuracy for random forest on original data"
   ]
  },
  {
   "cell_type": "code",
   "execution_count": 30,
   "metadata": {
    "collapsed": false
   },
   "outputs": [
    {
     "data": {
      "text/plain": [
       "0.6063829787234043"
      ]
     },
     "execution_count": 30,
     "metadata": {},
     "output_type": "execute_result"
    }
   ],
   "source": [
    "#Run Random forest Model for the original data\n",
    "baseline_dict = subset_data(modeling_data, basics_pitch_stats_prev)\n",
    "\n",
    "#Get predictions for a random forest\n",
    "rf = RandomForestClassifier(n_estimators = 50, max_depth = 3, min_samples_leaf = 5, \n",
    "                            min_samples_split = 5, max_features = None, random_state = 35)\n",
    "rf.fit(baseline_dict['train_data'], baseline_dict['train_targets'])\n",
    "rf_preds = rf.predict(baseline_dict['test_data'])\n",
    "\n",
    "#See accuracy for this model\n",
    "accuracy_score(baseline_dict['test_targets'], rf_preds)"
   ]
  },
  {
   "cell_type": "markdown",
   "metadata": {},
   "source": [
    "Accuracy for random forest on reclassified data"
   ]
  },
  {
   "cell_type": "code",
   "execution_count": 31,
   "metadata": {
    "collapsed": false
   },
   "outputs": [
    {
     "data": {
      "text/plain": [
       "0.586"
      ]
     },
     "execution_count": 31,
     "metadata": {},
     "output_type": "execute_result"
    }
   ],
   "source": [
    "#baseline for reclassed data\n",
    "naive_accuracy(modeling_data_rc)"
   ]
  },
  {
   "cell_type": "markdown",
   "metadata": {},
   "source": [
    "Accuracy for random forest on reclassified data...Pretty poor..."
   ]
  },
  {
   "cell_type": "code",
   "execution_count": 32,
   "metadata": {
    "collapsed": false
   },
   "outputs": [
    {
     "data": {
      "text/plain": [
       "0.6063829787234043"
      ]
     },
     "execution_count": 32,
     "metadata": {},
     "output_type": "execute_result"
    }
   ],
   "source": [
    "#Run Random forest Model for the reclassified data...\n",
    "baseline_dict_rc = subset_data(modeling_data_rc, basics_pitch_stats_prev)\n",
    "\n",
    "#Get predictions for a random forest\n",
    "rf_rc = RandomForestClassifier(n_estimators = 50, max_depth = 3, min_samples_leaf = 5, \n",
    "                            min_samples_split = 5, max_features = None, random_state = 35)\n",
    "rf_rc.fit(baseline_dict_rc['train_data'], baseline_dict_rc['train_targets'])\n",
    "rf_preds_rc = rf_rc.predict(baseline_dict_rc['test_data'])\n",
    "\n",
    "#See accuracy for this model\n",
    "accuracy_score(baseline_dict_rc['test_targets'], rf_preds_rc)"
   ]
  },
  {
   "cell_type": "markdown",
   "metadata": {},
   "source": [
    "### For Solidarity sake, we'll run a random search over the hyper-parameters and compare the results, since the parameters for the RF used above were tuned based on the original data "
   ]
  },
  {
   "cell_type": "markdown",
   "metadata": {},
   "source": [
    "Function to run and Random Search over hyperparameters of a random forest"
   ]
  },
  {
   "cell_type": "code",
   "execution_count": 23,
   "metadata": {
    "collapsed": true
   },
   "outputs": [],
   "source": [
    "def run_randomsearch_classifier(classifier, data_dict):\n",
    "    \"\"\"Given a classifier and a data dictionary containing 'train_data' and 'test_data' (as pandas DFs),\n",
    "    This runs the classifier and outputs the accuracy of the classifier on the test data.\"\"\"\n",
    "    \n",
    "    # Fit a model on all the data and features\n",
    "    classifier.fit(data_dict['train_data'], data_dict['train_targets'])\n",
    "    \n",
    "    #print the best parameters\n",
    "    print classifier.best_params_\n",
    "\n",
    "    # Make predictions on dev data\n",
    "    dev_predictions = classifier.predict(data_dict['test_data'])\n",
    "    \n",
    "    print accuracy_score(data_dict['test_targets'], dev_predictions)\n",
    "    \n",
    "    # Return the dev performance score.\n",
    "    return dev_predictions"
   ]
  },
  {
   "cell_type": "markdown",
   "metadata": {},
   "source": [
    "Create random search distributions for the random search cv"
   ]
  },
  {
   "cell_type": "code",
   "execution_count": 24,
   "metadata": {
    "collapsed": true
   },
   "outputs": [],
   "source": [
    "param_dist = {'n_estimators': [10, 50, 100, 150, 250, 350, 500],\n",
    "                \"max_depth\": [3, None],\n",
    "              \"max_features\": [None, 'auto'],\n",
    "              \"min_samples_split\": sp_randint(1, 11),\n",
    "              \"min_samples_leaf\": sp_randint(1, 11),\n",
    "             'random_state': [35]}\n",
    "\n",
    "# set max number of iterations to keep time down\n",
    "n_iter_search = 25"
   ]
  },
  {
   "cell_type": "markdown",
   "metadata": {},
   "source": [
    "Run the Random Search over the original data. Note: the results will print to the console"
   ]
  },
  {
   "cell_type": "code",
   "execution_count": 25,
   "metadata": {
    "collapsed": true
   },
   "outputs": [],
   "source": [
    "#run test for original data\n",
    "rf_preds = run_randomsearch_classifier(RandomizedSearchCV(RandomForestClassifier(), \n",
    "                                                          param_distributions=param_dist, \n",
    "                                                          n_iter=n_iter_search), \n",
    "                                       baseline_dict)"
   ]
  },
  {
   "cell_type": "markdown",
   "metadata": {},
   "source": [
    "Run the Random Search over the reclassified data. The accuracy output is in the console window. It's (as expected) not as good as using the original data"
   ]
  },
  {
   "cell_type": "code",
   "execution_count": 26,
   "metadata": {
    "collapsed": true
   },
   "outputs": [],
   "source": [
    "#Run test for reclassified data\n",
    "rf_preds_rc = run_randomsearch_classifier(RandomizedSearchCV(RandomForestClassifier(), \n",
    "                                                          param_distributions=param_dist, \n",
    "                                                          n_iter=n_iter_search), \n",
    "                                       baseline_dict_rc)"
   ]
  },
  {
   "cell_type": "markdown",
   "metadata": {},
   "source": [
    "### Here's some analysis of the feature space that may be of interest "
   ]
  },
  {
   "cell_type": "markdown",
   "metadata": {},
   "source": [
    "Summary stats of the features being used"
   ]
  },
  {
   "cell_type": "code",
   "execution_count": 27,
   "metadata": {
    "collapsed": false
   },
   "outputs": [
    {
     "data": {
      "text/html": [
       "<div>\n",
       "<table border=\"1\" class=\"dataframe\">\n",
       "  <thead>\n",
       "    <tr style=\"text-align: right;\">\n",
       "      <th></th>\n",
       "      <th>b</th>\n",
       "      <th>s</th>\n",
       "      <th>on_1b</th>\n",
       "      <th>on_2b</th>\n",
       "      <th>on_3b</th>\n",
       "      <th>o</th>\n",
       "      <th>home_wins</th>\n",
       "      <th>home_loss</th>\n",
       "      <th>away_wins</th>\n",
       "      <th>away_loss</th>\n",
       "      <th>stand_L</th>\n",
       "      <th>stand_R</th>\n",
       "      <th>p_throws_R</th>\n",
       "      <th>Not_Fastball_pb_prior</th>\n",
       "      <th>Not_Fastball_pbs_prior</th>\n",
       "      <th>Fastball_pb_prior</th>\n",
       "      <th>Fastball_pbs_prior</th>\n",
       "      <th>Not_Fastball_pc_prior</th>\n",
       "      <th>Not_Fastball_pcs_prior</th>\n",
       "      <th>Fastball_pc_prior</th>\n",
       "      <th>Fastball_pcs_prior</th>\n",
       "      <th>Not_Fastball_pg_prior</th>\n",
       "      <th>Not_Fastball_pgs_prior</th>\n",
       "      <th>Fastball_pg_prior</th>\n",
       "      <th>Fastball_pgs_prior</th>\n",
       "      <th>last_pitch_type_Fastball</th>\n",
       "      <th>last_pitch_type_Not_Fastball</th>\n",
       "      <th>last_pitch_type_not_available</th>\n",
       "      <th>second_last_pitch_type_Fastball</th>\n",
       "      <th>second_last_pitch_type_Not_Fastball</th>\n",
       "      <th>second_last_pitch_type_not_available</th>\n",
       "      <th>third_last_pitch_type_Fastball</th>\n",
       "      <th>third_last_pitch_type_Not_Fastball</th>\n",
       "      <th>third_last_pitch_type_not_available</th>\n",
       "      <th>prev_pitches_mean_start_speed</th>\n",
       "      <th>prev_pitches_mean_end_speed</th>\n",
       "      <th>prev_pitches_mean_break_y</th>\n",
       "      <th>prev_pitches_mean_break_angle</th>\n",
       "      <th>prev_pitches_mean_break_length</th>\n",
       "      <th>ingame_pitch_count</th>\n",
       "      <th>cur_season</th>\n",
       "      <th>season_pitch_count</th>\n",
       "    </tr>\n",
       "  </thead>\n",
       "  <tbody>\n",
       "    <tr>\n",
       "      <th>count</th>\n",
       "      <td>21332.000000</td>\n",
       "      <td>21332.000000</td>\n",
       "      <td>21332.000000</td>\n",
       "      <td>21332.000000</td>\n",
       "      <td>21332.000000</td>\n",
       "      <td>21332.000000</td>\n",
       "      <td>21332.000000</td>\n",
       "      <td>21332.000000</td>\n",
       "      <td>21332.000000</td>\n",
       "      <td>21332.000000</td>\n",
       "      <td>21332.000000</td>\n",
       "      <td>21332.000000</td>\n",
       "      <td>21332</td>\n",
       "      <td>21332.000000</td>\n",
       "      <td>21332.000000</td>\n",
       "      <td>21332.000000</td>\n",
       "      <td>21332.000000</td>\n",
       "      <td>21332.000000</td>\n",
       "      <td>21332.000000</td>\n",
       "      <td>21332.000000</td>\n",
       "      <td>21332.000000</td>\n",
       "      <td>21332.000000</td>\n",
       "      <td>21332.000000</td>\n",
       "      <td>21332.000000</td>\n",
       "      <td>21332.000000</td>\n",
       "      <td>21332.000000</td>\n",
       "      <td>21332.000000</td>\n",
       "      <td>21332.000000</td>\n",
       "      <td>21332.000000</td>\n",
       "      <td>21332.000000</td>\n",
       "      <td>21332.000000</td>\n",
       "      <td>21332.000000</td>\n",
       "      <td>21332.000000</td>\n",
       "      <td>21332.000000</td>\n",
       "      <td>21332.000000</td>\n",
       "      <td>21332.000000</td>\n",
       "      <td>21332.000000</td>\n",
       "      <td>21332.000000</td>\n",
       "      <td>21332.000000</td>\n",
       "      <td>21332.000000</td>\n",
       "      <td>21332</td>\n",
       "      <td>21332.000000</td>\n",
       "    </tr>\n",
       "    <tr>\n",
       "      <th>mean</th>\n",
       "      <td>0.878164</td>\n",
       "      <td>1.102053</td>\n",
       "      <td>0.269923</td>\n",
       "      <td>0.164167</td>\n",
       "      <td>0.083865</td>\n",
       "      <td>0.986687</td>\n",
       "      <td>37.525830</td>\n",
       "      <td>35.349287</td>\n",
       "      <td>37.941356</td>\n",
       "      <td>34.861148</td>\n",
       "      <td>0.588131</td>\n",
       "      <td>0.411869</td>\n",
       "      <td>1</td>\n",
       "      <td>0.379834</td>\n",
       "      <td>0.401577</td>\n",
       "      <td>0.602212</td>\n",
       "      <td>0.614342</td>\n",
       "      <td>0.390319</td>\n",
       "      <td>0.393072</td>\n",
       "      <td>0.609353</td>\n",
       "      <td>0.610561</td>\n",
       "      <td>0.354987</td>\n",
       "      <td>0.385314</td>\n",
       "      <td>0.636200</td>\n",
       "      <td>0.630190</td>\n",
       "      <td>0.580771</td>\n",
       "      <td>0.410416</td>\n",
       "      <td>0.008813</td>\n",
       "      <td>0.575942</td>\n",
       "      <td>0.406479</td>\n",
       "      <td>0.017579</td>\n",
       "      <td>0.570692</td>\n",
       "      <td>0.402869</td>\n",
       "      <td>0.026439</td>\n",
       "      <td>89.780313</td>\n",
       "      <td>82.688278</td>\n",
       "      <td>23.792659</td>\n",
       "      <td>25.954370</td>\n",
       "      <td>6.271240</td>\n",
       "      <td>56.563941</td>\n",
       "      <td>0</td>\n",
       "      <td>1927.709732</td>\n",
       "    </tr>\n",
       "    <tr>\n",
       "      <th>std</th>\n",
       "      <td>0.958624</td>\n",
       "      <td>1.174895</td>\n",
       "      <td>0.443930</td>\n",
       "      <td>0.370435</td>\n",
       "      <td>0.277191</td>\n",
       "      <td>0.816886</td>\n",
       "      <td>25.586647</td>\n",
       "      <td>24.624296</td>\n",
       "      <td>25.916149</td>\n",
       "      <td>24.236866</td>\n",
       "      <td>0.492183</td>\n",
       "      <td>0.492183</td>\n",
       "      <td>0</td>\n",
       "      <td>0.152866</td>\n",
       "      <td>0.073926</td>\n",
       "      <td>0.165411</td>\n",
       "      <td>0.084390</td>\n",
       "      <td>0.147700</td>\n",
       "      <td>0.139211</td>\n",
       "      <td>0.147943</td>\n",
       "      <td>0.143179</td>\n",
       "      <td>0.123697</td>\n",
       "      <td>0.065064</td>\n",
       "      <td>0.133339</td>\n",
       "      <td>0.084402</td>\n",
       "      <td>0.493445</td>\n",
       "      <td>0.491921</td>\n",
       "      <td>0.093465</td>\n",
       "      <td>0.494211</td>\n",
       "      <td>0.491187</td>\n",
       "      <td>0.131419</td>\n",
       "      <td>0.494989</td>\n",
       "      <td>0.490486</td>\n",
       "      <td>0.160441</td>\n",
       "      <td>4.241797</td>\n",
       "      <td>3.670230</td>\n",
       "      <td>0.062421</td>\n",
       "      <td>15.595803</td>\n",
       "      <td>2.126585</td>\n",
       "      <td>33.461877</td>\n",
       "      <td>0</td>\n",
       "      <td>1178.054737</td>\n",
       "    </tr>\n",
       "    <tr>\n",
       "      <th>min</th>\n",
       "      <td>0.000000</td>\n",
       "      <td>0.000000</td>\n",
       "      <td>0.000000</td>\n",
       "      <td>0.000000</td>\n",
       "      <td>0.000000</td>\n",
       "      <td>0.000000</td>\n",
       "      <td>0.000000</td>\n",
       "      <td>0.000000</td>\n",
       "      <td>0.000000</td>\n",
       "      <td>0.000000</td>\n",
       "      <td>0.000000</td>\n",
       "      <td>0.000000</td>\n",
       "      <td>1</td>\n",
       "      <td>0.000000</td>\n",
       "      <td>0.199917</td>\n",
       "      <td>0.000000</td>\n",
       "      <td>0.351001</td>\n",
       "      <td>0.000000</td>\n",
       "      <td>0.119911</td>\n",
       "      <td>0.000000</td>\n",
       "      <td>0.326652</td>\n",
       "      <td>0.000000</td>\n",
       "      <td>0.211377</td>\n",
       "      <td>0.000000</td>\n",
       "      <td>0.322864</td>\n",
       "      <td>0.000000</td>\n",
       "      <td>0.000000</td>\n",
       "      <td>0.000000</td>\n",
       "      <td>0.000000</td>\n",
       "      <td>0.000000</td>\n",
       "      <td>0.000000</td>\n",
       "      <td>0.000000</td>\n",
       "      <td>0.000000</td>\n",
       "      <td>0.000000</td>\n",
       "      <td>68.966667</td>\n",
       "      <td>62.766667</td>\n",
       "      <td>23.533333</td>\n",
       "      <td>-24.033333</td>\n",
       "      <td>1.500000</td>\n",
       "      <td>0.000000</td>\n",
       "      <td>0</td>\n",
       "      <td>0.000000</td>\n",
       "    </tr>\n",
       "    <tr>\n",
       "      <th>25%</th>\n",
       "      <td>0.000000</td>\n",
       "      <td>0.000000</td>\n",
       "      <td>0.000000</td>\n",
       "      <td>0.000000</td>\n",
       "      <td>0.000000</td>\n",
       "      <td>0.000000</td>\n",
       "      <td>14.000000</td>\n",
       "      <td>14.000000</td>\n",
       "      <td>15.000000</td>\n",
       "      <td>13.000000</td>\n",
       "      <td>0.000000</td>\n",
       "      <td>0.000000</td>\n",
       "      <td>1</td>\n",
       "      <td>0.315789</td>\n",
       "      <td>0.352040</td>\n",
       "      <td>0.528571</td>\n",
       "      <td>0.551724</td>\n",
       "      <td>0.272245</td>\n",
       "      <td>0.273024</td>\n",
       "      <td>0.504132</td>\n",
       "      <td>0.505370</td>\n",
       "      <td>0.300971</td>\n",
       "      <td>0.340700</td>\n",
       "      <td>0.562500</td>\n",
       "      <td>0.571309</td>\n",
       "      <td>0.000000</td>\n",
       "      <td>0.000000</td>\n",
       "      <td>0.000000</td>\n",
       "      <td>0.000000</td>\n",
       "      <td>0.000000</td>\n",
       "      <td>0.000000</td>\n",
       "      <td>0.000000</td>\n",
       "      <td>0.000000</td>\n",
       "      <td>0.000000</td>\n",
       "      <td>86.900000</td>\n",
       "      <td>80.233333</td>\n",
       "      <td>23.766667</td>\n",
       "      <td>15.725000</td>\n",
       "      <td>4.566667</td>\n",
       "      <td>28.000000</td>\n",
       "      <td>0</td>\n",
       "      <td>896.000000</td>\n",
       "    </tr>\n",
       "    <tr>\n",
       "      <th>50%</th>\n",
       "      <td>1.000000</td>\n",
       "      <td>1.000000</td>\n",
       "      <td>0.000000</td>\n",
       "      <td>0.000000</td>\n",
       "      <td>0.000000</td>\n",
       "      <td>1.000000</td>\n",
       "      <td>35.000000</td>\n",
       "      <td>33.000000</td>\n",
       "      <td>35.000000</td>\n",
       "      <td>33.000000</td>\n",
       "      <td>1.000000</td>\n",
       "      <td>0.000000</td>\n",
       "      <td>1</td>\n",
       "      <td>0.393939</td>\n",
       "      <td>0.394514</td>\n",
       "      <td>0.600000</td>\n",
       "      <td>0.607577</td>\n",
       "      <td>0.367105</td>\n",
       "      <td>0.367586</td>\n",
       "      <td>0.632821</td>\n",
       "      <td>0.632742</td>\n",
       "      <td>0.375000</td>\n",
       "      <td>0.382852</td>\n",
       "      <td>0.622222</td>\n",
       "      <td>0.621137</td>\n",
       "      <td>1.000000</td>\n",
       "      <td>0.000000</td>\n",
       "      <td>0.000000</td>\n",
       "      <td>1.000000</td>\n",
       "      <td>0.000000</td>\n",
       "      <td>0.000000</td>\n",
       "      <td>1.000000</td>\n",
       "      <td>0.000000</td>\n",
       "      <td>0.000000</td>\n",
       "      <td>90.000000</td>\n",
       "      <td>82.866667</td>\n",
       "      <td>23.800000</td>\n",
       "      <td>26.666667</td>\n",
       "      <td>5.966667</td>\n",
       "      <td>56.000000</td>\n",
       "      <td>0</td>\n",
       "      <td>1875.000000</td>\n",
       "    </tr>\n",
       "    <tr>\n",
       "      <th>75%</th>\n",
       "      <td>1.000000</td>\n",
       "      <td>2.000000</td>\n",
       "      <td>1.000000</td>\n",
       "      <td>0.000000</td>\n",
       "      <td>0.000000</td>\n",
       "      <td>2.000000</td>\n",
       "      <td>60.000000</td>\n",
       "      <td>54.000000</td>\n",
       "      <td>60.000000</td>\n",
       "      <td>56.000000</td>\n",
       "      <td>1.000000</td>\n",
       "      <td>1.000000</td>\n",
       "      <td>1</td>\n",
       "      <td>0.466667</td>\n",
       "      <td>0.449888</td>\n",
       "      <td>0.675862</td>\n",
       "      <td>0.667321</td>\n",
       "      <td>0.495835</td>\n",
       "      <td>0.494686</td>\n",
       "      <td>0.727714</td>\n",
       "      <td>0.727457</td>\n",
       "      <td>0.434783</td>\n",
       "      <td>0.427651</td>\n",
       "      <td>0.694444</td>\n",
       "      <td>0.681455</td>\n",
       "      <td>1.000000</td>\n",
       "      <td>1.000000</td>\n",
       "      <td>0.000000</td>\n",
       "      <td>1.000000</td>\n",
       "      <td>1.000000</td>\n",
       "      <td>0.000000</td>\n",
       "      <td>1.000000</td>\n",
       "      <td>1.000000</td>\n",
       "      <td>0.000000</td>\n",
       "      <td>92.866667</td>\n",
       "      <td>85.333333</td>\n",
       "      <td>23.833333</td>\n",
       "      <td>37.866667</td>\n",
       "      <td>7.633333</td>\n",
       "      <td>85.000000</td>\n",
       "      <td>0</td>\n",
       "      <td>2942.250000</td>\n",
       "    </tr>\n",
       "    <tr>\n",
       "      <th>max</th>\n",
       "      <td>3.000000</td>\n",
       "      <td>9.000000</td>\n",
       "      <td>1.000000</td>\n",
       "      <td>1.000000</td>\n",
       "      <td>1.000000</td>\n",
       "      <td>2.000000</td>\n",
       "      <td>91.000000</td>\n",
       "      <td>100.000000</td>\n",
       "      <td>93.000000</td>\n",
       "      <td>91.000000</td>\n",
       "      <td>1.000000</td>\n",
       "      <td>1.000000</td>\n",
       "      <td>1</td>\n",
       "      <td>1.000000</td>\n",
       "      <td>0.808105</td>\n",
       "      <td>1.000000</td>\n",
       "      <td>0.928027</td>\n",
       "      <td>1.000000</td>\n",
       "      <td>0.771445</td>\n",
       "      <td>1.000000</td>\n",
       "      <td>0.944635</td>\n",
       "      <td>1.000000</td>\n",
       "      <td>0.767847</td>\n",
       "      <td>1.000000</td>\n",
       "      <td>0.943007</td>\n",
       "      <td>1.000000</td>\n",
       "      <td>1.000000</td>\n",
       "      <td>1.000000</td>\n",
       "      <td>1.000000</td>\n",
       "      <td>1.000000</td>\n",
       "      <td>1.000000</td>\n",
       "      <td>1.000000</td>\n",
       "      <td>1.000000</td>\n",
       "      <td>1.000000</td>\n",
       "      <td>101.433333</td>\n",
       "      <td>92.933333</td>\n",
       "      <td>24.033333</td>\n",
       "      <td>75.100000</td>\n",
       "      <td>15.800000</td>\n",
       "      <td>132.000000</td>\n",
       "      <td>0</td>\n",
       "      <td>4300.000000</td>\n",
       "    </tr>\n",
       "  </tbody>\n",
       "</table>\n",
       "</div>"
      ],
      "text/plain": [
       "                  b             s         on_1b         on_2b         on_3b  \\\n",
       "count  21332.000000  21332.000000  21332.000000  21332.000000  21332.000000   \n",
       "mean       0.878164      1.102053      0.269923      0.164167      0.083865   \n",
       "std        0.958624      1.174895      0.443930      0.370435      0.277191   \n",
       "min        0.000000      0.000000      0.000000      0.000000      0.000000   \n",
       "25%        0.000000      0.000000      0.000000      0.000000      0.000000   \n",
       "50%        1.000000      1.000000      0.000000      0.000000      0.000000   \n",
       "75%        1.000000      2.000000      1.000000      0.000000      0.000000   \n",
       "max        3.000000      9.000000      1.000000      1.000000      1.000000   \n",
       "\n",
       "                  o     home_wins     home_loss     away_wins     away_loss  \\\n",
       "count  21332.000000  21332.000000  21332.000000  21332.000000  21332.000000   \n",
       "mean       0.986687     37.525830     35.349287     37.941356     34.861148   \n",
       "std        0.816886     25.586647     24.624296     25.916149     24.236866   \n",
       "min        0.000000      0.000000      0.000000      0.000000      0.000000   \n",
       "25%        0.000000     14.000000     14.000000     15.000000     13.000000   \n",
       "50%        1.000000     35.000000     33.000000     35.000000     33.000000   \n",
       "75%        2.000000     60.000000     54.000000     60.000000     56.000000   \n",
       "max        2.000000     91.000000    100.000000     93.000000     91.000000   \n",
       "\n",
       "            stand_L       stand_R  p_throws_R  Not_Fastball_pb_prior  \\\n",
       "count  21332.000000  21332.000000       21332           21332.000000   \n",
       "mean       0.588131      0.411869           1               0.379834   \n",
       "std        0.492183      0.492183           0               0.152866   \n",
       "min        0.000000      0.000000           1               0.000000   \n",
       "25%        0.000000      0.000000           1               0.315789   \n",
       "50%        1.000000      0.000000           1               0.393939   \n",
       "75%        1.000000      1.000000           1               0.466667   \n",
       "max        1.000000      1.000000           1               1.000000   \n",
       "\n",
       "       Not_Fastball_pbs_prior  Fastball_pb_prior  Fastball_pbs_prior  \\\n",
       "count            21332.000000       21332.000000        21332.000000   \n",
       "mean                 0.401577           0.602212            0.614342   \n",
       "std                  0.073926           0.165411            0.084390   \n",
       "min                  0.199917           0.000000            0.351001   \n",
       "25%                  0.352040           0.528571            0.551724   \n",
       "50%                  0.394514           0.600000            0.607577   \n",
       "75%                  0.449888           0.675862            0.667321   \n",
       "max                  0.808105           1.000000            0.928027   \n",
       "\n",
       "       Not_Fastball_pc_prior  Not_Fastball_pcs_prior  Fastball_pc_prior  \\\n",
       "count           21332.000000            21332.000000       21332.000000   \n",
       "mean                0.390319                0.393072           0.609353   \n",
       "std                 0.147700                0.139211           0.147943   \n",
       "min                 0.000000                0.119911           0.000000   \n",
       "25%                 0.272245                0.273024           0.504132   \n",
       "50%                 0.367105                0.367586           0.632821   \n",
       "75%                 0.495835                0.494686           0.727714   \n",
       "max                 1.000000                0.771445           1.000000   \n",
       "\n",
       "       Fastball_pcs_prior  Not_Fastball_pg_prior  Not_Fastball_pgs_prior  \\\n",
       "count        21332.000000           21332.000000            21332.000000   \n",
       "mean             0.610561               0.354987                0.385314   \n",
       "std              0.143179               0.123697                0.065064   \n",
       "min              0.326652               0.000000                0.211377   \n",
       "25%              0.505370               0.300971                0.340700   \n",
       "50%              0.632742               0.375000                0.382852   \n",
       "75%              0.727457               0.434783                0.427651   \n",
       "max              0.944635               1.000000                0.767847   \n",
       "\n",
       "       Fastball_pg_prior  Fastball_pgs_prior  last_pitch_type_Fastball  \\\n",
       "count       21332.000000        21332.000000              21332.000000   \n",
       "mean            0.636200            0.630190                  0.580771   \n",
       "std             0.133339            0.084402                  0.493445   \n",
       "min             0.000000            0.322864                  0.000000   \n",
       "25%             0.562500            0.571309                  0.000000   \n",
       "50%             0.622222            0.621137                  1.000000   \n",
       "75%             0.694444            0.681455                  1.000000   \n",
       "max             1.000000            0.943007                  1.000000   \n",
       "\n",
       "       last_pitch_type_Not_Fastball  last_pitch_type_not_available  \\\n",
       "count                  21332.000000                   21332.000000   \n",
       "mean                       0.410416                       0.008813   \n",
       "std                        0.491921                       0.093465   \n",
       "min                        0.000000                       0.000000   \n",
       "25%                        0.000000                       0.000000   \n",
       "50%                        0.000000                       0.000000   \n",
       "75%                        1.000000                       0.000000   \n",
       "max                        1.000000                       1.000000   \n",
       "\n",
       "       second_last_pitch_type_Fastball  second_last_pitch_type_Not_Fastball  \\\n",
       "count                     21332.000000                         21332.000000   \n",
       "mean                          0.575942                             0.406479   \n",
       "std                           0.494211                             0.491187   \n",
       "min                           0.000000                             0.000000   \n",
       "25%                           0.000000                             0.000000   \n",
       "50%                           1.000000                             0.000000   \n",
       "75%                           1.000000                             1.000000   \n",
       "max                           1.000000                             1.000000   \n",
       "\n",
       "       second_last_pitch_type_not_available  third_last_pitch_type_Fastball  \\\n",
       "count                          21332.000000                    21332.000000   \n",
       "mean                               0.017579                        0.570692   \n",
       "std                                0.131419                        0.494989   \n",
       "min                                0.000000                        0.000000   \n",
       "25%                                0.000000                        0.000000   \n",
       "50%                                0.000000                        1.000000   \n",
       "75%                                0.000000                        1.000000   \n",
       "max                                1.000000                        1.000000   \n",
       "\n",
       "       third_last_pitch_type_Not_Fastball  \\\n",
       "count                        21332.000000   \n",
       "mean                             0.402869   \n",
       "std                              0.490486   \n",
       "min                              0.000000   \n",
       "25%                              0.000000   \n",
       "50%                              0.000000   \n",
       "75%                              1.000000   \n",
       "max                              1.000000   \n",
       "\n",
       "       third_last_pitch_type_not_available  prev_pitches_mean_start_speed  \\\n",
       "count                         21332.000000                   21332.000000   \n",
       "mean                              0.026439                      89.780313   \n",
       "std                               0.160441                       4.241797   \n",
       "min                               0.000000                      68.966667   \n",
       "25%                               0.000000                      86.900000   \n",
       "50%                               0.000000                      90.000000   \n",
       "75%                               0.000000                      92.866667   \n",
       "max                               1.000000                     101.433333   \n",
       "\n",
       "       prev_pitches_mean_end_speed  prev_pitches_mean_break_y  \\\n",
       "count                 21332.000000               21332.000000   \n",
       "mean                     82.688278                  23.792659   \n",
       "std                       3.670230                   0.062421   \n",
       "min                      62.766667                  23.533333   \n",
       "25%                      80.233333                  23.766667   \n",
       "50%                      82.866667                  23.800000   \n",
       "75%                      85.333333                  23.833333   \n",
       "max                      92.933333                  24.033333   \n",
       "\n",
       "       prev_pitches_mean_break_angle  prev_pitches_mean_break_length  \\\n",
       "count                   21332.000000                    21332.000000   \n",
       "mean                       25.954370                        6.271240   \n",
       "std                        15.595803                        2.126585   \n",
       "min                       -24.033333                        1.500000   \n",
       "25%                        15.725000                        4.566667   \n",
       "50%                        26.666667                        5.966667   \n",
       "75%                        37.866667                        7.633333   \n",
       "max                        75.100000                       15.800000   \n",
       "\n",
       "       ingame_pitch_count  cur_season  season_pitch_count  \n",
       "count        21332.000000       21332        21332.000000  \n",
       "mean            56.563941           0         1927.709732  \n",
       "std             33.461877           0         1178.054737  \n",
       "min              0.000000           0            0.000000  \n",
       "25%             28.000000           0          896.000000  \n",
       "50%             56.000000           0         1875.000000  \n",
       "75%             85.000000           0         2942.250000  \n",
       "max            132.000000           0         4300.000000  "
      ]
     },
     "execution_count": 27,
     "metadata": {},
     "output_type": "execute_result"
    }
   ],
   "source": [
    "#See how similar the features are between test and train\n",
    "baseline_dict['train_data'].describe()"
   ]
  },
  {
   "cell_type": "markdown",
   "metadata": {},
   "source": [
    "One thing that could be affecting accuracy might be the fact that the training data is generally of a different nature than the test data.  Below is a look at the percent differences in means of all the features. A negative number indicates that feature value is higher in the test data. It would also probably be a good idea to get some confidence intervals in here to determine if the differences are significant, but I've yet to do that..."
   ]
  },
  {
   "cell_type": "code",
   "execution_count": 28,
   "metadata": {
    "collapsed": false
   },
   "outputs": [
    {
     "data": {
      "text/plain": [
       "b                                        1.874607\n",
       "s                                        6.406305\n",
       "on_1b                                    0.612397\n",
       "on_2b                                    1.106702\n",
       "on_3b                                  -25.747799\n",
       "o                                        2.260276\n",
       "home_wins                              -42.702817\n",
       "home_loss                              -38.611422\n",
       "away_wins                              -45.139760\n",
       "away_loss                              -35.026229\n",
       "stand_L                                 -1.766509\n",
       "stand_R                                  2.522493\n",
       "p_throws_R                               0.000000\n",
       "Not_Fastball_pb_prior                   -8.742300\n",
       "Not_Fastball_pbs_prior                  -8.068971\n",
       "Fastball_pb_prior                        6.219346\n",
       "Fastball_pbs_prior                       5.812808\n",
       "Not_Fastball_pc_prior                   -4.722583\n",
       "Not_Fastball_pcs_prior                  -4.390858\n",
       "Fastball_pc_prior                        2.971178\n",
       "Fastball_pcs_prior                       3.120919\n",
       "Not_Fastball_pg_prior                   -5.581133\n",
       "Not_Fastball_pgs_prior                  -5.416820\n",
       "Fastball_pg_prior                        3.255648\n",
       "Fastball_pgs_prior                       3.356099\n",
       "last_pitch_type_Fastball                 2.598400\n",
       "last_pitch_type_Not_Fastball            -3.457604\n",
       "last_pitch_type_not_available          -10.214144\n",
       "second_last_pitch_type_Fastball          2.745542\n",
       "second_last_pitch_type_Not_Fastball     -3.435730\n",
       "second_last_pitch_type_not_available   -10.508048\n",
       "third_last_pitch_type_Fastball           2.823384\n",
       "third_last_pitch_type_Not_Fastball      -3.329195\n",
       "third_last_pitch_type_not_available    -10.214144\n",
       "prev_pitches_mean_start_speed            1.607696\n",
       "prev_pitches_mean_end_speed              1.376823\n",
       "prev_pitches_mean_break_y               -0.062056\n",
       "prev_pitches_mean_break_angle           17.478992\n",
       "prev_pitches_mean_break_length           1.444527\n",
       "ingame_pitch_count                       7.827414\n",
       "cur_season                                    NaN\n",
       "season_pitch_count                     -25.978510\n",
       "Name: mean, dtype: float64"
      ]
     },
     "execution_count": 28,
     "metadata": {},
     "output_type": "execute_result"
    }
   ],
   "source": [
    "#Check out the average percent differences in the features from the training and test data sets. Some significant differences...\n",
    "feature_diffs = ((baseline_dict['train_data'].describe().loc['mean', :] - baseline_dict['test_data'].describe().loc['mean', :])/\n",
    " baseline_dict['train_data'].describe().loc['mean', :] * 100)\n",
    "feature_diffs"
   ]
  },
  {
   "cell_type": "markdown",
   "metadata": {},
   "source": [
    "# Inspecting the RF model on the original data and trying to tweak it for performance gains "
   ]
  },
  {
   "cell_type": "markdown",
   "metadata": {},
   "source": [
    "Import plotting and metric functions"
   ]
  },
  {
   "cell_type": "code",
   "execution_count": 29,
   "metadata": {
    "collapsed": false
   },
   "outputs": [],
   "source": [
    "from sklearn.metrics import confusion_matrix\n",
    "import matplotlib.pyplot as plt\n",
    "%matplotlib inline"
   ]
  },
  {
   "cell_type": "markdown",
   "metadata": {},
   "source": [
    "Confusion matrix. col1/row1 = true positive for \"Fastballs\""
   ]
  },
  {
   "cell_type": "code",
   "execution_count": 30,
   "metadata": {
    "collapsed": false
   },
   "outputs": [
    {
     "data": {
      "text/plain": [
       "array([[910, 322],\n",
       "       [529, 401]])"
      ]
     },
     "execution_count": 30,
     "metadata": {},
     "output_type": "execute_result"
    }
   ],
   "source": [
    "#Predicting more fastballs than not\n",
    "confusion_matrix(baseline_dict['test_targets'], rf.predict(baseline_dict['test_data']))"
   ]
  },
  {
   "cell_type": "markdown",
   "metadata": {},
   "source": [
    "### We can look at the percentage of trees that voted 'Fastball' for different subsets of the data to gain some intuition about how the trees are voting on the test data "
   ]
  },
  {
   "cell_type": "markdown",
   "metadata": {},
   "source": [
    "Distribution of Percentage of trees voting \"Fastball\" over all test predictions"
   ]
  },
  {
   "cell_type": "code",
   "execution_count": 31,
   "metadata": {
    "collapsed": false
   },
   "outputs": [
    {
     "data": {
      "image/png": "[encoded data removed]",
      "text/plain": [
       "<matplotlib.figure.Figure at 0x20d92cc0>"
      ]
     },
     "metadata": {},
     "output_type": "display_data"
    }
   ],
   "source": [
    "#Distribution of all predictions\n",
    "(plt.hist(rf.predict_proba(baseline_dict['test_data'])\n",
    "          [:, 0]))\n",
    "plt.show()"
   ]
  },
  {
   "cell_type": "markdown",
   "metadata": {},
   "source": [
    "Distribution of voting when Actual Value in the test data was \"Fastball\". There a large number of instances that of actual fastballs where the only 30%-40% of the trees think it's a fastball..."
   ]
  },
  {
   "cell_type": "code",
   "execution_count": 32,
   "metadata": {
    "collapsed": true
   },
   "outputs": [],
   "source": [
    "fastball_preds = (rf.predict_proba(baseline_dict['test_data'])\n",
    "          [:, 0]\n",
    "          [(baseline_dict['test_targets'] == 'Fastball').values])"
   ]
  },
  {
   "cell_type": "code",
   "execution_count": 33,
   "metadata": {
    "collapsed": false
   },
   "outputs": [
    {
     "data": {
      "image/png": "[encoded data removed]",
      "text/plain": [
       "<matplotlib.figure.Figure at 0x2479a668>"
      ]
     },
     "metadata": {},
     "output_type": "display_data"
    }
   ],
   "source": [
    "#Distributions of predictions when it's actually a fastball\n",
    "plt.hist(fastball_preds)\n",
    "plt.show()"
   ]
  },
  {
   "cell_type": "markdown",
   "metadata": {},
   "source": [
    "Distribution of voting when Actual Value in the test data was \"Not_Fastball\". There is some differential voting behavior, which is good, but there's a lot of pitches where a high percentage of the trees think it's a fastball"
   ]
  },
  {
   "cell_type": "code",
   "execution_count": 34,
   "metadata": {
    "collapsed": true
   },
   "outputs": [],
   "source": [
    "#Let's Look at predictions for non-fastball pitches\n",
    "not_fast_preds = (rf.predict_proba(baseline_dict['test_data'])\n",
    "          [:, 0]\n",
    "          [(baseline_dict['test_targets'] == 'Not_Fastball').values])"
   ]
  },
  {
   "cell_type": "code",
   "execution_count": 35,
   "metadata": {
    "collapsed": false
   },
   "outputs": [
    {
     "data": {
      "image/png": "[encoded data removed]",
      "text/plain": [
       "<matplotlib.figure.Figure at 0x24f753c8>"
      ]
     },
     "metadata": {},
     "output_type": "display_data"
    }
   ],
   "source": [
    "#Distributions of predictions when it's not a fastball\n",
    "plt.hist(not_fast_preds)\n",
    "plt.show()"
   ]
  },
  {
   "cell_type": "markdown",
   "metadata": {},
   "source": [
    "## Redefining the Threshold of the Random Froest to try to improve accuracy "
   ]
  },
  {
   "cell_type": "markdown",
   "metadata": {},
   "source": [
    "A function to change the threshold of a random forest prediction (e.g. being able say if 60% of the trees vote \"Fastball\", classify it as \"Not_Fastball\")"
   ]
  },
  {
   "cell_type": "code",
   "execution_count": 36,
   "metadata": {
    "collapsed": false
   },
   "outputs": [],
   "source": [
    "#Write a function to change the threshold of a random forest prediction\n",
    "def rf_new_predict(rf, data, new_thresh):\n",
    "    preds = rf.predict_proba(data)[:, 0]\n",
    "    class_preds = pd.Series(np.where(preds < new_thresh, \"Not_Fastball\", \"Fastball\"))\n",
    "    return class_preds"
   ]
  },
  {
   "cell_type": "markdown",
   "metadata": {},
   "source": [
    "Running over multiple different thresholds and determining the accuracy on the test data.  There are only extremely marginal improvements when doing this, and I doubt that they're statistically significant. This makes sense, as random forests generally do a pretty good job of tuning themselves.  This technique seems more useful if we were trying to recalibrate the model based on the relative benefit/harm of false positives/negatives. However, we're just concerned with overall accuracy at this point."
   ]
  },
  {
   "cell_type": "code",
   "execution_count": 37,
   "metadata": {
    "collapsed": false
   },
   "outputs": [],
   "source": [
    "#Print the different accuracies on the test data for different threshold ranges...Not a significant difference\n",
    "print \"thresh\\taccuracy\"\n",
    "for thresh in np.arange(0.5, 0.8, 0.01):   \n",
    "    acc = accuracy_score(baseline_dict['test_targets'], rf_new_predict(rf, baseline_dict['test_data'], thresh))\n",
    "    print thresh, '\\t', acc"
   ]
  },
  {
   "cell_type": "markdown",
   "metadata": {},
   "source": [
    "### Looking at feature importances of the RF model and seeing if a better model can be built just using non-zero feature importances (actually, this might be a dumb idea, non-zero feature importance probably means that the feature didn't appear in any trees...) "
   ]
  },
  {
   "cell_type": "markdown",
   "metadata": {},
   "source": [
    "Get all columns where the feature importance is non-zero"
   ]
  },
  {
   "cell_type": "code",
   "execution_count": 38,
   "metadata": {
    "collapsed": false
   },
   "outputs": [],
   "source": [
    "#Check out feature importances\n",
    "important_cols = []\n",
    "for fi, col in zip(rf.feature_importances_, baseline_dict['test_data'].columns):\n",
    "    print col + '\\t' + str(fi)\n",
    "    if fi > 0:\n",
    "        important_cols.append(col)"
   ]
  },
  {
   "cell_type": "code",
   "execution_count": 39,
   "metadata": {
    "collapsed": false
   },
   "outputs": [
    {
     "data": {
      "text/plain": [
       "['b',\n",
       " 's',\n",
       " 'on_2b',\n",
       " 'on_3b',\n",
       " 'home_wins',\n",
       " 'Not_Fastball_pb_prior',\n",
       " 'Not_Fastball_pbs_prior',\n",
       " 'Fastball_pbs_prior',\n",
       " 'Not_Fastball_pc_prior',\n",
       " 'Not_Fastball_pcs_prior',\n",
       " 'Fastball_pc_prior',\n",
       " 'Fastball_pcs_prior',\n",
       " 'Not_Fastball_pg_prior',\n",
       " 'Fastball_pg_prior',\n",
       " 'Fastball_pgs_prior',\n",
       " 'last_pitch_type_Fastball',\n",
       " 'last_pitch_type_Not_Fastball',\n",
       " 'second_last_pitch_type_Fastball',\n",
       " 'second_last_pitch_type_Not_Fastball',\n",
       " 'prev_pitches_mean_start_speed',\n",
       " 'prev_pitches_mean_end_speed',\n",
       " 'prev_pitches_mean_break_y',\n",
       " 'prev_pitches_mean_break_length',\n",
       " 'ingame_pitch_count']"
      ]
     },
     "execution_count": 39,
     "metadata": {},
     "output_type": "execute_result"
    }
   ],
   "source": [
    "important_cols"
   ]
  },
  {
   "cell_type": "markdown",
   "metadata": {},
   "source": [
    "Testing a model only using these variables. As expected...Not better"
   ]
  },
  {
   "cell_type": "code",
   "execution_count": 40,
   "metadata": {
    "collapsed": false
   },
   "outputs": [
    {
     "data": {
      "text/plain": [
       "0.6063829787234043"
      ]
     },
     "execution_count": 40,
     "metadata": {},
     "output_type": "execute_result"
    }
   ],
   "source": [
    "#Run Random forest Model\n",
    "baseline_dict_new = subset_data(modeling_data, important_cols)\n",
    "\n",
    "#Get predictions for a random forest\n",
    "rf_new = RandomForestClassifier(n_estimators = 50, max_depth = 3, min_samples_leaf = 5, \n",
    "                            min_samples_split = 5, max_features = None, random_state = 35)\n",
    "rf_new.fit(baseline_dict_new['train_data'], baseline_dict_new['train_targets'])\n",
    "rf_preds_new = rf_new.predict(baseline_dict_new['test_data'])\n",
    "\n",
    "#See accuracy for this model\n",
    "accuracy_score(baseline_dict_new['test_targets'], rf_preds_new)"
   ]
  },
  {
   "cell_type": "markdown",
   "metadata": {},
   "source": [
    "## SQL Code which created the reclassified pitch types table. DO NOT re-run this code (though I'm pretty sure it would give you an error if you tried). Skip to the next section for more analysis "
   ]
  },
  {
   "cell_type": "code",
   "execution_count": 4,
   "metadata": {
    "collapsed": false
   },
   "outputs": [],
   "source": [
    "#Get all the columns we're interested in from the pitch table (all those except pitch_type)\n",
    "cur.execute('''select * from pitch limit 1''')\n",
    "cols = [colnames[0] for colnames in cur.description if colnames[0] != 'pitch_type']"
   ]
  },
  {
   "cell_type": "code",
   "execution_count": 5,
   "metadata": {
    "collapsed": false
   },
   "outputs": [],
   "source": [
    "sql_columns = ['p.' + col for col in cols]"
   ]
  },
  {
   "cell_type": "code",
   "execution_count": 6,
   "metadata": {
    "collapsed": true
   },
   "outputs": [],
   "source": [
    "cur.execute('''drop table all_pitch_data_reclass;''')"
   ]
  },
  {
   "cell_type": "code",
   "execution_count": 7,
   "metadata": {
    "collapsed": true
   },
   "outputs": [],
   "source": [
    "cur.execute('''drop table pitch_reclass;''')"
   ]
  },
  {
   "cell_type": "code",
   "execution_count": 8,
   "metadata": {
    "collapsed": false
   },
   "outputs": [],
   "source": [
    "#Create the new pitch table with the reclassified columns as 'pitch_type'\n",
    "cur.execute(''' CREATE TABLE pitch_reclass AS\n",
    "SELECT %s, new_p.reclassified_pitch_type as pitch_type\n",
    "FROM pitch p\n",
    "INNER JOIN pt_reclassified_rules_simplified new_p \n",
    "ON new_p.game_id = p.game_id \n",
    "    AND new_p.num = p.num \n",
    "    AND new_p.id = p.id\n",
    "''' % ', '.join(sql_columns))"
   ]
  },
  {
   "cell_type": "code",
   "execution_count": 9,
   "metadata": {
    "collapsed": false
   },
   "outputs": [
    {
     "data": {
      "text/plain": [
       "[(5434974L,)]"
      ]
     },
     "execution_count": 9,
     "metadata": {},
     "output_type": "execute_result"
    }
   ],
   "source": [
    "#Make sure we have the same number of rows as the original pitch table...They're one pitch off...I'm letting it slide...\n",
    "cur.execute('''select count(*) from pitch_reclass''')\n",
    "cur.fetchall()"
   ]
  },
  {
   "cell_type": "code",
   "execution_count": 10,
   "metadata": {
    "collapsed": false
   },
   "outputs": [
    {
     "data": {
      "text/plain": [
       "[(5434974L,)]"
      ]
     },
     "execution_count": 10,
     "metadata": {},
     "output_type": "execute_result"
    }
   ],
   "source": [
    "cur.execute('''select count(*) from pitch''')\n",
    "cur.fetchall()"
   ]
  },
  {
   "cell_type": "code",
   "execution_count": 11,
   "metadata": {
    "collapsed": true
   },
   "outputs": [],
   "source": [
    "#Create a new joined table of all the data using the reclassified pitches.\n",
    "cur.execute('''CREATE TABLE all_pitch_data_reclass as\n",
    "SELECT\n",
    "\tp.*,\n",
    "\tab.half,\n",
    "\tab.inning,\n",
    "\tab.o, /*Note: This is a leak from the future. Need to fix!*/\n",
    "\tab.score,\t/*Note: This could be a leak from the future. Need to fix!*/\n",
    "\tab.stand,\n",
    "\tab.b_height,\n",
    "\tab.p_throws,\n",
    "\tab.event, /*Known leak from future BUT could be used as feature if we lag it...*/\n",
    "\tab.event2, /*Known leak from future BUT could be used as feature if we lag it...*/\n",
    "\tab.event3, /*Known leak from future BUT could be used as feature if we lag it...*/\n",
    "\tab.home_team_runs, /*leak from future*/\n",
    "\tab.away_team_runs, /*leak from future*/\n",
    "\tpitchers.first_name as p_first_name,\n",
    "\tpitchers.last_name as p_last_name,\n",
    "\tpitchers.height as p_height,\n",
    "\tpitchers.dob as pitcher_dob,\n",
    "\tbatters.first_name as b_first_name,\n",
    "\tbatters.last_name as b_last_name,\n",
    "\tbatters.dob as batter_dob,\n",
    "\tgm.game_type,\n",
    "\tgm.local_game_time,\n",
    "\tgm.game_pk, /*Don't know what this means*/\n",
    "\tgm.game_time_et,\n",
    "\tgm.home_id, /*don't know if this is necessary since we know home_fname*/\n",
    "\tgm.home_fname,\n",
    "\tgm.home_wins, /*Not sure if this is a leak from the future or not. prob not a problem*/\n",
    "\tgm.home_loss, /*Not sure if this is a leak from the future or not. prob not a problem*/\n",
    "\tgm.away_id,\n",
    "\tgm.away_fname,\n",
    "\tgm.away_wins,\n",
    "\tgm.away_loss,\n",
    "\tgm.status_ind,\n",
    "\tgm.date,\n",
    "\tgm.day,\n",
    "\tgm.stadium_name\n",
    "\t/*Note: I left out some variables like gm.stadium_id that didn't seem necessary for us*/\n",
    "FROM\n",
    "\tpitch_reclass p\n",
    "\tLEFT JOIN\n",
    "\t\tatbat ab ON p.game_id = ab.game_id AND p.num = ab.num\n",
    "\tLEFT JOIN\n",
    "\t\tplayer pitchers ON pitchers.id = p.pitcher\n",
    "\tLEFT JOIN\n",
    "\t\tplayer batters ON batters.id = p.batter\t\n",
    "\tLEFT JOIN\n",
    "\t\tgame gm ON gm.game_id = p.game_id;\n",
    "''')"
   ]
  },
  {
   "cell_type": "code",
   "execution_count": 12,
   "metadata": {
    "collapsed": false
   },
   "outputs": [
    {
     "data": {
      "text/plain": [
       "[(5434974L,)]"
      ]
     },
     "execution_count": 12,
     "metadata": {},
     "output_type": "execute_result"
    }
   ],
   "source": [
    "# Check to make sure the table appears to have been created correctly\n",
    "cur.execute('select count(*) from all_pitch_data;')\n",
    "cur.fetchall()"
   ]
  },
  {
   "cell_type": "code",
   "execution_count": 13,
   "metadata": {
    "collapsed": false
   },
   "outputs": [
    {
     "data": {
      "text/plain": [
       "[(5434974L,)]"
      ]
     },
     "execution_count": 13,
     "metadata": {},
     "output_type": "execute_result"
    }
   ],
   "source": [
    "cur.execute('select count(*) from all_pitch_data_reclass;')\n",
    "cur.fetchall()"
   ]
  },
  {
   "cell_type": "code",
   "execution_count": null,
   "metadata": {
    "collapsed": false
   },
   "outputs": [],
   "source": [
    "#Look at some rows and see if they match up\n",
    "cur.execute('''select * from all_pitch_data \n",
    "WHERE game_id = '2008/03/25/bosmlb-oakmlb-1'\n",
    "ORDER BY num\n",
    "limit 10;''')\n",
    "rows = cur.fetchall()\n",
    "header = [colnames[0] for colnames in cur.description]\n",
    "test = pd.DataFrame(rows)\n",
    "test.columns = header"
   ]
  },
  {
   "cell_type": "code",
   "execution_count": null,
   "metadata": {
    "collapsed": false
   },
   "outputs": [],
   "source": [
    "test"
   ]
  },
  {
   "cell_type": "code",
   "execution_count": null,
   "metadata": {
    "collapsed": false
   },
   "outputs": [],
   "source": [
    "#Look at some rows and see if they match up. There's something wrong with the pitch_type and we need to figure it out.\n",
    "#This appears to be a pre-season game with a lot of missing pitch data. Let's look at an actual game next.\n",
    "cur.execute('''select * from all_pitch_data_reclass\n",
    "WHERE game_id = '2008/03/25/bosmlb-oakmlb-1'\n",
    "ORDER BY num\n",
    "limit 10;''')\n",
    "rows = cur.fetchall()\n",
    "header = [colnames[0] for colnames in cur.description]\n",
    "test = pd.DataFrame(rows)\n",
    "test.columns = header\n",
    "test"
   ]
  },
  {
   "cell_type": "code",
   "execution_count": null,
   "metadata": {
    "collapsed": false
   },
   "outputs": [],
   "source": [
    "# Get some games that should have good data\n",
    "cur.execute('''select DISTINCT game_id from all_pitch_data_reclass\n",
    "WHERE date > '2010-06-01'\n",
    "limit 10;''')\n",
    "cur.fetchall()"
   ]
  },
  {
   "cell_type": "code",
   "execution_count": null,
   "metadata": {
    "collapsed": false
   },
   "outputs": [],
   "source": [
    "#Look at the first of the games\n",
    "cur.execute('''select * from all_pitch_data\n",
    "WHERE game_id = '2010/06/02/arimlb-lanmlb-1'\n",
    "ORDER BY num, sv_id\n",
    "limit 10;''')\n",
    "rows = cur.fetchall()\n",
    "header = [colnames[0] for colnames in cur.description]\n",
    "test = pd.DataFrame(rows)\n",
    "test.columns = header\n",
    "test"
   ]
  },
  {
   "cell_type": "code",
   "execution_count": null,
   "metadata": {
    "collapsed": false
   },
   "outputs": [],
   "source": [
    "cur.execute('''select * from all_pitch_data_reclass\n",
    "WHERE game_id = '2010/06/02/arimlb-lanmlb-1'\n",
    "ORDER BY num, sv_id\n",
    "limit 10;''')\n",
    "rows = cur.fetchall()\n",
    "header = [colnames[0] for colnames in cur.description]\n",
    "test = pd.DataFrame(rows)\n",
    "test.columns = header\n",
    "test"
   ]
  },
  {
   "cell_type": "markdown",
   "metadata": {
    "collapsed": true
   },
   "source": [
    "## Ensemble Testing of different Classifiers"
   ]
  },
  {
   "cell_type": "markdown",
   "metadata": {},
   "source": [
    "Import three different classifiers for ensemble testing"
   ]
  },
  {
   "cell_type": "code",
   "execution_count": 44,
   "metadata": {
    "collapsed": true
   },
   "outputs": [],
   "source": [
    "#Run through some other classifiers\n",
    "from sklearn.svm import LinearSVC\n",
    "from sklearn.linear_model import LogisticRegression\n",
    "from sklearn.ensemble import GradientBoostingClassifier"
   ]
  },
  {
   "cell_type": "markdown",
   "metadata": {},
   "source": [
    "Creating a new function that returns predictions"
   ]
  },
  {
   "cell_type": "code",
   "execution_count": 45,
   "metadata": {
    "collapsed": true
   },
   "outputs": [],
   "source": [
    "def run_classifier2(classifier, data_dict):\n",
    "    \"\"\"Given a classifier and a data dictionary containing 'train_data' and 'test_data' (as pandas DFs),\n",
    "    This runs the classifier and outputs the accuracy of the classifier on the test data.\"\"\"\n",
    "    \n",
    "    # Fit a model on all the data and features\n",
    "    classifier.fit(data_dict['train_data'], data_dict['train_targets'])\n",
    "\n",
    "    # Make predictions on dev data\n",
    "    dev_predictions = classifier.predict(data_dict['test_data'])\n",
    "    \n",
    "    print accuracy_score(data_dict['test_targets'], dev_predictions)\n",
    "    \n",
    "    # Return the dev performance score.\n",
    "    return dev_predictions"
   ]
  },
  {
   "cell_type": "markdown",
   "metadata": {},
   "source": [
    "Getting SVM preds based on Jason's suggestion for hyperparameters. Note that the accuracy of the model on the test data is printed to the console"
   ]
  },
  {
   "cell_type": "code",
   "execution_count": 46,
   "metadata": {
    "collapsed": false
   },
   "outputs": [],
   "source": [
    "svm_preds = run_classifier2(LinearSVC(C=1.0, penalty='l1', dual=False, random_state=35), baseline_dict)"
   ]
  },
  {
   "cell_type": "markdown",
   "metadata": {},
   "source": [
    "Performing random search to tune a logistic regression and getting the predictions from it"
   ]
  },
  {
   "cell_type": "code",
   "execution_count": 47,
   "metadata": {
    "collapsed": false
   },
   "outputs": [],
   "source": [
    "log_params = {'penalty': ['l1', 'l2'],\n",
    "              'C' : [0.1, 0.5, 1.0, 2.0, 5.0, 7.0],\n",
    "              'random_state' : [35]}\n",
    "log_preds = run_randomsearch_classifier(RandomizedSearchCV(LogisticRegression(),\n",
    "                                                           param_distributions = log_params,\n",
    "                                                           n_iter = n_iter_search),\n",
    "                                       baseline_dict)"
   ]
  },
  {
   "cell_type": "markdown",
   "metadata": {},
   "source": [
    "Gradient Boosting Machine predictions"
   ]
  },
  {
   "cell_type": "code",
   "execution_count": 48,
   "metadata": {
    "collapsed": false
   },
   "outputs": [],
   "source": [
    "gbm_params = {'loss' : ['deviance'],\n",
    "              'n_estimators' : [10, 50, 100, 150, 250, 350, 500],\n",
    "              \"max_depth\": [3, None],\n",
    "              \"max_features\": [None, 'auto'],\n",
    "              \"min_samples_split\": sp_randint(1, 11),\n",
    "              \"min_samples_leaf\": sp_randint(1, 11),\n",
    "             'random_state': [35]}\n",
    "gmb_preds = run_randomsearch_classifier(RandomizedSearchCV(GradientBoostingClassifier(),\n",
    "                                                           param_distributions = gbm_params,\n",
    "                                                           n_iter = n_iter_search),\n",
    "                                        baseline_dict)"
   ]
  },
  {
   "cell_type": "markdown",
   "metadata": {},
   "source": [
    "Creating a function to determine how correlated predictions are. The idea is that if two classifiers are both accurate and less correlated, then they are good candidates for ensembling because they're likely picking up on different patterns in the data"
   ]
  },
  {
   "cell_type": "code",
   "execution_count": 49,
   "metadata": {
    "collapsed": false
   },
   "outputs": [],
   "source": [
    "from scipy.stats.stats import pearsonr\n",
    "from operator import itemgetter\n",
    "\n",
    "#Need to see how correlated the predictions are in order to choose which ones to ensemble\n",
    "def order_correlations(prediction_dict):\n",
    "    '''Function to determine how correlated predictions are among classifiers.  Classifiers with high accuracy\n",
    "    that are less correlated are better candidates for ensembling. This seems like inefficient code...\n",
    "    Note: this only works for pitch types \"Fastball\" and \"Not_Fastball\"\n",
    "    Input:\n",
    "        predictions_dict: dictionary of predictions where key = classifier name and value = predictions\n",
    "    Output: returns nothing but prints a table listing correlation among predictions in decreasing order'''\n",
    "    \n",
    "    #Get a list of all the classifiers and initialize the list to store everything\n",
    "    classifiers = prediction_dict.keys()\n",
    "    corr_list = []\n",
    "    \n",
    "    #Loop through all combinations of classifiers and calculate the correlation coefficient\n",
    "    for i in range(len(classifiers)):\n",
    "        classifier1 = classifiers[i]\n",
    "        for j in range((i + 1), len(classifiers)):\n",
    "            classifier2 = classifiers[j]\n",
    "            pred1 = np.where(prediction_dict[classifier1] == 'Fastball', 1, 0)\n",
    "            pred2 = np.where(prediction_dict[classifier2] == 'Fastball', 1, 0)\n",
    "            correlation = pearsonr(pred1, pred2)\n",
    "            corr_list.append([classifier1, classifier2, correlation])\n",
    "            \n",
    "    #order the correlations from least to greatest\n",
    "    corr_list = sorted(corr_list, key = itemgetter(2))\n",
    "    \n",
    "    #Print everything nicely\n",
    "    print 'classifier1\\tclassifier2\\tcorrelation'\n",
    "    for item in corr_list:\n",
    "        print '%s\\t%s\\t%f'% (item[0], item[1], item[2][0])\n",
    "        \n",
    "    return"
   ]
  },
  {
   "cell_type": "markdown",
   "metadata": {},
   "source": [
    "Creating a dictionary of predictions from three of the classifiers above"
   ]
  },
  {
   "cell_type": "code",
   "execution_count": 50,
   "metadata": {
    "collapsed": true
   },
   "outputs": [],
   "source": [
    "# Run a few more classifiers (GBM) and try James Shields ***fix baseline dict!!!\n",
    "prediction_dict = {'rf': rf_preds, 'svm' : svm_preds, 'logReg' : log_preds}"
   ]
  },
  {
   "cell_type": "markdown",
   "metadata": {},
   "source": [
    "Seeing how correlated these predictions are"
   ]
  },
  {
   "cell_type": "code",
   "execution_count": 51,
   "metadata": {
    "collapsed": false
   },
   "outputs": [],
   "source": [
    "order_correlations(prediction_dict)"
   ]
  },
  {
   "cell_type": "markdown",
   "metadata": {},
   "source": [
    "'ensemble_voting' is a function to take the the most frequent vote from all the predictions given in a dictionary. Using this function and then determining the accuracy score of the results. No better than random forest in this case..."
   ]
  },
  {
   "cell_type": "code",
   "execution_count": 52,
   "metadata": {
    "collapsed": false
   },
   "outputs": [
    {
     "data": {
      "text/plain": [
       "0.6063829787234043"
      ]
     },
     "execution_count": 52,
     "metadata": {},
     "output_type": "execute_result"
    }
   ],
   "source": [
    "#Not great...\n",
    "ensemble_votes = ensemble_voting(prediction_dict)\n",
    "accuracy_score(baseline_dict['test_targets'], ensemble_votes)"
   ]
  },
  {
   "cell_type": "markdown",
   "metadata": {},
   "source": [
    "### I saw in Jason's output that we got a decent bump in accuracy for James Shields.  Let's check out if he's helped by ensembling more so than Verlander."
   ]
  },
  {
   "cell_type": "markdown",
   "metadata": {},
   "source": [
    "Get his pitcher number"
   ]
  },
  {
   "cell_type": "code",
   "execution_count": 55,
   "metadata": {
    "collapsed": false
   },
   "outputs": [],
   "source": [
    "#Get Alan's code, try other classifiers, try other pitchers, try rf threshold changes\n",
    "#James Shield showed the biggest boost over random for our data\n",
    "raw_query = \"\"\"SELECT DISTINCT pitcher, p_first_name, p_last_name FROM full_pitch_data \\\n",
    "    WHERE p_first_name = 'James' AND p_last_name = 'Shields'\"\"\"\n",
    "sample_header, sample_rows = run_rs_query(cur, raw_query)\n",
    "pitch_df = pd.DataFrame(sample_rows)\n",
    "pitch_df.columns = sample_header"
   ]
  },
  {
   "cell_type": "code",
   "execution_count": 56,
   "metadata": {
    "collapsed": false
   },
   "outputs": [
    {
     "data": {
      "text/html": [
       "<div>\n",
       "<table border=\"1\" class=\"dataframe\">\n",
       "  <thead>\n",
       "    <tr style=\"text-align: right;\">\n",
       "      <th></th>\n",
       "      <th>pitcher</th>\n",
       "      <th>p_first_name</th>\n",
       "      <th>p_last_name</th>\n",
       "    </tr>\n",
       "  </thead>\n",
       "  <tbody>\n",
       "    <tr>\n",
       "      <th>0</th>\n",
       "      <td>448306</td>\n",
       "      <td>James</td>\n",
       "      <td>Shields</td>\n",
       "    </tr>\n",
       "  </tbody>\n",
       "</table>\n",
       "</div>"
      ],
      "text/plain": [
       "   pitcher p_first_name p_last_name\n",
       "0   448306        James     Shields"
      ]
     },
     "execution_count": 56,
     "metadata": {},
     "output_type": "execute_result"
    }
   ],
   "source": [
    "pitch_df"
   ]
  },
  {
   "cell_type": "markdown",
   "metadata": {},
   "source": [
    "Perform all the necessary data transformations"
   ]
  },
  {
   "cell_type": "code",
   "execution_count": 57,
   "metadata": {
    "collapsed": true
   },
   "outputs": [],
   "source": [
    "shields_df = get_pitcher_df_for_modeling(cur, pitcher_id = 448306, date_subsetting = False)"
   ]
  },
  {
   "cell_type": "code",
   "execution_count": 58,
   "metadata": {
    "collapsed": false
   },
   "outputs": [],
   "source": [
    "shields_df = shields_df[(shields_df['date'] >= '2009-01-01') &\n",
    "                            (shields_df['date'] <= '2015-01-01')]"
   ]
  },
  {
   "cell_type": "code",
   "execution_count": 59,
   "metadata": {
    "collapsed": false
   },
   "outputs": [
    {
     "data": {
      "text/html": [
       "<div>\n",
       "<table border=\"1\" class=\"dataframe\">\n",
       "  <thead>\n",
       "    <tr style=\"text-align: right;\">\n",
       "      <th>pitch_type</th>\n",
       "      <th>Fastball</th>\n",
       "      <th>Not_Fastball</th>\n",
       "    </tr>\n",
       "  </thead>\n",
       "  <tbody>\n",
       "    <tr>\n",
       "      <th>2009</th>\n",
       "      <td>2044</td>\n",
       "      <td>1257</td>\n",
       "    </tr>\n",
       "    <tr>\n",
       "      <th>2010</th>\n",
       "      <td>2011</td>\n",
       "      <td>1400</td>\n",
       "    </tr>\n",
       "    <tr>\n",
       "      <th>2011</th>\n",
       "      <td>1866</td>\n",
       "      <td>1810</td>\n",
       "    </tr>\n",
       "    <tr>\n",
       "      <th>2012</th>\n",
       "      <td>1898</td>\n",
       "      <td>1718</td>\n",
       "    </tr>\n",
       "    <tr>\n",
       "      <th>2013</th>\n",
       "      <td>2236</td>\n",
       "      <td>1421</td>\n",
       "    </tr>\n",
       "    <tr>\n",
       "      <th>2014</th>\n",
       "      <td>2578</td>\n",
       "      <td>1305</td>\n",
       "    </tr>\n",
       "  </tbody>\n",
       "</table>\n",
       "</div>"
      ],
      "text/plain": [
       "pitch_type  Fastball  Not_Fastball\n",
       "2009            2044          1257\n",
       "2010            2011          1400\n",
       "2011            1866          1810\n",
       "2012            1898          1718\n",
       "2013            2236          1421\n",
       "2014            2578          1305"
      ]
     },
     "execution_count": 59,
     "metadata": {},
     "output_type": "execute_result"
    }
   ],
   "source": [
    "get_pitch_types_by_year(shields_df, use_gameday = False)"
   ]
  },
  {
   "cell_type": "code",
   "execution_count": 60,
   "metadata": {
    "collapsed": true
   },
   "outputs": [],
   "source": [
    "shields_modeling = split_test_train(shields_df, '2012-06-01')"
   ]
  },
  {
   "cell_type": "markdown",
   "metadata": {},
   "source": [
    "Get the baseline and predicted accuracy using the same parameters as above"
   ]
  },
  {
   "cell_type": "code",
   "execution_count": 61,
   "metadata": {
    "collapsed": false
   },
   "outputs": [
    {
     "data": {
      "text/plain": [
       "0.63574228565684998"
      ]
     },
     "execution_count": 61,
     "metadata": {},
     "output_type": "execute_result"
    }
   ],
   "source": [
    "#Run Random forest Model\n",
    "baseline_dict = subset_data(shields_modeling, basics_pitch_stats_prev)\n",
    "\n",
    "#Get predictions for a random forest\n",
    "rf = RandomForestClassifier(n_estimators = 50, max_depth = 3, min_samples_leaf = 5, \n",
    "                            min_samples_split = 5, max_features = None, random_state = 35)\n",
    "rf.fit(baseline_dict['train_data'], baseline_dict['train_targets'])\n",
    "rf_preds = rf.predict(baseline_dict['test_data'])\n",
    "\n",
    "#See accuracy for this model\n",
    "accuracy_score(baseline_dict['test_targets'], rf_preds)"
   ]
  },
  {
   "cell_type": "code",
   "execution_count": 62,
   "metadata": {
    "collapsed": false
   },
   "outputs": [
    {
     "data": {
      "text/plain": [
       "0.56"
      ]
     },
     "execution_count": 62,
     "metadata": {},
     "output_type": "execute_result"
    }
   ],
   "source": [
    "naive_accuracy(baseline_dict)"
   ]
  },
  {
   "cell_type": "markdown",
   "metadata": {},
   "source": [
    "Let's run a random search on his hyper parameters for a random forest and see if they differ significantly from verlander"
   ]
  },
  {
   "cell_type": "code",
   "execution_count": 63,
   "metadata": {
    "collapsed": true
   },
   "outputs": [],
   "source": [
    "#Create random search distributions for the random search cv\n",
    "param_dist = {'n_estimators': [10, 50, 100, 150, 250, 350, 500],\n",
    "                \"max_depth\": [3, None],\n",
    "              \"max_features\": [None, 'auto'],\n",
    "              \"min_samples_split\": sp_randint(1, 11),\n",
    "              \"min_samples_leaf\": sp_randint(1, 11),\n",
    "             'random_state': [35]}\n",
    "\n",
    "# run randomized search\n",
    "n_iter_search = 25\n",
    "\n",
    "#Same Results\n",
    "rf_preds = run_randomsearch_classifier(RandomizedSearchCV(RandomForestClassifier(), \n",
    "                                                          param_distributions=param_dist, \n",
    "                                                          n_iter=n_iter_search), \n",
    "                                       baseline_dict)"
   ]
  },
  {
   "cell_type": "markdown",
   "metadata": {},
   "source": [
    "Get other classifier predictions"
   ]
  },
  {
   "cell_type": "code",
   "execution_count": 64,
   "metadata": {
    "collapsed": true
   },
   "outputs": [],
   "source": [
    "svm_preds = run_classifier2(LinearSVC(C=1.0, penalty='l1', dual=False, random_state=35), baseline_dict)"
   ]
  },
  {
   "cell_type": "code",
   "execution_count": 65,
   "metadata": {
    "collapsed": true
   },
   "outputs": [],
   "source": [
    "log_params = {'penalty': ['l1', 'l2'],\n",
    "              'C' : [0.1, 0.5, 1.0, 2.0, 5.0, 7.0],\n",
    "              'random_state' : [35]}\n",
    "log_preds = run_randomsearch_classifier(RandomizedSearchCV(LogisticRegression(),\n",
    "                                                           param_distributions = log_params,\n",
    "                                                           n_iter = n_iter_search),\n",
    "                                       baseline_dict)"
   ]
  },
  {
   "cell_type": "code",
   "execution_count": 66,
   "metadata": {
    "collapsed": true
   },
   "outputs": [],
   "source": [
    "gbm_params = {'n_estimators' : [100, 150, 250, 350, 500, 700],\n",
    "              \"max_depth\": [3, None],\n",
    "              \"max_features\": [None, 'auto'],\n",
    "              \"min_samples_split\": sp_randint(1, 11),\n",
    "              \"min_samples_leaf\": sp_randint(1, 11),\n",
    "             'random_state': [35]}\n",
    "gmb_preds = run_randomsearch_classifier(RandomizedSearchCV(GradientBoostingClassifier(),\n",
    "                                                           param_distributions = gbm_params,\n",
    "                                                           n_iter = n_iter_search),\n",
    "                                        baseline_dict)"
   ]
  },
  {
   "cell_type": "code",
   "execution_count": 67,
   "metadata": {
    "collapsed": true
   },
   "outputs": [],
   "source": [
    "prediction_dict = {'rf': rf_preds, 'logReg' : log_preds, 'gbm' : gmb_preds}"
   ]
  },
  {
   "cell_type": "markdown",
   "metadata": {},
   "source": [
    "Check out the correlations"
   ]
  },
  {
   "cell_type": "code",
   "execution_count": 68,
   "metadata": {
    "collapsed": false
   },
   "outputs": [],
   "source": [
    "order_correlations(prediction_dict)"
   ]
  },
  {
   "cell_type": "markdown",
   "metadata": {},
   "source": [
    "Ensemble the classifier predictions.  There iss a slight improvement in accuracy with Shields..."
   ]
  },
  {
   "cell_type": "code",
   "execution_count": 69,
   "metadata": {
    "collapsed": false
   },
   "outputs": [
    {
     "data": {
      "text/plain": [
       "0.64488893356116195"
      ]
     },
     "execution_count": 69,
     "metadata": {},
     "output_type": "execute_result"
    }
   ],
   "source": [
    "ensemble_votes = ensemble_voting(prediction_dict)\n",
    "accuracy_score(baseline_dict['test_targets'], ensemble_votes)"
   ]
  },
  {
   "cell_type": "code",
   "execution_count": null,
   "metadata": {
    "collapsed": true
   },
   "outputs": [],
   "source": []
  }
 ],
 "metadata": {
  "kernelspec": {
   "display_name": "Python 2",
   "language": "python",
   "name": "python2"
  },
  "language_info": {
   "codemirror_mode": {
    "name": "ipython",
    "version": 2
   },
   "file_extension": ".py",
   "mimetype": "text/x-python",
   "name": "python",
   "nbconvert_exporter": "python",
   "pygments_lexer": "ipython2",
   "version": "2.7.7"
  }
 },
 "nbformat": 4,
 "nbformat_minor": 0
}
