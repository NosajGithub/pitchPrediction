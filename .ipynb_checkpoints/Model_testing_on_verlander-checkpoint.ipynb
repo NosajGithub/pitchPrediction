{
 "cells": [
  {
   "cell_type": "markdown",
   "metadata": {},
   "source": [
    "#Import Libraries and Connect to Redshift "
   ]
  },
  {
   "cell_type": "code",
   "execution_count": 1,
   "metadata": {
    "collapsed": true
   },
   "outputs": [],
   "source": [
    "import psycopg2\n",
    "import sys  \n",
    "\n",
    "import numpy as np\n",
    "import pandas as pd\n",
    "\n",
    "from config import REDSHIFT_CONFIG\n",
    "from src.features import *\n",
    "from src.utils import *\n",
    "from src.validation import *\n",
    "\n",
    "reload(sys)\n",
    "sys.setdefaultencoding('utf8')\n",
    "\n",
    "from src.exploration import *"
   ]
  },
  {
   "cell_type": "code",
   "execution_count": 2,
   "metadata": {
    "collapsed": true
   },
   "outputs": [],
   "source": [
    "# Establish a connection to the redshift database\n",
    "conn = create_rs_conn(config=REDSHIFT_CONFIG)\n",
    "cur = conn.cursor()"
   ]
  },
  {
   "cell_type": "markdown",
   "metadata": {},
   "source": [
    "##Read in the Verlander Data and Split it into Test and Train "
   ]
  },
  {
   "cell_type": "code",
   "execution_count": 3,
   "metadata": {
    "collapsed": false
   },
   "outputs": [],
   "source": [
    "verlander_df = get_pitcher_df_for_modeling(cur, pitcher_id = 434378)"
   ]
  },
  {
   "cell_type": "code",
   "execution_count": 6,
   "metadata": {
    "collapsed": true
   },
   "outputs": [],
   "source": [
    "modeling_data = split_test_train(verlander_df, '2012-06-01')"
   ]
  },
  {
   "cell_type": "markdown",
   "metadata": {},
   "source": [
    "##Look at the data --> Dictionary contains 'train_data', 'train_targets', 'test_data', and 'test_targets'"
   ]
  },
  {
   "cell_type": "code",
   "execution_count": 7,
   "metadata": {
    "collapsed": false
   },
   "outputs": [
    {
     "data": {
      "text/html": [
       "<div>\n",
       "<table border=\"1\" class=\"dataframe\">\n",
       "  <thead>\n",
       "    <tr style=\"text-align: right;\">\n",
       "      <th></th>\n",
       "      <th>b</th>\n",
       "      <th>s</th>\n",
       "      <th>on_1b</th>\n",
       "      <th>on_2b</th>\n",
       "      <th>on_3b</th>\n",
       "      <th>o</th>\n",
       "      <th>home_wins</th>\n",
       "      <th>home_loss</th>\n",
       "      <th>away_wins</th>\n",
       "      <th>away_loss</th>\n",
       "      <th>...</th>\n",
       "      <th>stadium_name_Yankee Stadium</th>\n",
       "      <th>last_pitch_type_Fastball</th>\n",
       "      <th>last_pitch_type_Not_Fastball</th>\n",
       "      <th>last_pitch_type_not_available</th>\n",
       "      <th>second_last_pitch_type_Fastball</th>\n",
       "      <th>second_last_pitch_type_Not_Fastball</th>\n",
       "      <th>second_last_pitch_type_not_available</th>\n",
       "      <th>third_last_pitch_type_Fastball</th>\n",
       "      <th>third_last_pitch_type_Not_Fastball</th>\n",
       "      <th>third_last_pitch_type_not_available</th>\n",
       "    </tr>\n",
       "  </thead>\n",
       "  <tbody>\n",
       "    <tr>\n",
       "      <th>8663</th>\n",
       "      <td>0</td>\n",
       "      <td>0</td>\n",
       "      <td>0</td>\n",
       "      <td>0</td>\n",
       "      <td>0</td>\n",
       "      <td>0</td>\n",
       "      <td>1</td>\n",
       "      <td>0</td>\n",
       "      <td>0</td>\n",
       "      <td>1</td>\n",
       "      <td>...</td>\n",
       "      <td>0</td>\n",
       "      <td>0</td>\n",
       "      <td>0</td>\n",
       "      <td>1</td>\n",
       "      <td>0</td>\n",
       "      <td>0</td>\n",
       "      <td>1</td>\n",
       "      <td>0</td>\n",
       "      <td>0</td>\n",
       "      <td>1</td>\n",
       "    </tr>\n",
       "    <tr>\n",
       "      <th>8733</th>\n",
       "      <td>0</td>\n",
       "      <td>1</td>\n",
       "      <td>0</td>\n",
       "      <td>0</td>\n",
       "      <td>0</td>\n",
       "      <td>0</td>\n",
       "      <td>1</td>\n",
       "      <td>0</td>\n",
       "      <td>0</td>\n",
       "      <td>1</td>\n",
       "      <td>...</td>\n",
       "      <td>0</td>\n",
       "      <td>1</td>\n",
       "      <td>0</td>\n",
       "      <td>0</td>\n",
       "      <td>0</td>\n",
       "      <td>0</td>\n",
       "      <td>1</td>\n",
       "      <td>0</td>\n",
       "      <td>0</td>\n",
       "      <td>1</td>\n",
       "    </tr>\n",
       "    <tr>\n",
       "      <th>9235</th>\n",
       "      <td>1</td>\n",
       "      <td>1</td>\n",
       "      <td>0</td>\n",
       "      <td>0</td>\n",
       "      <td>0</td>\n",
       "      <td>0</td>\n",
       "      <td>1</td>\n",
       "      <td>0</td>\n",
       "      <td>0</td>\n",
       "      <td>1</td>\n",
       "      <td>...</td>\n",
       "      <td>0</td>\n",
       "      <td>0</td>\n",
       "      <td>1</td>\n",
       "      <td>0</td>\n",
       "      <td>1</td>\n",
       "      <td>0</td>\n",
       "      <td>0</td>\n",
       "      <td>0</td>\n",
       "      <td>0</td>\n",
       "      <td>1</td>\n",
       "    </tr>\n",
       "    <tr>\n",
       "      <th>9305</th>\n",
       "      <td>1</td>\n",
       "      <td>2</td>\n",
       "      <td>0</td>\n",
       "      <td>0</td>\n",
       "      <td>0</td>\n",
       "      <td>0</td>\n",
       "      <td>1</td>\n",
       "      <td>0</td>\n",
       "      <td>0</td>\n",
       "      <td>1</td>\n",
       "      <td>...</td>\n",
       "      <td>0</td>\n",
       "      <td>0</td>\n",
       "      <td>1</td>\n",
       "      <td>0</td>\n",
       "      <td>0</td>\n",
       "      <td>1</td>\n",
       "      <td>0</td>\n",
       "      <td>1</td>\n",
       "      <td>0</td>\n",
       "      <td>0</td>\n",
       "    </tr>\n",
       "    <tr>\n",
       "      <th>8664</th>\n",
       "      <td>1</td>\n",
       "      <td>3</td>\n",
       "      <td>0</td>\n",
       "      <td>0</td>\n",
       "      <td>0</td>\n",
       "      <td>0</td>\n",
       "      <td>1</td>\n",
       "      <td>0</td>\n",
       "      <td>0</td>\n",
       "      <td>1</td>\n",
       "      <td>...</td>\n",
       "      <td>0</td>\n",
       "      <td>0</td>\n",
       "      <td>1</td>\n",
       "      <td>0</td>\n",
       "      <td>0</td>\n",
       "      <td>1</td>\n",
       "      <td>0</td>\n",
       "      <td>0</td>\n",
       "      <td>1</td>\n",
       "      <td>0</td>\n",
       "    </tr>\n",
       "  </tbody>\n",
       "</table>\n",
       "<p>5 rows × 67 columns</p>\n",
       "</div>"
      ],
      "text/plain": [
       "      b  s  on_1b  on_2b  on_3b  o  home_wins  home_loss  away_wins  \\\n",
       "8663  0  0      0      0      0  0          1          0          0   \n",
       "8733  0  1      0      0      0  0          1          0          0   \n",
       "9235  1  1      0      0      0  0          1          0          0   \n",
       "9305  1  2      0      0      0  0          1          0          0   \n",
       "8664  1  3      0      0      0  0          1          0          0   \n",
       "\n",
       "      away_loss                 ...                   \\\n",
       "8663          1                 ...                    \n",
       "8733          1                 ...                    \n",
       "9235          1                 ...                    \n",
       "9305          1                 ...                    \n",
       "8664          1                 ...                    \n",
       "\n",
       "      stadium_name_Yankee Stadium  last_pitch_type_Fastball  \\\n",
       "8663                            0                         0   \n",
       "8733                            0                         1   \n",
       "9235                            0                         0   \n",
       "9305                            0                         0   \n",
       "8664                            0                         0   \n",
       "\n",
       "      last_pitch_type_Not_Fastball  last_pitch_type_not_available  \\\n",
       "8663                             0                              1   \n",
       "8733                             0                              0   \n",
       "9235                             1                              0   \n",
       "9305                             1                              0   \n",
       "8664                             1                              0   \n",
       "\n",
       "      second_last_pitch_type_Fastball  second_last_pitch_type_Not_Fastball  \\\n",
       "8663                                0                                    0   \n",
       "8733                                0                                    0   \n",
       "9235                                1                                    0   \n",
       "9305                                0                                    1   \n",
       "8664                                0                                    1   \n",
       "\n",
       "      second_last_pitch_type_not_available  third_last_pitch_type_Fastball  \\\n",
       "8663                                     1                               0   \n",
       "8733                                     1                               0   \n",
       "9235                                     0                               0   \n",
       "9305                                     0                               1   \n",
       "8664                                     0                               0   \n",
       "\n",
       "      third_last_pitch_type_Not_Fastball  third_last_pitch_type_not_available  \n",
       "8663                                   0                                    1  \n",
       "8733                                   0                                    1  \n",
       "9235                                   0                                    1  \n",
       "9305                                   0                                    0  \n",
       "8664                                   1                                    0  \n",
       "\n",
       "[5 rows x 67 columns]"
      ]
     },
     "execution_count": 7,
     "metadata": {},
     "output_type": "execute_result"
    }
   ],
   "source": [
    "modeling_data['train_data'].head()"
   ]
  },
  {
   "cell_type": "code",
   "execution_count": 8,
   "metadata": {
    "collapsed": false
   },
   "outputs": [
    {
     "data": {
      "text/plain": [
       "8663        Fastball\n",
       "8733    Not_Fastball\n",
       "9235    Not_Fastball\n",
       "9305    Not_Fastball\n",
       "8664        Fastball\n",
       "Name: pitch_type, dtype: category\n",
       "Categories (2, object): [Fastball, Not_Fastball]"
      ]
     },
     "execution_count": 8,
     "metadata": {},
     "output_type": "execute_result"
    }
   ],
   "source": [
    "modeling_data['train_targets'].head()"
   ]
  },
  {
   "cell_type": "code",
   "execution_count": 9,
   "metadata": {
    "collapsed": false
   },
   "outputs": [],
   "source": [
    "print \"# of training observations:\", len(modeling_data['train_data'])\n",
    "print \"# of test observations:\", len(modeling_data['test_data'])"
   ]
  },
  {
   "cell_type": "markdown",
   "metadata": {},
   "source": [
    "##Below is some of Zach's Code for Doing some Modeling with Random Forests "
   ]
  },
  {
   "cell_type": "code",
   "execution_count": 10,
   "metadata": {
    "collapsed": false
   },
   "outputs": [],
   "source": [
    "from sklearn.ensemble import RandomForestClassifier\n",
    "from sklearn.grid_search import RandomizedSearchCV\n",
    "from scipy.stats import randint as sp_randint\n",
    "from sklearn.metrics import accuracy_score"
   ]
  },
  {
   "cell_type": "markdown",
   "metadata": {},
   "source": [
    "##Baseline Accuracy = 63% --> throws fastballs this percentage of the time "
   ]
  },
  {
   "cell_type": "markdown",
   "metadata": {
    "collapsed": true
   },
   "source": [
    "### Going to test the features in stages; split them up into functional groups"
   ]
  },
  {
   "cell_type": "code",
   "execution_count": 11,
   "metadata": {
    "collapsed": false
   },
   "outputs": [
    {
     "data": {
      "text/plain": [
       "Index([u'b', u's', u'on_1b', u'on_2b', u'on_3b', u'o', u'home_wins',\n",
       "       u'home_loss', u'away_wins', u'away_loss', u'Not_Fastball_pb_prior',\n",
       "       u'Not_Fastball_pbs_prior', u'Fastball_pb_prior', u'Fastball_pbs_prior',\n",
       "       u'Not_Fastball_pc_prior', u'Not_Fastball_pcs_prior',\n",
       "       u'Fastball_pc_prior', u'Fastball_pcs_prior', u'Not_Fastball_pg_prior',\n",
       "       u'Not_Fastball_pgs_prior', u'Fastball_pg_prior', u'Fastball_pgs_prior',\n",
       "       u'home_score', u'away_score', u'score_diff', u'ingame_pitch_count',\n",
       "       u'season', u'season_pitch_count', u'prev_pitches_mean_start_speed',\n",
       "       u'prev_pitches_mean_end_speed', u'prev_pitches_mean_break_y',\n",
       "       u'prev_pitches_mean_break_angle', u'prev_pitches_mean_break_length',\n",
       "       u'stand_L', u'stand_R', u'p_throws_L', u'p_throws_R',\n",
       "       u'stadium_name_Angel Stadium of Anaheim', u'stadium_name_Citi Field',\n",
       "       u'stadium_name_Comerica Park', u'stadium_name_Fenway Park',\n",
       "       u'stadium_name_Great American Ball Park',\n",
       "       u'stadium_name_Hubert H. Humphrey Metrodome',\n",
       "       u'stadium_name_Kauffman Stadium', u'stadium_name_Minute Maid Park',\n",
       "       u'stadium_name_Oakland Coliseum',\n",
       "       u'stadium_name_Oriole Park at Camden Yards', u'stadium_name_PNC Park',\n",
       "       u'stadium_name_Progressive Field',\n",
       "       u'stadium_name_Rangers Ballpark in Arlington',\n",
       "       u'stadium_name_Rogers Centre', u'stadium_name_Safeco Field',\n",
       "       u'stadium_name_Target Field', u'stadium_name_Tropicana Field',\n",
       "       u'stadium_name_Turner Field', u'stadium_name_U.S. Cellular Field',\n",
       "       u'stadium_name_Wrigley Field', u'stadium_name_Yankee Stadium',\n",
       "       u'last_pitch_type_Fastball', u'last_pitch_type_Not_Fastball',\n",
       "       u'last_pitch_type_not_available', u'second_last_pitch_type_Fastball',\n",
       "       u'second_last_pitch_type_Not_Fastball',\n",
       "       u'second_last_pitch_type_not_available',\n",
       "       u'third_last_pitch_type_Fastball',\n",
       "       u'third_last_pitch_type_Not_Fastball',\n",
       "       u'third_last_pitch_type_not_available'],\n",
       "      dtype='object')"
      ]
     },
     "execution_count": 11,
     "metadata": {},
     "output_type": "execute_result"
    }
   ],
   "source": [
    "modeling_data['train_data'].columns"
   ]
  },
  {
   "cell_type": "code",
   "execution_count": 16,
   "metadata": {
    "collapsed": true
   },
   "outputs": [],
   "source": [
    "#Basic features\n",
    "the_basics = [u'b', u's', u'on_1b', u'on_2b', u'on_3b', u'o', \n",
    "              u'home_wins',u'home_loss', u'away_wins', u'away_loss', \n",
    "              u'stand_L', u'stand_R', u'p_throws_L', u'p_throws_R']\n",
    "\n",
    "#Adding previous batter priors\n",
    "with_pbs_priors = the_basics + [u'Not_Fastball_pb_prior',\n",
    "                                u'Not_Fastball_pbs_prior', u'Fastball_pb_prior', u'Fastball_pbs_prior']\n",
    "\n",
    "#Adding pc priors\n",
    "with_pc_priors = the_basics + [u'Not_Fastball_pc_prior', u'Not_Fastball_pcs_prior',\n",
    "                               u'Fastball_pc_prior', u'Fastball_pcs_prior']\n",
    "\n",
    "#Adding previous games priors\n",
    "with_pg_priors = the_basics + [u'Not_Fastball_pg_prior', u'Not_Fastball_pgs_prior', \n",
    "                               u'Fastball_pg_prior', u'Fastball_pgs_prior']\n",
    "\n",
    "#Adding all priors\n",
    "basics_and_priors = (the_basics + [u'Not_Fastball_pb_prior',\n",
    "                                u'Not_Fastball_pbs_prior', u'Fastball_pb_prior', u'Fastball_pbs_prior'] +\n",
    "                     [u'Not_Fastball_pc_prior', u'Not_Fastball_pcs_prior',\n",
    "                               u'Fastball_pc_prior', u'Fastball_pcs_prior'] + \n",
    "                    [u'Not_Fastball_pg_prior', u'Not_Fastball_pgs_prior', \n",
    "                               u'Fastball_pg_prior', u'Fastball_pgs_prior'])\n",
    "\n",
    "#Adding previous pitch info\n",
    "with_previous_pitch_info = the_basics + [u'last_pitch_type_Fastball', u'last_pitch_type_Not_Fastball',\n",
    "       u'last_pitch_type_not_available', u'second_last_pitch_type_Fastball',\n",
    "       u'second_last_pitch_type_Not_Fastball',\n",
    "       u'second_last_pitch_type_not_available',\n",
    "       u'third_last_pitch_type_Fastball',\n",
    "       u'third_last_pitch_type_Not_Fastball',\n",
    "       u'third_last_pitch_type_not_available', u'prev_pitches_mean_start_speed', u'prev_pitches_mean_end_speed',\n",
    "       u'prev_pitches_mean_break_y', u'prev_pitches_mean_break_angle',\n",
    "       u'prev_pitches_mean_break_length']\n",
    "\n",
    "#priors and previous pitch info\n",
    "basics_priors_prev = basics_and_priors + [u'last_pitch_type_Fastball', u'last_pitch_type_Not_Fastball',\n",
    "       u'last_pitch_type_not_available', u'second_last_pitch_type_Fastball',\n",
    "       u'second_last_pitch_type_Not_Fastball',\n",
    "       u'second_last_pitch_type_not_available',\n",
    "       u'third_last_pitch_type_Fastball',\n",
    "       u'third_last_pitch_type_Not_Fastball',\n",
    "       u'third_last_pitch_type_not_available', u'prev_pitches_mean_start_speed', u'prev_pitches_mean_end_speed',\n",
    "       u'prev_pitches_mean_break_y', u'prev_pitches_mean_break_angle',\n",
    "       u'prev_pitches_mean_break_length']\n",
    "\n",
    "#Adding pitch_counts and previous pitches speeds and breaks\n",
    "with_pitch_counts_speeds_breaks = the_basics + [u'ingame_pitch_count', u'season', u'season_pitch_count']\n",
    "\n",
    "#Combining it with the above\n",
    "basics_pitch_stats_prev = basics_priors_prev + [u'ingame_pitch_count', u'season', u'season_pitch_count']\n",
    "\n",
    "#Everything previous with stadiums Stadiums (should be all variables\n",
    "with_stadiums = basics_pitch_stats_prev + [u'stadium_name_Angel Stadium of Anaheim',\n",
    "       u'stadium_name_Citi Field', u'stadium_name_Comerica Park',\n",
    "       u'stadium_name_Fenway Park', u'stadium_name_Great American Ball Park',\n",
    "       u'stadium_name_Hubert H. Humphrey Metrodome',\n",
    "       u'stadium_name_Kauffman Stadium', u'stadium_name_Minute Maid Park',\n",
    "       u'stadium_name_Oakland Coliseum',\n",
    "       u'stadium_name_Oriole Park at Camden Yards', u'stadium_name_PNC Park',\n",
    "       u'stadium_name_Progressive Field',\n",
    "       u'stadium_name_Rangers Ballpark in Arlington',\n",
    "       u'stadium_name_Rogers Centre', u'stadium_name_Safeco Field',\n",
    "       u'stadium_name_Target Field', u'stadium_name_Tropicana Field',\n",
    "       u'stadium_name_Turner Field', u'stadium_name_U.S. Cellular Field',\n",
    "       u'stadium_name_Wrigley Field', u'stadium_name_Yankee Stadium']"
   ]
  },
  {
   "cell_type": "code",
   "execution_count": 17,
   "metadata": {
    "collapsed": false
   },
   "outputs": [
    {
     "data": {
      "text/plain": [
       "True"
      ]
     },
     "execution_count": 17,
     "metadata": {},
     "output_type": "execute_result"
    }
   ],
   "source": [
    "len(modeling_data['train_data'].columns) == len(with_stadiums)"
   ]
  },
  {
   "cell_type": "code",
   "execution_count": 19,
   "metadata": {
    "collapsed": true
   },
   "outputs": [],
   "source": [
    "#Collect all the groups in a dictionary\n",
    "feature_groups = {'basic_parameters' : the_basics,\n",
    "                  'basics_and_pbs' : with_pbs_priors,\n",
    "                  'basics_and_pcs' : with_pc_priors,\n",
    "                  'basics_and_pgs' : with_pg_priors,\n",
    "                  'basics_and_all_priors' : basics_and_priors,\n",
    "                  'basics_and_prev_pitches' : with_previous_pitch_info,\n",
    "                  'basics_priors_and_prev_pitches' : basics_priors_prev,\n",
    "                  'basics_and_counts_speeds_breaks': with_pitch_counts_speeds_breaks,\n",
    "                  'all_plus_counts_speeds_breaks' : basics_pitch_stats_prev,\n",
    "                  'all_variables' : with_stadiums}"
   ]
  },
  {
   "cell_type": "code",
   "execution_count": 37,
   "metadata": {
    "collapsed": true
   },
   "outputs": [],
   "source": [
    "#Create random search distributions for the random search cv\n",
    "param_dist = {'n_estimators': [10, 50, 100, 150, 250, 350, 500],\n",
    "                \"max_depth\": [3, None],\n",
    "              \"max_features\": [None, 'auto'],\n",
    "              \"min_samples_split\": sp_randint(1, 11),\n",
    "              \"min_samples_leaf\": sp_randint(1, 11)}\n",
    "\n",
    "# run randomized search\n",
    "n_iter_search = 25"
   ]
  },
  {
   "cell_type": "code",
   "execution_count": 38,
   "metadata": {
    "collapsed": true
   },
   "outputs": [],
   "source": [
    "#Create new function to give useful output\n",
    "def run_randomsearch_classifier(classifier, data_dict):\n",
    "    \"\"\"Given a classifier and a data dictionary containing 'train_data' and 'test_data' (as pandas DFs),\n",
    "    This runs the classifier and outputs the accuracy of the classifier on the test data.\"\"\"\n",
    "    \n",
    "    # Fit a model on all the data and features\n",
    "    classifier.fit(data_dict['train_data'], data_dict['train_targets'])\n",
    "    \n",
    "    #print the best parameters\n",
    "    print classifier.best_params_\n",
    "\n",
    "    # Make predictions on dev data\n",
    "    dev_predictions = classifier.predict(data_dict['test_data'])\n",
    "    \n",
    "    # Return the dev performance score.\n",
    "    return accuracy_score(data_dict['test_targets'], dev_predictions), classifier.best_params_"
   ]
  },
  {
   "cell_type": "code",
   "execution_count": 28,
   "metadata": {
    "collapsed": false
   },
   "outputs": [],
   "source": [
    "#Write function to subset the data to columns of interest\n",
    "def subset_data(modeling_dict, cols_of_interest):\n",
    "    new_dict = modeling_dict.copy()\n",
    "    new_dict['train_data'] = new_dict['train_data'][cols_of_interest]\n",
    "    new_dict['test_data'] = new_dict['test_data'][cols_of_interest]\n",
    "    return new_dict"
   ]
  },
  {
   "cell_type": "code",
   "execution_count": 43,
   "metadata": {
    "collapsed": false
   },
   "outputs": [
    {
     "name": "stdout",
     "output_type": "stream",
     "text": [
      "{'max_features': 'auto', 'min_samples_split': 7, 'n_estimators': 150, 'max_depth': 3, 'min_samples_leaf': 3}\n"
     ]
    }
   ],
   "source": [
    "#get the accuracy for using baseline features and initialize the record_keeping dictionary\n",
    "record_keeping = {}\n",
    "\n",
    "baseline_dict = subset_data(modeling_data, the_basics)\n",
    "random_search = RandomizedSearchCV(RandomForestClassifier(), param_distributions=param_dist, n_iter=n_iter_search)\n",
    "cur_accuracy, cur_params = run_randomsearch_classifier(random_search, baseline_dict)\n",
    "\n",
    "record_keeping['best_subset'] = 'the_basics'\n",
    "record_keeping['accuracy'] = cur_accuracy\n",
    "record_keeping['params'] = cur_params"
   ]
  },
  {
   "cell_type": "code",
   "execution_count": 44,
   "metadata": {
    "collapsed": false
   },
   "outputs": [
    {
     "data": {
      "text/plain": [
       "{'accuracy': 0.58690961400143848,\n",
       " 'best_subset': 'the_basics',\n",
       " 'params': {'max_depth': 3,\n",
       "  'max_features': 'auto',\n",
       "  'min_samples_leaf': 3,\n",
       "  'min_samples_split': 7,\n",
       "  'n_estimators': 150}}"
      ]
     },
     "execution_count": 44,
     "metadata": {},
     "output_type": "execute_result"
    }
   ],
   "source": [
    "record_keeping"
   ]
  },
  {
   "cell_type": "code",
   "execution_count": 46,
   "metadata": {
    "collapsed": false
   },
   "outputs": [
    {
     "name": "stdout",
     "output_type": "stream",
     "text": [
      " The overall accuracy for basics_and_all_priors is 0.554\n",
      "The overall accuracy for basic_parameters is 0.58\n",
      "The overall accuracy for basics_and_pcs is 0.571\n",
      "The overall accuracy for basics_and_prev_pitches is 0.595\n",
      "The overall accuracy for basics_and_pbs is 0.572\n",
      "The overall accuracy for basics_priors_and_prev_pitches is 0.596\n",
      "The overall accuracy for basics_and_counts_speeds_breaks is 0.594\n",
      "The overall accuracy for all_plus_counts_speeds_breaks is 0.611\n",
      "The overall accuracy for all_variables is 0.606\n",
      "The overall accuracy for basics_and_pgs is 0.584\n"
     ]
    }
   ],
   "source": [
    "#Loop through all the feature combinations and perform a random search on the parameters.\n",
    "for data_key in feature_groups.keys():\n",
    "    \n",
    "    #subset and initialize classifier\n",
    "    cur_data = subset_data(modeling_data, feature_groups[data_key])\n",
    "    #new_random_search = RandomizedSearchCV(RandomForestClassifier(), param_distributions=param_dist, n_iter=n_iter_search)\n",
    "    \n",
    "    #Run classifier and check whether the accuracy is better than before\n",
    "    #accuracy, parameters = run_randomsearch_classifier(new_random_search, cur_data)\n",
    "    accuracy = run_classifier(RandomForestClassifier(), cur_data)\n",
    "    print \"The overall accuracy for\", data_key, \"is\", round(accuracy, 3)\n",
    "    \n",
    "    if accuracy > record_keeping['accuracy']:\n",
    "        record_keeping['best_subset'] = data_key\n",
    "        record_keeping['accuracy'] = accuracy\n",
    "        record_keeping['params'] = 'default'"
   ]
  },
  {
   "cell_type": "code",
   "execution_count": 47,
   "metadata": {
    "collapsed": false
   },
   "outputs": [
    {
     "data": {
      "text/plain": [
       "{'accuracy': 0.61088467993286977,\n",
       " 'best_subset': 'all_plus_counts_speeds_breaks',\n",
       " 'params': 'default'}"
      ]
     },
     "execution_count": 47,
     "metadata": {},
     "output_type": "execute_result"
    }
   ],
   "source": [
    "record_keeping"
   ]
  },
  {
   "cell_type": "code",
   "execution_count": 59,
   "metadata": {
    "collapsed": false
   },
   "outputs": [
    {
     "data": {
      "text/plain": [
       "[u'b',\n",
       " u's',\n",
       " u'on_1b',\n",
       " u'on_2b',\n",
       " u'on_3b',\n",
       " u'o',\n",
       " u'home_wins',\n",
       " u'home_loss',\n",
       " u'away_wins',\n",
       " u'away_loss',\n",
       " u'stand_L',\n",
       " u'stand_R',\n",
       " u'p_throws_L',\n",
       " u'p_throws_R',\n",
       " u'Not_Fastball_pb_prior',\n",
       " u'Not_Fastball_pbs_prior',\n",
       " u'Fastball_pb_prior',\n",
       " u'Fastball_pbs_prior',\n",
       " u'Not_Fastball_pc_prior',\n",
       " u'Not_Fastball_pcs_prior',\n",
       " u'Fastball_pc_prior',\n",
       " u'Fastball_pcs_prior',\n",
       " u'Not_Fastball_pg_prior',\n",
       " u'Not_Fastball_pgs_prior',\n",
       " u'Fastball_pg_prior',\n",
       " u'Fastball_pgs_prior',\n",
       " u'last_pitch_type_Fastball',\n",
       " u'last_pitch_type_Not_Fastball',\n",
       " u'last_pitch_type_not_available',\n",
       " u'second_last_pitch_type_Fastball',\n",
       " u'second_last_pitch_type_Not_Fastball',\n",
       " u'second_last_pitch_type_not_available',\n",
       " u'third_last_pitch_type_Fastball',\n",
       " u'third_last_pitch_type_Not_Fastball',\n",
       " u'third_last_pitch_type_not_available',\n",
       " u'prev_pitches_mean_start_speed',\n",
       " u'prev_pitches_mean_end_speed',\n",
       " u'prev_pitches_mean_break_y',\n",
       " u'prev_pitches_mean_break_angle',\n",
       " u'prev_pitches_mean_break_length',\n",
       " u'ingame_pitch_count',\n",
       " u'season',\n",
       " u'season_pitch_count']"
      ]
     },
     "execution_count": 59,
     "metadata": {},
     "output_type": "execute_result"
    }
   ],
   "source": [
    "feature_groups['all_plus_counts_speeds_breaks']"
   ]
  },
  {
   "cell_type": "code",
   "execution_count": 48,
   "metadata": {
    "collapsed": false
   },
   "outputs": [
    {
     "name": "stdout",
     "output_type": "stream",
     "text": [
      "{'max_features': None, 'min_samples_split': 5, 'n_estimators': 50, 'max_depth': 3, 'min_samples_leaf': 5}\n"
     ]
    }
   ],
   "source": [
    "#Lets perform a random search on this subset that did the best with he defaults\n",
    "baseline_dict = subset_data(modeling_data, feature_groups['all_plus_counts_speeds_breaks'])\n",
    "random_search = RandomizedSearchCV(RandomForestClassifier(), param_distributions=param_dist, n_iter=n_iter_search)\n",
    "cur_accuracy, cur_params = run_randomsearch_classifier(random_search, baseline_dict)"
   ]
  },
  {
   "cell_type": "code",
   "execution_count": 49,
   "metadata": {
    "collapsed": false
   },
   "outputs": [
    {
     "name": "stdout",
     "output_type": "stream",
     "text": [
      "0.625509470151\n",
      "{'max_features': None, 'min_samples_split': 5, 'n_estimators': 50, 'max_depth': 3, 'min_samples_leaf': 5}\n"
     ]
    }
   ],
   "source": [
    "print cur_accuracy\n",
    "print cur_params"
   ]
  },
  {
   "cell_type": "code",
   "execution_count": 60,
   "metadata": {
    "collapsed": true
   },
   "outputs": [],
   "source": [
    "#Run that model and explore feature importances\n",
    "rf = RandomForestClassifier(n_estimators = 50, max_depth = 3, min_samples_leaf = 5, min_samples_split = 5, max_features = None)\n",
    "rf.fit(baseline_dict['train_data'], baseline_dict['train_targets'])\n",
    "predictions = rf.predict(baseline_dict['test_data'])"
   ]
  },
  {
   "cell_type": "code",
   "execution_count": 62,
   "metadata": {
    "collapsed": false
   },
   "outputs": [
    {
     "name": "stdout",
     "output_type": "stream",
     "text": [
      "b \t0.0\n",
      "s \t0.002\n",
      "on_1b \t0.0\n",
      "on_2b \t0.0\n",
      "on_3b \t0.0\n",
      "o \t0.0\n",
      "home_wins \t0.0\n",
      "home_loss \t0.0\n",
      "away_wins \t0.0\n",
      "away_loss \t0.0\n",
      "stand_L \t0.0\n",
      "stand_R \t0.0\n",
      "p_throws_L \t0.0\n",
      "p_throws_R \t0.0\n",
      "Not_Fastball_pb_prior \t0.001\n",
      "Not_Fastball_pbs_prior \t0.0\n",
      "Fastball_pb_prior \t0.0\n",
      "Fastball_pbs_prior \t0.0\n",
      "Not_Fastball_pc_prior \t0.208\n",
      "Not_Fastball_pcs_prior \t0.093\n",
      "Fastball_pc_prior \t0.173\n",
      "Fastball_pcs_prior \t0.112\n",
      "Not_Fastball_pg_prior \t0.003\n",
      "Not_Fastball_pgs_prior \t0.001\n",
      "Fastball_pg_prior \t0.001\n",
      "Fastball_pgs_prior \t0.004\n",
      "last_pitch_type_Fastball \t0.046\n",
      "last_pitch_type_Not_Fastball \t0.146\n",
      "last_pitch_type_not_available \t0.0\n",
      "second_last_pitch_type_Fastball \t0.0\n",
      "second_last_pitch_type_Not_Fastball \t0.001\n",
      "second_last_pitch_type_not_available \t0.0\n",
      "third_last_pitch_type_Fastball \t0.0\n",
      "third_last_pitch_type_Not_Fastball \t0.001\n",
      "third_last_pitch_type_not_available \t0.0\n",
      "prev_pitches_mean_start_speed \t0.03\n",
      "prev_pitches_mean_end_speed \t0.021\n",
      "prev_pitches_mean_break_y \t0.0\n",
      "prev_pitches_mean_break_angle \t0.0\n",
      "prev_pitches_mean_break_length \t0.0\n",
      "ingame_pitch_count \t0.061\n",
      "season \t0.0\n",
      "season_pitch_count \t0.096\n"
     ]
    }
   ],
   "source": [
    "for name, importance in zip(baseline_dict['train_data'].columns, rf.feature_importances_):\n",
    "    print name, '\\t', round(importance, 3)"
   ]
  },
  {
   "cell_type": "code",
   "execution_count": 63,
   "metadata": {
    "collapsed": false
   },
   "outputs": [
    {
     "name": "stdout",
     "output_type": "stream",
     "text": [
      "             precision    recall  f1-score   support\n",
      "\n",
      "   Fastball       0.62      0.93      0.74      2448\n",
      "Not_Fastball       0.66      0.18      0.29      1723\n",
      "\n",
      "avg / total       0.64      0.62      0.56      4171\n",
      "\n"
     ]
    }
   ],
   "source": [
    "#Classification Report\n",
    "from sklearn.metrics import classification_report\n",
    "#target_names = ['class 0', 'class 1', 'class 2']\n",
    "print classification_report(modeling_data['test_targets'], predictions)#, target_names=target_names))"
   ]
  },
  {
   "cell_type": "code",
   "execution_count": 64,
   "metadata": {
    "collapsed": false
   },
   "outputs": [
    {
     "data": {
      "text/plain": [
       "array([[2287,  161],\n",
       "       [1407,  316]])"
      ]
     },
     "execution_count": 64,
     "metadata": {},
     "output_type": "execute_result"
    }
   ],
   "source": [
    "#Confusion Matrix --> classifying a lot of non_fastballs as fastballs\n",
    "from sklearn.metrics import confusion_matrix\n",
    "confusion_matrix(modeling_data['test_targets'], predictions)"
   ]
  },
  {
   "cell_type": "code",
   "execution_count": 80,
   "metadata": {
    "collapsed": false
   },
   "outputs": [
    {
     "data": {
      "text/plain": [
       "0.62407096619515701"
      ]
     },
     "execution_count": 80,
     "metadata": {},
     "output_type": "execute_result"
    }
   ],
   "source": [
    "accuracy_score(baseline_dict['test_targets'], predictions)"
   ]
  },
  {
   "cell_type": "code",
   "execution_count": 105,
   "metadata": {
    "collapsed": false
   },
   "outputs": [
    {
     "data": {
      "image/png": "[encoded data removed]",
      "text/plain": [
       "<matplotlib.figure.Figure at 0x2b23dd30>"
      ]
     },
     "metadata": {},
     "output_type": "display_data"
    }
   ],
   "source": [
    "#ROC Curve\n",
    "import matplotlib.pyplot as plt\n",
    "%matplotlib inline\n",
    "from sklearn.metrics import roc_curve\n",
    "from sklearn.preprocessing import label_binarize\n",
    "fpr, tpr, _ = roc_curve(np.where(modeling_data['test_targets'] == 'Fastball', 1, 0), \n",
    "                        np.where(predictions == 'Fastball', 1, 0), pos_label = 1)\n",
    "\n",
    "# Plot of a ROC curve for a specific class\n",
    "plt.figure()\n",
    "plt.plot(fpr, tpr, label='ROC curve')\n",
    "plt.plot([0, 1], [0, 1], 'k--')\n",
    "plt.xlim([0.0, 1.0])\n",
    "plt.ylim([0.0, 1.05])\n",
    "plt.xlabel('False Positive Rate')\n",
    "plt.ylabel('True Positive Rate')\n",
    "plt.title('Receiver operating characteristic example')\n",
    "plt.legend(loc=\"lower right\")\n",
    "plt.show()"
   ]
  },
  {
   "cell_type": "code",
   "execution_count": 66,
   "metadata": {
    "collapsed": false
   },
   "outputs": [
    {
     "data": {
      "text/plain": [
       "0.5869096140014385"
      ]
     },
     "execution_count": 66,
     "metadata": {},
     "output_type": "execute_result"
    }
   ],
   "source": [
    "#Get accuracy of just guessing Fastball each time\n",
    "len(modeling_data['test_targets'][modeling_data['test_targets'] == 'Fastball']) / float(len(modeling_data['test_targets']))"
   ]
  },
  {
   "cell_type": "code",
   "execution_count": 72,
   "metadata": {
    "collapsed": false
   },
   "outputs": [],
   "source": [
    "#Reweight more recent observations\n",
    "#Replicate the last 3,000 observations in the training set\n",
    "new_train = baseline_dict['train_data'].copy()"
   ]
  },
  {
   "cell_type": "code",
   "execution_count": 78,
   "metadata": {
    "collapsed": false
   },
   "outputs": [],
   "source": [
    "new_train = new_train.append([new_train.iloc[-3000:]]*3,ignore_index=True)"
   ]
  },
  {
   "cell_type": "code",
   "execution_count": 84,
   "metadata": {
    "collapsed": true
   },
   "outputs": [],
   "source": [
    "new_train_targets = baseline_dict['train_targets'].copy()"
   ]
  },
  {
   "cell_type": "code",
   "execution_count": 86,
   "metadata": {
    "collapsed": false
   },
   "outputs": [],
   "source": [
    "new_train_targets = new_train_targets.append([new_train_targets.iloc[-3000:]]*3)"
   ]
  },
  {
   "cell_type": "code",
   "execution_count": 93,
   "metadata": {
    "collapsed": false
   },
   "outputs": [],
   "source": [
    "rf2 = RandomForestClassifier(n_estimators = 50, max_depth = 3, min_samples_leaf = 5, min_samples_split = 5, max_features = None)\n",
    "rf2.fit(new_train, new_train_targets)\n",
    "predictions = rf.predict(baseline_dict['test_data'])"
   ]
  },
  {
   "cell_type": "code",
   "execution_count": 95,
   "metadata": {
    "collapsed": false
   },
   "outputs": [
    {
     "data": {
      "text/plain": [
       "0.62407096619515701"
      ]
     },
     "execution_count": 95,
     "metadata": {},
     "output_type": "execute_result"
    }
   ],
   "source": [
    "accuracy_score(baseline_dict['test_targets'], predictions)"
   ]
  },
  {
   "cell_type": "code",
   "execution_count": null,
   "metadata": {
    "collapsed": true
   },
   "outputs": [],
   "source": []
  }
 ],
 "metadata": {
  "kernelspec": {
   "display_name": "Python 2",
   "language": "python",
   "name": "python2"
  },
  "language_info": {
   "codemirror_mode": {
    "name": "ipython",
    "version": 2
   },
   "file_extension": ".py",
   "mimetype": "text/x-python",
   "name": "python",
   "nbconvert_exporter": "python",
   "pygments_lexer": "ipython2",
   "version": "2.7.7"
  }
 },
 "nbformat": 4,
 "nbformat_minor": 0
}
