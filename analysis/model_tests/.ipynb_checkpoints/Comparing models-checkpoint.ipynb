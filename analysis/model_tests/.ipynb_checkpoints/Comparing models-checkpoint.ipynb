{
 "metadata": {
  "name": "",
  "signature": "sha256:6f33b44b6e9e8114bbe1925896ccb63dd0449459756482c5b334166e487a7b31"
 },
 "nbformat": 3,
 "nbformat_minor": 0,
 "worksheets": [
  {
   "cells": [
    {
     "cell_type": "heading",
     "level": 1,
     "metadata": {},
     "source": [
      "Comparing Different Classifier Accuracies"
     ]
    },
    {
     "cell_type": "code",
     "collapsed": false,
     "input": [
      "#Analysis Libraries\n",
      "import numpy as np\n",
      "import pandas as pd\n",
      "\n",
      "#Get Exploration functions from other folder\n",
      "import sys\n",
      "sys.path.insert(0, '../../src')\n",
      "import exploration\n",
      "\n",
      "#Importing Classifiers\n",
      "from sklearn.neighbors import KNeighborsClassifier\n",
      "from sklearn.naive_bayes import GaussianNB, MultinomialNB\n",
      "from sklearn.tree import DecisionTreeClassifier\n",
      "from sklearn.linear_model import LogisticRegression\n",
      "from sklearn.svm import SVC, LinearSVC\n",
      "from sklearn.ensemble import RandomForestClassifier\n",
      "from sklearn.grid_search import GridSearchCV\n",
      "\n",
      "# SK-learn libraries for evaluation.\n",
      "from sklearn.metrics import confusion_matrix, accuracy_score\n",
      "from sklearn.metrics import classification_report\n",
      "\n",
      "#Reshaping\n",
      "from pandas.core.reshape import get_dummies #Note: requires Pandas 0.16 +"
     ],
     "language": "python",
     "metadata": {},
     "outputs": [],
     "prompt_number": 24
    },
    {
     "cell_type": "heading",
     "level": 2,
     "metadata": {},
     "source": [
      "Read in the Verlander data, subset down to applicable columns, and split into test/train"
     ]
    },
    {
     "cell_type": "code",
     "collapsed": false,
     "input": [
      "verlander = pd.read_csv('../../data/input/sample data/verlander2.csv')"
     ],
     "language": "python",
     "metadata": {},
     "outputs": [],
     "prompt_number": 25
    },
    {
     "cell_type": "code",
     "collapsed": false,
     "input": [
      "verlander.head()"
     ],
     "language": "python",
     "metadata": {},
     "outputs": [
      {
       "html": [
        "<div style=\"max-height:1000px;max-width:1500px;overflow:auto;\">\n",
        "<table border=\"1\" class=\"dataframe\">\n",
        "  <thead>\n",
        "    <tr style=\"text-align: right;\">\n",
        "      <th></th>\n",
        "      <th>gameday_link</th>\n",
        "      <th>num</th>\n",
        "      <th>score</th>\n",
        "      <th>home_team_runs</th>\n",
        "      <th>away_team_runs</th>\n",
        "      <th>des</th>\n",
        "      <th>id</th>\n",
        "      <th>type</th>\n",
        "      <th>tfs_zulu</th>\n",
        "      <th>x</th>\n",
        "      <th>...</th>\n",
        "      <th>BP_IN</th>\n",
        "      <th>BP_S_IN</th>\n",
        "      <th>BP_FF</th>\n",
        "      <th>BP_S_FF</th>\n",
        "      <th>BP_CU</th>\n",
        "      <th>BP_S_CU</th>\n",
        "      <th>BP_PO</th>\n",
        "      <th>BP_S_PO</th>\n",
        "      <th>season_pitch_count</th>\n",
        "      <th>times_faced</th>\n",
        "    </tr>\n",
        "  </thead>\n",
        "  <tbody>\n",
        "    <tr>\n",
        "      <th>0</th>\n",
        "      <td>gid_2008_02_29_detmlb_tormlb_1</td>\n",
        "      <td>5</td>\n",
        "      <td>FALSE</td>\n",
        "      <td>0</td>\n",
        "      <td>0</td>\n",
        "      <td>In play, out(s)</td>\n",
        "      <td>24</td>\n",
        "      <td>X</td>\n",
        "      <td>NaN</td>\n",
        "      <td>95.28</td>\n",
        "      <td>...</td>\n",
        "      <td>NaN</td>\n",
        "      <td>NaN</td>\n",
        "      <td>NaN</td>\n",
        "      <td>NaN</td>\n",
        "      <td>NaN</td>\n",
        "      <td>NaN</td>\n",
        "      <td>NaN</td>\n",
        "      <td>NaN</td>\n",
        "      <td>1</td>\n",
        "      <td>1</td>\n",
        "    </tr>\n",
        "    <tr>\n",
        "      <th>1</th>\n",
        "      <td>gid_2008_02_29_detmlb_tormlb_1</td>\n",
        "      <td>6</td>\n",
        "      <td>FALSE</td>\n",
        "      <td>0</td>\n",
        "      <td>0</td>\n",
        "      <td>In play, out(s)</td>\n",
        "      <td>28</td>\n",
        "      <td>X</td>\n",
        "      <td>NaN</td>\n",
        "      <td>48.07</td>\n",
        "      <td>...</td>\n",
        "      <td>NaN</td>\n",
        "      <td>NaN</td>\n",
        "      <td>NaN</td>\n",
        "      <td>NaN</td>\n",
        "      <td>NaN</td>\n",
        "      <td>NaN</td>\n",
        "      <td>NaN</td>\n",
        "      <td>NaN</td>\n",
        "      <td>2</td>\n",
        "      <td>1</td>\n",
        "    </tr>\n",
        "    <tr>\n",
        "      <th>2</th>\n",
        "      <td>gid_2008_02_29_detmlb_tormlb_1</td>\n",
        "      <td>7</td>\n",
        "      <td>FALSE</td>\n",
        "      <td>0</td>\n",
        "      <td>0</td>\n",
        "      <td>In play, out(s)</td>\n",
        "      <td>32</td>\n",
        "      <td>X</td>\n",
        "      <td>NaN</td>\n",
        "      <td>59.23</td>\n",
        "      <td>...</td>\n",
        "      <td>NaN</td>\n",
        "      <td>NaN</td>\n",
        "      <td>NaN</td>\n",
        "      <td>NaN</td>\n",
        "      <td>NaN</td>\n",
        "      <td>NaN</td>\n",
        "      <td>NaN</td>\n",
        "      <td>NaN</td>\n",
        "      <td>3</td>\n",
        "      <td>1</td>\n",
        "    </tr>\n",
        "    <tr>\n",
        "      <th>3</th>\n",
        "      <td>gid_2008_02_29_detmlb_tormlb_1</td>\n",
        "      <td>13</td>\n",
        "      <td>FALSE</td>\n",
        "      <td>0</td>\n",
        "      <td>1</td>\n",
        "      <td>In play, out(s)</td>\n",
        "      <td>63</td>\n",
        "      <td>X</td>\n",
        "      <td>NaN</td>\n",
        "      <td>83.26</td>\n",
        "      <td>...</td>\n",
        "      <td>NaN</td>\n",
        "      <td>NaN</td>\n",
        "      <td>NaN</td>\n",
        "      <td>NaN</td>\n",
        "      <td>NaN</td>\n",
        "      <td>NaN</td>\n",
        "      <td>NaN</td>\n",
        "      <td>NaN</td>\n",
        "      <td>4</td>\n",
        "      <td>1</td>\n",
        "    </tr>\n",
        "    <tr>\n",
        "      <th>4</th>\n",
        "      <td>gid_2008_02_29_detmlb_tormlb_1</td>\n",
        "      <td>14</td>\n",
        "      <td>FALSE</td>\n",
        "      <td>0</td>\n",
        "      <td>1</td>\n",
        "      <td>Swinging Strike</td>\n",
        "      <td>67</td>\n",
        "      <td>S</td>\n",
        "      <td>NaN</td>\n",
        "      <td>90.13</td>\n",
        "      <td>...</td>\n",
        "      <td>NaN</td>\n",
        "      <td>NaN</td>\n",
        "      <td>NaN</td>\n",
        "      <td>NaN</td>\n",
        "      <td>NaN</td>\n",
        "      <td>NaN</td>\n",
        "      <td>NaN</td>\n",
        "      <td>NaN</td>\n",
        "      <td>5</td>\n",
        "      <td>1</td>\n",
        "    </tr>\n",
        "  </tbody>\n",
        "</table>\n",
        "<p>5 rows \u00d7 93 columns</p>\n",
        "</div>"
       ],
       "metadata": {},
       "output_type": "pyout",
       "prompt_number": 26,
       "text": [
        "                     gameday_link  num  score  home_team_runs  away_team_runs  \\\n",
        "0  gid_2008_02_29_detmlb_tormlb_1    5  FALSE               0               0   \n",
        "1  gid_2008_02_29_detmlb_tormlb_1    6  FALSE               0               0   \n",
        "2  gid_2008_02_29_detmlb_tormlb_1    7  FALSE               0               0   \n",
        "3  gid_2008_02_29_detmlb_tormlb_1   13  FALSE               0               1   \n",
        "4  gid_2008_02_29_detmlb_tormlb_1   14  FALSE               0               1   \n",
        "\n",
        "               des  id type tfs_zulu      x     ...       BP_IN BP_S_IN  \\\n",
        "0  In play, out(s)  24    X      NaN  95.28     ...         NaN     NaN   \n",
        "1  In play, out(s)  28    X      NaN  48.07     ...         NaN     NaN   \n",
        "2  In play, out(s)  32    X      NaN  59.23     ...         NaN     NaN   \n",
        "3  In play, out(s)  63    X      NaN  83.26     ...         NaN     NaN   \n",
        "4  Swinging Strike  67    S      NaN  90.13     ...         NaN     NaN   \n",
        "\n",
        "   BP_FF  BP_S_FF  BP_CU  BP_S_CU  BP_PO  BP_S_PO  season_pitch_count  \\\n",
        "0    NaN      NaN    NaN      NaN    NaN      NaN                   1   \n",
        "1    NaN      NaN    NaN      NaN    NaN      NaN                   2   \n",
        "2    NaN      NaN    NaN      NaN    NaN      NaN                   3   \n",
        "3    NaN      NaN    NaN      NaN    NaN      NaN                   4   \n",
        "4    NaN      NaN    NaN      NaN    NaN      NaN                   5   \n",
        "\n",
        "   times_faced  \n",
        "0            1  \n",
        "1            1  \n",
        "2            1  \n",
        "3            1  \n",
        "4            1  \n",
        "\n",
        "[5 rows x 93 columns]"
       ]
      }
     ],
     "prompt_number": 26
    },
    {
     "cell_type": "code",
     "collapsed": false,
     "input": [
      "#Got some nulls\n",
      "verlander['pitch_type'].isnull().sum()"
     ],
     "language": "python",
     "metadata": {},
     "outputs": [
      {
       "metadata": {},
       "output_type": "pyout",
       "prompt_number": 27,
       "text": [
        "668"
       ]
      }
     ],
     "prompt_number": 27
    },
    {
     "cell_type": "code",
     "collapsed": false,
     "input": [
      "#get rid of missing pitch_type data\n",
      "verlander = verlander[verlander['pitch_type'].notnull()]"
     ],
     "language": "python",
     "metadata": {},
     "outputs": [],
     "prompt_number": 28
    },
    {
     "cell_type": "code",
     "collapsed": false,
     "input": [
      "#pick columns that are relevant for prediction\n",
      "cols_of_interest = ['home_team_runs', 'away_team_runs', 'inning_side',\n",
      "                    'inning', 'stand', 'batter_name', 'balls', 'strikes', 'runners',\n",
      "                    'scorediff', 'year', 'season_pitch_count', 'times_faced']"
     ],
     "language": "python",
     "metadata": {},
     "outputs": [],
     "prompt_number": 29
    },
    {
     "cell_type": "code",
     "collapsed": false,
     "input": [
      "# More Nulls to get rid of\n",
      "print \"Number of nulls by column \\n\"\n",
      "for col in cols_of_interest:\n",
      "    print col + \" : \", verlander[col].isnull().sum()"
     ],
     "language": "python",
     "metadata": {},
     "outputs": [
      {
       "output_type": "stream",
       "stream": "stdout",
       "text": [
        "Number of nulls by column \n",
        "\n",
        "home_team_runs :  496\n",
        "away_team_runs :  496\n",
        "inning_side :  0\n",
        "inning :  0\n",
        "stand :  0\n",
        "batter_name :  0\n",
        "balls :  0\n",
        "strikes :  0\n",
        "runners :  0\n",
        "scorediff :  0\n",
        "year :  0\n",
        "season_pitch_count :  0\n",
        "times_faced :  0\n"
       ]
      }
     ],
     "prompt_number": 30
    },
    {
     "cell_type": "code",
     "collapsed": false,
     "input": [
      "#Get rid of nulls\n",
      "verlander = verlander[verlander['home_team_runs'].notnull()]"
     ],
     "language": "python",
     "metadata": {},
     "outputs": [],
     "prompt_number": 31
    },
    {
     "cell_type": "code",
     "collapsed": false,
     "input": [
      "#subset down to these columns\n",
      "subset_verlander = verlander[cols_of_interest]"
     ],
     "language": "python",
     "metadata": {},
     "outputs": [],
     "prompt_number": 32
    },
    {
     "cell_type": "code",
     "collapsed": false,
     "input": [
      "#Convert Categorical variables to dummies\n",
      "subset_verlander = get_dummies(subset_verlander)"
     ],
     "language": "python",
     "metadata": {},
     "outputs": [],
     "prompt_number": 33
    },
    {
     "cell_type": "code",
     "collapsed": false,
     "input": [
      "#Look at pitch count by year\n",
      "subset_verlander.groupby('year').size()"
     ],
     "language": "python",
     "metadata": {},
     "outputs": [
      {
       "metadata": {},
       "output_type": "pyout",
       "prompt_number": 34,
       "text": [
        "year\n",
        "2008    3363\n",
        "2009    3854\n",
        "2010    3673\n",
        "2011    4200\n",
        "2012    4213\n",
        "2013    3960\n",
        "2014    3247\n",
        "dtype: int64"
       ]
      }
     ],
     "prompt_number": 34
    },
    {
     "cell_type": "code",
     "collapsed": false,
     "input": [
      "#Get test and train inputs/targets in a dict together --> making sure targets are categorical\n",
      "#Note: using 2013 and 2014 as test years\n",
      "verlander_data_dict = {}\n",
      "verlander_data_dict['train_data'] = subset_verlander[subset_verlander['year'] < 2013]\n",
      "verlander_data_dict['train_targets'] = verlander['pitch_type'][subset_verlander['year'] < 2013].astype('category')\n",
      "verlander_data_dict['test_data'] = subset_verlander[subset_verlander['year'] >= 2013]\n",
      "verlander_data_dict['test_targets'] = verlander['pitch_type'][subset_verlander['year'] >= 2013].astype('category')"
     ],
     "language": "python",
     "metadata": {},
     "outputs": [],
     "prompt_number": 35
    },
    {
     "cell_type": "code",
     "collapsed": false,
     "input": [
      "#check \n",
      "print len(verlander_data_dict['train_data']) == len(verlander_data_dict['train_targets'])\n",
      "print len(verlander_data_dict['test_data']) == len(verlander_data_dict['test_targets'])"
     ],
     "language": "python",
     "metadata": {},
     "outputs": [
      {
       "output_type": "stream",
       "stream": "stdout",
       "text": [
        "True\n",
        "True\n"
       ]
      }
     ],
     "prompt_number": 36
    },
    {
     "cell_type": "code",
     "collapsed": false,
     "input": [
      "#Check on labels\n",
      "verlander_data_dict['train_targets'].head()"
     ],
     "language": "python",
     "metadata": {},
     "outputs": [
      {
       "metadata": {},
       "output_type": "pyout",
       "prompt_number": 37,
       "text": [
        "12    SL\n",
        "13    SL\n",
        "14    FT\n",
        "15    CH\n",
        "17    FT\n",
        "Name: pitch_type, dtype: category\n",
        "Categories (7, object): [CH, CU, FF, FT, IN, PO, SL]"
       ]
      }
     ],
     "prompt_number": 37
    },
    {
     "cell_type": "heading",
     "level": 2,
     "metadata": {},
     "source": [
      "Create a Generic Function to Run Classifiers and then Run a Bunch of Classifiers"
     ]
    },
    {
     "cell_type": "code",
     "collapsed": false,
     "input": [
      "# Create Generic Function to run a classifier\n",
      "def run_classifier(classifier, data_dict):\n",
      "    \"\"\"Given a classifier and a data dictionary containing 'train_data' and 'test_data' (as pandas DFs),\n",
      "    This runs the classifier and outputs the accuracy of the classifier on the test data.\"\"\"\n",
      "    \n",
      "    # Fit a model on all the data and features\n",
      "    classifier.fit(data_dict['train_data'], data_dict['train_targets'])\n",
      "\n",
      "    # Make predictions on dev data\n",
      "    dev_predictions = classifier.predict(data_dict['test_data'])\n",
      "    \n",
      "    # Return the dev performance score.\n",
      "    return accuracy_score(data_dict['test_targets'], dev_predictions)"
     ],
     "language": "python",
     "metadata": {},
     "outputs": [],
     "prompt_number": 38
    },
    {
     "cell_type": "code",
     "collapsed": false,
     "input": [
      "#Accuracy for guessing most common pitch --> None of our classifiers at this point beat the naive estimate\n",
      "print 'Accuracy when guessing most frequent pitch:', verlander.groupby('pitch_type').size().max() / float(len(verlander))"
     ],
     "language": "python",
     "metadata": {},
     "outputs": [
      {
       "output_type": "stream",
       "stream": "stdout",
       "text": [
        "Accuracy when guessing most frequent pitch: 0.522746133535\n"
       ]
      }
     ],
     "prompt_number": 43
    },
    {
     "cell_type": "code",
     "collapsed": false,
     "input": [
      "#Run a bunch of naive classifiers (no tuning --> default hyper-parameters)\n",
      "print \"K-Nearest Neighbors Accuracy\", run_classifier(KNeighborsClassifier(), verlander_data_dict)\n",
      "print \"Decision Tree Accuracy\", run_classifier(DecisionTreeClassifier(), verlander_data_dict)\n",
      "print \"RF Accuracy\", run_classifier(RandomForestClassifier(), verlander_data_dict)\n",
      "print \"Logistic Regression Accuracy\", run_classifier(LogisticRegression(), verlander_data_dict)\n",
      "print \"Gaussian Naive Bayes Accuracy\", run_classifier(GaussianNB(), verlander_data_dict)\n",
      "#print \"Multinomial Naive Bayes Accuracy\", run_classifier(MultinomialNB(), verlander_data_dict)"
     ],
     "language": "python",
     "metadata": {},
     "outputs": [
      {
       "output_type": "stream",
       "stream": "stdout",
       "text": [
        "K-Nearest Neighbors Accuracy "
       ]
      },
      {
       "output_type": "stream",
       "stream": "stdout",
       "text": [
        "0.38962120161\n",
        "Decision Tree Accuracy "
       ]
      },
      {
       "output_type": "stream",
       "stream": "stdout",
       "text": [
        "0.420840849174\n",
        "RF Accuracy "
       ]
      },
      {
       "output_type": "stream",
       "stream": "stdout",
       "text": [
        "0.455806854447\n",
        "Logistic Regression Accuracy "
       ]
      },
      {
       "output_type": "stream",
       "stream": "stdout",
       "text": [
        "0.482863882337\n",
        "Gaussian Naive Bayes Accuracy "
       ]
      },
      {
       "output_type": "stream",
       "stream": "stdout",
       "text": [
        "0.105175523796\n"
       ]
      }
     ],
     "prompt_number": 40
    },
    {
     "cell_type": "code",
     "collapsed": false,
     "input": [
      "print \"Linear Support Vector Machine Accuracy\", run_classifier(LinearSVC(), verlander_data_dict)"
     ],
     "language": "python",
     "metadata": {},
     "outputs": [
      {
       "output_type": "stream",
       "stream": "stdout",
       "text": [
        "Linear Support Vector Machine Accuracy "
       ]
      },
      {
       "output_type": "stream",
       "stream": "stdout",
       "text": [
        "0.481060080477\n"
       ]
      }
     ],
     "prompt_number": 44
    },
    {
     "cell_type": "code",
     "collapsed": false,
     "input": [
      "#Interesting\n",
      "print \"Non-Linear SVM (Radial Basis Fxn Kernel) Accuracy\", run_classifier(SVC(tol = 0.1, max_iter = 100), verlander_data_dict)"
     ],
     "language": "python",
     "metadata": {},
     "outputs": [
      {
       "output_type": "stream",
       "stream": "stdout",
       "text": [
        "Non-Linear SVM (Radial Basis Fxn Kernel) Accuracy "
       ]
      },
      {
       "output_type": "stream",
       "stream": "stdout",
       "text": [
        "0.454280560566\n"
       ]
      }
     ],
     "prompt_number": 42
    },
    {
     "cell_type": "markdown",
     "metadata": {},
     "source": [
      "Note: based on the data we have now, it doesn't appear that these inputs have many interaction effects/non-linear components, but I feel confident they'll arise once we add other features"
     ]
    },
    {
     "cell_type": "code",
     "collapsed": false,
     "input": [],
     "language": "python",
     "metadata": {},
     "outputs": []
    }
   ],
   "metadata": {}
  }
 ]
}