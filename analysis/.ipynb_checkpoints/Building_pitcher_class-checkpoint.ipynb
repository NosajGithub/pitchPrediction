{
 "cells": [
  {
   "cell_type": "markdown",
   "metadata": {},
   "source": [
    "#Building Pitcher Class "
   ]
  },
  {
   "cell_type": "code",
   "execution_count": 1,
   "metadata": {
    "collapsed": true
   },
   "outputs": [],
   "source": [
    "#Import necessary packages\n",
    "import psycopg2\n",
    "import sys  \n",
    "sys.path.append('..')\n",
    "\n",
    "import numpy as np\n",
    "import pandas as pd\n",
    "\n",
    "from config import REDSHIFT_CONFIG\n",
    "from src.features import *\n",
    "from src.utils import *\n",
    "from src.validation import *\n",
    "\n",
    "reload(sys)\n",
    "sys.setdefaultencoding('utf8')\n",
    "\n",
    "from src.exploration import *"
   ]
  },
  {
   "cell_type": "code",
   "execution_count": 2,
   "metadata": {
    "collapsed": true
   },
   "outputs": [],
   "source": [
    "# Establish a connection to the redshift database\n",
    "conn = create_rs_conn(config=REDSHIFT_CONFIG)\n",
    "cur = conn.cursor()"
   ]
  },
  {
   "cell_type": "code",
   "execution_count": 3,
   "metadata": {
    "collapsed": false
   },
   "outputs": [],
   "source": [
    "from datetime import date\n",
    "\n",
    "class Pitcher:\n",
    "    '''Master class to contain all info/methods related to a pitcher's pitch data'''\n",
    "    \n",
    "    def __init__(self, pitcher_id, redshift_cursor, table = None):\n",
    "        '''Stores:\n",
    "            -a database cursor (self.cur)\n",
    "            -pitcher ID (self.pitcher_id)\n",
    "            -all pitcher data (self.data) from 'table' (all_pitch_data by default)\n",
    "        '''\n",
    "        \n",
    "        #Store the pitcher's id\n",
    "        self.pitcher_id = pitcher_id\n",
    "        \n",
    "        #Using a passed-in cursor instead of creating it here, so we don't have to open new connection\n",
    "        #for each pitcher we create\n",
    "        self.cur = redshift_cursor\n",
    "        \n",
    "        #Use exception handling in case we get a shutdown of the connection\n",
    "        try:\n",
    "            #Choose which table to pull data from\n",
    "            if table is None:\n",
    "                self.data = get_pitcher_df_for_modeling(self.cur, \n",
    "                                                        pitcher_id = pitcher_id, \n",
    "                                                        date_subsetting = False)\n",
    "            else:\n",
    "                self.data = get_pitcher_df_for_modeling(self.cur, \n",
    "                                                        pitcher_id = pitcher_id, \n",
    "                                                        date_subsetting = False,\n",
    "                                                        table = table)\n",
    "        except:\n",
    "            # Re-establish a connection to the redshift database\n",
    "            conn = create_rs_conn(config=REDSHIFT_CONFIG)\n",
    "            self.cur = conn.cursor()\n",
    "            \n",
    "            #Choose which table to pull data from\n",
    "            if table is None:\n",
    "                self.data = get_pitcher_df_for_modeling(self.cur, \n",
    "                                                        pitcher_id = pitcher_id,\n",
    "                                                        date_subsetting = False)\n",
    "            else:\n",
    "                self.data = get_pitcher_df_for_modeling(self.cur, \n",
    "                                                        pitcher_id = pitcher_id, \n",
    "                                                        date_subsetting = False,\n",
    "                                                        table = table)\n",
    "        \n",
    "        #Get the pitcher's name\n",
    "        self.cur.execute('''select p_first_name, p_last_name\n",
    "                    from all_pitch_data\n",
    "                    where pitcher = %d\n",
    "                    limit 1''' % self.pitcher_id)\n",
    "        self.name = \" \".join(self.cur.fetchall()[0])\n",
    "        \n",
    "        #initiate a list that keeps track of methods called on the object (record-keeping)\n",
    "        self.method_history = []    \n",
    "            \n",
    "    def find_optimal_date_splits(self):\n",
    "        ''' '''\n",
    "        self.method_history.append(\"split_test_train\")\n",
    "        \n",
    "    def subset_data_by_date(self, max_date = None, min_date = '2008-01-01'):\n",
    "        '''Subsets self.data based on max and min dates'''\n",
    "        \n",
    "        #Get a max_date if one not given\n",
    "        if max_date is None:\n",
    "            self.max_date = date.today().strftime('%Y-%m-%d')\n",
    "        else:\n",
    "            self.max_date = max_date\n",
    "        \n",
    "        #Store the minimum date\n",
    "        self.min_date = min_date\n",
    "        \n",
    "        #Subset the data\n",
    "        self.data = self.data[(self.data['date'] <= self.max_date) & (self.data['date'] >= self.min_date)]\n",
    "        \n",
    "        #Indicate that the method has been called\n",
    "        self.method_history.append('subset_by_date')\n",
    "        \n",
    "    def subset_data_by_columns(self, cols):\n",
    "        '''self.data is subset to only include \"cols\"'''\n",
    "        self.data = self.data[cols]\n",
    "        self.method_history.append(\"subset_by_columns\")\n",
    "    \n",
    "    def split_test_train(self, quantile_split = 0.9, date_override = None):\n",
    "        '''Splits self.data into testing and train data, creating a new dictionary containing all the\n",
    "        test/train data and targets'''\n",
    "        \n",
    "        #Get the date on which to split test/train\n",
    "        if date_override is None:\n",
    "            split_date = str(self.data['date'].quantile(quantile_split))[:10]\n",
    "            \n",
    "        else:\n",
    "            split_date = date_override\n",
    "        \n",
    "        #split the data and return a dictionary with test/train data/targets\n",
    "        self.modeling_dict = split_test_train(self.data, split_date)\n",
    "        \n",
    "        #Log the transaction\n",
    "        self.method_history.append(\"split_test_train_\" + split_date)\n",
    "        \n",
    "        #Store the baseline accuracy\n",
    "        self.baseline_accuracy = naive_accuracy(self.modeling_dict)\n",
    "        \n",
    "    def pitch_type_by_year(self):\n",
    "        '''returns a pandas dataframe getting the count of the pitch types by year'''\n",
    "        return get_pitch_types_by_year(self.data, use_gameday = False)\n",
    "    \n",
    "    def run_classifiers(self):\n",
    "        '''runs four different classifiers and tries to ensemble them'''\n",
    "        \n",
    "        classifier_dict = run_all_classifiers(self.modeling_dict)\n",
    "        all_predictions_dict = collect_classifier_predictions2(self.modeling_dict, classifier_dict)\n",
    "        best_classifiers = choose_best_ensemble(all_predictions_dict, self.modeling_dict)\n",
    "        \n",
    "        #Handle cases where there's a single classifier chosen\n",
    "        if type(best_classifiers['classifier_combination']) == str:\n",
    "            \n",
    "            single_class = best_classifiers['classifier_combination']\n",
    "            self.classifiers = {single_class: classifier_dict[single_class]}\n",
    "            \n",
    "        else:\n",
    "            \n",
    "            self.classifiers = dict((k, classifier_dict[k]) for k in best_classifiers['classifier_combination'])\n",
    "            \n",
    "        self.best_acc = best_classifiers['best_acc']\n",
    "        self.acc_over_most_common = self.best_acc - self.baseline_accuracy\n",
    "        print 'classifiers used:', self.classifiers.keys()\n",
    "        print 'best accuracy:', self.best_acc\n",
    "        print \"Accuracy above guessing most common:\", self.acc_over_most_common\n",
    "        \n",
    "        #Log it\n",
    "        self.method_history.append('ran_classifiers')\n",
    "    \n",
    "    def predict(self, new_data):\n",
    "        '''runs best ensemble'''\n",
    "        pred_dict = {}\n",
    "        \n",
    "        #Make predictions based for each classifier\n",
    "        for classifier in self.classifiers.keys():\n",
    "\n",
    "            # Make predictions on new data\n",
    "            pred_dict[classifier] = self.classifier[classifier].predict(new_data)\n",
    "            \n",
    "        #Vote based on the predictions\n",
    "        return ensemble_voting(pred_dict)\n",
    "    \n",
    "    def delete_all_data(self):\n",
    "        '''Delete all the data (before serializing the object)'''\n",
    "        \n",
    "        del(self.data)\n",
    "        del(self.modeling_dict)\n",
    "        self.method_history.append('deleted all data')"
   ]
  },
  {
   "cell_type": "code",
   "execution_count": 259,
   "metadata": {
    "collapsed": false
   },
   "outputs": [],
   "source": [
    "test = Pitcher(pitcher_id = 448802, redshift_cursor = cur)"
   ]
  },
  {
   "cell_type": "code",
   "execution_count": 260,
   "metadata": {
    "collapsed": false
   },
   "outputs": [
    {
     "data": {
      "text/html": [
       "<div>\n",
       "<table border=\"1\" class=\"dataframe\">\n",
       "  <thead>\n",
       "    <tr style=\"text-align: right;\">\n",
       "      <th></th>\n",
       "      <th>b</th>\n",
       "      <th>s</th>\n",
       "      <th>on_1b</th>\n",
       "      <th>on_2b</th>\n",
       "      <th>on_3b</th>\n",
       "      <th>pitch_type</th>\n",
       "      <th>o</th>\n",
       "      <th>stand</th>\n",
       "      <th>p_throws</th>\n",
       "      <th>home_wins</th>\n",
       "      <th>...</th>\n",
       "      <th>season_pitch_count</th>\n",
       "      <th>prev_pitches_mean_start_speed</th>\n",
       "      <th>prev_pitches_mean_end_speed</th>\n",
       "      <th>prev_pitches_mean_break_y</th>\n",
       "      <th>prev_pitches_mean_break_angle</th>\n",
       "      <th>prev_pitches_mean_break_length</th>\n",
       "      <th>last_pitch_type</th>\n",
       "      <th>second_last_pitch_type</th>\n",
       "      <th>third_last_pitch_type</th>\n",
       "      <th>cur_season</th>\n",
       "    </tr>\n",
       "  </thead>\n",
       "  <tbody>\n",
       "    <tr>\n",
       "      <th>33469</th>\n",
       "      <td>0</td>\n",
       "      <td>1</td>\n",
       "      <td>1</td>\n",
       "      <td>0</td>\n",
       "      <td>0</td>\n",
       "      <td>Not_Fastball</td>\n",
       "      <td>0</td>\n",
       "      <td>R</td>\n",
       "      <td>L</td>\n",
       "      <td>43</td>\n",
       "      <td>...</td>\n",
       "      <td>4</td>\n",
       "      <td>90.100000</td>\n",
       "      <td>83.600000</td>\n",
       "      <td>23.800000</td>\n",
       "      <td>-14.500000</td>\n",
       "      <td>4.900000</td>\n",
       "      <td>Fastball</td>\n",
       "      <td>Not_Fastball</td>\n",
       "      <td>Not_Fastball</td>\n",
       "      <td>0</td>\n",
       "    </tr>\n",
       "    <tr>\n",
       "      <th>33477</th>\n",
       "      <td>0</td>\n",
       "      <td>2</td>\n",
       "      <td>1</td>\n",
       "      <td>0</td>\n",
       "      <td>0</td>\n",
       "      <td>Not_Fastball</td>\n",
       "      <td>0</td>\n",
       "      <td>R</td>\n",
       "      <td>L</td>\n",
       "      <td>43</td>\n",
       "      <td>...</td>\n",
       "      <td>5</td>\n",
       "      <td>83.150000</td>\n",
       "      <td>76.750000</td>\n",
       "      <td>23.800000</td>\n",
       "      <td>-7.250000</td>\n",
       "      <td>10.050000</td>\n",
       "      <td>Not_Fastball</td>\n",
       "      <td>Fastball</td>\n",
       "      <td>Not_Fastball</td>\n",
       "      <td>0</td>\n",
       "    </tr>\n",
       "    <tr>\n",
       "      <th>32475</th>\n",
       "      <td>1</td>\n",
       "      <td>2</td>\n",
       "      <td>1</td>\n",
       "      <td>0</td>\n",
       "      <td>0</td>\n",
       "      <td>Fastball</td>\n",
       "      <td>0</td>\n",
       "      <td>R</td>\n",
       "      <td>L</td>\n",
       "      <td>43</td>\n",
       "      <td>...</td>\n",
       "      <td>6</td>\n",
       "      <td>80.566667</td>\n",
       "      <td>74.033333</td>\n",
       "      <td>23.766667</td>\n",
       "      <td>-4.033333</td>\n",
       "      <td>11.700000</td>\n",
       "      <td>Not_Fastball</td>\n",
       "      <td>Not_Fastball</td>\n",
       "      <td>Fastball</td>\n",
       "      <td>0</td>\n",
       "    </tr>\n",
       "    <tr>\n",
       "      <th>32497</th>\n",
       "      <td>2</td>\n",
       "      <td>2</td>\n",
       "      <td>1</td>\n",
       "      <td>0</td>\n",
       "      <td>0</td>\n",
       "      <td>Fastball</td>\n",
       "      <td>0</td>\n",
       "      <td>R</td>\n",
       "      <td>L</td>\n",
       "      <td>43</td>\n",
       "      <td>...</td>\n",
       "      <td>7</td>\n",
       "      <td>79.666667</td>\n",
       "      <td>73.200000</td>\n",
       "      <td>23.766667</td>\n",
       "      <td>0.466667</td>\n",
       "      <td>12.000000</td>\n",
       "      <td>Fastball</td>\n",
       "      <td>Not_Fastball</td>\n",
       "      <td>Not_Fastball</td>\n",
       "      <td>0</td>\n",
       "    </tr>\n",
       "    <tr>\n",
       "      <th>33470</th>\n",
       "      <td>2</td>\n",
       "      <td>3</td>\n",
       "      <td>1</td>\n",
       "      <td>0</td>\n",
       "      <td>0</td>\n",
       "      <td>Not_Fastball</td>\n",
       "      <td>0</td>\n",
       "      <td>R</td>\n",
       "      <td>L</td>\n",
       "      <td>43</td>\n",
       "      <td>...</td>\n",
       "      <td>8</td>\n",
       "      <td>83.433333</td>\n",
       "      <td>76.766667</td>\n",
       "      <td>23.766667</td>\n",
       "      <td>-0.400000</td>\n",
       "      <td>8.866667</td>\n",
       "      <td>Fastball</td>\n",
       "      <td>Fastball</td>\n",
       "      <td>Not_Fastball</td>\n",
       "      <td>0</td>\n",
       "    </tr>\n",
       "  </tbody>\n",
       "</table>\n",
       "<p>5 rows × 39 columns</p>\n",
       "</div>"
      ],
      "text/plain": [
       "       b  s  on_1b  on_2b  on_3b    pitch_type  o stand p_throws  home_wins  \\\n",
       "33469  0  1      1      0      0  Not_Fastball  0     R        L         43   \n",
       "33477  0  2      1      0      0  Not_Fastball  0     R        L         43   \n",
       "32475  1  2      1      0      0      Fastball  0     R        L         43   \n",
       "32497  2  2      1      0      0      Fastball  0     R        L         43   \n",
       "33470  2  3      1      0      0  Not_Fastball  0     R        L         43   \n",
       "\n",
       "          ...      season_pitch_count  prev_pitches_mean_start_speed  \\\n",
       "33469     ...                       4                      90.100000   \n",
       "33477     ...                       5                      83.150000   \n",
       "32475     ...                       6                      80.566667   \n",
       "32497     ...                       7                      79.666667   \n",
       "33470     ...                       8                      83.433333   \n",
       "\n",
       "       prev_pitches_mean_end_speed prev_pitches_mean_break_y  \\\n",
       "33469                    83.600000                 23.800000   \n",
       "33477                    76.750000                 23.800000   \n",
       "32475                    74.033333                 23.766667   \n",
       "32497                    73.200000                 23.766667   \n",
       "33470                    76.766667                 23.766667   \n",
       "\n",
       "      prev_pitches_mean_break_angle  prev_pitches_mean_break_length  \\\n",
       "33469                    -14.500000                        4.900000   \n",
       "33477                     -7.250000                       10.050000   \n",
       "32475                     -4.033333                       11.700000   \n",
       "32497                      0.466667                       12.000000   \n",
       "33470                     -0.400000                        8.866667   \n",
       "\n",
       "       last_pitch_type  second_last_pitch_type  third_last_pitch_type  \\\n",
       "33469         Fastball            Not_Fastball           Not_Fastball   \n",
       "33477     Not_Fastball                Fastball           Not_Fastball   \n",
       "32475     Not_Fastball            Not_Fastball               Fastball   \n",
       "32497         Fastball            Not_Fastball           Not_Fastball   \n",
       "33470         Fastball                Fastball           Not_Fastball   \n",
       "\n",
       "       cur_season  \n",
       "33469           0  \n",
       "33477           0  \n",
       "32475           0  \n",
       "32497           0  \n",
       "33470           0  \n",
       "\n",
       "[5 rows x 39 columns]"
      ]
     },
     "execution_count": 260,
     "metadata": {},
     "output_type": "execute_result"
    }
   ],
   "source": [
    "test.data.head()"
   ]
  },
  {
   "cell_type": "code",
   "execution_count": 261,
   "metadata": {
    "collapsed": false
   },
   "outputs": [
    {
     "data": {
      "text/plain": [
       "10048"
      ]
     },
     "execution_count": 261,
     "metadata": {},
     "output_type": "execute_result"
    }
   ],
   "source": [
    "len(test.data)"
   ]
  },
  {
   "cell_type": "code",
   "execution_count": 262,
   "metadata": {
    "collapsed": false
   },
   "outputs": [
    {
     "data": {
      "text/plain": [
       "[]"
      ]
     },
     "execution_count": 262,
     "metadata": {},
     "output_type": "execute_result"
    }
   ],
   "source": [
    "test.method_history"
   ]
  },
  {
   "cell_type": "code",
   "execution_count": 263,
   "metadata": {
    "collapsed": false
   },
   "outputs": [],
   "source": [
    "test.subset_data_by_date(max_date = '2014-01-01')"
   ]
  },
  {
   "cell_type": "code",
   "execution_count": 264,
   "metadata": {
    "collapsed": false
   },
   "outputs": [
    {
     "data": {
      "text/plain": [
       "8775"
      ]
     },
     "execution_count": 264,
     "metadata": {},
     "output_type": "execute_result"
    }
   ],
   "source": [
    "len(test.data)"
   ]
  },
  {
   "cell_type": "code",
   "execution_count": 265,
   "metadata": {
    "collapsed": false
   },
   "outputs": [
    {
     "data": {
      "text/plain": [
       "['subset_by_date']"
      ]
     },
     "execution_count": 265,
     "metadata": {},
     "output_type": "execute_result"
    }
   ],
   "source": [
    "test.method_history"
   ]
  },
  {
   "cell_type": "code",
   "execution_count": 266,
   "metadata": {
    "collapsed": false
   },
   "outputs": [
    {
     "data": {
      "text/plain": [
       "'Jaime Garcia'"
      ]
     },
     "execution_count": 266,
     "metadata": {},
     "output_type": "execute_result"
    }
   ],
   "source": [
    "test.name"
   ]
  },
  {
   "cell_type": "code",
   "execution_count": 267,
   "metadata": {
    "collapsed": false
   },
   "outputs": [
    {
     "data": {
      "text/html": [
       "<div>\n",
       "<table border=\"1\" class=\"dataframe\">\n",
       "  <thead>\n",
       "    <tr style=\"text-align: right;\">\n",
       "      <th>pitch_type</th>\n",
       "      <th>Fastball</th>\n",
       "      <th>Not_Fastball</th>\n",
       "    </tr>\n",
       "  </thead>\n",
       "  <tbody>\n",
       "    <tr>\n",
       "      <th>2008</th>\n",
       "      <td>186</td>\n",
       "      <td>70</td>\n",
       "    </tr>\n",
       "    <tr>\n",
       "      <th>2010</th>\n",
       "      <td>1450</td>\n",
       "      <td>1139</td>\n",
       "    </tr>\n",
       "    <tr>\n",
       "      <th>2011</th>\n",
       "      <td>1860</td>\n",
       "      <td>1508</td>\n",
       "    </tr>\n",
       "    <tr>\n",
       "      <th>2012</th>\n",
       "      <td>1069</td>\n",
       "      <td>739</td>\n",
       "    </tr>\n",
       "    <tr>\n",
       "      <th>2013</th>\n",
       "      <td>378</td>\n",
       "      <td>376</td>\n",
       "    </tr>\n",
       "  </tbody>\n",
       "</table>\n",
       "</div>"
      ],
      "text/plain": [
       "pitch_type  Fastball  Not_Fastball\n",
       "2008             186            70\n",
       "2010            1450          1139\n",
       "2011            1860          1508\n",
       "2012            1069           739\n",
       "2013             378           376"
      ]
     },
     "execution_count": 267,
     "metadata": {},
     "output_type": "execute_result"
    }
   ],
   "source": [
    "test.pitch_type_by_year()"
   ]
  },
  {
   "cell_type": "code",
   "execution_count": 268,
   "metadata": {
    "collapsed": true
   },
   "outputs": [],
   "source": [
    "test.split_test_train(quantile_split = 0.8)"
   ]
  },
  {
   "cell_type": "code",
   "execution_count": 269,
   "metadata": {
    "collapsed": false
   },
   "outputs": [
    {
     "data": {
      "text/html": [
       "<div>\n",
       "<table border=\"1\" class=\"dataframe\">\n",
       "  <thead>\n",
       "    <tr style=\"text-align: right;\">\n",
       "      <th></th>\n",
       "      <th>b</th>\n",
       "      <th>s</th>\n",
       "      <th>on_1b</th>\n",
       "      <th>on_2b</th>\n",
       "      <th>on_3b</th>\n",
       "      <th>o</th>\n",
       "      <th>home_wins</th>\n",
       "      <th>home_loss</th>\n",
       "      <th>away_wins</th>\n",
       "      <th>away_loss</th>\n",
       "      <th>...</th>\n",
       "      <th>stadium_name_Wrigley Field</th>\n",
       "      <th>last_pitch_type_Fastball</th>\n",
       "      <th>last_pitch_type_Not_Fastball</th>\n",
       "      <th>last_pitch_type_not_available</th>\n",
       "      <th>second_last_pitch_type_Fastball</th>\n",
       "      <th>second_last_pitch_type_Not_Fastball</th>\n",
       "      <th>second_last_pitch_type_not_available</th>\n",
       "      <th>third_last_pitch_type_Fastball</th>\n",
       "      <th>third_last_pitch_type_Not_Fastball</th>\n",
       "      <th>third_last_pitch_type_not_available</th>\n",
       "    </tr>\n",
       "  </thead>\n",
       "  <tbody>\n",
       "    <tr>\n",
       "      <th>33469</th>\n",
       "      <td>0</td>\n",
       "      <td>1</td>\n",
       "      <td>1</td>\n",
       "      <td>0</td>\n",
       "      <td>0</td>\n",
       "      <td>0</td>\n",
       "      <td>43</td>\n",
       "      <td>49</td>\n",
       "      <td>52</td>\n",
       "      <td>42</td>\n",
       "      <td>...</td>\n",
       "      <td>0</td>\n",
       "      <td>1</td>\n",
       "      <td>0</td>\n",
       "      <td>0</td>\n",
       "      <td>0</td>\n",
       "      <td>1</td>\n",
       "      <td>0</td>\n",
       "      <td>0</td>\n",
       "      <td>1</td>\n",
       "      <td>0</td>\n",
       "    </tr>\n",
       "    <tr>\n",
       "      <th>33477</th>\n",
       "      <td>0</td>\n",
       "      <td>2</td>\n",
       "      <td>1</td>\n",
       "      <td>0</td>\n",
       "      <td>0</td>\n",
       "      <td>0</td>\n",
       "      <td>43</td>\n",
       "      <td>49</td>\n",
       "      <td>52</td>\n",
       "      <td>42</td>\n",
       "      <td>...</td>\n",
       "      <td>0</td>\n",
       "      <td>0</td>\n",
       "      <td>1</td>\n",
       "      <td>0</td>\n",
       "      <td>1</td>\n",
       "      <td>0</td>\n",
       "      <td>0</td>\n",
       "      <td>0</td>\n",
       "      <td>1</td>\n",
       "      <td>0</td>\n",
       "    </tr>\n",
       "    <tr>\n",
       "      <th>32475</th>\n",
       "      <td>1</td>\n",
       "      <td>2</td>\n",
       "      <td>1</td>\n",
       "      <td>0</td>\n",
       "      <td>0</td>\n",
       "      <td>0</td>\n",
       "      <td>43</td>\n",
       "      <td>49</td>\n",
       "      <td>52</td>\n",
       "      <td>42</td>\n",
       "      <td>...</td>\n",
       "      <td>0</td>\n",
       "      <td>0</td>\n",
       "      <td>1</td>\n",
       "      <td>0</td>\n",
       "      <td>0</td>\n",
       "      <td>1</td>\n",
       "      <td>0</td>\n",
       "      <td>1</td>\n",
       "      <td>0</td>\n",
       "      <td>0</td>\n",
       "    </tr>\n",
       "    <tr>\n",
       "      <th>32497</th>\n",
       "      <td>2</td>\n",
       "      <td>2</td>\n",
       "      <td>1</td>\n",
       "      <td>0</td>\n",
       "      <td>0</td>\n",
       "      <td>0</td>\n",
       "      <td>43</td>\n",
       "      <td>49</td>\n",
       "      <td>52</td>\n",
       "      <td>42</td>\n",
       "      <td>...</td>\n",
       "      <td>0</td>\n",
       "      <td>1</td>\n",
       "      <td>0</td>\n",
       "      <td>0</td>\n",
       "      <td>0</td>\n",
       "      <td>1</td>\n",
       "      <td>0</td>\n",
       "      <td>0</td>\n",
       "      <td>1</td>\n",
       "      <td>0</td>\n",
       "    </tr>\n",
       "    <tr>\n",
       "      <th>33470</th>\n",
       "      <td>2</td>\n",
       "      <td>3</td>\n",
       "      <td>1</td>\n",
       "      <td>0</td>\n",
       "      <td>0</td>\n",
       "      <td>0</td>\n",
       "      <td>43</td>\n",
       "      <td>49</td>\n",
       "      <td>52</td>\n",
       "      <td>42</td>\n",
       "      <td>...</td>\n",
       "      <td>0</td>\n",
       "      <td>1</td>\n",
       "      <td>0</td>\n",
       "      <td>0</td>\n",
       "      <td>1</td>\n",
       "      <td>0</td>\n",
       "      <td>0</td>\n",
       "      <td>0</td>\n",
       "      <td>1</td>\n",
       "      <td>0</td>\n",
       "    </tr>\n",
       "  </tbody>\n",
       "</table>\n",
       "<p>5 rows × 63 columns</p>\n",
       "</div>"
      ],
      "text/plain": [
       "       b  s  on_1b  on_2b  on_3b  o  home_wins  home_loss  away_wins  \\\n",
       "33469  0  1      1      0      0  0         43         49         52   \n",
       "33477  0  2      1      0      0  0         43         49         52   \n",
       "32475  1  2      1      0      0  0         43         49         52   \n",
       "32497  2  2      1      0      0  0         43         49         52   \n",
       "33470  2  3      1      0      0  0         43         49         52   \n",
       "\n",
       "       away_loss                 ...                   \\\n",
       "33469         42                 ...                    \n",
       "33477         42                 ...                    \n",
       "32475         42                 ...                    \n",
       "32497         42                 ...                    \n",
       "33470         42                 ...                    \n",
       "\n",
       "       stadium_name_Wrigley Field  last_pitch_type_Fastball  \\\n",
       "33469                           0                         1   \n",
       "33477                           0                         0   \n",
       "32475                           0                         0   \n",
       "32497                           0                         1   \n",
       "33470                           0                         1   \n",
       "\n",
       "       last_pitch_type_Not_Fastball  last_pitch_type_not_available  \\\n",
       "33469                             0                              0   \n",
       "33477                             1                              0   \n",
       "32475                             1                              0   \n",
       "32497                             0                              0   \n",
       "33470                             0                              0   \n",
       "\n",
       "       second_last_pitch_type_Fastball  second_last_pitch_type_Not_Fastball  \\\n",
       "33469                                0                                    1   \n",
       "33477                                1                                    0   \n",
       "32475                                0                                    1   \n",
       "32497                                0                                    1   \n",
       "33470                                1                                    0   \n",
       "\n",
       "       second_last_pitch_type_not_available  third_last_pitch_type_Fastball  \\\n",
       "33469                                     0                               0   \n",
       "33477                                     0                               0   \n",
       "32475                                     0                               1   \n",
       "32497                                     0                               0   \n",
       "33470                                     0                               0   \n",
       "\n",
       "       third_last_pitch_type_Not_Fastball  third_last_pitch_type_not_available  \n",
       "33469                                   1                                    0  \n",
       "33477                                   1                                    0  \n",
       "32475                                   0                                    0  \n",
       "32497                                   1                                    0  \n",
       "33470                                   1                                    0  \n",
       "\n",
       "[5 rows x 63 columns]"
      ]
     },
     "execution_count": 269,
     "metadata": {},
     "output_type": "execute_result"
    }
   ],
   "source": [
    "test.modeling_dict['train_data'].head()"
   ]
  },
  {
   "cell_type": "code",
   "execution_count": 270,
   "metadata": {
    "collapsed": false
   },
   "outputs": [
    {
     "data": {
      "text/plain": [
       "1834"
      ]
     },
     "execution_count": 270,
     "metadata": {},
     "output_type": "execute_result"
    }
   ],
   "source": [
    "len(test.modeling_dict['test_data'])"
   ]
  },
  {
   "cell_type": "code",
   "execution_count": 271,
   "metadata": {
    "collapsed": false
   },
   "outputs": [
    {
     "data": {
      "text/plain": [
       "6941"
      ]
     },
     "execution_count": 271,
     "metadata": {},
     "output_type": "execute_result"
    }
   ],
   "source": [
    "len(test.modeling_dict['train_data'])"
   ]
  },
  {
   "cell_type": "code",
   "execution_count": 272,
   "metadata": {
    "collapsed": false
   },
   "outputs": [],
   "source": [
    "test.split_test_train(date_override='2013-01-01')"
   ]
  },
  {
   "cell_type": "code",
   "execution_count": 273,
   "metadata": {
    "collapsed": false
   },
   "outputs": [
    {
     "data": {
      "text/plain": [
       "754"
      ]
     },
     "execution_count": 273,
     "metadata": {},
     "output_type": "execute_result"
    }
   ],
   "source": [
    "len(test.modeling_dict['test_data'])"
   ]
  },
  {
   "cell_type": "code",
   "execution_count": 274,
   "metadata": {
    "collapsed": false
   },
   "outputs": [
    {
     "data": {
      "text/plain": [
       "8021"
      ]
     },
     "execution_count": 274,
     "metadata": {},
     "output_type": "execute_result"
    }
   ],
   "source": [
    "len(test.modeling_dict['train_data'])"
   ]
  },
  {
   "cell_type": "code",
   "execution_count": 275,
   "metadata": {
    "collapsed": false
   },
   "outputs": [
    {
     "data": {
      "text/plain": [
       "0.501"
      ]
     },
     "execution_count": 275,
     "metadata": {},
     "output_type": "execute_result"
    }
   ],
   "source": [
    "test.baseline_accuracy"
   ]
  },
  {
   "cell_type": "code",
   "execution_count": 276,
   "metadata": {
    "collapsed": false
   },
   "outputs": [],
   "source": [
    "test.run_classifiers()"
   ]
  },
  {
   "cell_type": "code",
   "execution_count": 191,
   "metadata": {
    "collapsed": false
   },
   "outputs": [],
   "source": [
    "#Seeing how many active pitchers we'd get for these thresholds\n",
    "for min_pitch_count in range(600, 3500, 100):    \n",
    "    cur.execute('''SELECT pitcher, \n",
    "                                COUNT(*) as tot_pitch_count, \n",
    "                                MAX(date) as maximum_date\n",
    "                        FROM all_pitch_data_reclass\n",
    "                        GROUP BY pitcher\n",
    "                        HAVING count(*) >= %d AND \n",
    "                                MAX(date) > '2015-01-01'\n",
    "                        ORDER BY pitcher''' % min_pitch_count)\n",
    "\n",
    "    rows = cur.fetchall()\n",
    "    header = [colnames[0] for colnames in cur.description]\n",
    "    pitcher_df = pd.DataFrame(rows)\n",
    "    pitcher_df.columns = header\n",
    "    print \"Number of pitchers for pitch threshold of\", min_pitch_count, \":\", len(pitcher_df)"
   ]
  },
  {
   "cell_type": "code",
   "execution_count": null,
   "metadata": {
    "collapsed": true
   },
   "outputs": [],
   "source": []
  },
  {
   "cell_type": "code",
   "execution_count": null,
   "metadata": {
    "collapsed": false
   },
   "outputs": [],
   "source": [
    "pitchers = randomly_sample_pitchers2(cur, 5, 3000, seed_num = 35)"
   ]
  },
  {
   "cell_type": "code",
   "execution_count": null,
   "metadata": {
    "collapsed": false
   },
   "outputs": [],
   "source": [
    "pitcher_list = pitchers['pitcher'].values"
   ]
  },
  {
   "cell_type": "code",
   "execution_count": 26,
   "metadata": {
    "collapsed": false
   },
   "outputs": [],
   "source": [
    "accuracies = {}\n",
    "erros = []\n",
    "for pitcher in pitcher_list:\n",
    "    \n",
    "    try:\n",
    "        print 'starting pitcher:', pitcher\n",
    "        test = Pitcher(pitcher_id = pitcher, redshift_cursor = cur)\n",
    "        #test.subset_data_by_date(max_date = '2014-01-01')\n",
    "        print test.pitch_type_by_year()\n",
    "        test.split_test_train()\n",
    "        print 'baseline acc:', test.baseline_accuracy\n",
    "        test.run_classifiers()\n",
    "        accuracies[pitcher] = {}\n",
    "        accuracies[pitcher]['improvement'] = test.acc_over_most_common\n",
    "        accuracies[pitcher]['rel_improvement'] = test.acc_over_most_common / (1 - test.baseline_accuracy)\n",
    "        accuracies[pitcher]['baseline'] = test.baseline_accuracy\n",
    "        \n",
    "    except:\n",
    "        print \"something went wrong with\", pitcher\n",
    "        errors.append(pitcher)"
   ]
  },
  {
   "cell_type": "code",
   "execution_count": 27,
   "metadata": {
    "collapsed": false
   },
   "outputs": [
    {
     "data": {
      "text/plain": [
       "{112526: {'baseline': 0.835,\n",
       "  'improvement': 0.0059090909090909749,\n",
       "  'rel_improvement': 0.03581267217630893},\n",
       " 136600: {'baseline': 0.599,\n",
       "  'improvement': 0.018433414043583563,\n",
       "  'rel_improvement': 0.045968613575021348},\n",
       " 150274: {'baseline': 0.561,\n",
       "  'improvement': 0.087089171974522261,\n",
       "  'rel_improvement': 0.19838080176428763},\n",
       " 150302: {'baseline': 0.552,\n",
       "  'improvement': 0.16257905544147844,\n",
       "  'rel_improvement': 0.36289967732472866},\n",
       " 276351: {'baseline': 0.672,\n",
       "  'improvement': 0.011042789223454808,\n",
       "  'rel_improvement': 0.033667040315411005},\n",
       " 285064: {'baseline': 0.517,\n",
       "  'improvement': 0.10544124336618654,\n",
       "  'rel_improvement': 0.21830485168982722},\n",
       " 329092: {'baseline': 0.678,\n",
       "  'improvement': 0.044955145118733442,\n",
       "  'rel_improvement': 0.13961225192153245},\n",
       " 400089: {'baseline': 0.701,\n",
       "  'improvement': 0.005766917293233087,\n",
       "  'rel_improvement': 0.019287348806799619},\n",
       " 407793: {'baseline': 0.859,\n",
       "  'improvement': 0.003322390984811352,\n",
       "  'rel_improvement': 0.023563056629867744},\n",
       " 407819: {'baseline': 0.88,\n",
       "  'improvement': 0.0082521489971346673,\n",
       "  'rel_improvement': 0.068767908309455561},\n",
       " 407822: {'baseline': 0.947,\n",
       "  'improvement': -0.00039195979899497857,\n",
       "  'rel_improvement': -0.007395467905565627},\n",
       " 407845: {'baseline': 0.63,\n",
       "  'improvement': 0.012424242424242449,\n",
       "  'rel_improvement': 0.033579033579033649},\n",
       " 407908: {'baseline': 0.794,\n",
       "  'improvement': -0.00048967551622425276,\n",
       "  'rel_improvement': -0.0023770656127390915},\n",
       " 425532: {'baseline': 0.781,\n",
       "  'improvement': 0.0015581395348837068,\n",
       "  'rel_improvement': 0.0071147923967292562},\n",
       " 425786: {'baseline': 0.698,\n",
       "  'improvement': 0.0092599531615925601,\n",
       "  'rel_improvement': 0.030662096561564763},\n",
       " 429719: {'baseline': 0.578,\n",
       "  'improvement': 0.023604278074866314,\n",
       "  'rel_improvement': 0.055934308234280361},\n",
       " 430580: {'baseline': 0.946,\n",
       "  'improvement': 0.00061582459485232111,\n",
       "  'rel_improvement': 0.011404159163931862},\n",
       " 430589: {'baseline': 0.578,\n",
       "  'improvement': 0.11170588235294121,\n",
       "  'rel_improvement': 0.26470588235294124},\n",
       " 430599: {'baseline': 0.587,\n",
       "  'improvement': 0.015156980227681305,\n",
       "  'rel_improvement': 0.036699709994385724},\n",
       " 430613: {'baseline': 0.748,\n",
       "  'improvement': 0.029972027972028026,\n",
       "  'rel_improvement': 0.11893661893661915},\n",
       " 433579: {'baseline': 0.601,\n",
       "  'improvement': 0.0083750000000000213,\n",
       "  'rel_improvement': 0.020989974937343409},\n",
       " 434665: {'baseline': 0.767,\n",
       "  'improvement': 0.010777777777777775,\n",
       "  'rel_improvement': 0.046256556986170712},\n",
       " 434718: {'baseline': 0.599,\n",
       "  'improvement': 0.14987892376681622,\n",
       "  'rel_improvement': 0.37376290216163643},\n",
       " 435044: {'baseline': 0.627,\n",
       "  'improvement': 0.0034849884526558794,\n",
       "  'rel_improvement': 0.0093431325808468624},\n",
       " 445060: {'baseline': 0.574,\n",
       "  'improvement': 0.070339622641509503,\n",
       "  'rel_improvement': 0.16511648507396595},\n",
       " 445197: {'baseline': 0.591,\n",
       "  'improvement': 0.036376425855513372,\n",
       "  'rel_improvement': 0.088939916517147596},\n",
       " 445276: {'baseline': 0.921,\n",
       "  'improvement': 0.0014952741020793914,\n",
       "  'rel_improvement': 0.018927520279485976},\n",
       " 446321: {'baseline': 0.73,\n",
       "  'improvement': -0.00046263345195729499,\n",
       "  'rel_improvement': -0.0017134572294714629},\n",
       " 447755: {'baseline': 0.654,\n",
       "  'improvement': 0.00043425076452596745,\n",
       "  'rel_improvement': 0.0012550600130808308},\n",
       " 448159: {'baseline': 0.624,\n",
       "  'improvement': 0.022942800788954609,\n",
       "  'rel_improvement': 0.061018087204666512},\n",
       " 448178: {'baseline': 0.677,\n",
       "  'improvement': 0.04208127208480561,\n",
       "  'rel_improvement': 0.13028257611394928},\n",
       " 449079: {'baseline': 0.531,\n",
       "  'improvement': 0.012599257884972181,\n",
       "  'rel_improvement': 0.026864089306976934},\n",
       " 450275: {'baseline': 0.518,\n",
       "  'improvement': 0.0080000000000000071,\n",
       "  'rel_improvement': 0.016597510373443997},\n",
       " 450306: {'baseline': 0.583,\n",
       "  'improvement': 0.028705120990433319,\n",
       "  'rel_improvement': 0.068837220600559509},\n",
       " 450351: {'baseline': 0.609,\n",
       "  'improvement': 0.013011727559765429,\n",
       "  'rel_improvement': 0.03327807560042309},\n",
       " 450665: {'baseline': 0.559,\n",
       "  'improvement': 0.033682926829268212,\n",
       "  'rel_improvement': 0.076378518887229518},\n",
       " 450729: {'baseline': 0.804,\n",
       "  'improvement': 0.00085053581500271758,\n",
       "  'rel_improvement': 0.0043394684438914175},\n",
       " 451788: {'baseline': 0.634,\n",
       "  'improvement': 0.018108433734939755,\n",
       "  'rel_improvement': 0.049476594904206979},\n",
       " 452657: {'baseline': 0.786,\n",
       "  'improvement': 0.00046616541353383667,\n",
       "  'rel_improvement': 0.0021783430538964334},\n",
       " 453286: {'baseline': 0.592,\n",
       "  'improvement': 0.027368421052631597,\n",
       "  'rel_improvement': 0.067079463364293129},\n",
       " 453343: {'baseline': 0.735,\n",
       "  'improvement': 0.01402723735408562,\n",
       "  'rel_improvement': 0.052932971147492902},\n",
       " 453344: {'baseline': 0.701,\n",
       "  'improvement': 0.0018985507246377376,\n",
       "  'rel_improvement': 0.006349667975377048},\n",
       " 456051: {'baseline': 0.591,\n",
       "  'improvement': 0.022505747126436826,\n",
       "  'rel_improvement': 0.055026276592755073},\n",
       " 456068: {'baseline': 0.594,\n",
       "  'improvement': 0.010803493449781709,\n",
       "  'rel_improvement': 0.026609589777787459},\n",
       " 457117: {'baseline': 0.613,\n",
       "  'improvement': 0.00043012704174227867,\n",
       "  'rel_improvement': 0.0011114393843469732},\n",
       " 457435: {'baseline': 0.681,\n",
       "  'improvement': -0.0085109170305677218,\n",
       "  'rel_improvement': -0.026679990691434868},\n",
       " 457711: {'baseline': 0.585,\n",
       "  'improvement': 0.052809187279151959,\n",
       "  'rel_improvement': 0.12725105368470349},\n",
       " 457918: {'baseline': 0.63,\n",
       "  'improvement': 0.0094117647058823417,\n",
       "  'rel_improvement': 0.025437201907790113},\n",
       " 458730: {'baseline': 0.644,\n",
       "  'improvement': 0.0022346760070052207,\n",
       "  'rel_improvement': 0.0062771797949584852},\n",
       " 459987: {'baseline': 0.578,\n",
       "  'improvement': 0.015607305936073068,\n",
       "  'rel_improvement': 0.036984137289272669},\n",
       " 460024: {'baseline': 0.836,\n",
       "  'improvement': 0.00083828861493839835,\n",
       "  'rel_improvement': 0.0051115159447463303},\n",
       " 462136: {'baseline': 0.595,\n",
       "  'improvement': 0.0009684487291850008,\n",
       "  'rel_improvement': 0.0023912314300864215},\n",
       " 467094: {'baseline': 0.758,\n",
       "  'improvement': 0.00025471698113210817,\n",
       "  'rel_improvement': 0.0010525495088103643},\n",
       " 468396: {'baseline': 0.666,\n",
       "  'improvement': 0.019421994884910476,\n",
       "  'rel_improvement': 0.058149685284163109},\n",
       " 471911: {'baseline': 0.58,\n",
       "  'improvement': 0.062118863049095641,\n",
       "  'rel_improvement': 0.14790205487879912},\n",
       " 474463: {'baseline': 0.534,\n",
       "  'improvement': 0.063029702970296975,\n",
       "  'rel_improvement': 0.13525687332681754},\n",
       " 475115: {'baseline': 0.514,\n",
       "  'improvement': 0.066645161290322608,\n",
       "  'rel_improvement': 0.13712996150272141},\n",
       " 475138: {'baseline': 0.732,\n",
       "  'improvement': 0.0072405063291139937,\n",
       "  'rel_improvement': 0.02701681466087311},\n",
       " 475243: {'baseline': 0.824,\n",
       "  'improvement': 0.0023785394932935855,\n",
       "  'rel_improvement': 0.013514428939168096},\n",
       " 476570: {'baseline': 0.623,\n",
       "  'improvement': 0.042658093797276808,\n",
       "  'rel_improvement': 0.11315144243309498},\n",
       " 488768: {'baseline': 0.698,\n",
       "  'improvement': 0.011790209790209838,\n",
       "  'rel_improvement': 0.039040429768906745},\n",
       " 490063: {'baseline': 0.681,\n",
       "  'improvement': 0.011135835567470886,\n",
       "  'rel_improvement': 0.034908575446617206},\n",
       " 491159: {'baseline': 0.853,\n",
       "  'improvement': 0.034019230769230746,\n",
       "  'rel_improvement': 0.23142333856619551},\n",
       " 500779: {'baseline': 0.624,\n",
       "  'improvement': -0.0034014084507042464,\n",
       "  'rel_improvement': -0.0090462990710219321},\n",
       " 501925: {'baseline': 0.727,\n",
       "  'improvement': 0.0038781869688385706,\n",
       "  'rel_improvement': 0.014205813072668756},\n",
       " 502042: {'baseline': 0.509,\n",
       "  'improvement': 0.10748745519713265,\n",
       "  'rel_improvement': 0.21891538736686894},\n",
       " 502085: {'baseline': 0.669,\n",
       "  'improvement': 0.025871794871794807,\n",
       "  'rel_improvement': 0.078162522271283411},\n",
       " 502190: {'baseline': 0.696,\n",
       "  'improvement': 0.0027951807228916437,\n",
       "  'rel_improvement': 0.0091946734305646156},\n",
       " 502624: {'baseline': 0.597,\n",
       "  'improvement': -0.00010077519379847466,\n",
       "  'rel_improvement': -0.00025006251562896938},\n",
       " 502706: {'baseline': 0.645,\n",
       "  'improvement': 0.038903860160233061,\n",
       "  'rel_improvement': 0.10958833847952976},\n",
       " 502748: {'baseline': 0.6,\n",
       "  'improvement': 0.065929203539823011,\n",
       "  'rel_improvement': 0.16482300884955753},\n",
       " 506693: {'baseline': 0.661,\n",
       "  'improvement': -2.4390243902439046e-05,\n",
       "  'rel_improvement': -7.1947622131088637e-05},\n",
       " 516769: {'baseline': 0.558,\n",
       "  'improvement': 0.061354838709677395,\n",
       "  'rel_improvement': 0.13881185228433801},\n",
       " 516969: {'baseline': 0.888,\n",
       "  'improvement': 0.0024109589041095836,\n",
       "  'rel_improvement': 0.021526418786692713},\n",
       " 517414: {'baseline': 0.565,\n",
       "  'improvement': 0.065914826498422729,\n",
       "  'rel_improvement': 0.15152833677798327},\n",
       " 518420: {'baseline': 0.504,\n",
       "  'improvement': 0.074454332552693181,\n",
       "  'rel_improvement': 0.15010954143688141},\n",
       " 518716: {'baseline': 0.573,\n",
       "  'improvement': 0.013175115207373356,\n",
       "  'rel_improvement': 0.030855070743263126},\n",
       " 518748: {'baseline': 0.531,\n",
       "  'improvement': 0.010114058355437661,\n",
       "  'rel_improvement': 0.021565156408182646},\n",
       " 518886: {'baseline': 0.7,\n",
       "  'improvement': 0.011111111111111183,\n",
       "  'rel_improvement': 0.037037037037037271},\n",
       " 519141: {'baseline': 0.641,\n",
       "  'improvement': 0.004038167938931303,\n",
       "  'rel_improvement': 0.011248378659975775},\n",
       " 521230: {'baseline': 0.678,\n",
       "  'improvement': 0.00021782178217821802,\n",
       "  'rel_improvement': 0.00067646516204415545},\n",
       " 523260: {'baseline': 0.727,\n",
       "  'improvement': 0.0024751009421265513,\n",
       "  'rel_improvement': 0.0090663038173133745},\n",
       " 533167: {'baseline': 0.568,\n",
       "  'improvement': 0.060647214854111509,\n",
       "  'rel_improvement': 0.1403870714215544},\n",
       " 542960: {'baseline': 0.863,\n",
       "  'improvement': -0.00040458015267175185,\n",
       "  'rel_improvement': -0.0029531398005237359},\n",
       " 543243: {'baseline': 0.639,\n",
       "  'improvement': 0.051140845070422492,\n",
       "  'rel_improvement': 0.1416643907767936},\n",
       " 543331: {'baseline': 0.716,\n",
       "  'improvement': -0.00012256267409471722,\n",
       "  'rel_improvement': -0.00043155871160111692},\n",
       " 543339: {'baseline': 0.619,\n",
       "  'improvement': 0.0032865412445730602,\n",
       "  'rel_improvement': 0.0086260925054411023},\n",
       " 543408: {'baseline': 0.569,\n",
       "  'improvement': 0.071161725067385495,\n",
       "  'rel_improvement': 0.16510841082920066},\n",
       " 543548: {'baseline': 0.658,\n",
       "  'improvement': 0.0019576271186440009,\n",
       "  'rel_improvement': 0.0057240559024678396},\n",
       " 544931: {'baseline': 0.644,\n",
       "  'improvement': 0.017220980223559779,\n",
       "  'rel_improvement': 0.048373539953819607},\n",
       " 545404: {'baseline': 0.59,\n",
       "  'improvement': 0.020687022900763408,\n",
       "  'rel_improvement': 0.050456153416496112},\n",
       " 547874: {'baseline': 0.792,\n",
       "  'improvement': 0.0013579335793357794,\n",
       "  'rel_improvement': 0.0065285268237297101},\n",
       " 571578: {'baseline': 0.696,\n",
       "  'improvement': 0.040648250460405211,\n",
       "  'rel_improvement': 0.13371135019870134},\n",
       " 572971: {'baseline': 0.69,\n",
       "  'improvement': 0.035448785638859559,\n",
       "  'rel_improvement': 0.11435092141567597},\n",
       " 573064: {'baseline': 0.551,\n",
       "  'improvement': 0.024178997613365061,\n",
       "  'rel_improvement': 0.053850774194576977},\n",
       " 573109: {'baseline': 0.5,\n",
       "  'improvement': 0.16568047337278102,\n",
       "  'rel_improvement': 0.33136094674556205},\n",
       " 593372: {'baseline': 0.611,\n",
       "  'improvement': 0.070623931623931657,\n",
       "  'rel_improvement': 0.18155252345483716},\n",
       " 606273: {'baseline': 0.573,\n",
       "  'improvement': 0.094431192660550556,\n",
       "  'rel_improvement': 0.22115033409964999},\n",
       " 608379: {'baseline': 0.774,\n",
       "  'improvement': -0.00038146167557939759,\n",
       "  'rel_improvement': -0.0016878835202628214},\n",
       " 612672: {'baseline': 0.661,\n",
       "  'improvement': 0.0028418079096045323,\n",
       "  'rel_improvement': 0.0083829141876239893}}"
      ]
     },
     "execution_count": 27,
     "metadata": {},
     "output_type": "execute_result"
    }
   ],
   "source": [
    "accuracies"
   ]
  },
  {
   "cell_type": "code",
   "execution_count": 3,
   "metadata": {
    "collapsed": true
   },
   "outputs": [],
   "source": [
    "import pickle\n",
    "def serialize_pitcher(pitcher_class, fp):\n",
    "    with open(fp, 'wb') as f:\n",
    "        pickle.dump(pitcher_class, f)"
   ]
  },
  {
   "cell_type": "code",
   "execution_count": 4,
   "metadata": {
    "collapsed": true
   },
   "outputs": [],
   "source": [
    "def load_pitcher(fp):\n",
    "    with open(fp, 'rb') as f:\n",
    "        pitcher = pickle.load(f)\n",
    "    return pitcher"
   ]
  },
  {
   "cell_type": "markdown",
   "metadata": {
    "collapsed": true
   },
   "source": [
    "## Getting 10 random pitchers' data for testing on plane"
   ]
  },
  {
   "cell_type": "code",
   "execution_count": null,
   "metadata": {
    "collapsed": false
   },
   "outputs": [],
   "source": [
    "accuracies = {}\n",
    "errors = []\n",
    "pitcher_dict = {}\n",
    "for pitcher in pitcher_list:\n",
    "    \n",
    "    try:\n",
    "        print 'starting pitcher:', pitcher\n",
    "        test = Pitcher(pitcher_id = pitcher, redshift_cursor = cur)\n",
    "        #test.subset_data_by_date(max_date = '2014-01-01')\n",
    "        print test.pitch_type_by_year()\n",
    "        test.split_test_train()\n",
    "        print 'baseline acc:', test.baseline_accuracy\n",
    "        #test.run_classifiers()\n",
    "        #accuracies[pitcher] = {}\n",
    "        #accuracies[pitcher]['improvement'] = test.acc_over_most_common\n",
    "        #accuracies[pitcher]['rel_improvement'] = test.acc_over_most_common / (1 - test.baseline_accuracy)\n",
    "        #accuracies[pitcher]['baseline'] = test.baseline_accuracy\n",
    "\n",
    "        pitcher_dict[pitcher] = test\n",
    "        \n",
    "    except:\n",
    "        print 'something went wrong with', pitcher\n",
    "        \n",
    "#    except:\n",
    "#        print \"something went wrong with\", pitcher\n",
    "#        errors.append(pitcher)"
   ]
  },
  {
   "cell_type": "markdown",
   "metadata": {},
   "source": [
    "### Serialize the randomly sampled pitcher dictionary"
   ]
  },
  {
   "cell_type": "code",
   "execution_count": null,
   "metadata": {
    "collapsed": true
   },
   "outputs": [],
   "source": [
    "import pickle\n",
    "with open(fp, 'wb') as f:\n",
    "        pickle.dump(pitcher_class, f)"
   ]
  },
  {
   "cell_type": "markdown",
   "metadata": {
    "collapsed": true
   },
   "source": [
    "## Testing Model Calibration "
   ]
  },
  {
   "cell_type": "markdown",
   "metadata": {},
   "source": [
    "##Class Re-weighting "
   ]
  },
  {
   "cell_type": "code",
   "execution_count": null,
   "metadata": {
    "collapsed": true
   },
   "outputs": [],
   "source": []
  }
 ],
 "metadata": {
  "kernelspec": {
   "display_name": "Python 2",
   "language": "python",
   "name": "python2"
  },
  "language_info": {
   "codemirror_mode": {
    "name": "ipython",
    "version": 2
   },
   "file_extension": ".py",
   "mimetype": "text/x-python",
   "name": "python",
   "nbconvert_exporter": "python",
   "pygments_lexer": "ipython2",
   "version": "2.7.7"
  }
 },
 "nbformat": 4,
 "nbformat_minor": 0
}
