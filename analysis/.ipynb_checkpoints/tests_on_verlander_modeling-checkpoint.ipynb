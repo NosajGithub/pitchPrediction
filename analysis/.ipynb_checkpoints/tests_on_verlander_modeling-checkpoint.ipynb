{
 "cells": [
  {
   "cell_type": "code",
   "execution_count": 2,
   "metadata": {
    "collapsed": false
   },
   "outputs": [],
   "source": [
    "import psycopg2\n",
    "import sys  \n",
    "sys.path.append('..')\n",
    "\n",
    "import numpy as np\n",
    "import pandas as pd\n",
    "\n",
    "from scipy.stats import randint as sp_randint\n",
    "\n",
    "from config import REDSHIFT_CONFIG\n",
    "from src.features import *\n",
    "from src.utils import *\n",
    "from src.validation import *\n",
    "\n",
    "from sklearn.ensemble import RandomForestClassifier\n",
    "from sklearn.grid_search import RandomizedSearchCV\n",
    "from sklearn.metrics import accuracy_score\n",
    "from sklearn.metrics import classification_report\n",
    "from sklearn.metrics import confusion_matrix\n",
    "from sklearn import svm"
   ]
  },
  {
   "cell_type": "code",
   "execution_count": 3,
   "metadata": {
    "collapsed": true
   },
   "outputs": [],
   "source": [
    "# reload(sys)\n",
    "# sys.setdefaultencoding('utf8')\n",
    "\n",
    "from src.exploration import *\n",
    "\n",
    "# Establish a connection to the redshift database\n",
    "conn = create_rs_conn(config=REDSHIFT_CONFIG)\n",
    "cur = conn.cursor()"
   ]
  },
  {
   "cell_type": "code",
   "execution_count": 5,
   "metadata": {
    "collapsed": false
   },
   "outputs": [
    {
     "name": "stdout",
     "output_type": "stream",
     "text": [
      "145 rows didn't contain pitch metadata and were removed\n",
      "229 rows contained at least 1 NaN and were dropped\n",
      "0.558\n",
      "0.56\n"
     ]
    }
   ],
   "source": [
    "verlander_df = get_pitcher_df_for_modeling(cur, pitcher_id = 434378, date_subsetting = False, table = 'all_pitch_data_reclass')\n",
    "modeling_data = split_test_train(verlander_df, '2012-06-01')\n",
    "\n",
    "#get the accuracy for using baseline features and initialize the record_keeping dictionary\n",
    "classifier = svm.LinearSVC(C=1.0, penalty='l1', dual=False, random_state=35)\n",
    "classifier.fit(modeling_data['train_data'], modeling_data['train_targets'])\n",
    "\n",
    "# Make predictions on dev data\n",
    "dev_predictions = classifier.predict(modeling_data['test_data'])\n",
    "\n",
    "# Return the dev performance score.\n",
    "acc = round(accuracy_score(modeling_data['test_targets'], dev_predictions),3)\n",
    "\n",
    "naive = round(sum(modeling_data['test_targets'].values == 'Fastball') / (1.0 * modeling_data['test_targets'].shape[0]),3)\n",
    "\n",
    "print acc \n",
    "print naive"
   ]
  },
  {
   "cell_type": "code",
   "execution_count": 6,
   "metadata": {
    "collapsed": false
   },
   "outputs": [
    {
     "data": {
      "text/plain": [
       "[(100003, 'template1', 'pg_catalog', 'padb_config_harvest'),\n",
       " (100000, 'template1', 'pg_catalog', 'systable_globaldict'),\n",
       " (136415, 'dev', 'public', 'all_pitch_data_reclass'),\n",
       " (136411, 'dev', 'public', 'pt_reclassified_rules_simplified'),\n",
       " (136381, 'dev', 'public', 'pt_reclassified_fa'),\n",
       " (136377, 'dev', 'public', 'pt_reclassified'),\n",
       " (127218, 'dev', 'public', 'hitchart'),\n",
       " (127206, 'dev', 'public', 'game'),\n",
       " (127222, 'dev', 'public', 'player'),\n",
       " (136413, 'dev', 'public', 'pitch_reclass'),\n",
       " (100001, 'template1', 'pg_catalog', 'systable_topology'),\n",
       " (100002, 'template1', 'pg_catalog', 'systable_schema'),\n",
       " (127214, 'dev', 'public', 'pitch'),\n",
       " (127210, 'dev', 'public', 'atbat'),\n",
       " (127202, 'dev', 'public', 'full_pitch_data'),\n",
       " (136409, 'dev', 'public', 'pt_reclassified_rules'),\n",
       " (127346, 'dev', 'public', 'all_pitch_data')]"
      ]
     },
     "execution_count": 6,
     "metadata": {},
     "output_type": "execute_result"
    }
   ],
   "source": [
    "query = '''select distinct(id) table_id\n",
    ",trim(datname)   db_name\n",
    ",trim(nspname)   schema_name\n",
    ",trim(relname)   table_name\n",
    "from stv_tbl_perm\n",
    "join pg_class on pg_class.oid = stv_tbl_perm.id\n",
    "join pg_namespace on pg_namespace.oid = relnamespace\n",
    "join pg_database on pg_database.oid = stv_tbl_perm.db_id;'''\n",
    "\n",
    "cur.execute(query)\n",
    "cur.fetchall()"
   ]
  },
  {
   "cell_type": "code",
   "execution_count": null,
   "metadata": {
    "collapsed": true
   },
   "outputs": [],
   "source": []
  }
 ],
 "metadata": {
  "kernelspec": {
   "display_name": "Python 2",
   "language": "python",
   "name": "python2"
  },
  "language_info": {
   "codemirror_mode": {
    "name": "ipython",
    "version": 2
   },
   "file_extension": ".py",
   "mimetype": "text/x-python",
   "name": "python",
   "nbconvert_exporter": "python",
   "pygments_lexer": "ipython2",
   "version": "2.7.7"
  }
 },
 "nbformat": 4,
 "nbformat_minor": 0
}
