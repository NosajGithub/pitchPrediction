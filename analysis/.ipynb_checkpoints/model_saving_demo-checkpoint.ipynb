{
 "cells": [
  {
   "cell_type": "markdown",
   "metadata": {},
   "source": [
    "#Demonstrating How to Save and Load Models "
   ]
  },
  {
   "cell_type": "markdown",
   "metadata": {},
   "source": [
    "##Load Necessary Libraries "
   ]
  },
  {
   "cell_type": "code",
   "execution_count": 1,
   "metadata": {
    "collapsed": true
   },
   "outputs": [],
   "source": [
    "import psycopg2\n",
    "import sys  \n",
    "sys.path.append('..')\n",
    "\n",
    "import numpy as np\n",
    "import pandas as pd\n",
    "\n",
    "from config import REDSHIFT_CONFIG\n",
    "from src.features import *\n",
    "from src.utils import *\n",
    "from src.validation import *\n",
    "\n",
    "reload(sys)\n",
    "sys.setdefaultencoding('utf8')\n",
    "\n",
    "from src.exploration import *\n",
    "\n",
    "from sklearn.ensemble import RandomForestClassifier\n",
    "from sklearn.metrics import accuracy_score"
   ]
  },
  {
   "cell_type": "markdown",
   "metadata": {},
   "source": [
    "##Connect to Redshift "
   ]
  },
  {
   "cell_type": "code",
   "execution_count": 2,
   "metadata": {
    "collapsed": true
   },
   "outputs": [],
   "source": [
    "# Establish a connection to the redshift database\n",
    "conn = create_rs_conn(config=REDSHIFT_CONFIG)\n",
    "cur = conn.cursor()"
   ]
  },
  {
   "cell_type": "markdown",
   "metadata": {},
   "source": [
    "##Get Data From Verlander and Build a Random Forest "
   ]
  },
  {
   "cell_type": "code",
   "execution_count": 3,
   "metadata": {
    "collapsed": true
   },
   "outputs": [],
   "source": [
    "verlander_df = get_pitcher_df_for_modeling(cur, pitcher_id = 434378)"
   ]
  },
  {
   "cell_type": "code",
   "execution_count": 4,
   "metadata": {
    "collapsed": true
   },
   "outputs": [],
   "source": [
    "modeling_data = split_test_train(verlander_df, '2012-06-01')"
   ]
  },
  {
   "cell_type": "code",
   "execution_count": 5,
   "metadata": {
    "collapsed": true
   },
   "outputs": [],
   "source": [
    "col_subset = [u'b',\n",
    " u's',\n",
    " u'on_1b',\n",
    " u'on_2b',\n",
    " u'on_3b',\n",
    " u'o',\n",
    " u'home_wins',\n",
    " u'home_loss',\n",
    " u'away_wins',\n",
    " u'away_loss',\n",
    " u'stand_L',\n",
    " u'stand_R',\n",
    " u'p_throws_L',\n",
    " u'p_throws_R',\n",
    " u'Not_Fastball_pb_prior',\n",
    " u'Not_Fastball_pbs_prior',\n",
    " u'Fastball_pb_prior',\n",
    " u'Fastball_pbs_prior',\n",
    " u'Not_Fastball_pc_prior',\n",
    " u'Not_Fastball_pcs_prior',\n",
    " u'Fastball_pc_prior',\n",
    " u'Fastball_pcs_prior',\n",
    " u'Not_Fastball_pg_prior',\n",
    " u'Not_Fastball_pgs_prior',\n",
    " u'Fastball_pg_prior',\n",
    " u'Fastball_pgs_prior',\n",
    " u'last_pitch_type_Fastball',\n",
    " u'last_pitch_type_Not_Fastball',\n",
    " u'last_pitch_type_not_available',\n",
    " u'second_last_pitch_type_Fastball',\n",
    " u'second_last_pitch_type_Not_Fastball',\n",
    " u'second_last_pitch_type_not_available',\n",
    " u'third_last_pitch_type_Fastball',\n",
    " u'third_last_pitch_type_Not_Fastball',\n",
    " u'third_last_pitch_type_not_available',\n",
    " u'prev_pitches_mean_start_speed',\n",
    " u'prev_pitches_mean_end_speed',\n",
    " u'prev_pitches_mean_break_y',\n",
    " u'prev_pitches_mean_break_angle',\n",
    " u'prev_pitches_mean_break_length',\n",
    " u'ingame_pitch_count',\n",
    " u'season',\n",
    " u'season_pitch_count']"
   ]
  },
  {
   "cell_type": "code",
   "execution_count": 6,
   "metadata": {
    "collapsed": true
   },
   "outputs": [],
   "source": [
    "#Write function to subset the data to columns of interest\n",
    "def subset_data(modeling_dict, cols_of_interest):\n",
    "    new_dict = modeling_dict.copy()\n",
    "    new_dict['train_data'] = new_dict['train_data'][cols_of_interest]\n",
    "    new_dict['test_data'] = new_dict['test_data'][cols_of_interest]\n",
    "    return new_dict"
   ]
  },
  {
   "cell_type": "code",
   "execution_count": 7,
   "metadata": {
    "collapsed": true
   },
   "outputs": [],
   "source": [
    "modeling_data = subset_data(modeling_data, col_subset)"
   ]
  },
  {
   "cell_type": "code",
   "execution_count": 8,
   "metadata": {
    "collapsed": false
   },
   "outputs": [
    {
     "data": {
      "text/plain": [
       "0.62479021817309999"
      ]
     },
     "execution_count": 8,
     "metadata": {},
     "output_type": "execute_result"
    }
   ],
   "source": [
    "#Create the classifier and get an overall accuracy score for kicks\n",
    "rf = RandomForestClassifier(n_estimators = 50, max_depth = 3, min_samples_leaf = 5, min_samples_split = 5, max_features = None)\n",
    "rf.fit(modeling_data['train_data'], modeling_data['train_targets'])\n",
    "predictions = rf.predict(modeling_data['test_data'])\n",
    "accuracy_score(modeling_data['test_targets'], predictions)"
   ]
  },
  {
   "cell_type": "markdown",
   "metadata": {},
   "source": [
    "##Saving the Model (rf) That We Just Created "
   ]
  },
  {
   "cell_type": "markdown",
   "metadata": {},
   "source": [
    "###The function 'save_model' lives in utils.py. Use ?save_model to see the docstring explaining the how the function (hopefully) works "
   ]
  },
  {
   "cell_type": "code",
   "execution_count": 9,
   "metadata": {
    "collapsed": true
   },
   "outputs": [],
   "source": [
    "?save_model"
   ]
  },
  {
   "cell_type": "markdown",
   "metadata": {
    "collapsed": true
   },
   "source": [
    "### The following will save the model 'rf' to the folder 'models/rf_test' and write a log of the event to 'models/record_keeping.csv'"
   ]
  },
  {
   "cell_type": "code",
   "execution_count": 10,
   "metadata": {
    "collapsed": true
   },
   "outputs": [],
   "source": [
    "save_model(model = rf, model_name = 'rf_test')"
   ]
  },
  {
   "cell_type": "markdown",
   "metadata": {},
   "source": [
    "##Loading a Model Back Into Your Environment "
   ]
  },
  {
   "cell_type": "markdown",
   "metadata": {},
   "source": [
    "###I'm going to demonstrate two ways to load the model back into your environment. The first uses a simple function that I wrote to search the \"record_keeping.csv\" file for the model name. The second demonstrates how to load a model if you know the name of the serialized filename."
   ]
  },
  {
   "cell_type": "markdown",
   "metadata": {},
   "source": [
    "Method 1: Using the record_keeping.csv to load the model by it's name (rf_test)"
   ]
  },
  {
   "cell_type": "code",
   "execution_count": 11,
   "metadata": {
    "collapsed": true
   },
   "outputs": [],
   "source": [
    "#check out the docstring\n",
    "?load_model"
   ]
  },
  {
   "cell_type": "code",
   "execution_count": 12,
   "metadata": {
    "collapsed": true
   },
   "outputs": [],
   "source": [
    "#load the model\n",
    "rf_test = load_model('rf_test')"
   ]
  },
  {
   "cell_type": "code",
   "execution_count": 13,
   "metadata": {
    "collapsed": false
   },
   "outputs": [
    {
     "data": {
      "text/plain": [
       "True"
      ]
     },
     "execution_count": 13,
     "metadata": {},
     "output_type": "execute_result"
    }
   ],
   "source": [
    "#Demonstrating that the original and saved models are identical (or at least make the same predictions)\n",
    "all(rf_test.predict(modeling_data['test_data']) == rf.predict(modeling_data['test_data']))"
   ]
  },
  {
   "cell_type": "markdown",
   "metadata": {},
   "source": [
    "Method 2: Knowing your model's pickled filename (in this case 'models/rf_test/rf_test.pickle'"
   ]
  },
  {
   "cell_type": "code",
   "execution_count": 14,
   "metadata": {
    "collapsed": true
   },
   "outputs": [],
   "source": [
    "#import the method needed to de-serialize a model\n",
    "from sklearn.externals import joblib\n",
    "\n",
    "#Load the model, back but with a different name\n",
    "rf_test2 = joblib.load('models/rf_test/rf_test.pickle')"
   ]
  },
  {
   "cell_type": "code",
   "execution_count": 15,
   "metadata": {
    "collapsed": false
   },
   "outputs": [
    {
     "data": {
      "text/plain": [
       "True"
      ]
     },
     "execution_count": 15,
     "metadata": {},
     "output_type": "execute_result"
    }
   ],
   "source": [
    "#Demonstrating that the original and saved models are identical (or at least make the same predictions)\n",
    "all(rf_test2.predict(modeling_data['test_data']) == rf.predict(modeling_data['test_data']))"
   ]
  },
  {
   "cell_type": "code",
   "execution_count": null,
   "metadata": {
    "collapsed": true
   },
   "outputs": [],
   "source": []
  }
 ],
 "metadata": {
  "kernelspec": {
   "display_name": "Python 2",
   "language": "python",
   "name": "python2"
  },
  "language_info": {
   "codemirror_mode": {
    "name": "ipython",
    "version": 2
   },
   "file_extension": ".py",
   "mimetype": "text/x-python",
   "name": "python",
   "nbconvert_exporter": "python",
   "pygments_lexer": "ipython2",
   "version": "2.7.7"
  }
 },
 "nbformat": 4,
 "nbformat_minor": 0
}
