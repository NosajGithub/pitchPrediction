{
 "cells": [
  {
   "cell_type": "markdown",
   "metadata": {},
   "source": [
    "# Accuracy across Randomly Sampled Pitchers "
   ]
  },
  {
   "cell_type": "code",
   "execution_count": 1,
   "metadata": {
    "collapsed": true
   },
   "outputs": [],
   "source": [
    "#Import necessary packages\n",
    "import psycopg2\n",
    "import sys  \n",
    "sys.path.append('..')\n",
    "\n",
    "import numpy as np\n",
    "import pandas as pd\n",
    "\n",
    "from config import REDSHIFT_CONFIG\n",
    "from src.features import *\n",
    "from src.utils import *\n",
    "from src.validation import *\n",
    "\n",
    "reload(sys)\n",
    "sys.setdefaultencoding('utf8')\n",
    "\n",
    "from src.exploration import *"
   ]
  },
  {
   "cell_type": "code",
   "execution_count": 11,
   "metadata": {
    "collapsed": true
   },
   "outputs": [],
   "source": [
    "# Establish a connection to the redshift database\n",
    "conn = create_rs_conn(config=REDSHIFT_CONFIG)\n",
    "cur = conn.cursor()"
   ]
  },
  {
   "cell_type": "code",
   "execution_count": 3,
   "metadata": {
    "collapsed": true
   },
   "outputs": [],
   "source": [
    "#Increase the number of columns displayed with Pandas\n",
    "pd.set_option('display.max_columns', 500)"
   ]
  },
  {
   "cell_type": "code",
   "execution_count": 12,
   "metadata": {
    "collapsed": false
   },
   "outputs": [
    {
     "data": {
      "text/html": [
       "<div>\n",
       "<table border=\"1\" class=\"dataframe\">\n",
       "  <thead>\n",
       "    <tr style=\"text-align: right;\">\n",
       "      <th></th>\n",
       "      <th>pitcher</th>\n",
       "      <th>tot_pitch_count</th>\n",
       "      <th>maximum_date</th>\n",
       "    </tr>\n",
       "  </thead>\n",
       "  <tbody>\n",
       "    <tr>\n",
       "      <th>103</th>\n",
       "      <td>448178</td>\n",
       "      <td>5534</td>\n",
       "      <td>2015-07-21</td>\n",
       "    </tr>\n",
       "    <tr>\n",
       "      <th>108</th>\n",
       "      <td>448802</td>\n",
       "      <td>10166</td>\n",
       "      <td>2015-06-24</td>\n",
       "    </tr>\n",
       "    <tr>\n",
       "      <th>207</th>\n",
       "      <td>476451</td>\n",
       "      <td>12380</td>\n",
       "      <td>2015-07-21</td>\n",
       "    </tr>\n",
       "    <tr>\n",
       "      <th>214</th>\n",
       "      <td>477569</td>\n",
       "      <td>4988</td>\n",
       "      <td>2015-07-21</td>\n",
       "    </tr>\n",
       "    <tr>\n",
       "      <th>283</th>\n",
       "      <td>518875</td>\n",
       "      <td>4450</td>\n",
       "      <td>2015-07-21</td>\n",
       "    </tr>\n",
       "    <tr>\n",
       "      <th>284</th>\n",
       "      <td>518886</td>\n",
       "      <td>5416</td>\n",
       "      <td>2015-07-20</td>\n",
       "    </tr>\n",
       "    <tr>\n",
       "      <th>286</th>\n",
       "      <td>519043</td>\n",
       "      <td>6601</td>\n",
       "      <td>2015-07-20</td>\n",
       "    </tr>\n",
       "    <tr>\n",
       "      <th>327</th>\n",
       "      <td>543548</td>\n",
       "      <td>9212</td>\n",
       "      <td>2015-07-19</td>\n",
       "    </tr>\n",
       "    <tr>\n",
       "      <th>352</th>\n",
       "      <td>571901</td>\n",
       "      <td>3108</td>\n",
       "      <td>2015-07-18</td>\n",
       "    </tr>\n",
       "    <tr>\n",
       "      <th>365</th>\n",
       "      <td>592767</td>\n",
       "      <td>6018</td>\n",
       "      <td>2015-05-05</td>\n",
       "    </tr>\n",
       "  </tbody>\n",
       "</table>\n",
       "</div>"
      ],
      "text/plain": [
       "     pitcher  tot_pitch_count maximum_date\n",
       "103   448178             5534   2015-07-21\n",
       "108   448802            10166   2015-06-24\n",
       "207   476451            12380   2015-07-21\n",
       "214   477569             4988   2015-07-21\n",
       "283   518875             4450   2015-07-21\n",
       "284   518886             5416   2015-07-20\n",
       "286   519043             6601   2015-07-20\n",
       "327   543548             9212   2015-07-19\n",
       "352   571901             3108   2015-07-18\n",
       "365   592767             6018   2015-05-05"
      ]
     },
     "execution_count": 12,
     "metadata": {},
     "output_type": "execute_result"
    }
   ],
   "source": [
    "#Get a random sample of 20 pitchers. NOTE: you might want to return less pitchers to make the code\n",
    "#run faster\n",
    "pitcher_sample = randomly_sample_pitchers2(cursor = cur, \n",
    "                                           num_pitchers = 10, \n",
    "                                           min_pitch_count = 2000, \n",
    "                                           min_date = '2015-01-01', \n",
    "                                           seed_num = 35)\n",
    "#Show the results\n",
    "pitcher_sample"
   ]
  },
  {
   "cell_type": "code",
   "execution_count": 13,
   "metadata": {
    "collapsed": true
   },
   "outputs": [],
   "source": [
    "#Grab the pitcher IDs from the dataframe above\n",
    "pitcher_list = pitcher_sample['pitcher'].values"
   ]
  },
  {
   "cell_type": "code",
   "execution_count": 14,
   "metadata": {
    "collapsed": true
   },
   "outputs": [],
   "source": [
    "# Create a list of the columns that we're interested in using as features\n",
    "cols_of_interest = ([u'b', u's', u'on_1b', u'on_2b', u'on_3b', u'o',\n",
    "                     u'home_wins',u'home_loss', u'away_wins', u'away_loss',\n",
    "                     u'stand_L', u'Not_Fastball_pb_prior', u'Not_Fastball_pbs_prior', \n",
    "                     u'Fastball_pb_prior', u'Fastball_pbs_prior', u'Not_Fastball_pc_prior', \n",
    "                     u'Not_Fastball_pcs_prior', u'Fastball_pc_prior', u'Fastball_pcs_prior', \n",
    "                     u'Not_Fastball_pg_prior', u'Not_Fastball_pgs_prior', \n",
    "                     u'Fastball_pg_prior', u'Fastball_pgs_prior', u'last_pitch_type_Fastball', \n",
    "                     u'last_pitch_type_Not_Fastball',u'last_pitch_type_not_available', \n",
    "                     u'second_last_pitch_type_Fastball',u'second_last_pitch_type_Not_Fastball',\n",
    "                     u'second_last_pitch_type_not_available', u'third_last_pitch_type_Fastball',\n",
    "                     u'third_last_pitch_type_Not_Fastball', u'third_last_pitch_type_not_available', \n",
    "                     u'prev_pitches_mean_start_speed', u'prev_pitches_mean_end_speed',\n",
    "                     u'prev_pitches_mean_break_y', u'prev_pitches_mean_break_angle',\n",
    "                     u'prev_pitches_mean_break_length', u'ingame_pitch_count', u'cur_season', u'season_pitch_count'])"
   ]
  },
  {
   "cell_type": "code",
   "execution_count": 15,
   "metadata": {
    "collapsed": true
   },
   "outputs": [],
   "source": [
    "#Initialize a dictionary to store the results\n",
    "results_dict = {}\n",
    "\n",
    "#Loop through all the pitchers, run the classifiers on them and return the baseline and a classifier accuracies\n",
    "for pitcher in pitcher_list:\n",
    "    \n",
    "    \n",
    "    print 'starting pitcher', pitcher, '\\n'\n",
    "    \n",
    "    #using exception handling in case redshift times out\n",
    "    try:\n",
    "        #Grab all the pitch data for the pitcher\n",
    "        pitcher_df = get_pitcher_df_for_modeling(cur,\n",
    "                                                 pitcher_id = pitcher,\n",
    "                                                 date_subsetting = False)\n",
    "    except:\n",
    "        # Re-establish a connection to redshift\n",
    "        conn = create_rs_conn(config=REDSHIFT_CONFIG)\n",
    "        cur = conn.cursor()\n",
    "\n",
    "        #Retry on the pitchers\n",
    "        pitcher_df = get_pitcher_df_for_modeling(cur, \n",
    "                                pitcher_id = pitcher, \n",
    "                                date_subsetting = False)\n",
    "\n",
    "    #Create a 90-10 split by date on the pitch data\n",
    "    subset_date = str(pitcher_df['date'].quantile(.9))[:10]\n",
    "    modeling_data = split_test_train(pitcher_df, subset_date)\n",
    "\n",
    "    #Subset the dataframe down to the columns of interest\n",
    "    baseline_dict = subset_data(modeling_data, cols_of_interest)\n",
    "    \n",
    "    #Run 4 classifiers on the data (returns dictionary containing all fitted classifiers)\n",
    "    classifier_dict = run_all_classifiers(baseline_dict)\n",
    "    \n",
    "    #Grab predictions for each classifier\n",
    "    rf_preds = classifier_dict['rf'].predict(baseline_dict['test_data'])\n",
    "    gbm_preds = classifier_dict['gbm'].predict(baseline_dict['test_data'])\n",
    "    log_reg_preds = classifier_dict['log_reg'].predict(baseline_dict['test_data'])\n",
    "    lin_svc_preds = classifier_dict['lin_svc'].predict(baseline_dict['test_data'])\n",
    "    \n",
    "    #Create an insert in the results dictionary for the pitcher and store the accuracy results\n",
    "    results_dict[pitcher] = {}\n",
    "    results_dict[pitcher]['baseline_acc'] = naive_accuracy(baseline_dict)\n",
    "    results_dict[pitcher]['rf_improve_over_baseline'] = accuracy_score(baseline_dict['test_targets'], rf_preds) - naive_accuracy(baseline_dict)\n",
    "    results_dict[pitcher]['rf_acc'] = accuracy_score(baseline_dict['test_targets'], rf_preds)\n",
    "    results_dict[pitcher]['gbm_acc'] = accuracy_score(baseline_dict['test_targets'], gbm_preds)\n",
    "    results_dict[pitcher]['log_reg_acc'] = accuracy_score(baseline_dict['test_targets'], log_reg_preds)\n",
    "    results_dict[pitcher]['lin_svc_acc'] = accuracy_score(baseline_dict['test_targets'], lin_svc_preds)"
   ]
  },
  {
   "cell_type": "code",
   "execution_count": 16,
   "metadata": {
    "collapsed": false
   },
   "outputs": [
    {
     "data": {
      "text/plain": [
       "{448178: {'baseline_acc': 0.677,\n",
       "  'gbm_acc': 0.70848056537102477,\n",
       "  'lin_svc_acc': 0.71554770318021199,\n",
       "  'log_reg_acc': 0.70671378091872794,\n",
       "  'rf_acc': 0.70141342756183744,\n",
       "  'rf_improve_over_baseline': 0.024413427561837397},\n",
       " 448802: {'baseline_acc': 0.592,\n",
       "  'gbm_acc': 0.68380213385063049,\n",
       "  'lin_svc_acc': 0.67216294859359849,\n",
       "  'log_reg_acc': 0.66828322017458774,\n",
       "  'rf_acc': 0.67895247332686715,\n",
       "  'rf_improve_over_baseline': 0.086952473326867175},\n",
       " 476451: {'baseline_acc': 0.573,\n",
       "  'gbm_acc': 0.61386138613861385,\n",
       "  'lin_svc_acc': 0.62604722010662606,\n",
       "  'log_reg_acc': 0.61614623000761615,\n",
       "  'rf_acc': 0.6100533130236101,\n",
       "  'rf_improve_over_baseline': 0.037053313023610146},\n",
       " 477569: {'baseline_acc': 0.533,\n",
       "  'gbm_acc': 0.50853889943074004,\n",
       "  'lin_svc_acc': 0.51992409867172673,\n",
       "  'log_reg_acc': 0.56166982922201136,\n",
       "  'rf_acc': 0.50474383301707781,\n",
       "  'rf_improve_over_baseline': -0.028256166982922215},\n",
       " 518875: {'baseline_acc': 0.518,\n",
       "  'gbm_acc': 0.56415929203539827,\n",
       "  'lin_svc_acc': 0.58185840707964598,\n",
       "  'log_reg_acc': 0.58185840707964598,\n",
       "  'rf_acc': 0.58628318584070793,\n",
       "  'rf_improve_over_baseline': 0.068283185840707916},\n",
       " 518886: {'baseline_acc': 0.7,\n",
       "  'gbm_acc': 0.687037037037037,\n",
       "  'lin_svc_acc': 0.69999999999999996,\n",
       "  'log_reg_acc': 0.70925925925925926,\n",
       "  'rf_acc': 0.69999999999999996,\n",
       "  'rf_improve_over_baseline': 0.0},\n",
       " 519043: {'baseline_acc': 0.678,\n",
       "  'gbm_acc': 0.67828418230563003,\n",
       "  'lin_svc_acc': 0.66890080428954424,\n",
       "  'log_reg_acc': 0.67158176943699732,\n",
       "  'rf_acc': 0.66353887399463807,\n",
       "  'rf_improve_over_baseline': -0.014461126005361979},\n",
       " 543548: {'baseline_acc': 0.658,\n",
       "  'gbm_acc': 0.6652542372881356,\n",
       "  'lin_svc_acc': 0.65572033898305082,\n",
       "  'log_reg_acc': 0.65572033898305082,\n",
       "  'rf_acc': 0.65783898305084743,\n",
       "  'rf_improve_over_baseline': -0.00016101694915260367},\n",
       " 571901: {'baseline_acc': 0.635,\n",
       "  'gbm_acc': 0.6132075471698113,\n",
       "  'lin_svc_acc': 0.61949685534591192,\n",
       "  'log_reg_acc': 0.62578616352201255,\n",
       "  'rf_acc': 0.63522012578616349,\n",
       "  'rf_improve_over_baseline': 0.00022012578616348311},\n",
       " 592767: {'baseline_acc': 0.612,\n",
       "  'gbm_acc': 0.57165109034267914,\n",
       "  'lin_svc_acc': 0.58878504672897192,\n",
       "  'log_reg_acc': 0.59968847352024923,\n",
       "  'rf_acc': 0.61214953271028039,\n",
       "  'rf_improve_over_baseline': 0.00014953271028039783}}"
      ]
     },
     "execution_count": 16,
     "metadata": {},
     "output_type": "execute_result"
    }
   ],
   "source": [
    "results_dict"
   ]
  },
  {
   "cell_type": "code",
   "execution_count": 17,
   "metadata": {
    "collapsed": true
   },
   "outputs": [],
   "source": [
    "#Initialize a dictionary to store the results\n",
    "results_dict2 = {}\n",
    "\n",
    "#Loop through all the pitchers, run the classifiers on them and return the baseline and a classifier accuracies\n",
    "for pitcher in pitcher_list:\n",
    "    \n",
    "    \n",
    "    print 'starting pitcher', pitcher, '\\n'\n",
    "    \n",
    "    #using exception handling in case redshift times out\n",
    "    try:\n",
    "        #Grab all the pitch data for the pitcher\n",
    "        pitcher_df = get_pitcher_df_for_modeling(cur,\n",
    "                                                 pitcher_id = pitcher,\n",
    "                                                 date_subsetting = False)\n",
    "    except:\n",
    "        # Re-establish a connection to redshift\n",
    "        conn = create_rs_conn(config=REDSHIFT_CONFIG)\n",
    "        cur = conn.cursor()\n",
    "\n",
    "        #Retry on the pitchers\n",
    "        pitcher_df = get_pitcher_df_for_modeling(cur, \n",
    "                                pitcher_id = pitcher, \n",
    "                                date_subsetting = False)\n",
    "\n",
    "    #Create a 90-10 split by date on the pitch data\n",
    "    subset_date = str(pitcher_df['date'].quantile(.9))[:10]\n",
    "    modeling_data = split_test_train(pitcher_df, subset_date)\n",
    "\n",
    "    #Subset the dataframe down to the columns of interest\n",
    "    baseline_dict = modeling_data\n",
    "    \n",
    "    #Run 4 classifiers on the data (returns dictionary containing all fitted classifiers)\n",
    "    classifier_dict = run_all_classifiers(baseline_dict)\n",
    "    \n",
    "    #Grab predictions for each classifier\n",
    "    rf_preds = classifier_dict['rf'].predict(baseline_dict['test_data'])\n",
    "    gbm_preds = classifier_dict['gbm'].predict(baseline_dict['test_data'])\n",
    "    log_reg_preds = classifier_dict['log_reg'].predict(baseline_dict['test_data'])\n",
    "    lin_svc_preds = classifier_dict['lin_svc'].predict(baseline_dict['test_data'])\n",
    "    \n",
    "    #Create an insert in the results dictionary for the pitcher and store the accuracy results\n",
    "    results_dict2[pitcher] = {}\n",
    "    results_dict2[pitcher]['baseline_acc'] = naive_accuracy(baseline_dict)\n",
    "    results_dict2[pitcher]['rf_improve_over_baseline'] = accuracy_score(baseline_dict['test_targets'], rf_preds) - naive_accuracy(baseline_dict)\n",
    "    results_dict2[pitcher]['rf_acc'] = accuracy_score(baseline_dict['test_targets'], rf_preds)\n",
    "    results_dict2[pitcher]['gbm_acc'] = accuracy_score(baseline_dict['test_targets'], gbm_preds)\n",
    "    results_dict2[pitcher]['log_reg_acc'] = accuracy_score(baseline_dict['test_targets'], log_reg_preds)\n",
    "    results_dict2[pitcher]['lin_svc_acc'] = accuracy_score(baseline_dict['test_targets'], lin_svc_preds)"
   ]
  },
  {
   "cell_type": "code",
   "execution_count": 18,
   "metadata": {
    "collapsed": false
   },
   "outputs": [
    {
     "data": {
      "text/plain": [
       "{448178: {'baseline_acc': 0.677,\n",
       "  'gbm_acc': 0.6872791519434629,\n",
       "  'lin_svc_acc': 0.71908127208480566,\n",
       "  'log_reg_acc': 0.70494699646643111,\n",
       "  'rf_acc': 0.69964664310954061,\n",
       "  'rf_improve_over_baseline': 0.022646643109540565},\n",
       " 448802: {'baseline_acc': 0.592,\n",
       "  'gbm_acc': 0.67895247332686715,\n",
       "  'lin_svc_acc': 0.66925315227934046,\n",
       "  'log_reg_acc': 0.67701260911736183,\n",
       "  'rf_acc': 0.68186226964112517,\n",
       "  'rf_improve_over_baseline': 0.089862269641125203},\n",
       " 476451: {'baseline_acc': 0.573,\n",
       "  'gbm_acc': 0.61462300076161458,\n",
       "  'lin_svc_acc': 0.60091393754760092,\n",
       "  'log_reg_acc': 0.60700685453160697,\n",
       "  'rf_acc': 0.60700685453160697,\n",
       "  'rf_improve_over_baseline': 0.034006854531607011},\n",
       " 477569: {'baseline_acc': 0.533,\n",
       "  'gbm_acc': 0.52371916508538896,\n",
       "  'lin_svc_acc': 0.5161290322580645,\n",
       "  'log_reg_acc': 0.5597722960151803,\n",
       "  'rf_acc': 0.55787476280834913,\n",
       "  'rf_improve_over_baseline': 0.024874762808349105},\n",
       " 518875: {'baseline_acc': 0.518,\n",
       "  'gbm_acc': 0.56858407079646023,\n",
       "  'lin_svc_acc': 0.59070796460176989,\n",
       "  'log_reg_acc': 0.60398230088495575,\n",
       "  'rf_acc': 0.58185840707964598,\n",
       "  'rf_improve_over_baseline': 0.063858407079645962},\n",
       " 518886: {'baseline_acc': 0.7,\n",
       "  'gbm_acc': 0.69444444444444442,\n",
       "  'lin_svc_acc': 0.7055555555555556,\n",
       "  'log_reg_acc': 0.71111111111111114,\n",
       "  'rf_acc': 0.69999999999999996,\n",
       "  'rf_improve_over_baseline': 0.0},\n",
       " 519043: {'baseline_acc': 0.678,\n",
       "  'gbm_acc': 0.6836461126005362,\n",
       "  'lin_svc_acc': 0.65549597855227881,\n",
       "  'log_reg_acc': 0.6581769436997319,\n",
       "  'rf_acc': 0.67024128686327078,\n",
       "  'rf_improve_over_baseline': -0.0077587131367292672},\n",
       " 543548: {'baseline_acc': 0.658,\n",
       "  'gbm_acc': 0.65360169491525422,\n",
       "  'lin_svc_acc': 0.65677966101694918,\n",
       "  'log_reg_acc': 0.65360169491525422,\n",
       "  'rf_acc': 0.65783898305084743,\n",
       "  'rf_improve_over_baseline': -0.00016101694915260367},\n",
       " 571901: {'baseline_acc': 0.635,\n",
       "  'gbm_acc': 0.62578616352201255,\n",
       "  'lin_svc_acc': 0.63207547169811318,\n",
       "  'log_reg_acc': 0.62578616352201255,\n",
       "  'rf_acc': 0.63522012578616349,\n",
       "  'rf_improve_over_baseline': 0.00022012578616348311},\n",
       " 592767: {'baseline_acc': 0.612,\n",
       "  'gbm_acc': 0.59968847352024923,\n",
       "  'lin_svc_acc': 0.59501557632398749,\n",
       "  'log_reg_acc': 0.60124610591900307,\n",
       "  'rf_acc': 0.61214953271028039,\n",
       "  'rf_improve_over_baseline': 0.00014953271028039783}}"
      ]
     },
     "execution_count": 18,
     "metadata": {},
     "output_type": "execute_result"
    }
   ],
   "source": [
    "results_dict2"
   ]
  },
  {
   "cell_type": "code",
   "execution_count": null,
   "metadata": {
    "collapsed": true
   },
   "outputs": [],
   "source": []
  }
 ],
 "metadata": {
  "kernelspec": {
   "display_name": "Python 2",
   "language": "python",
   "name": "python2"
  },
  "language_info": {
   "codemirror_mode": {
    "name": "ipython",
    "version": 2
   },
   "file_extension": ".py",
   "mimetype": "text/x-python",
   "name": "python",
   "nbconvert_exporter": "python",
   "pygments_lexer": "ipython2",
   "version": "2.7.7"
  }
 },
 "nbformat": 4,
 "nbformat_minor": 0
}
