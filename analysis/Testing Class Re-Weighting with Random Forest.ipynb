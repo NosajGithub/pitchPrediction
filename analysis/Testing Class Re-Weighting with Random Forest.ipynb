{
 "cells": [
  {
   "cell_type": "code",
   "execution_count": 1,
   "metadata": {
    "collapsed": true
   },
   "outputs": [],
   "source": [
    "#Import necessary packages\n",
    "import psycopg2\n",
    "import sys  \n",
    "sys.path.append('..')\n",
    "\n",
    "import numpy as np\n",
    "import pandas as pd\n",
    "\n",
    "from config import REDSHIFT_CONFIG\n",
    "from src.features import *\n",
    "from src.utils import *\n",
    "from src.validation import *\n",
    "\n",
    "reload(sys)\n",
    "sys.setdefaultencoding('utf8')\n",
    "\n",
    "from src.exploration import *"
   ]
  },
  {
   "cell_type": "code",
   "execution_count": 2,
   "metadata": {
    "collapsed": false
   },
   "outputs": [],
   "source": [
    "# Establish a connection to the redshift database\n",
    "conn = create_rs_conn(config=REDSHIFT_CONFIG)\n",
    "cur = conn.cursor()"
   ]
  },
  {
   "cell_type": "code",
   "execution_count": 21,
   "metadata": {
    "collapsed": true
   },
   "outputs": [],
   "source": [
    "#Increase the number of columns displayed with Pandas\n",
    "pd.set_option('display.max_columns', 500)"
   ]
  },
  {
   "cell_type": "code",
   "execution_count": 29,
   "metadata": {
    "collapsed": true
   },
   "outputs": [],
   "source": [
    "from datetime import date\n",
    "\n",
    "class Pitcher:\n",
    "    '''Master class to contain all info/methods related to a pitcher's pitch data'''\n",
    "    \n",
    "    def __init__(self, pitcher_id, redshift_cursor, table = None):\n",
    "        '''Stores:\n",
    "            -a database cursor (self.cur)\n",
    "            -pitcher ID (self.pitcher_id)\n",
    "            -all pitcher data (self.data) from 'table' (all_pitch_data by default)\n",
    "        '''\n",
    "        \n",
    "        #Store the pitcher's id\n",
    "        self.pitcher_id = pitcher_id\n",
    "        \n",
    "        #Using a passed-in cursor instead of creating it here, so we don't have to open new connection\n",
    "        #for each pitcher we create\n",
    "        self.cur = redshift_cursor\n",
    "        \n",
    "        #Use exception handling in case we get a shutdown of the connection\n",
    "        try:\n",
    "            #Choose which table to pull data from\n",
    "            if table is None:\n",
    "                self.data = get_pitcher_df_for_modeling(self.cur, \n",
    "                                                        pitcher_id = pitcher_id, \n",
    "                                                        date_subsetting = False)\n",
    "            else:\n",
    "                self.data = get_pitcher_df_for_modeling(self.cur, \n",
    "                                                        pitcher_id = pitcher_id, \n",
    "                                                        date_subsetting = False,\n",
    "                                                        table = table)\n",
    "        except:\n",
    "            # Re-establish a connection to the redshift database\n",
    "            conn = create_rs_conn(config=REDSHIFT_CONFIG)\n",
    "            self.cur = conn.cursor()\n",
    "            \n",
    "            #Choose which table to pull data from\n",
    "            if table is None:\n",
    "                self.data = get_pitcher_df_for_modeling(self.cur, \n",
    "                                                        pitcher_id = pitcher_id,\n",
    "                                                        date_subsetting = False)\n",
    "            else:\n",
    "                self.data = get_pitcher_df_for_modeling(self.cur, \n",
    "                                                        pitcher_id = pitcher_id, \n",
    "                                                        date_subsetting = False,\n",
    "                                                        table = table)\n",
    "        \n",
    "        #Get the pitcher's name\n",
    "        self.cur.execute('''select p_first_name, p_last_name\n",
    "                    from all_pitch_data\n",
    "                    where pitcher = %d\n",
    "                    limit 1''' % self.pitcher_id)\n",
    "        self.name = \" \".join(self.cur.fetchall()[0])\n",
    "        \n",
    "        #initiate a list that keeps track of methods called on the object (record-keeping)\n",
    "        self.method_history = []    \n",
    "            \n",
    "    def find_optimal_date_splits(self):\n",
    "        ''' '''\n",
    "        self.method_history.append(\"split_test_train\")\n",
    "        \n",
    "    def subset_data_by_date(self, max_date = None, min_date = '2008-01-01'):\n",
    "        '''Subsets self.data based on max and min dates'''\n",
    "        \n",
    "        #Get a max_date if one not given\n",
    "        if max_date is None:\n",
    "            self.max_date = date.today().strftime('%Y-%m-%d')\n",
    "        else:\n",
    "            self.max_date = max_date\n",
    "        \n",
    "        #Store the minimum date\n",
    "        self.min_date = min_date\n",
    "        \n",
    "        #Subset the data\n",
    "        self.data = self.data[(self.data['date'] <= self.max_date) & (self.data['date'] >= self.min_date)]\n",
    "        \n",
    "        #Indicate that the method has been called\n",
    "        self.method_history.append('subset_by_date')\n",
    "        \n",
    "    def subset_data_by_columns(self, cols):\n",
    "        '''self.data is subset to only include \"cols\"'''\n",
    "        self.modeling_dict['train_data'] = self.modeling_dict['train_data'][cols]\n",
    "        self.modeling_dict['test_data'] = self.modeling_dict['test_data'][cols]\n",
    "        self.method_history.append(\"subset_by_columns\")\n",
    "    \n",
    "    def split_test_train(self, quantile_split = 0.9, date_override = None):\n",
    "        '''Splits self.data into testing and train data, creating a new dictionary containing all the\n",
    "        test/train data and targets'''\n",
    "        \n",
    "        #Get the date on which to split test/train\n",
    "        if date_override is None:\n",
    "            split_date = str(self.data['date'].quantile(quantile_split))[:10]\n",
    "            \n",
    "        else:\n",
    "            split_date = date_override\n",
    "        \n",
    "        #split the data and return a dictionary with test/train data/targets\n",
    "        self.modeling_dict = split_test_train(self.data, split_date)\n",
    "        \n",
    "        #Log the transaction\n",
    "        self.method_history.append(\"split_test_train_\" + split_date)\n",
    "        \n",
    "        #Store the baseline accuracy\n",
    "        self.baseline_accuracy = naive_accuracy(self.modeling_dict)\n",
    "        \n",
    "    def pitch_type_by_year(self):\n",
    "        '''returns a pandas dataframe getting the count of the pitch types by year'''\n",
    "        return get_pitch_types_by_year(self.data, use_gameday = False)\n",
    "    \n",
    "    def run_classifiers(self):\n",
    "        '''runs four different classifiers and tries to ensemble them'''\n",
    "        \n",
    "        classifier_dict = run_all_classifiers(self.modeling_dict)\n",
    "        all_predictions_dict = collect_classifier_predictions2(self.modeling_dict, classifier_dict)\n",
    "        best_classifiers = choose_best_ensemble(all_predictions_dict, self.modeling_dict)\n",
    "        \n",
    "        #Handle cases where there's a single classifier chosen\n",
    "        if type(best_classifiers['classifier_combination']) == str:\n",
    "            \n",
    "            single_class = best_classifiers['classifier_combination']\n",
    "            self.classifiers = {single_class: classifier_dict[single_class]}\n",
    "            \n",
    "        else:\n",
    "            \n",
    "            self.classifiers = dict((k, classifier_dict[k]) for k in best_classifiers['classifier_combination'])\n",
    "            \n",
    "        self.best_acc = best_classifiers['best_acc']\n",
    "        self.acc_over_most_common = self.best_acc - self.baseline_accuracy\n",
    "        print 'classifiers used:', self.classifiers.keys()\n",
    "        print 'best accuracy:', self.best_acc\n",
    "        print \"Accuracy above guessing most common:\", self.acc_over_most_common\n",
    "        \n",
    "        #Log it\n",
    "        self.method_history.append('ran_classifiers')\n",
    "    \n",
    "    def predict(self, new_data):\n",
    "        '''runs best ensemble'''\n",
    "        pred_dict = {}\n",
    "        \n",
    "        #Make predictions based for each classifier\n",
    "        for classifier in self.classifiers.keys():\n",
    "\n",
    "            # Make predictions on new data\n",
    "            pred_dict[classifier] = self.classifier[classifier].predict(new_data)\n",
    "            \n",
    "        #Vote based on the predictions\n",
    "        return ensemble_voting(pred_dict)\n",
    "    \n",
    "    def prepare_for_pickle(self):\n",
    "        '''Delete all the data (before serializing the object)'''\n",
    "        \n",
    "        del(self.data)\n",
    "        del(self.modeling_dict)\n",
    "        del(self.cur)\n",
    "        self.method_history.append('deleted all data and cursor')\n",
    "        \n",
    "    def del_cur(self):\n",
    "        del(self.cur)"
   ]
  },
  {
   "cell_type": "code",
   "execution_count": 4,
   "metadata": {
    "collapsed": false
   },
   "outputs": [],
   "source": [
    "#Load the pitcher dict with 5 saved randomly sampled pitchers\n",
    "import pickle\n",
    "with open('pitcher_samp5.pickle', 'rb') as f:\n",
    "    pitcher_dict = pickle.load(f)"
   ]
  },
  {
   "cell_type": "code",
   "execution_count": 7,
   "metadata": {
    "collapsed": true
   },
   "outputs": [],
   "source": [
    "?RandomForestClassifier"
   ]
  },
  {
   "cell_type": "code",
   "execution_count": 6,
   "metadata": {
    "collapsed": false
   },
   "outputs": [
    {
     "data": {
      "text/plain": [
       "'0.16.1'"
      ]
     },
     "execution_count": 6,
     "metadata": {},
     "output_type": "execute_result"
    }
   ],
   "source": [
    "import sklearn\n",
    "sklearn.__version__"
   ]
  },
  {
   "cell_type": "code",
   "execution_count": 8,
   "metadata": {
    "collapsed": true
   },
   "outputs": [],
   "source": [
    "from sklearn.metrics import confusion_matrix"
   ]
  },
  {
   "cell_type": "code",
   "execution_count": 9,
   "metadata": {
    "collapsed": true
   },
   "outputs": [],
   "source": [
    "def run_classifier2(classifier, data_dict):\n",
    "    \"\"\"Given a classifier and a data dictionary containing 'train_data' and 'test_data' (as pandas DFs),\n",
    "    This runs the classifier and outputs the accuracy of the classifier on the test data.\"\"\"\n",
    "    \n",
    "    # Fit a model on all the data and features\n",
    "    classifier.fit(data_dict['train_data'], data_dict['train_targets'])\n",
    "\n",
    "    # Make predictions on dev data\n",
    "    dev_predictions = classifier.predict(data_dict['test_data'])\n",
    "    \n",
    "    # Return the dev performance score.\n",
    "    return accuracy_score(data_dict['test_targets'], dev_predictions), dev_predictions"
   ]
  },
  {
   "cell_type": "code",
   "execution_count": 13,
   "metadata": {
    "collapsed": false
   },
   "outputs": [],
   "source": [
    "acc_compare = {}\n",
    "\n",
    "#Run a random forest over each pitcher with and without class re-weighting\n",
    "for pitcher in pitcher_dict.keys():\n",
    "    acc_compare[pitcher] = {}\n",
    "    basic_acc, preds = run_classifier2(RandomForestClassifier(max_depth=3,\n",
    "                                          min_samples_leaf = 7,\n",
    "                                          min_samples_split = 6,\n",
    "                                          n_estimators = 350),\n",
    "                              data_dict = pitcher_dict[pitcher].modeling_dict)\n",
    "    acc_compare[pitcher]['baseline'] = pitcher_dict[pitcher].baseline_accuracy\n",
    "    acc_compare[pitcher]['rf'] = basic_acc\n",
    "    acc_compare[pitcher]['rf_over_baseline'] = basic_acc - acc_compare[pitcher]['baseline']\n",
    "    acc_compare[pitcher]['rf_confusion_matrix'] = confusion_matrix(pitcher_dict[pitcher].modeling_dict['test_targets'],\n",
    "                                                                   preds)\n",
    "\n",
    "    print 'baseline acc:', acc_compare[pitcher]['baseline']\n",
    "    print 'rf_over_baseline:', acc_compare[pitcher]['rf_over_baseline']\n",
    "    print 'confusion matrix:', acc_compare[pitcher]['rf_confusion_matrix']\n",
    "    \n",
    "    #Run the random forest and weight classes inversely proportional to their counts\n",
    "    weighted_acc = run_classifier(RandomForestClassifier(max_depth=3,\n",
    "                                          min_samples_leaf = 7,\n",
    "                                          min_samples_split = 6,\n",
    "                                          n_estimators = 350,\n",
    "                                                     class_weight = 'auto'),\n",
    "                                 data_dict = pitcher_dict[pitcher].modeling_dict)\n",
    "    acc_compare[pitcher]['weighted'] = weighted_acc\n",
    "    acc_compare[pitcher]['weighted_over_rf'] = weighted_acc - acc_compare[pitcher]['rf']\n",
    "    print 'weighted acc:', acc_compare[pitcher]['weighted']\n",
    "    print 'weighted over rf:', acc_compare[pitcher]['weighted_over_rf']\n",
    "    \n",
    "    #Let the user decide the class re-weighting based on the current weights and the confusion matrix"
   ]
  },
  {
   "cell_type": "markdown",
   "metadata": {},
   "source": [
    "### try this for 10 randomly sample pitchers "
   ]
  },
  {
   "cell_type": "code",
   "execution_count": 62,
   "metadata": {
    "collapsed": true
   },
   "outputs": [],
   "source": [
    "with open('pitcher_samp10.pickle', 'rb') as f:\n",
    "    pitcher_dict2 = pickle.load(f)"
   ]
  },
  {
   "cell_type": "code",
   "execution_count": 68,
   "metadata": {
    "collapsed": true
   },
   "outputs": [],
   "source": [
    "acc_compare = {}\n",
    "\n",
    "#Run a random forest over each pitcher with and without class re-weighting\n",
    "for pitcher in pitcher_dict2.keys():\n",
    "    acc_compare[pitcher] = {}\n",
    "    basic_acc, preds = run_classifier2(RandomForestClassifier(max_depth=3,\n",
    "                                          min_samples_leaf = 7,\n",
    "                                          min_samples_split = 6,\n",
    "                                          n_estimators = 350,\n",
    "                                                             random_state = 35),\n",
    "                              data_dict = pitcher_dict2[pitcher].modeling_dict)\n",
    "    acc_compare[pitcher]['baseline'] = pitcher_dict2[pitcher].baseline_accuracy\n",
    "    acc_compare[pitcher]['rf'] = basic_acc\n",
    "    acc_compare[pitcher]['rf_over_baseline'] = basic_acc - acc_compare[pitcher]['baseline']\n",
    "    acc_compare[pitcher]['rf_confusion_matrix'] = confusion_matrix(pitcher_dict2[pitcher].modeling_dict['test_targets'],\n",
    "                                                                   preds)\n",
    "\n",
    "    print 'baseline acc:', acc_compare[pitcher]['baseline']\n",
    "    print 'rf_over_baseline:', acc_compare[pitcher]['rf_over_baseline']\n",
    "    print 'confusion matrix:', acc_compare[pitcher]['rf_confusion_matrix']\n",
    "    \n",
    "    #Run the random forest and weight classes inversely proportional to their counts\n",
    "    weighted_acc = run_classifier(RandomForestClassifier(max_depth=3,\n",
    "                                          min_samples_leaf = 7,\n",
    "                                          min_samples_split = 6,\n",
    "                                          n_estimators = 350,\n",
    "                                                     class_weight = 'auto',\n",
    "                                                        random_state = 35),\n",
    "                                 data_dict = pitcher_dict2[pitcher].modeling_dict)\n",
    "    acc_compare[pitcher]['weighted'] = weighted_acc\n",
    "    acc_compare[pitcher]['weighted_over_rf'] = weighted_acc - acc_compare[pitcher]['rf']\n",
    "    print 'weighted acc:', acc_compare[pitcher]['weighted']\n",
    "    print 'weighted over rf:', acc_compare[pitcher]['weighted_over_rf']\n",
    "    \n",
    "    #Let the user decide the class re-weighting based on the current weights and the confusion matrix"
   ]
  },
  {
   "cell_type": "code",
   "execution_count": 71,
   "metadata": {
    "collapsed": false
   },
   "outputs": [
    {
     "data": {
      "text/plain": [
       "{445926: {'baseline': 0.693,\n",
       "  'rf': 0.69306930693069302,\n",
       "  'rf_confusion_matrix': array([[630,   0],\n",
       "         [279,   0]]),\n",
       "  'rf_over_baseline': 6.9306930693069368e-05,\n",
       "  'weighted': 0.49834983498349833,\n",
       "  'weighted_over_rf': -0.19471947194719469},\n",
       " 446372: {'baseline': 0.528,\n",
       "  'rf': 0.57172342621259031,\n",
       "  'rf_confusion_matrix': array([[232, 225],\n",
       "         [190, 322]]),\n",
       "  'rf_over_baseline': 0.043723426212590288,\n",
       "  'weighted': 0.58101135190918474,\n",
       "  'weighted_over_rf': 0.0092879256965944235},\n",
       " 468396: {'baseline': 0.666,\n",
       "  'rf': 0.67519181585677746,\n",
       "  'rf_confusion_matrix': array([[504,  17],\n",
       "         [237,  24]]),\n",
       "  'rf_over_baseline': 0.0091918158567774189,\n",
       "  'weighted': 0.60102301790281332,\n",
       "  'weighted_over_rf': -0.074168797953964138},\n",
       " 475115: {'baseline': 0.514,\n",
       "  'rf': 0.57336108220603543,\n",
       "  'rf_confusion_matrix': array([[396,  98],\n",
       "         [312, 155]]),\n",
       "  'rf_over_baseline': 0.05936108220603542,\n",
       "  'weighted': 0.53173777315296566,\n",
       "  'weighted_over_rf': -0.041623309053069768},\n",
       " 518420: {'baseline': 0.504,\n",
       "  'rf': 0.55737704918032782,\n",
       "  'rf_confusion_matrix': array([[ 89, 123],\n",
       "         [ 66, 149]]),\n",
       "  'rf_over_baseline': 0.053377049180327818,\n",
       "  'weighted': 0.53864168618266983,\n",
       "  'weighted_over_rf': -0.018735362997657989},\n",
       " 518516: {'baseline': 0.512,\n",
       "  'rf': 0.5715865118850193,\n",
       "  'rf_confusion_matrix': array([[199, 684],\n",
       "         [ 91, 835]]),\n",
       "  'rf_over_baseline': 0.059586511885019289,\n",
       "  'weighted': 0.59203980099502485,\n",
       "  'weighted_over_rf': 0.020453289110005546},\n",
       " 518553: {'baseline': 0.522,\n",
       "  'rf': 0.54268292682926833,\n",
       "  'rf_confusion_matrix': array([[159,  98],\n",
       "         [127, 108]]),\n",
       "  'rf_over_baseline': 0.020682926829268311,\n",
       "  'weighted': 0.55081300813008127,\n",
       "  'weighted_over_rf': 0.0081300813008129413},\n",
       " 543339: {'baseline': 0.619,\n",
       "  'rf': 0.61939218523878437,\n",
       "  'rf_confusion_matrix': array([[428,   0],\n",
       "         [263,   0]]),\n",
       "  'rf_over_baseline': 0.0003921852387843705,\n",
       "  'weighted': 0.58900144717800285,\n",
       "  'weighted_over_rf': -0.030390738060781519},\n",
       " 571666: {'baseline': 0.664,\n",
       "  'rf': 0.66386554621848737,\n",
       "  'rf_confusion_matrix': array([[395,   0],\n",
       "         [200,   0]]),\n",
       "  'rf_over_baseline': -0.00013445378151266674,\n",
       "  'weighted': 0.51260504201680668,\n",
       "  'weighted_over_rf': -0.15126050420168069},\n",
       " 592332: {'baseline': 0.739,\n",
       "  'rf': 0.73863636363636365,\n",
       "  'rf_confusion_matrix': array([[260,   0],\n",
       "         [ 92,   0]]),\n",
       "  'rf_over_baseline': -0.00036363636363634377,\n",
       "  'weighted': 0.53977272727272729,\n",
       "  'weighted_over_rf': -0.19886363636363635}}"
      ]
     },
     "execution_count": 71,
     "metadata": {},
     "output_type": "execute_result"
    }
   ],
   "source": [
    "acc_compare"
   ]
  },
  {
   "cell_type": "code",
   "execution_count": 76,
   "metadata": {
    "collapsed": false
   },
   "outputs": [],
   "source": [
    "def acc_stats(acc_compare):\n",
    "    counter = 0\n",
    "    for pitcher in acc_compare.keys():\n",
    "        if acc_compare[pitcher]['weighted_over_rf'] > .015:\n",
    "            counter += 1\n",
    "            print pitcher, acc_compare[pitcher]['weighted_over_rf']\n",
    "    return counter"
   ]
  },
  {
   "cell_type": "code",
   "execution_count": 77,
   "metadata": {
    "collapsed": false
   },
   "outputs": [
    {
     "data": {
      "text/plain": [
       "1"
      ]
     },
     "execution_count": 77,
     "metadata": {},
     "output_type": "execute_result"
    }
   ],
   "source": [
    "acc_stats(acc_compare)"
   ]
  },
  {
   "cell_type": "markdown",
   "metadata": {},
   "source": [
    "### See if it helps to do some column subsetting "
   ]
  },
  {
   "cell_type": "code",
   "execution_count": 75,
   "metadata": {
    "collapsed": true
   },
   "outputs": [],
   "source": [
    "# Create a list of the columns that we're interested in using as features\n",
    "cols_of_interest = ([u'b', u's', u'on_1b', u'on_2b', u'on_3b', u'o',\n",
    "                     u'home_wins',u'home_loss', u'away_wins', u'away_loss',\n",
    "                     u'stand_L', u'Not_Fastball_pb_prior', u'Not_Fastball_pbs_prior', \n",
    "                     u'Fastball_pb_prior', u'Fastball_pbs_prior', u'Not_Fastball_pc_prior', \n",
    "                     u'Not_Fastball_pcs_prior', u'Fastball_pc_prior', u'Fastball_pcs_prior', \n",
    "                     u'Not_Fastball_pg_prior', u'Not_Fastball_pgs_prior', \n",
    "                     u'Fastball_pg_prior', u'Fastball_pgs_prior', u'last_pitch_type_Fastball', \n",
    "                     u'last_pitch_type_Not_Fastball',u'last_pitch_type_not_available', \n",
    "                     u'second_last_pitch_type_Fastball',u'second_last_pitch_type_Not_Fastball',\n",
    "                     u'second_last_pitch_type_not_available', u'third_last_pitch_type_Fastball',\n",
    "                     u'third_last_pitch_type_Not_Fastball', u'third_last_pitch_type_not_available', \n",
    "                     u'prev_pitches_mean_start_speed', u'prev_pitches_mean_end_speed',\n",
    "                     u'prev_pitches_mean_break_y', u'prev_pitches_mean_break_angle',\n",
    "                     u'prev_pitches_mean_break_length', u'ingame_pitch_count', u'cur_season', u'season_pitch_count'])"
   ]
  },
  {
   "cell_type": "code",
   "execution_count": 78,
   "metadata": {
    "collapsed": false
   },
   "outputs": [],
   "source": [
    "acc_compare = {}\n",
    "\n",
    "#Run a random forest over each pitcher with and without class re-weighting\n",
    "for pitcher in pitcher_dict2.keys():\n",
    "    acc_compare[pitcher] = {}\n",
    "    pitcher_dict2[pitcher].subset_data_by_columns(cols_of_interest)\n",
    "    basic_acc, preds = run_classifier2(RandomForestClassifier(max_depth=3,\n",
    "                                          min_samples_leaf = 7,\n",
    "                                          min_samples_split = 6,\n",
    "                                          n_estimators = 350,\n",
    "                                                             random_state = 35),\n",
    "                              data_dict = pitcher_dict2[pitcher].modeling_dict)\n",
    "    acc_compare[pitcher]['baseline'] = pitcher_dict2[pitcher].baseline_accuracy\n",
    "    acc_compare[pitcher]['rf'] = basic_acc\n",
    "    acc_compare[pitcher]['rf_over_baseline'] = basic_acc - acc_compare[pitcher]['baseline']\n",
    "    acc_compare[pitcher]['rf_confusion_matrix'] = confusion_matrix(pitcher_dict2[pitcher].modeling_dict['test_targets'],\n",
    "                                                                   preds)\n",
    "\n",
    "    print 'baseline acc:', acc_compare[pitcher]['baseline']\n",
    "    print 'rf_over_baseline:', acc_compare[pitcher]['rf_over_baseline']\n",
    "    print 'confusion matrix:', acc_compare[pitcher]['rf_confusion_matrix']\n",
    "    \n",
    "    #Run the random forest and weight classes inversely proportional to their counts\n",
    "    weighted_acc = run_classifier(RandomForestClassifier(max_depth=3,\n",
    "                                          min_samples_leaf = 7,\n",
    "                                          min_samples_split = 6,\n",
    "                                          n_estimators = 350,\n",
    "                                                     class_weight = 'auto',\n",
    "                                                        random_state = 35),\n",
    "                                 data_dict = pitcher_dict2[pitcher].modeling_dict)\n",
    "    acc_compare[pitcher]['weighted'] = weighted_acc\n",
    "    acc_compare[pitcher]['weighted_over_rf'] = weighted_acc - acc_compare[pitcher]['rf']\n",
    "    print 'weighted acc:', acc_compare[pitcher]['weighted']\n",
    "    print 'weighted over rf:', acc_compare[pitcher]['weighted_over_rf']"
   ]
  },
  {
   "cell_type": "code",
   "execution_count": 79,
   "metadata": {
    "collapsed": false
   },
   "outputs": [
    {
     "data": {
      "text/plain": [
       "{445926: {'baseline': 0.693,\n",
       "  'rf': 0.69306930693069302,\n",
       "  'rf_confusion_matrix': array([[630,   0],\n",
       "         [279,   0]]),\n",
       "  'rf_over_baseline': 6.9306930693069368e-05,\n",
       "  'weighted': 0.49834983498349833,\n",
       "  'weighted_over_rf': -0.19471947194719469},\n",
       " 446372: {'baseline': 0.528,\n",
       "  'rf': 0.57172342621259031,\n",
       "  'rf_confusion_matrix': array([[232, 225],\n",
       "         [190, 322]]),\n",
       "  'rf_over_baseline': 0.043723426212590288,\n",
       "  'weighted': 0.58101135190918474,\n",
       "  'weighted_over_rf': 0.0092879256965944235},\n",
       " 468396: {'baseline': 0.666,\n",
       "  'rf': 0.67519181585677746,\n",
       "  'rf_confusion_matrix': array([[504,  17],\n",
       "         [237,  24]]),\n",
       "  'rf_over_baseline': 0.0091918158567774189,\n",
       "  'weighted': 0.60102301790281332,\n",
       "  'weighted_over_rf': -0.074168797953964138},\n",
       " 475115: {'baseline': 0.514,\n",
       "  'rf': 0.57336108220603543,\n",
       "  'rf_confusion_matrix': array([[396,  98],\n",
       "         [312, 155]]),\n",
       "  'rf_over_baseline': 0.05936108220603542,\n",
       "  'weighted': 0.53173777315296566,\n",
       "  'weighted_over_rf': -0.041623309053069768},\n",
       " 518420: {'baseline': 0.504,\n",
       "  'rf': 0.55737704918032782,\n",
       "  'rf_confusion_matrix': array([[ 89, 123],\n",
       "         [ 66, 149]]),\n",
       "  'rf_over_baseline': 0.053377049180327818,\n",
       "  'weighted': 0.53864168618266983,\n",
       "  'weighted_over_rf': -0.018735362997657989},\n",
       " 518516: {'baseline': 0.512,\n",
       "  'rf': 0.5715865118850193,\n",
       "  'rf_confusion_matrix': array([[199, 684],\n",
       "         [ 91, 835]]),\n",
       "  'rf_over_baseline': 0.059586511885019289,\n",
       "  'weighted': 0.59203980099502485,\n",
       "  'weighted_over_rf': 0.020453289110005546},\n",
       " 518553: {'baseline': 0.522,\n",
       "  'rf': 0.54268292682926833,\n",
       "  'rf_confusion_matrix': array([[159,  98],\n",
       "         [127, 108]]),\n",
       "  'rf_over_baseline': 0.020682926829268311,\n",
       "  'weighted': 0.55081300813008127,\n",
       "  'weighted_over_rf': 0.0081300813008129413},\n",
       " 543339: {'baseline': 0.619,\n",
       "  'rf': 0.61939218523878437,\n",
       "  'rf_confusion_matrix': array([[428,   0],\n",
       "         [263,   0]]),\n",
       "  'rf_over_baseline': 0.0003921852387843705,\n",
       "  'weighted': 0.58900144717800285,\n",
       "  'weighted_over_rf': -0.030390738060781519},\n",
       " 571666: {'baseline': 0.664,\n",
       "  'rf': 0.66386554621848737,\n",
       "  'rf_confusion_matrix': array([[395,   0],\n",
       "         [200,   0]]),\n",
       "  'rf_over_baseline': -0.00013445378151266674,\n",
       "  'weighted': 0.51260504201680668,\n",
       "  'weighted_over_rf': -0.15126050420168069},\n",
       " 592332: {'baseline': 0.739,\n",
       "  'rf': 0.73863636363636365,\n",
       "  'rf_confusion_matrix': array([[260,   0],\n",
       "         [ 92,   0]]),\n",
       "  'rf_over_baseline': -0.00036363636363634377,\n",
       "  'weighted': 0.53977272727272729,\n",
       "  'weighted_over_rf': -0.19886363636363635}}"
      ]
     },
     "execution_count": 79,
     "metadata": {},
     "output_type": "execute_result"
    }
   ],
   "source": [
    "acc_compare"
   ]
  },
  {
   "cell_type": "code",
   "execution_count": 80,
   "metadata": {
    "collapsed": false
   },
   "outputs": [
    {
     "data": {
      "text/plain": [
       "1"
      ]
     },
     "execution_count": 80,
     "metadata": {},
     "output_type": "execute_result"
    }
   ],
   "source": [
    "#Getting rid of those columns doesn't help\n",
    "acc_stats(acc_compare)"
   ]
  },
  {
   "cell_type": "code",
   "execution_count": 28,
   "metadata": {
    "collapsed": false
   },
   "outputs": [
    {
     "data": {
      "text/plain": [
       "['split_test_train_2015-06-03']"
      ]
     },
     "execution_count": 28,
     "metadata": {},
     "output_type": "execute_result"
    }
   ],
   "source": [
    "pitcher_dict2[446372].method_history"
   ]
  },
  {
   "cell_type": "markdown",
   "metadata": {},
   "source": [
    "## Try sample re-weighting based on recency of the data point "
   ]
  },
  {
   "cell_type": "code",
   "execution_count": null,
   "metadata": {
    "collapsed": true
   },
   "outputs": [],
   "source": []
  },
  {
   "cell_type": "code",
   "execution_count": 82,
   "metadata": {
    "collapsed": true
   },
   "outputs": [],
   "source": [
    "tester = pitcher_dict2[446372].modeling_dict\n",
    "tester2 = pitcher_dict2[446372].data"
   ]
  },
  {
   "cell_type": "code",
   "execution_count": 83,
   "metadata": {
    "collapsed": false
   },
   "outputs": [
    {
     "data": {
      "text/html": [
       "<div>\n",
       "<table border=\"1\" class=\"dataframe\">\n",
       "  <thead>\n",
       "    <tr style=\"text-align: right;\">\n",
       "      <th>pitch_type</th>\n",
       "      <th>Fastball</th>\n",
       "      <th>Not_Fastball</th>\n",
       "    </tr>\n",
       "  </thead>\n",
       "  <tbody>\n",
       "    <tr>\n",
       "      <th>2011</th>\n",
       "      <td>40</td>\n",
       "      <td>48</td>\n",
       "    </tr>\n",
       "    <tr>\n",
       "      <th>2012</th>\n",
       "      <td>472</td>\n",
       "      <td>610</td>\n",
       "    </tr>\n",
       "    <tr>\n",
       "      <th>2013</th>\n",
       "      <td>1215</td>\n",
       "      <td>1072</td>\n",
       "    </tr>\n",
       "    <tr>\n",
       "      <th>2014</th>\n",
       "      <td>1828</td>\n",
       "      <td>1667</td>\n",
       "    </tr>\n",
       "    <tr>\n",
       "      <th>2015</th>\n",
       "      <td>1031</td>\n",
       "      <td>1075</td>\n",
       "    </tr>\n",
       "  </tbody>\n",
       "</table>\n",
       "</div>"
      ],
      "text/plain": [
       "pitch_type  Fastball  Not_Fastball\n",
       "2011              40            48\n",
       "2012             472           610\n",
       "2013            1215          1072\n",
       "2014            1828          1667\n",
       "2015            1031          1075"
      ]
     },
     "execution_count": 83,
     "metadata": {},
     "output_type": "execute_result"
    }
   ],
   "source": [
    "get_pitch_types_by_year(tester2, use_gameday = False)"
   ]
  },
  {
   "cell_type": "code",
   "execution_count": 84,
   "metadata": {
    "collapsed": false
   },
   "outputs": [],
   "source": [
    "split_date = pitcher_dict2[446372].method_history[0][17:]"
   ]
  },
  {
   "cell_type": "code",
   "execution_count": 85,
   "metadata": {
    "collapsed": true
   },
   "outputs": [],
   "source": [
    "all_dates = tester2['date'][tester2['date'] < split_date]"
   ]
  },
  {
   "cell_type": "code",
   "execution_count": 86,
   "metadata": {
    "collapsed": false
   },
   "outputs": [],
   "source": [
    "days = ((max(all_dates) - all_dates).values / 86400000000000).astype(int)"
   ]
  },
  {
   "cell_type": "code",
   "execution_count": 45,
   "metadata": {
    "collapsed": true
   },
   "outputs": [],
   "source": [
    "import matplotlib.pyplot as plt\n",
    "%matplotlib inline"
   ]
  },
  {
   "cell_type": "code",
   "execution_count": 52,
   "metadata": {
    "collapsed": false
   },
   "outputs": [
    {
     "data": {
      "text/plain": [
       "[<matplotlib.lines.Line2D at 0x2fca54a8>]"
      ]
     },
     "execution_count": 52,
     "metadata": {},
     "output_type": "execute_result"
    },
    {
     "data": {
      "image/png": "[encoded data removed]",
      "text/plain": [
       "<matplotlib.figure.Figure at 0x2fb292b0>"
      ]
     },
     "metadata": {},
     "output_type": "display_data"
    }
   ],
   "source": [
    "plt.plot(1 / (np.log(days + 1) + 1))"
   ]
  },
  {
   "cell_type": "code",
   "execution_count": 58,
   "metadata": {
    "collapsed": false
   },
   "outputs": [
    {
     "data": {
      "text/plain": [
       "[<matplotlib.lines.Line2D at 0x33ee10b8>]"
      ]
     },
     "execution_count": 58,
     "metadata": {},
     "output_type": "execute_result"
    },
    {
     "data": {
      "image/png": "[encoded data removed]",
      "text/plain": [
       "<matplotlib.figure.Figure at 0x33f581d0>"
      ]
     },
     "metadata": {},
     "output_type": "display_data"
    }
   ],
   "source": [
    "plt.plot(1 / (np.log10(np.log10(days + 1) + 1) + 1))"
   ]
  },
  {
   "cell_type": "code",
   "execution_count": 59,
   "metadata": {
    "collapsed": false
   },
   "outputs": [],
   "source": [
    "def double_log_day_diff(day_diff):\n",
    "    \n",
    "    return 1 / (np.log10(np.log10(day_diff + 1) + 1) + 1)"
   ]
  },
  {
   "cell_type": "code",
   "execution_count": 60,
   "metadata": {
    "collapsed": false
   },
   "outputs": [
    {
     "data": {
      "text/plain": [
       "[<matplotlib.lines.Line2D at 0x34389fd0>]"
      ]
     },
     "execution_count": 60,
     "metadata": {},
     "output_type": "execute_result"
    },
    {
     "data": {
      "image/png": "[encoded data removed]",
      "text/plain": [
       "<matplotlib.figure.Figure at 0x34219588>"
      ]
     },
     "metadata": {},
     "output_type": "display_data"
    }
   ],
   "source": [
    "plt.plot(double_log_day_diff(days))"
   ]
  },
  {
   "cell_type": "code",
   "execution_count": 61,
   "metadata": {
    "collapsed": false
   },
   "outputs": [
    {
     "data": {
      "text/plain": [
       "array([ 0.61861173,  0.61861173,  0.61861173, ...,  1.        ,\n",
       "        1.        ,  1.        ])"
      ]
     },
     "execution_count": 61,
     "metadata": {},
     "output_type": "execute_result"
    }
   ],
   "source": [
    "double_log_day_diff(days)"
   ]
  },
  {
   "cell_type": "code",
   "execution_count": 81,
   "metadata": {
    "collapsed": true
   },
   "outputs": [],
   "source": [
    "#Try random forest with sample weighting\n",
    "testClass = RandomForestClassifier(max_depth=3,\n",
    "                       min_samples_leaf = 7,\n",
    "                       min_samples_split = 6,\n",
    "                       n_estimators = 350,\n",
    "                       random_state = 35)"
   ]
  },
  {
   "cell_type": "code",
   "execution_count": 90,
   "metadata": {
    "collapsed": false
   },
   "outputs": [
    {
     "data": {
      "text/plain": [
       "RandomForestClassifier(bootstrap=True, class_weight=None, criterion='gini',\n",
       "            max_depth=3, max_features='auto', max_leaf_nodes=None,\n",
       "            min_samples_leaf=7, min_samples_split=6,\n",
       "            min_weight_fraction_leaf=0.0, n_estimators=350, n_jobs=1,\n",
       "            oob_score=False, random_state=35, verbose=0, warm_start=False)"
      ]
     },
     "execution_count": 90,
     "metadata": {},
     "output_type": "execute_result"
    }
   ],
   "source": [
    "testClass.fit(tester['train_data'], tester['train_targets'], sample_weight = double_log_day_diff(days))"
   ]
  },
  {
   "cell_type": "code",
   "execution_count": 93,
   "metadata": {
    "collapsed": false
   },
   "outputs": [
    {
     "data": {
      "text/plain": [
       "0.047851393188854452"
      ]
     },
     "execution_count": 93,
     "metadata": {},
     "output_type": "execute_result"
    }
   ],
   "source": [
    "accuracy_score(tester['test_targets'], testClass.predict(tester['test_data'])) - pitcher_dict2[446372].baseline_accuracy"
   ]
  },
  {
   "cell_type": "code",
   "execution_count": 92,
   "metadata": {
    "collapsed": false
   },
   "outputs": [
    {
     "data": {
      "text/plain": [
       "0.57585139318885448"
      ]
     },
     "execution_count": 92,
     "metadata": {},
     "output_type": "execute_result"
    }
   ],
   "source": [
    "accuracy_score(tester['test_targets'], testClass.predict(tester['test_data']))"
   ]
  },
  {
   "cell_type": "code",
   "execution_count": 104,
   "metadata": {
    "collapsed": true
   },
   "outputs": [],
   "source": [
    "#Try it across all the pitchers\n",
    "acc_compare = {}\n",
    "for pitcher in pitcher_dict2.keys():\n",
    "    acc_compare[pitcher] = {}\n",
    "    basic_acc, preds = run_classifier2(RandomForestClassifier(max_depth=3,\n",
    "                                          min_samples_leaf = 7,\n",
    "                                          min_samples_split = 6,\n",
    "                                          n_estimators = 350,\n",
    "                                                             random_state = 35),\n",
    "                              data_dict = pitcher_dict2[pitcher].modeling_dict)\n",
    "    acc_compare[pitcher]['baseline'] = pitcher_dict2[pitcher].baseline_accuracy\n",
    "    acc_compare[pitcher]['rf'] = basic_acc\n",
    "    acc_compare[pitcher]['rf_over_baseline'] = basic_acc - acc_compare[pitcher]['baseline']\n",
    "    acc_compare[pitcher]['rf_confusion_matrix'] = confusion_matrix(pitcher_dict2[pitcher].modeling_dict['test_targets'],\n",
    "                                                                   preds)\n",
    "\n",
    "    print 'baseline acc:', acc_compare[pitcher]['baseline']\n",
    "    print 'rf_over_baseline:', acc_compare[pitcher]['rf_over_baseline']\n",
    "    print 'confusion matrix:', acc_compare[pitcher]['rf_confusion_matrix']\n",
    "    \n",
    "    #Run the random forest and weight classes inversely proportional to their counts\n",
    "    split_date = pitcher_dict2[pitcher].method_history[0][17:]\n",
    "    all_dates = pitcher_dict2[pitcher].data['date'][pitcher_dict2[pitcher].data['date'] < split_date]\n",
    "    print all_dates.head()\n",
    "    print all_dates.tail()\n",
    "    days = ((max(all_dates) - all_dates).values / 86400000000000).astype(int)\n",
    "    weights = double_log_day_diff(days)\n",
    "    print weights[:5]\n",
    "    print weights[-5:]\n",
    "    \n",
    "    #Make sure the data is aligned properly\n",
    "    print 'data match:' all(pitcher_dict2[pitcher].data['pitch_type'].head() == pitcher_dict2[pitcher].modeling_dict['train_targets'].head())\n",
    "    \n",
    "    #Run classifier with sample weights\n",
    "    classifier = RandomForestClassifier(max_depth=3,\n",
    "                                          min_samples_leaf = 7,\n",
    "                                          min_samples_split = 6,\n",
    "                                          n_estimators = 350,\n",
    "                                          random_state = 35)\n",
    "    classifier.fit(pitcher_dict2[pitcher].modeling_dict['train_data'],\n",
    "                   pitcher_dict2[pitcher].modeling_dict['train_targets'],\n",
    "                   sample_weight = weights)\n",
    "    predictions = classifier.predict(pitcher_dict2[pitcher].modeling_dict['test_data'])\n",
    "    weighted_acc = accuracy_score(pitcher_dict2[pitcher].modeling_dict['test_targets'], predictions)\n",
    "    \n",
    "    #Store and print the results\n",
    "    acc_compare[pitcher]['weighted'] = weighted_acc\n",
    "    acc_compare[pitcher]['weighted_over_rf'] = weighted_acc - acc_compare[pitcher]['rf']\n",
    "    print 'weighted acc:', acc_compare[pitcher]['weighted']\n",
    "    print 'weighted over rf:', acc_compare[pitcher]['weighted_over_rf']"
   ]
  },
  {
   "cell_type": "code",
   "execution_count": 105,
   "metadata": {
    "collapsed": false
   },
   "outputs": [
    {
     "data": {
      "text/plain": [
       "{445926: {'baseline': 0.693,\n",
       "  'rf': 0.69306930693069302,\n",
       "  'rf_confusion_matrix': array([[630,   0],\n",
       "         [279,   0]]),\n",
       "  'rf_over_baseline': 6.9306930693069368e-05,\n",
       "  'weighted': 0.69306930693069302,\n",
       "  'weighted_over_rf': 0.0},\n",
       " 446372: {'baseline': 0.528,\n",
       "  'rf': 0.57172342621259031,\n",
       "  'rf_confusion_matrix': array([[232, 225],\n",
       "         [190, 322]]),\n",
       "  'rf_over_baseline': 0.043723426212590288,\n",
       "  'weighted': 0.57585139318885448,\n",
       "  'weighted_over_rf': 0.0041279669762641635},\n",
       " 468396: {'baseline': 0.666,\n",
       "  'rf': 0.67519181585677746,\n",
       "  'rf_confusion_matrix': array([[504,  17],\n",
       "         [237,  24]]),\n",
       "  'rf_over_baseline': 0.0091918158567774189,\n",
       "  'weighted': 0.67647058823529416,\n",
       "  'weighted_over_rf': 0.0012787723785167016},\n",
       " 475115: {'baseline': 0.514,\n",
       "  'rf': 0.57336108220603543,\n",
       "  'rf_confusion_matrix': array([[396,  98],\n",
       "         [312, 155]]),\n",
       "  'rf_over_baseline': 0.05936108220603542,\n",
       "  'weighted': 0.57336108220603543,\n",
       "  'weighted_over_rf': 0.0},\n",
       " 518420: {'baseline': 0.504,\n",
       "  'rf': 0.55737704918032782,\n",
       "  'rf_confusion_matrix': array([[ 89, 123],\n",
       "         [ 66, 149]]),\n",
       "  'rf_over_baseline': 0.053377049180327818,\n",
       "  'weighted': 0.55503512880562056,\n",
       "  'weighted_over_rf': -0.0023419203747072626},\n",
       " 518516: {'baseline': 0.512,\n",
       "  'rf': 0.5715865118850193,\n",
       "  'rf_confusion_matrix': array([[199, 684],\n",
       "         [ 91, 835]]),\n",
       "  'rf_over_baseline': 0.059586511885019289,\n",
       "  'weighted': 0.57324488667772255,\n",
       "  'weighted_over_rf': 0.0016583747927032544},\n",
       " 518553: {'baseline': 0.522,\n",
       "  'rf': 0.54268292682926833,\n",
       "  'rf_confusion_matrix': array([[159,  98],\n",
       "         [127, 108]]),\n",
       "  'rf_over_baseline': 0.020682926829268311,\n",
       "  'weighted': 0.5467479674796748,\n",
       "  'weighted_over_rf': 0.0040650406504064707},\n",
       " 543339: {'baseline': 0.619,\n",
       "  'rf': 0.61939218523878437,\n",
       "  'rf_confusion_matrix': array([[428,   0],\n",
       "         [263,   0]]),\n",
       "  'rf_over_baseline': 0.0003921852387843705,\n",
       "  'weighted': 0.61939218523878437,\n",
       "  'weighted_over_rf': 0.0},\n",
       " 571666: {'baseline': 0.664,\n",
       "  'rf': 0.66386554621848737,\n",
       "  'rf_confusion_matrix': array([[395,   0],\n",
       "         [200,   0]]),\n",
       "  'rf_over_baseline': -0.00013445378151266674,\n",
       "  'weighted': 0.66386554621848737,\n",
       "  'weighted_over_rf': 0.0},\n",
       " 592332: {'baseline': 0.739,\n",
       "  'rf': 0.73863636363636365,\n",
       "  'rf_confusion_matrix': array([[260,   0],\n",
       "         [ 92,   0]]),\n",
       "  'rf_over_baseline': -0.00036363636363634377,\n",
       "  'weighted': 0.73863636363636365,\n",
       "  'weighted_over_rf': 0.0}}"
      ]
     },
     "execution_count": 105,
     "metadata": {},
     "output_type": "execute_result"
    }
   ],
   "source": [
    "acc_compare"
   ]
  },
  {
   "cell_type": "code",
   "execution_count": 106,
   "metadata": {
    "collapsed": false
   },
   "outputs": [
    {
     "data": {
      "text/plain": [
       "0"
      ]
     },
     "execution_count": 106,
     "metadata": {},
     "output_type": "execute_result"
    }
   ],
   "source": [
    "#No help with the class re-weighting\n",
    "acc_stats(acc_compare)"
   ]
  },
  {
   "cell_type": "markdown",
   "metadata": {},
   "source": [
    "## See how normalizing continuous variables affects accuracy "
   ]
  },
  {
   "cell_type": "code",
   "execution_count": 107,
   "metadata": {
    "collapsed": true
   },
   "outputs": [],
   "source": [
    "from sklearn.preprocessing import StandardScaler"
   ]
  },
  {
   "cell_type": "code",
   "execution_count": 117,
   "metadata": {
    "collapsed": false
   },
   "outputs": [
    {
     "data": {
      "text/html": [
       "<div>\n",
       "<table border=\"1\" class=\"dataframe\">\n",
       "  <thead>\n",
       "    <tr style=\"text-align: right;\">\n",
       "      <th></th>\n",
       "      <th>b</th>\n",
       "      <th>s</th>\n",
       "      <th>on_1b</th>\n",
       "      <th>on_2b</th>\n",
       "      <th>on_3b</th>\n",
       "      <th>o</th>\n",
       "      <th>home_wins</th>\n",
       "      <th>home_loss</th>\n",
       "      <th>away_wins</th>\n",
       "      <th>away_loss</th>\n",
       "      <th>stand_L</th>\n",
       "      <th>Not_Fastball_pb_prior</th>\n",
       "      <th>Not_Fastball_pbs_prior</th>\n",
       "      <th>Fastball_pb_prior</th>\n",
       "      <th>Fastball_pbs_prior</th>\n",
       "      <th>Not_Fastball_pc_prior</th>\n",
       "      <th>Not_Fastball_pcs_prior</th>\n",
       "      <th>Fastball_pc_prior</th>\n",
       "      <th>Fastball_pcs_prior</th>\n",
       "      <th>Not_Fastball_pg_prior</th>\n",
       "      <th>Not_Fastball_pgs_prior</th>\n",
       "      <th>Fastball_pg_prior</th>\n",
       "      <th>Fastball_pgs_prior</th>\n",
       "      <th>last_pitch_type_Fastball</th>\n",
       "      <th>last_pitch_type_Not_Fastball</th>\n",
       "      <th>last_pitch_type_not_available</th>\n",
       "      <th>second_last_pitch_type_Fastball</th>\n",
       "      <th>second_last_pitch_type_Not_Fastball</th>\n",
       "      <th>second_last_pitch_type_not_available</th>\n",
       "      <th>third_last_pitch_type_Fastball</th>\n",
       "      <th>third_last_pitch_type_Not_Fastball</th>\n",
       "      <th>third_last_pitch_type_not_available</th>\n",
       "      <th>prev_pitches_mean_start_speed</th>\n",
       "      <th>prev_pitches_mean_end_speed</th>\n",
       "      <th>prev_pitches_mean_break_y</th>\n",
       "      <th>prev_pitches_mean_break_angle</th>\n",
       "      <th>prev_pitches_mean_break_length</th>\n",
       "      <th>ingame_pitch_count</th>\n",
       "      <th>cur_season</th>\n",
       "      <th>season_pitch_count</th>\n",
       "    </tr>\n",
       "  </thead>\n",
       "  <tbody>\n",
       "    <tr>\n",
       "      <th>15500</th>\n",
       "      <td>0</td>\n",
       "      <td>0</td>\n",
       "      <td>1</td>\n",
       "      <td>1</td>\n",
       "      <td>0</td>\n",
       "      <td>2</td>\n",
       "      <td>68</td>\n",
       "      <td>66</td>\n",
       "      <td>61</td>\n",
       "      <td>76</td>\n",
       "      <td>1</td>\n",
       "      <td>0.000000</td>\n",
       "      <td>1.000000</td>\n",
       "      <td>0.000000</td>\n",
       "      <td>0.000000</td>\n",
       "      <td>1.0</td>\n",
       "      <td>1.000000</td>\n",
       "      <td>0.0</td>\n",
       "      <td>0.000000</td>\n",
       "      <td>1.000000</td>\n",
       "      <td>1.000000</td>\n",
       "      <td>0.000000</td>\n",
       "      <td>0.000000</td>\n",
       "      <td>0</td>\n",
       "      <td>1</td>\n",
       "      <td>0</td>\n",
       "      <td>0</td>\n",
       "      <td>0</td>\n",
       "      <td>1</td>\n",
       "      <td>0</td>\n",
       "      <td>0</td>\n",
       "      <td>1</td>\n",
       "      <td>88.000000</td>\n",
       "      <td>80.900000</td>\n",
       "      <td>23.8</td>\n",
       "      <td>2.6</td>\n",
       "      <td>7.000000</td>\n",
       "      <td>1</td>\n",
       "      <td>0</td>\n",
       "      <td>1</td>\n",
       "    </tr>\n",
       "    <tr>\n",
       "      <th>15502</th>\n",
       "      <td>0</td>\n",
       "      <td>1</td>\n",
       "      <td>1</td>\n",
       "      <td>1</td>\n",
       "      <td>0</td>\n",
       "      <td>2</td>\n",
       "      <td>68</td>\n",
       "      <td>66</td>\n",
       "      <td>61</td>\n",
       "      <td>76</td>\n",
       "      <td>1</td>\n",
       "      <td>0.000000</td>\n",
       "      <td>0.500000</td>\n",
       "      <td>1.000000</td>\n",
       "      <td>0.600000</td>\n",
       "      <td>0.0</td>\n",
       "      <td>0.500000</td>\n",
       "      <td>0.0</td>\n",
       "      <td>0.500000</td>\n",
       "      <td>0.500000</td>\n",
       "      <td>0.500000</td>\n",
       "      <td>0.500000</td>\n",
       "      <td>0.500000</td>\n",
       "      <td>1</td>\n",
       "      <td>0</td>\n",
       "      <td>0</td>\n",
       "      <td>0</td>\n",
       "      <td>1</td>\n",
       "      <td>0</td>\n",
       "      <td>0</td>\n",
       "      <td>0</td>\n",
       "      <td>1</td>\n",
       "      <td>89.500000</td>\n",
       "      <td>82.300000</td>\n",
       "      <td>23.8</td>\n",
       "      <td>12.6</td>\n",
       "      <td>6.300000</td>\n",
       "      <td>2</td>\n",
       "      <td>0</td>\n",
       "      <td>2</td>\n",
       "    </tr>\n",
       "    <tr>\n",
       "      <th>15724</th>\n",
       "      <td>0</td>\n",
       "      <td>2</td>\n",
       "      <td>1</td>\n",
       "      <td>1</td>\n",
       "      <td>0</td>\n",
       "      <td>2</td>\n",
       "      <td>68</td>\n",
       "      <td>66</td>\n",
       "      <td>61</td>\n",
       "      <td>76</td>\n",
       "      <td>1</td>\n",
       "      <td>0.500000</td>\n",
       "      <td>0.633333</td>\n",
       "      <td>0.500000</td>\n",
       "      <td>0.366667</td>\n",
       "      <td>0.0</td>\n",
       "      <td>0.666667</td>\n",
       "      <td>0.0</td>\n",
       "      <td>0.333333</td>\n",
       "      <td>0.666667</td>\n",
       "      <td>0.666667</td>\n",
       "      <td>0.333333</td>\n",
       "      <td>0.333333</td>\n",
       "      <td>0</td>\n",
       "      <td>1</td>\n",
       "      <td>0</td>\n",
       "      <td>1</td>\n",
       "      <td>0</td>\n",
       "      <td>0</td>\n",
       "      <td>0</td>\n",
       "      <td>1</td>\n",
       "      <td>0</td>\n",
       "      <td>87.033333</td>\n",
       "      <td>80.100000</td>\n",
       "      <td>23.8</td>\n",
       "      <td>14.0</td>\n",
       "      <td>6.600000</td>\n",
       "      <td>3</td>\n",
       "      <td>0</td>\n",
       "      <td>3</td>\n",
       "    </tr>\n",
       "    <tr>\n",
       "      <th>15726</th>\n",
       "      <td>0</td>\n",
       "      <td>3</td>\n",
       "      <td>1</td>\n",
       "      <td>1</td>\n",
       "      <td>0</td>\n",
       "      <td>2</td>\n",
       "      <td>68</td>\n",
       "      <td>66</td>\n",
       "      <td>61</td>\n",
       "      <td>76</td>\n",
       "      <td>1</td>\n",
       "      <td>0.333333</td>\n",
       "      <td>0.466667</td>\n",
       "      <td>0.666667</td>\n",
       "      <td>0.555556</td>\n",
       "      <td>0.0</td>\n",
       "      <td>0.500000</td>\n",
       "      <td>0.0</td>\n",
       "      <td>0.500000</td>\n",
       "      <td>0.500000</td>\n",
       "      <td>0.500000</td>\n",
       "      <td>0.500000</td>\n",
       "      <td>0.500000</td>\n",
       "      <td>1</td>\n",
       "      <td>0</td>\n",
       "      <td>0</td>\n",
       "      <td>0</td>\n",
       "      <td>1</td>\n",
       "      <td>0</td>\n",
       "      <td>1</td>\n",
       "      <td>0</td>\n",
       "      <td>0</td>\n",
       "      <td>87.533333</td>\n",
       "      <td>80.433333</td>\n",
       "      <td>23.8</td>\n",
       "      <td>12.4</td>\n",
       "      <td>6.600000</td>\n",
       "      <td>4</td>\n",
       "      <td>0</td>\n",
       "      <td>4</td>\n",
       "    </tr>\n",
       "    <tr>\n",
       "      <th>5259</th>\n",
       "      <td>0</td>\n",
       "      <td>0</td>\n",
       "      <td>1</td>\n",
       "      <td>1</td>\n",
       "      <td>0</td>\n",
       "      <td>2</td>\n",
       "      <td>68</td>\n",
       "      <td>66</td>\n",
       "      <td>61</td>\n",
       "      <td>76</td>\n",
       "      <td>1</td>\n",
       "      <td>0.000000</td>\n",
       "      <td>0.400000</td>\n",
       "      <td>0.000000</td>\n",
       "      <td>0.600000</td>\n",
       "      <td>0.5</td>\n",
       "      <td>0.420000</td>\n",
       "      <td>0.5</td>\n",
       "      <td>0.580000</td>\n",
       "      <td>0.400000</td>\n",
       "      <td>0.400000</td>\n",
       "      <td>0.600000</td>\n",
       "      <td>0.600000</td>\n",
       "      <td>1</td>\n",
       "      <td>0</td>\n",
       "      <td>0</td>\n",
       "      <td>1</td>\n",
       "      <td>0</td>\n",
       "      <td>0</td>\n",
       "      <td>0</td>\n",
       "      <td>1</td>\n",
       "      <td>0</td>\n",
       "      <td>88.333333</td>\n",
       "      <td>81.033333</td>\n",
       "      <td>23.8</td>\n",
       "      <td>14.0</td>\n",
       "      <td>6.233333</td>\n",
       "      <td>5</td>\n",
       "      <td>0</td>\n",
       "      <td>5</td>\n",
       "    </tr>\n",
       "  </tbody>\n",
       "</table>\n",
       "</div>"
      ],
      "text/plain": [
       "       b  s  on_1b  on_2b  on_3b  o  home_wins  home_loss  away_wins  \\\n",
       "15500  0  0      1      1      0  2         68         66         61   \n",
       "15502  0  1      1      1      0  2         68         66         61   \n",
       "15724  0  2      1      1      0  2         68         66         61   \n",
       "15726  0  3      1      1      0  2         68         66         61   \n",
       "5259   0  0      1      1      0  2         68         66         61   \n",
       "\n",
       "       away_loss  stand_L  Not_Fastball_pb_prior  Not_Fastball_pbs_prior  \\\n",
       "15500         76        1               0.000000                1.000000   \n",
       "15502         76        1               0.000000                0.500000   \n",
       "15724         76        1               0.500000                0.633333   \n",
       "15726         76        1               0.333333                0.466667   \n",
       "5259          76        1               0.000000                0.400000   \n",
       "\n",
       "       Fastball_pb_prior  Fastball_pbs_prior  Not_Fastball_pc_prior  \\\n",
       "15500           0.000000            0.000000                    1.0   \n",
       "15502           1.000000            0.600000                    0.0   \n",
       "15724           0.500000            0.366667                    0.0   \n",
       "15726           0.666667            0.555556                    0.0   \n",
       "5259            0.000000            0.600000                    0.5   \n",
       "\n",
       "       Not_Fastball_pcs_prior  Fastball_pc_prior  Fastball_pcs_prior  \\\n",
       "15500                1.000000                0.0            0.000000   \n",
       "15502                0.500000                0.0            0.500000   \n",
       "15724                0.666667                0.0            0.333333   \n",
       "15726                0.500000                0.0            0.500000   \n",
       "5259                 0.420000                0.5            0.580000   \n",
       "\n",
       "       Not_Fastball_pg_prior  Not_Fastball_pgs_prior  Fastball_pg_prior  \\\n",
       "15500               1.000000                1.000000           0.000000   \n",
       "15502               0.500000                0.500000           0.500000   \n",
       "15724               0.666667                0.666667           0.333333   \n",
       "15726               0.500000                0.500000           0.500000   \n",
       "5259                0.400000                0.400000           0.600000   \n",
       "\n",
       "       Fastball_pgs_prior  last_pitch_type_Fastball  \\\n",
       "15500            0.000000                         0   \n",
       "15502            0.500000                         1   \n",
       "15724            0.333333                         0   \n",
       "15726            0.500000                         1   \n",
       "5259             0.600000                         1   \n",
       "\n",
       "       last_pitch_type_Not_Fastball  last_pitch_type_not_available  \\\n",
       "15500                             1                              0   \n",
       "15502                             0                              0   \n",
       "15724                             1                              0   \n",
       "15726                             0                              0   \n",
       "5259                              0                              0   \n",
       "\n",
       "       second_last_pitch_type_Fastball  second_last_pitch_type_Not_Fastball  \\\n",
       "15500                                0                                    0   \n",
       "15502                                0                                    1   \n",
       "15724                                1                                    0   \n",
       "15726                                0                                    1   \n",
       "5259                                 1                                    0   \n",
       "\n",
       "       second_last_pitch_type_not_available  third_last_pitch_type_Fastball  \\\n",
       "15500                                     1                               0   \n",
       "15502                                     0                               0   \n",
       "15724                                     0                               0   \n",
       "15726                                     0                               1   \n",
       "5259                                      0                               0   \n",
       "\n",
       "       third_last_pitch_type_Not_Fastball  \\\n",
       "15500                                   0   \n",
       "15502                                   0   \n",
       "15724                                   1   \n",
       "15726                                   0   \n",
       "5259                                    1   \n",
       "\n",
       "       third_last_pitch_type_not_available  prev_pitches_mean_start_speed  \\\n",
       "15500                                    1                      88.000000   \n",
       "15502                                    1                      89.500000   \n",
       "15724                                    0                      87.033333   \n",
       "15726                                    0                      87.533333   \n",
       "5259                                     0                      88.333333   \n",
       "\n",
       "       prev_pitches_mean_end_speed  prev_pitches_mean_break_y  \\\n",
       "15500                    80.900000                       23.8   \n",
       "15502                    82.300000                       23.8   \n",
       "15724                    80.100000                       23.8   \n",
       "15726                    80.433333                       23.8   \n",
       "5259                     81.033333                       23.8   \n",
       "\n",
       "       prev_pitches_mean_break_angle  prev_pitches_mean_break_length  \\\n",
       "15500                            2.6                        7.000000   \n",
       "15502                           12.6                        6.300000   \n",
       "15724                           14.0                        6.600000   \n",
       "15726                           12.4                        6.600000   \n",
       "5259                            14.0                        6.233333   \n",
       "\n",
       "       ingame_pitch_count  cur_season  season_pitch_count  \n",
       "15500                   1           0                   1  \n",
       "15502                   2           0                   2  \n",
       "15724                   3           0                   3  \n",
       "15726                   4           0                   4  \n",
       "5259                    5           0                   5  "
      ]
     },
     "execution_count": 117,
     "metadata": {},
     "output_type": "execute_result"
    }
   ],
   "source": [
    "tester['train_data'].head()"
   ]
  },
  {
   "cell_type": "code",
   "execution_count": 111,
   "metadata": {
    "collapsed": false
   },
   "outputs": [
    {
     "data": {
      "text/plain": [
       "array([[  0.        ,   0.        ,   1.        ,   1.        ,\n",
       "          0.        ,   2.        ,  68.        ,  66.        ,\n",
       "         61.        ,  76.        ,   1.        ,   0.        ,\n",
       "          1.        ,   0.        ,   0.        ,   1.        ,\n",
       "          1.        ,   0.        ,   0.        ,   1.        ,\n",
       "          1.        ,   0.        ,   0.        ,   0.        ,\n",
       "          1.        ,   0.        ,   0.        ,   0.        ,\n",
       "          1.        ,   0.        ,   0.        ,   1.        ,\n",
       "         88.        ,  80.9       ,  23.8       ,   2.6       ,\n",
       "          7.        ,   1.        ,   0.        ,   1.        ],\n",
       "       [  0.        ,   1.        ,   1.        ,   1.        ,\n",
       "          0.        ,   2.        ,  68.        ,  66.        ,\n",
       "         61.        ,  76.        ,   1.        ,   0.        ,\n",
       "          0.5       ,   1.        ,   0.6       ,   0.        ,\n",
       "          0.5       ,   0.        ,   0.5       ,   0.5       ,\n",
       "          0.5       ,   0.5       ,   0.5       ,   1.        ,\n",
       "          0.        ,   0.        ,   0.        ,   1.        ,\n",
       "          0.        ,   0.        ,   0.        ,   1.        ,\n",
       "         89.5       ,  82.3       ,  23.8       ,  12.6       ,\n",
       "          6.3       ,   2.        ,   0.        ,   2.        ],\n",
       "       [  0.        ,   2.        ,   1.        ,   1.        ,\n",
       "          0.        ,   2.        ,  68.        ,  66.        ,\n",
       "         61.        ,  76.        ,   1.        ,   0.5       ,\n",
       "          0.63333333,   0.5       ,   0.36666667,   0.        ,\n",
       "          0.66666667,   0.        ,   0.33333333,   0.66666667,\n",
       "          0.66666667,   0.33333333,   0.33333333,   0.        ,\n",
       "          1.        ,   0.        ,   1.        ,   0.        ,\n",
       "          0.        ,   0.        ,   1.        ,   0.        ,\n",
       "         87.03333333,  80.1       ,  23.8       ,  14.        ,\n",
       "          6.6       ,   3.        ,   0.        ,   3.        ],\n",
       "       [  0.        ,   3.        ,   1.        ,   1.        ,\n",
       "          0.        ,   2.        ,  68.        ,  66.        ,\n",
       "         61.        ,  76.        ,   1.        ,   0.33333333,\n",
       "          0.46666667,   0.66666667,   0.55555556,   0.        ,\n",
       "          0.5       ,   0.        ,   0.5       ,   0.5       ,\n",
       "          0.5       ,   0.5       ,   0.5       ,   1.        ,\n",
       "          0.        ,   0.        ,   0.        ,   1.        ,\n",
       "          0.        ,   1.        ,   0.        ,   0.        ,\n",
       "         87.53333333,  80.43333333,  23.8       ,  12.4       ,\n",
       "          6.6       ,   4.        ,   0.        ,   4.        ],\n",
       "       [  0.        ,   0.        ,   1.        ,   1.        ,\n",
       "          0.        ,   2.        ,  68.        ,  66.        ,\n",
       "         61.        ,  76.        ,   1.        ,   0.        ,\n",
       "          0.4       ,   0.        ,   0.6       ,   0.5       ,\n",
       "          0.42      ,   0.5       ,   0.58      ,   0.4       ,\n",
       "          0.4       ,   0.6       ,   0.6       ,   1.        ,\n",
       "          0.        ,   0.        ,   1.        ,   0.        ,\n",
       "          0.        ,   0.        ,   1.        ,   0.        ,\n",
       "         88.33333333,  81.03333333,  23.8       ,  14.        ,\n",
       "          6.23333333,   5.        ,   0.        ,   5.        ]])"
      ]
     },
     "execution_count": 111,
     "metadata": {},
     "output_type": "execute_result"
    }
   ],
   "source": [
    "tester['train_data'].head().values"
   ]
  },
  {
   "cell_type": "code",
   "execution_count": 118,
   "metadata": {
    "collapsed": true
   },
   "outputs": [],
   "source": [
    "?StandardScaler"
   ]
  },
  {
   "cell_type": "code",
   "execution_count": 116,
   "metadata": {
    "collapsed": false
   },
   "outputs": [
    {
     "data": {
      "text/plain": [
       "array([[ 0.        , -1.02899151,  0.        ,  0.        ,  0.        ,\n",
       "         0.        ,  0.        ,  0.        ,  0.        ,  0.        ,\n",
       "         0.        , -0.79056942,  1.86953086, -1.1147408 , -1.85305938,\n",
       "         1.75      ,  1.84391561, -0.5       , -1.84391561,  1.82864332,\n",
       "         1.82864332, -1.82864332, -1.82864332, -1.22474487,  1.22474487,\n",
       "         0.        , -0.81649658, -0.81649658,  2.        , -0.5       ,\n",
       "        -0.81649658,  1.22474487, -0.0958743 , -0.0709997 ,  0.        ,\n",
       "        -1.97544273,  1.66598626, -1.41421356,  0.        , -1.41421356],\n",
       "       [ 0.        , -0.17149859,  0.        ,  0.        ,  0.        ,\n",
       "         0.        ,  0.        ,  0.        ,  0.        ,  0.        ,\n",
       "         0.        , -0.79056942, -0.46738271,  1.45773797,  0.76644864,\n",
       "        -0.75      , -0.56538179, -0.5       ,  0.56538179, -0.53598166,\n",
       "        -0.53598166,  0.53598166,  0.53598166,  0.81649658, -0.81649658,\n",
       "         0.        , -0.81649658,  1.22474487, -0.5       , -0.5       ,\n",
       "        -0.81649658,  1.22474487,  1.70176874,  1.79274249,  0.        ,\n",
       "         0.34315202, -0.90649252, -0.70710678,  0.        , -0.70710678],\n",
       "       [ 0.        ,  0.68599434,  0.        ,  0.        ,  0.        ,\n",
       "         0.        ,  0.        ,  0.        ,  0.        ,  0.        ,\n",
       "         0.        ,  1.58113883,  0.15579424,  0.17149859, -0.25224892,\n",
       "        -0.75      ,  0.23771734, -0.5       , -0.23771734,  0.25222666,\n",
       "         0.25222666, -0.25222666, -0.25222666, -1.22474487,  1.22474487,\n",
       "         0.        ,  1.22474487, -0.81649658, -0.5       , -0.5       ,\n",
       "         1.22474487, -0.81649658, -1.25435536, -1.13599524,  0.        ,\n",
       "         0.66775529,  0.19599838,  0.        ,  0.        ,  0.        ],\n",
       "       [ 0.        ,  1.54348727,  0.        ,  0.        ,  0.        ,\n",
       "         0.        ,  0.        ,  0.        ,  0.        ,  0.        ,\n",
       "         0.        ,  0.79056942, -0.62317695,  0.60024505,  0.57241101,\n",
       "        -0.75      , -0.56538179, -0.5       ,  0.56538179, -0.53598166,\n",
       "        -0.53598166,  0.53598166,  0.53598166,  0.81649658, -0.81649658,\n",
       "         0.        , -0.81649658,  1.22474487, -0.5       ,  2.        ,\n",
       "        -0.81649658, -0.81649658, -0.65514102, -0.6922471 ,  0.        ,\n",
       "         0.29678013,  0.19599838,  0.70710678,  0.        ,  0.70710678],\n",
       "       [ 0.        , -1.02899151,  0.        ,  0.        ,  0.        ,\n",
       "         0.        ,  0.        ,  0.        ,  0.        ,  0.        ,\n",
       "         0.        , -0.79056942, -0.93476543, -1.1147408 ,  0.76644864,\n",
       "         0.5       , -0.95086937,  2.        ,  0.95086937, -1.00890666,\n",
       "        -1.00890666,  1.00890666,  1.00890666,  0.81649658, -0.81649658,\n",
       "         0.        ,  1.22474487, -0.81649658, -0.5       , -0.5       ,\n",
       "         1.22474487, -0.81649658,  0.30360194,  0.10649955,  0.        ,\n",
       "         0.66775529, -1.1514905 ,  1.41421356,  0.        ,  1.41421356]])"
      ]
     },
     "execution_count": 116,
     "metadata": {},
     "output_type": "execute_result"
    }
   ],
   "source": [
    "StandardScaler().fit_transform(tester['train_data'].head())"
   ]
  },
  {
   "cell_type": "code",
   "execution_count": 114,
   "metadata": {
    "collapsed": true
   },
   "outputs": [],
   "source": [
    "?StandardScaler.fit_transform"
   ]
  },
  {
   "cell_type": "code",
   "execution_count": null,
   "metadata": {
    "collapsed": true
   },
   "outputs": [],
   "source": []
  }
 ],
 "metadata": {
  "kernelspec": {
   "display_name": "Python 2",
   "language": "python",
   "name": "python2"
  },
  "language_info": {
   "codemirror_mode": {
    "name": "ipython",
    "version": 2
   },
   "file_extension": ".py",
   "mimetype": "text/x-python",
   "name": "python",
   "nbconvert_exporter": "python",
   "pygments_lexer": "ipython2",
   "version": "2.7.7"
  }
 },
 "nbformat": 4,
 "nbformat_minor": 0
}
