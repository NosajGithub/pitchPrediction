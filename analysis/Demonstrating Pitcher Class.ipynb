{
 "cells": [
  {
   "cell_type": "markdown",
   "metadata": {},
   "source": [
    "# Testing the pitcher class "
   ]
  },
  {
   "cell_type": "code",
   "execution_count": 1,
   "metadata": {
    "collapsed": true
   },
   "outputs": [],
   "source": [
    "#Import necessary packages\n",
    "import psycopg2\n",
    "import sys  \n",
    "sys.path.append('..')\n",
    "\n",
    "import numpy as np\n",
    "import pandas as pd\n",
    "\n",
    "from config import REDSHIFT_CONFIG\n",
    "from src.features import *\n",
    "from src.utils import *\n",
    "from src.validation import *\n",
    "\n",
    "reload(sys)\n",
    "sys.setdefaultencoding('utf8')\n",
    "\n",
    "from src.pitcher_class import *\n",
    "from src.exploration import *"
   ]
  },
  {
   "cell_type": "code",
   "execution_count": 2,
   "metadata": {
    "collapsed": true
   },
   "outputs": [],
   "source": [
    "# Establish a connection to the redshift database\n",
    "conn = create_rs_conn(config=REDSHIFT_CONFIG)\n",
    "cur = conn.cursor()"
   ]
  },
  {
   "cell_type": "code",
   "execution_count": 3,
   "metadata": {
    "collapsed": true
   },
   "outputs": [],
   "source": [
    "test = Pitcher(pitcher_id = 448802, redshift_cursor = cur)"
   ]
  },
  {
   "cell_type": "code",
   "execution_count": 4,
   "metadata": {
    "collapsed": true
   },
   "outputs": [],
   "source": [
    "test.split_test_train()"
   ]
  },
  {
   "cell_type": "code",
   "execution_count": 5,
   "metadata": {
    "collapsed": false
   },
   "outputs": [
    {
     "data": {
      "text/html": [
       "<div>\n",
       "<table border=\"1\" class=\"dataframe\">\n",
       "  <thead>\n",
       "    <tr style=\"text-align: right;\">\n",
       "      <th></th>\n",
       "      <th>b</th>\n",
       "      <th>s</th>\n",
       "      <th>on_1b</th>\n",
       "      <th>on_2b</th>\n",
       "      <th>on_3b</th>\n",
       "      <th>o</th>\n",
       "      <th>home_wins</th>\n",
       "      <th>home_loss</th>\n",
       "      <th>away_wins</th>\n",
       "      <th>away_loss</th>\n",
       "      <th>...</th>\n",
       "      <th>stadium_name_Wrigley Field</th>\n",
       "      <th>last_pitch_type_Fastball</th>\n",
       "      <th>last_pitch_type_Not_Fastball</th>\n",
       "      <th>last_pitch_type_not_available</th>\n",
       "      <th>second_last_pitch_type_Fastball</th>\n",
       "      <th>second_last_pitch_type_Not_Fastball</th>\n",
       "      <th>second_last_pitch_type_not_available</th>\n",
       "      <th>third_last_pitch_type_Fastball</th>\n",
       "      <th>third_last_pitch_type_Not_Fastball</th>\n",
       "      <th>third_last_pitch_type_not_available</th>\n",
       "    </tr>\n",
       "  </thead>\n",
       "  <tbody>\n",
       "    <tr>\n",
       "      <th>33097</th>\n",
       "      <td>0</td>\n",
       "      <td>1</td>\n",
       "      <td>1</td>\n",
       "      <td>0</td>\n",
       "      <td>0</td>\n",
       "      <td>0</td>\n",
       "      <td>43</td>\n",
       "      <td>49</td>\n",
       "      <td>52</td>\n",
       "      <td>42</td>\n",
       "      <td>...</td>\n",
       "      <td>0</td>\n",
       "      <td>1</td>\n",
       "      <td>0</td>\n",
       "      <td>0</td>\n",
       "      <td>0</td>\n",
       "      <td>1</td>\n",
       "      <td>0</td>\n",
       "      <td>0</td>\n",
       "      <td>1</td>\n",
       "      <td>0</td>\n",
       "    </tr>\n",
       "    <tr>\n",
       "      <th>33105</th>\n",
       "      <td>0</td>\n",
       "      <td>2</td>\n",
       "      <td>1</td>\n",
       "      <td>0</td>\n",
       "      <td>0</td>\n",
       "      <td>0</td>\n",
       "      <td>43</td>\n",
       "      <td>49</td>\n",
       "      <td>52</td>\n",
       "      <td>42</td>\n",
       "      <td>...</td>\n",
       "      <td>0</td>\n",
       "      <td>0</td>\n",
       "      <td>1</td>\n",
       "      <td>0</td>\n",
       "      <td>1</td>\n",
       "      <td>0</td>\n",
       "      <td>0</td>\n",
       "      <td>0</td>\n",
       "      <td>1</td>\n",
       "      <td>0</td>\n",
       "    </tr>\n",
       "    <tr>\n",
       "      <th>33529</th>\n",
       "      <td>1</td>\n",
       "      <td>2</td>\n",
       "      <td>1</td>\n",
       "      <td>0</td>\n",
       "      <td>0</td>\n",
       "      <td>0</td>\n",
       "      <td>43</td>\n",
       "      <td>49</td>\n",
       "      <td>52</td>\n",
       "      <td>42</td>\n",
       "      <td>...</td>\n",
       "      <td>0</td>\n",
       "      <td>0</td>\n",
       "      <td>1</td>\n",
       "      <td>0</td>\n",
       "      <td>0</td>\n",
       "      <td>1</td>\n",
       "      <td>0</td>\n",
       "      <td>1</td>\n",
       "      <td>0</td>\n",
       "      <td>0</td>\n",
       "    </tr>\n",
       "    <tr>\n",
       "      <th>33538</th>\n",
       "      <td>2</td>\n",
       "      <td>2</td>\n",
       "      <td>1</td>\n",
       "      <td>0</td>\n",
       "      <td>0</td>\n",
       "      <td>0</td>\n",
       "      <td>43</td>\n",
       "      <td>49</td>\n",
       "      <td>52</td>\n",
       "      <td>42</td>\n",
       "      <td>...</td>\n",
       "      <td>0</td>\n",
       "      <td>1</td>\n",
       "      <td>0</td>\n",
       "      <td>0</td>\n",
       "      <td>0</td>\n",
       "      <td>1</td>\n",
       "      <td>0</td>\n",
       "      <td>0</td>\n",
       "      <td>1</td>\n",
       "      <td>0</td>\n",
       "    </tr>\n",
       "    <tr>\n",
       "      <th>33098</th>\n",
       "      <td>2</td>\n",
       "      <td>3</td>\n",
       "      <td>1</td>\n",
       "      <td>0</td>\n",
       "      <td>0</td>\n",
       "      <td>0</td>\n",
       "      <td>43</td>\n",
       "      <td>49</td>\n",
       "      <td>52</td>\n",
       "      <td>42</td>\n",
       "      <td>...</td>\n",
       "      <td>0</td>\n",
       "      <td>1</td>\n",
       "      <td>0</td>\n",
       "      <td>0</td>\n",
       "      <td>1</td>\n",
       "      <td>0</td>\n",
       "      <td>0</td>\n",
       "      <td>0</td>\n",
       "      <td>1</td>\n",
       "      <td>0</td>\n",
       "    </tr>\n",
       "  </tbody>\n",
       "</table>\n",
       "<p>5 rows × 65 columns</p>\n",
       "</div>"
      ],
      "text/plain": [
       "       b  s  on_1b  on_2b  on_3b  o  home_wins  home_loss  away_wins  \\\n",
       "33097  0  1      1      0      0  0         43         49         52   \n",
       "33105  0  2      1      0      0  0         43         49         52   \n",
       "33529  1  2      1      0      0  0         43         49         52   \n",
       "33538  2  2      1      0      0  0         43         49         52   \n",
       "33098  2  3      1      0      0  0         43         49         52   \n",
       "\n",
       "       away_loss                 ...                   \\\n",
       "33097         42                 ...                    \n",
       "33105         42                 ...                    \n",
       "33529         42                 ...                    \n",
       "33538         42                 ...                    \n",
       "33098         42                 ...                    \n",
       "\n",
       "       stadium_name_Wrigley Field  last_pitch_type_Fastball  \\\n",
       "33097                           0                         1   \n",
       "33105                           0                         0   \n",
       "33529                           0                         0   \n",
       "33538                           0                         1   \n",
       "33098                           0                         1   \n",
       "\n",
       "       last_pitch_type_Not_Fastball  last_pitch_type_not_available  \\\n",
       "33097                             0                              0   \n",
       "33105                             1                              0   \n",
       "33529                             1                              0   \n",
       "33538                             0                              0   \n",
       "33098                             0                              0   \n",
       "\n",
       "       second_last_pitch_type_Fastball  second_last_pitch_type_Not_Fastball  \\\n",
       "33097                                0                                    1   \n",
       "33105                                1                                    0   \n",
       "33529                                0                                    1   \n",
       "33538                                0                                    1   \n",
       "33098                                1                                    0   \n",
       "\n",
       "       second_last_pitch_type_not_available  third_last_pitch_type_Fastball  \\\n",
       "33097                                     0                               0   \n",
       "33105                                     0                               0   \n",
       "33529                                     0                               1   \n",
       "33538                                     0                               0   \n",
       "33098                                     0                               0   \n",
       "\n",
       "       third_last_pitch_type_Not_Fastball  third_last_pitch_type_not_available  \n",
       "33097                                   1                                    0  \n",
       "33105                                   1                                    0  \n",
       "33529                                   0                                    0  \n",
       "33538                                   1                                    0  \n",
       "33098                                   1                                    0  \n",
       "\n",
       "[5 rows x 65 columns]"
      ]
     },
     "execution_count": 5,
     "metadata": {},
     "output_type": "execute_result"
    }
   ],
   "source": [
    "test.modeling_dict['train_data'].head()"
   ]
  },
  {
   "cell_type": "code",
   "execution_count": 6,
   "metadata": {
    "collapsed": false
   },
   "outputs": [
    {
     "data": {
      "text/plain": [
       "['split_test_train_2014-06-03']"
      ]
     },
     "execution_count": 6,
     "metadata": {},
     "output_type": "execute_result"
    }
   ],
   "source": [
    "test.method_history"
   ]
  },
  {
   "cell_type": "code",
   "execution_count": 7,
   "metadata": {
    "collapsed": false
   },
   "outputs": [
    {
     "data": {
      "text/plain": [
       "'Jaime Garcia'"
      ]
     },
     "execution_count": 7,
     "metadata": {},
     "output_type": "execute_result"
    }
   ],
   "source": [
    "test.name"
   ]
  },
  {
   "cell_type": "code",
   "execution_count": 9,
   "metadata": {
    "collapsed": false
   },
   "outputs": [
    {
     "data": {
      "text/html": [
       "<div>\n",
       "<table border=\"1\" class=\"dataframe\">\n",
       "  <thead>\n",
       "    <tr style=\"text-align: right;\">\n",
       "      <th>pitch_type</th>\n",
       "      <th>Fastball</th>\n",
       "      <th>Not_Fastball</th>\n",
       "    </tr>\n",
       "  </thead>\n",
       "  <tbody>\n",
       "    <tr>\n",
       "      <th>2008</th>\n",
       "      <td>186</td>\n",
       "      <td>70</td>\n",
       "    </tr>\n",
       "    <tr>\n",
       "      <th>2010</th>\n",
       "      <td>1450</td>\n",
       "      <td>1139</td>\n",
       "    </tr>\n",
       "    <tr>\n",
       "      <th>2011</th>\n",
       "      <td>1860</td>\n",
       "      <td>1508</td>\n",
       "    </tr>\n",
       "    <tr>\n",
       "      <th>2012</th>\n",
       "      <td>1069</td>\n",
       "      <td>739</td>\n",
       "    </tr>\n",
       "    <tr>\n",
       "      <th>2013</th>\n",
       "      <td>378</td>\n",
       "      <td>376</td>\n",
       "    </tr>\n",
       "    <tr>\n",
       "      <th>2014</th>\n",
       "      <td>373</td>\n",
       "      <td>258</td>\n",
       "    </tr>\n",
       "    <tr>\n",
       "      <th>2015</th>\n",
       "      <td>382</td>\n",
       "      <td>260</td>\n",
       "    </tr>\n",
       "  </tbody>\n",
       "</table>\n",
       "</div>"
      ],
      "text/plain": [
       "pitch_type  Fastball  Not_Fastball\n",
       "2008             186            70\n",
       "2010            1450          1139\n",
       "2011            1860          1508\n",
       "2012            1069           739\n",
       "2013             378           376\n",
       "2014             373           258\n",
       "2015             382           260"
      ]
     },
     "execution_count": 9,
     "metadata": {},
     "output_type": "execute_result"
    }
   ],
   "source": [
    "test.pitch_type_by_year()"
   ]
  },
  {
   "cell_type": "code",
   "execution_count": 10,
   "metadata": {
    "collapsed": false
   },
   "outputs": [
    {
     "data": {
      "text/plain": [
       "448802"
      ]
     },
     "execution_count": 10,
     "metadata": {},
     "output_type": "execute_result"
    }
   ],
   "source": [
    "test.pitcher_id"
   ]
  },
  {
   "cell_type": "code",
   "execution_count": 11,
   "metadata": {
    "collapsed": true
   },
   "outputs": [],
   "source": [
    "test.run_classifiers()"
   ]
  },
  {
   "cell_type": "code",
   "execution_count": 12,
   "metadata": {
    "collapsed": false
   },
   "outputs": [
    {
     "data": {
      "text/plain": [
       "['__doc__',\n",
       " '__init__',\n",
       " '__module__',\n",
       " 'acc_over_most_common',\n",
       " 'baseline_accuracy',\n",
       " 'best_acc',\n",
       " 'classifiers',\n",
       " 'cur',\n",
       " 'data',\n",
       " 'del_cur',\n",
       " 'find_optimal_date_splits',\n",
       " 'method_history',\n",
       " 'modeling_dict',\n",
       " 'name',\n",
       " 'pitch_type_by_year',\n",
       " 'pitcher_id',\n",
       " 'predict',\n",
       " 'prepare_for_pickle',\n",
       " 'run_classifiers',\n",
       " 'split_test_train',\n",
       " 'subset_data_by_columns',\n",
       " 'subset_data_by_date']"
      ]
     },
     "execution_count": 12,
     "metadata": {},
     "output_type": "execute_result"
    }
   ],
   "source": [
    "#Look at all the methods/attributes for the class\n",
    "dir(test)"
   ]
  },
  {
   "cell_type": "code",
   "execution_count": null,
   "metadata": {
    "collapsed": true
   },
   "outputs": [],
   "source": []
  }
 ],
 "metadata": {
  "kernelspec": {
   "display_name": "Python 2",
   "language": "python",
   "name": "python2"
  },
  "language_info": {
   "codemirror_mode": {
    "name": "ipython",
    "version": 2
   },
   "file_extension": ".py",
   "mimetype": "text/x-python",
   "name": "python",
   "nbconvert_exporter": "python",
   "pygments_lexer": "ipython2",
   "version": "2.7.7"
  }
 },
 "nbformat": 4,
 "nbformat_minor": 0
}
