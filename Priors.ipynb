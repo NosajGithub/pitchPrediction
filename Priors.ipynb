{
 "cells": [
  {
   "cell_type": "code",
   "execution_count": 1,
   "metadata": {
    "collapsed": false
   },
   "outputs": [],
   "source": [
    "import psycopg2\n",
    "import sys  \n",
    "\n",
    "import numpy as np\n",
    "import pandas as pd\n",
    "\n",
    "from sklearn import cross_validation\n",
    "\n",
    "from config import REDSHIFT_CONFIG\n",
    "from src.features import *\n",
    "from src.utils import *\n",
    "from src.validation import *\n",
    "\n",
    "import sys\n",
    "# reload(sys)\n",
    "# sys.setdefaultencoding('utf8')"
   ]
  },
  {
   "cell_type": "code",
   "execution_count": 2,
   "metadata": {
    "collapsed": true
   },
   "outputs": [],
   "source": [
    "# Establish a connection to the redshift database\n",
    "conn = create_rs_conn(config=REDSHIFT_CONFIG)\n",
    "cur = conn.cursor()"
   ]
  },
  {
   "cell_type": "code",
   "execution_count": 3,
   "metadata": {
    "collapsed": false
   },
   "outputs": [],
   "source": [
    "raw_query = \"\"\"SELECT * \\\n",
    "FROM all_pitch_data \\\n",
    "WHERE pitcher = '434378'\"\"\"\n",
    "\n",
    "sample_header, sample_rows = run_rs_query(cur, raw_query)\n",
    "sample_df = pd.DataFrame(sample_rows)\n",
    "sample_df.columns = sample_header\n",
    "# sample_df.head()"
   ]
  },
  {
   "cell_type": "code",
   "execution_count": 32,
   "metadata": {
    "collapsed": true
   },
   "outputs": [],
   "source": [
    "cur.execute(\"\"\"rollback;\"\"\")"
   ]
  },
  {
   "cell_type": "code",
   "execution_count": 7,
   "metadata": {
    "collapsed": false
   },
   "outputs": [],
   "source": [
    "def pitcher_batter_priors(df):\n",
    "    \"\"\"Given a pandas dataframe containing all pitches for a single pitcher, \n",
    "    returns the dataframe with pitcher_batter priors and pitcher_batter shrunk priors\n",
    "    \"\"\"\n",
    "    \n",
    "    beta = 4.0\n",
    "    \n",
    "    # Make store for pitches\n",
    "    # pitch_stores has dict for each batter, global is across batters\n",
    "    pitch_store = {}\n",
    "    global_pitch_store = {}\n",
    "\n",
    "    # Make dicts to hold output columns\n",
    "    pb_priors = {}\n",
    "    pb_priors_shrunk = {}\n",
    "    \n",
    "    pitch_list = df['pitch_type'].unique()\n",
    "    \n",
    "    # Make empty lists in dicts \n",
    "    for pitch in pitch_list:\n",
    "        pb_priors[pitch] = []\n",
    "        pb_priors_shrunk[pitch] = []\n",
    "\n",
    "    # Initialize global_pitch_store\n",
    "    for pitch in pitch_list:\n",
    "        global_pitch_store[pitch] = 0\n",
    "    global_pitch_store['total'] = 0\n",
    "    \n",
    "    # Iterate through dataframe, updating stores and making features\n",
    "    df = df.sort(['game_id','num','id'])\n",
    "    for index, row in df.iterrows():\n",
    "        cur_batter = row['batter']\n",
    "        pitch_type = row['pitch_type']\n",
    "\n",
    "        ### Write priors to output lists ###\n",
    "        \n",
    "        if not cur_batter in pitch_store:\n",
    "            pitch_store[cur_batter] = dict(total = 0)\n",
    "\n",
    "        # If batter has never been seen before, \n",
    "        # append 0 (non-shrunk) or global averages (shrunk)\n",
    "        cur_batter_total = pitch_store[cur_batter]['total']\n",
    "        global_pitch_store_total = global_pitch_store['total']\n",
    "        \n",
    "        if cur_batter_total == 0:\n",
    "            # If it's the first pitch in the dataframe\n",
    "            if global_pitch_store_total == 0:\n",
    "                for ptype in pb_priors:\n",
    "                    pb_priors[ptype].append(0.0)\n",
    "                    pb_priors_shrunk[ptype].append(0.0)\n",
    "            else:\n",
    "                for ptype in pb_priors:\n",
    "                    pb_priors[ptype].append(0.0)\n",
    "                    pb_priors_shrunk[ptype].append(\n",
    "                        global_pitch_store[ptype] / (global_pitch_store_total*1.0)\n",
    "                    )\n",
    "\n",
    "        # If you've seen the batter before, append the past frequency (non-shrunk)\n",
    "        # or the shrunk past frequency (shrunk)\n",
    "        else:\n",
    "            for ptype in pb_priors:\n",
    "                cur_pitch_freq = pitch_store[cur_batter].get(ptype,0)\n",
    "                cur_pitch_freq_global = global_pitch_store[ptype]\n",
    "                \n",
    "                pb_priors[ptype].append(cur_pitch_freq / (cur_batter_total*1.0))\n",
    "                pb_priors_shrunk[ptype].append(\n",
    "\n",
    "                    # Shrunk formula\n",
    "                    (cur_pitch_freq * (cur_pitch_freq / (cur_batter_total * 1.0)) + # n * s +\n",
    "                    beta * (cur_pitch_freq_global / (global_pitch_store_total * 1.0))) # B * p\n",
    "                    / ((cur_pitch_freq + beta) * 1.0) # / n + B\n",
    "                )\n",
    "        \n",
    "        ### Update pitch_stores with the current pitch's type ###\n",
    "        \n",
    "        # Update pitch_store\n",
    "        if not pitch_type in pitch_store[cur_batter]:\n",
    "            pitch_store[cur_batter][pitch_type] = 1\n",
    "        else:\n",
    "            pitch_store[cur_batter][pitch_type] += 1\n",
    "        pitch_store[cur_batter]['total'] += 1            \n",
    "    \n",
    "        # Update global_pitch_store\n",
    "        global_pitch_store[pitch_type] += 1\n",
    "        global_pitch_store['total'] += 1\n",
    "    \n",
    "    # Add columns to dataframe\n",
    "    for ptype in pb_priors:\n",
    "        df[str(ptype) + \"_prior\"] = pb_priors[ptype]\n",
    "        df[str(ptype) + \"_shrunk_prior\"] = pb_priors_shrunk[ptype]\n",
    "    \n",
    "    print df.shape, len(pb_priors['FF']),len(pb_priors_shrunk['FF']) \n",
    "    return df"
   ]
  },
  {
   "cell_type": "code",
   "execution_count": 44,
   "metadata": {
    "collapsed": false
   },
   "outputs": [
    {
     "data": {
      "text/plain": [
       "array(['FT', 'CH', 'FF', 'SL', 'CU', 'IN', None, 'PO'], dtype=object)"
      ]
     },
     "execution_count": 44,
     "metadata": {},
     "output_type": "execute_result"
    }
   ],
   "source": [
    "sample_df['pitch_type'].unique()"
   ]
  },
  {
   "cell_type": "code",
   "execution_count": 9,
   "metadata": {
    "collapsed": false
   },
   "outputs": [
    {
     "name": "stdout",
     "output_type": "stream",
     "text": [
      "(23143, 91) 23143 23143\n"
     ]
    }
   ],
   "source": [
    "pitcher_batter_priors(sample_df).to_csv(\"verlander_priors.csv\")"
   ]
  },
  {
   "cell_type": "code",
   "execution_count": null,
   "metadata": {
    "collapsed": false
   },
   "outputs": [],
   "source": []
  }
 ],
 "metadata": {
  "kernelspec": {
   "display_name": "Python 2",
   "language": "python",
   "name": "python2"
  },
  "language_info": {
   "codemirror_mode": {
    "name": "ipython",
    "version": 2
   },
   "file_extension": ".py",
   "mimetype": "text/x-python",
   "name": "python",
   "nbconvert_exporter": "python",
   "pygments_lexer": "ipython2",
   "version": "2.7.9"
  }
 },
 "nbformat": 4,
 "nbformat_minor": 0
}
