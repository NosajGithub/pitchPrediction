{
 "cells": [
  {
   "cell_type": "code",
   "execution_count": 53,
   "metadata": {
    "collapsed": false
   },
   "outputs": [],
   "source": [
    "import pandas as pd\n",
    "import numpy as np\n",
    "from time import sleep\n",
    "from datetime import date, timedelta\n",
    "import twitter\n",
    "\n",
    "from scipy.stats import randint as sp_randint\n",
    "\n",
    "from config import REDSHIFT_CONFIG\n",
    "from src.features import *\n",
    "from src.utils import *\n",
    "from src.validation import *\n",
    "from src.exploration import *\n",
    "import src.realtime as rt\n",
    "\n",
    "from sklearn.ensemble import RandomForestClassifier\n",
    "from sklearn.grid_search import RandomizedSearchCV\n",
    "from sklearn.metrics import accuracy_score\n",
    "from sklearn.metrics import classification_report\n",
    "from sklearn.metrics import confusion_matrix\n",
    "from sklearn import svm\n",
    "\n",
    "pd.set_option('display.max_columns', 500)"
   ]
  },
  {
   "cell_type": "code",
   "execution_count": 54,
   "metadata": {
    "collapsed": false
   },
   "outputs": [],
   "source": [
    "# The three inputs needed\n",
    "pitcher = 543135\n",
    "pitcher_name = \"Nathan Eovaldi\"\n",
    "gid = \"gid_2015_08_13_nyamlb_clemlb_1\"\n",
    "\n",
    "# Establish a connection to the redshift database\n",
    "conn = create_rs_conn(config=REDSHIFT_CONFIG)\n",
    "cur = conn.cursor()\n",
    "\n",
    "# Connect to Twitter\n",
    "with open('twitter_auth.pkl', 'rb') as pkl_file:\n",
    "    twitter_auth_dict = pickle.load(pkl_file)\n",
    "\n",
    "api = twitter.Api(consumer_key = twitter_auth_dict['consumer_key'],\n",
    "                      consumer_secret = twitter_auth_dict['consumer_secret'],\n",
    "                      access_token_key = twitter_auth_dict['access_token_key'],\n",
    "                      access_token_secret = twitter_auth_dict['access_token_secret'])"
   ]
  },
  {
   "cell_type": "code",
   "execution_count": 55,
   "metadata": {
    "collapsed": false
   },
   "outputs": [],
   "source": [
    "#Get the historical pitcher info from redshift and store it\n",
    "raw_query = \"\"\"SELECT * FROM all_pitch_data \\\n",
    "WHERE game_id IN \\\n",
    "(SELECT DISTINCT game_id FROM all_pitch_data \\\n",
    "WHERE pitcher = %d)\n",
    "\"\"\" % pitcher\n",
    "\n",
    "sample_header, sample_rows = run_rs_query(cur, raw_query)\n",
    "pitch_df = pd.DataFrame(sample_rows)\n",
    "pitch_df.columns = sample_header    "
   ]
  },
  {
   "cell_type": "code",
   "execution_count": 56,
   "metadata": {
    "collapsed": false
   },
   "outputs": [
    {
     "name": "stdout",
     "output_type": "stream",
     "text": [
      "Tweeting predictions for Nathan Eovaldi's pitches during today's game between NYA and CLE.\n",
      "Gettin' data!\n",
      "Pitch 1: We'd have guessed Fastball and the answer was Fastball so we were right\n",
      "Pitch 2: We'd have guessed Fastball and the answer was Fastball so we were right\n",
      "Pitch 3: We'd have guessed Fastball and the answer was Fastball so we were right\n",
      "Pitch 4: We'd have guessed Fastball and the answer was Fastball so we were right\n",
      "Pitch 5: We'd have guessed Fastball and the answer was Not_Fastball so we were wrong\n",
      "Pitch 6: We'd have guessed Fastball and the answer was Not_Fastball so we were wrong\n",
      "Pitch 7: We'd have guessed Fastball and the answer was Fastball so we were right\n",
      "Pitch 8: We'd have guessed Fastball and the answer was Fastball so we were right\n",
      "Pitch 9: We'd have guessed Fastball and the answer was Fastball so we were right\n",
      "Pitch 10: We'd have guessed Fastball and the answer was Fastball so we were right\n",
      "Pitch 11: We'd have guessed Fastball and the answer was Fastball so we were right\n",
      "Pitch 12: We'd have guessed Fastball and the answer was Not_Fastball so we were wrong\n",
      "Pitch 13: We'd have guessed Fastball and the answer was Fastball so we were right\n",
      "Gettin' data!\n",
      "Pitch 14: We'd have guessed Fastball and the answer was Fastball so we were right\n",
      "Pitch 15: We'd have guessed Fastball and the answer was Not_Fastball so we were wrong\n",
      "Pitch 16: We'd have guessed Fastball and the answer was Fastball so we were right\n",
      "Pitch 17: We'd have guessed Fastball and the answer was Fastball so we were right\n",
      "Pitch 18: We'd have guessed Fastball and the answer was Fastball so we were right\n",
      "Pitch 19: We'd have guessed Fastball and the answer was Not_Fastball so we were wrong\n",
      "Pitch 20: We'd have guessed Fastball and the answer was Fastball so we were right\n",
      "Pitch 21: We'd have guessed Fastball and the answer was Fastball so we were right\n",
      "Gettin' data!\n",
      "Gettin' data!\n",
      "Pitch 22: We'd have guessed Fastball and the answer was Not_Fastball so we were wrong\n",
      "Gettin' data!\n",
      "Gettin' data!\n",
      "Gettin' data!\n",
      "Gettin' data!\n",
      "Gettin' data!\n",
      "Gettin' data!\n",
      "Gettin' data!\n",
      "Gettin' data!\n",
      "Gettin' data!\n",
      "Gettin' data!\n",
      "Gettin' data!\n",
      "Gettin' data!\n",
      "Gettin' data!\n",
      "Gettin' data!\n",
      "Gettin' data!\n",
      "Gettin' data!\n",
      "Gettin' data!\n",
      "Gettin' data!\n",
      "Gettin' data!\n",
      "Gettin' data!\n",
      "Gettin' data!\n",
      "Gettin' data!\n",
      "Gettin' data!\n",
      "Gettin' data!\n",
      "Gettin' data!\n",
      "Gettin' data!\n",
      "Gettin' data!\n",
      "Gettin' data!\n",
      "Gettin' data!\n",
      "Gettin' data!\n",
      "Gettin' data!\n",
      "Pitch 23: We'd have guessed Fastball and the answer was Fastball so we were right\n",
      "Pitch 24: We'd have guessed Fastball and the answer was Fastball so we were right\n",
      "Pitch 25: We'd have guessed Fastball and the answer was Fastball so we were right\n",
      "Pitch 26: We'd have guessed Fastball and the answer was Fastball so we were right\n",
      "Gettin' data!\n",
      "Pitch 27: We'd have guessed Fastball and the answer was Not_Fastball so we were wrong\n",
      "Pitch 28: We'd have guessed Fastball and the answer was Not_Fastball so we were wrong\n",
      "Gettin' data!\n",
      "Gettin' data!\n",
      "Gettin' data!\n",
      "Gettin' data!\n",
      "Pitch 29: We'd have guessed Fastball and the answer was Fastball so we were right\n",
      "Pitch 30: We'd have guessed Fastball and the answer was Fastball so we were right\n",
      "Gettin' data!\n",
      "Gettin' data!\n",
      "Gettin' data!\n",
      "Gettin' data!\n",
      "Gettin' data!\n",
      "Gettin' data!\n",
      "Gettin' data!\n",
      "Gettin' data!\n",
      "Gettin' data!\n",
      "Gettin' data!\n",
      "Gettin' data!\n",
      "Gettin' data!\n",
      "Gettin' data!\n",
      "Gettin' data!\n",
      "Gettin' data!\n"
     ]
    },
    {
     "ename": "KeyboardInterrupt",
     "evalue": "",
     "output_type": "error",
     "traceback": [
      "\u001b[0;31m---------------------------------------------------------------------------\u001b[0m",
      "\u001b[0;31mKeyboardInterrupt\u001b[0m                         Traceback (most recent call last)",
      "\u001b[0;32m<ipython-input-56-097956938008>\u001b[0m in \u001b[0;36m<module>\u001b[0;34m()\u001b[0m\n\u001b[1;32m     57\u001b[0m                 \u001b[0mpreds_made\u001b[0m \u001b[0;34m=\u001b[0m \u001b[0mlen\u001b[0m\u001b[0;34m(\u001b[0m\u001b[0mnew_preds\u001b[0m\u001b[0;34m)\u001b[0m\u001b[0;34m\u001b[0m\u001b[0m\n\u001b[1;32m     58\u001b[0m \u001b[0;34m\u001b[0m\u001b[0m\n\u001b[0;32m---> 59\u001b[0;31m     \u001b[0msleep\u001b[0m\u001b[0;34m(\u001b[0m\u001b[0;36m3\u001b[0m\u001b[0;34m)\u001b[0m \u001b[0;31m# No DOS attacks on MLB\u001b[0m\u001b[0;34m\u001b[0m\u001b[0m\n\u001b[0m",
      "\u001b[0;31mKeyboardInterrupt\u001b[0m: "
     ]
    }
   ],
   "source": [
    "# Process GID information for realtime scraping\n",
    "gid_components = gid.split(\"_\")\n",
    "game_date = \"-\".join(gid_components[1:4])\n",
    "game_id = \"/\".join(gid_components[1:4]) + \"/\" + \"-\".join(gid_components[4:7])\n",
    "\n",
    "teams = [x[0:3].upper() for x in gid_components[4:6]]\n",
    "start_string = 'Tweeting predictions for ' + pitcher_name + '\\'s pitches during today\\'s game between ' + str(teams[0]) + ' and ' + str(teams[1]) + '.'\n",
    "\n",
    "print start_string\n",
    "api.PostUpdate(start_string)\n",
    "\n",
    "# Set up object to make multiple predictions\n",
    "pm = rt.Prediction_Machine(pitcher, pitch_df, game_date)\n",
    "\n",
    "# Every three seconds, take a look at the server\n",
    "# If there are new pitches, then load the whole game's information into the object\n",
    "# Make predictions for all pitches, and report pitches that haven't been reported before\n",
    "\n",
    "last_id = 0\n",
    "preds_made = 0\n",
    "\n",
    "for i in range(0,1000):\n",
    "    print \"Gettin' data!\"\n",
    "\n",
    "    # Peek at the server\n",
    "    data = rt.AtBats(gid, game_id).save()\n",
    "    new_data = data[data['id'].astype(int) > last_id]\n",
    "    \n",
    "    next_pitch = new_data.head(1)\n",
    "\n",
    "    # No pitches since the last peek\n",
    "    if next_pitch.empty:\n",
    "        print \"No new pitches yet\"\n",
    "        \n",
    "    # There are new pitches\n",
    "    else:\n",
    "        new_id = int(next_pitch.id)\n",
    "\n",
    "        if new_id > last_id:\n",
    "            \n",
    "            last_id = new_id\n",
    "            \n",
    "            # Make predictions on all pitches\n",
    "            new_preds, new_targets = pm.get_new_pred(data)\n",
    "                        \n",
    "            if len(new_preds) > preds_made:\n",
    "                \n",
    "                # For each unreported pitch, report it\n",
    "                for i in range(preds_made, len(new_preds)):\n",
    "                    outcome = \"right\" if new_preds[i] == new_targets.values[i] else \"wrong\"\n",
    "                    result_string = \"Pitch \" + str(i + 1) +\": We'd have guessed \" + \\\n",
    "                                    new_preds[i] + \" and the answer was \" + \\\n",
    "                                    new_targets.values[i] + \" so we were \" + outcome\n",
    "                    \n",
    "                    api.PostUpdate(result_string)\n",
    "                    print result_string\n",
    "                    sleep(1)\n",
    "                \n",
    "                preds_made = len(new_preds)\n",
    "\n",
    "    sleep(3) # No DOS attacks on MLB"
   ]
  },
  {
   "cell_type": "code",
   "execution_count": 12,
   "metadata": {
    "collapsed": false
   },
   "outputs": [
    {
     "data": {
      "text/plain": [
       "<module 'src.realtime' from 'src/realtime.py'>"
      ]
     },
     "execution_count": 12,
     "metadata": {},
     "output_type": "execute_result"
    }
   ],
   "source": [
    "reload(rt)"
   ]
  },
  {
   "cell_type": "code",
   "execution_count": 52,
   "metadata": {
    "collapsed": false
   },
   "outputs": [
    {
     "data": {
      "text/plain": [
       "\"Tweeting predictions for Nathan Eovaldi's pitches during todays game between NYA and CLE.\""
      ]
     },
     "execution_count": 52,
     "metadata": {},
     "output_type": "execute_result"
    }
   ],
   "source": [
    "gid_components = gid.split(\"_\")\n",
    "teams = [x[0:3].upper() for x in gid_components[4:6]]\n",
    "\n",
    "\n",
    "\n",
    "start_string"
   ]
  }
 ],
 "metadata": {
  "kernelspec": {
   "display_name": "Python 2",
   "language": "python",
   "name": "python2"
  },
  "language_info": {
   "codemirror_mode": {
    "name": "ipython",
    "version": 2
   },
   "file_extension": ".py",
   "mimetype": "text/x-python",
   "name": "python",
   "nbconvert_exporter": "python",
   "pygments_lexer": "ipython2",
   "version": "2.7.9"
  }
 },
 "nbformat": 4,
 "nbformat_minor": 0
}
