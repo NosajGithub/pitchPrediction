{
 "cells": [
  {
   "cell_type": "code",
   "execution_count": 1,
   "metadata": {
    "collapsed": false
   },
   "outputs": [],
   "source": [
    "import pandas as pd\n",
    "import numpy as np\n",
    "from time import sleep\n",
    "from datetime import date, timedelta\n",
    "\n",
    "from scipy.stats import randint as sp_randint\n",
    "\n",
    "from config import REDSHIFT_CONFIG\n",
    "from src.features import *\n",
    "from src.utils import *\n",
    "from src.validation import *\n",
    "from src.exploration import *\n",
    "import src.realtime as rt\n",
    "\n",
    "from sklearn.ensemble import RandomForestClassifier\n",
    "from sklearn.grid_search import RandomizedSearchCV\n",
    "from sklearn.metrics import accuracy_score\n",
    "from sklearn.metrics import classification_report\n",
    "from sklearn.metrics import confusion_matrix\n",
    "from sklearn import svm\n",
    "\n",
    "pd.set_option('display.max_columns', 500)"
   ]
  },
  {
   "cell_type": "code",
   "execution_count": 2,
   "metadata": {
    "collapsed": false
   },
   "outputs": [],
   "source": [
    "# The two inputs needed\n",
    "pitcher = 444857\n",
    "gid = \"gid_2015_08_12_houmlb_sfnmlb_1\"\n",
    "\n",
    "# Establish a connection to the redshift database\n",
    "conn = create_rs_conn(config=REDSHIFT_CONFIG)\n",
    "cur = conn.cursor()"
   ]
  },
  {
   "cell_type": "code",
   "execution_count": 3,
   "metadata": {
    "collapsed": false
   },
   "outputs": [],
   "source": [
    "#Get the historical pitcher info from redshift and store it\n",
    "raw_query = \"\"\"SELECT * FROM all_pitch_data \\\n",
    "WHERE game_id IN \\\n",
    "(SELECT DISTINCT game_id FROM all_pitch_data \\\n",
    "WHERE pitcher = %d)\n",
    "\"\"\" % pitcher\n",
    "\n",
    "sample_header, sample_rows = run_rs_query(cur, raw_query)\n",
    "pitch_df = pd.DataFrame(sample_rows)\n",
    "pitch_df.columns = sample_header    "
   ]
  },
  {
   "cell_type": "code",
   "execution_count": 13,
   "metadata": {
    "collapsed": false
   },
   "outputs": [
    {
     "name": "stdout",
     "output_type": "stream",
     "text": [
      "Gettin' data!\n",
      "Pitch 1: We'd have guessed Fastball and the answer was Fastball so we were right\n",
      "Pitch 2: We'd have guessed Fastball and the answer was Fastball so we were right\n",
      "Pitch 3: We'd have guessed Fastball and the answer was Not_Fastball so we were wrong\n",
      "Pitch 4: We'd have guessed Fastball and the answer was Fastball so we were right\n",
      "Pitch 5: We'd have guessed Fastball and the answer was Fastball so we were right\n",
      "Pitch 6: We'd have guessed Fastball and the answer was Fastball so we were right\n",
      "Pitch 7: We'd have guessed Fastball and the answer was Fastball so we were right\n",
      "Pitch 8: We'd have guessed Fastball and the answer was Not_Fastball so we were wrong\n",
      "Pitch 9: We'd have guessed Fastball and the answer was Fastball so we were right\n",
      "Pitch 10: We'd have guessed Fastball and the answer was Fastball so we were right\n",
      "Pitch 11: We'd have guessed Fastball and the answer was Fastball so we were right\n",
      "Pitch 12: We'd have guessed Fastball and the answer was Not_Fastball so we were wrong\n",
      "Pitch 13: We'd have guessed Fastball and the answer was Fastball so we were right\n",
      "Pitch 14: We'd have guessed Fastball and the answer was Not_Fastball so we were wrong\n",
      "Pitch 15: We'd have guessed Fastball and the answer was Fastball so we were right\n",
      "Pitch 16: We'd have guessed Fastball and the answer was Fastball so we were right\n",
      "Pitch 17: We'd have guessed Fastball and the answer was Fastball so we were right\n",
      "Pitch 18: We'd have guessed Fastball and the answer was Not_Fastball so we were wrong\n",
      "Pitch 19: We'd have guessed Fastball and the answer was Not_Fastball so we were wrong\n",
      "Pitch 20: We'd have guessed Fastball and the answer was Not_Fastball so we were wrong\n",
      "Pitch 21: We'd have guessed Fastball and the answer was Fastball so we were right\n",
      "Pitch 22: We'd have guessed Fastball and the answer was Fastball so we were right\n",
      "Pitch 23: We'd have guessed Fastball and the answer was Fastball so we were right\n",
      "Pitch 24: We'd have guessed Fastball and the answer was Not_Fastball so we were wrong\n",
      "Pitch 25: We'd have guessed Fastball and the answer was Fastball so we were right\n",
      "Pitch 26: We'd have guessed Fastball and the answer was Not_Fastball so we were wrong\n",
      "Pitch 27: We'd have guessed Fastball and the answer was Not_Fastball so we were wrong\n",
      "Pitch 28: We'd have guessed Fastball and the answer was Not_Fastball so we were wrong\n",
      "Pitch 29: We'd have guessed Fastball and the answer was Fastball so we were right\n",
      "Pitch 30: We'd have guessed Fastball and the answer was Not_Fastball so we were wrong\n",
      "Pitch 31: We'd have guessed Fastball and the answer was Fastball so we were right\n",
      "Pitch 32: We'd have guessed Fastball and the answer was Not_Fastball so we were wrong\n",
      "Pitch 33: We'd have guessed Fastball and the answer was Fastball so we were right\n",
      "Pitch 34: We'd have guessed Fastball and the answer was Fastball so we were right\n",
      "Pitch 35: We'd have guessed Fastball and the answer was Fastball so we were right\n",
      "Pitch 36: We'd have guessed Fastball and the answer was Not_Fastball so we were wrong\n",
      "Pitch 37: We'd have guessed Fastball and the answer was Not_Fastball so we were wrong\n",
      "Pitch 38: We'd have guessed Fastball and the answer was Fastball so we were right\n",
      "Pitch 39: We'd have guessed Fastball and the answer was Not_Fastball so we were wrong\n",
      "Pitch 40: We'd have guessed Fastball and the answer was Fastball so we were right\n",
      "Pitch 41: We'd have guessed Not_Fastball and the answer was Not_Fastball so we were right\n",
      "Pitch 42: We'd have guessed Fastball and the answer was Fastball so we were right\n",
      "Pitch 43: We'd have guessed Fastball and the answer was Not_Fastball so we were wrong\n",
      "Pitch 44: We'd have guessed Fastball and the answer was Fastball so we were right\n",
      "Pitch 45: We'd have guessed Fastball and the answer was Not_Fastball so we were wrong\n",
      "Pitch 46: We'd have guessed Fastball and the answer was Fastball so we were right\n",
      "Pitch 47: We'd have guessed Fastball and the answer was Fastball so we were right\n",
      "Pitch 48: We'd have guessed Fastball and the answer was Fastball so we were right\n",
      "Pitch 49: We'd have guessed Fastball and the answer was Fastball so we were right\n",
      "Pitch 50: We'd have guessed Fastball and the answer was Not_Fastball so we were wrong\n",
      "Pitch 51: We'd have guessed Fastball and the answer was Fastball so we were right\n",
      "Pitch 52: We'd have guessed Fastball and the answer was Fastball so we were right\n",
      "Pitch 53: We'd have guessed Fastball and the answer was Fastball so we were right\n",
      "Pitch 54: We'd have guessed Fastball and the answer was Fastball so we were right\n",
      "Pitch 55: We'd have guessed Fastball and the answer was Fastball so we were right\n",
      "Pitch 56: We'd have guessed Fastball and the answer was Not_Fastball so we were wrong\n",
      "Pitch 57: We'd have guessed Fastball and the answer was Fastball so we were right\n",
      "Pitch 58: We'd have guessed Fastball and the answer was Fastball so we were right\n",
      "Pitch 59: We'd have guessed Fastball and the answer was Not_Fastball so we were wrong\n",
      "Pitch 60: We'd have guessed Fastball and the answer was Fastball so we were right\n",
      "Pitch 61: We'd have guessed Not_Fastball and the answer was Fastball so we were wrong\n",
      "Pitch 62: We'd have guessed Fastball and the answer was Fastball so we were right\n",
      "Pitch 63: We'd have guessed Fastball and the answer was Not_Fastball so we were wrong\n",
      "Pitch 64: We'd have guessed Fastball and the answer was Fastball so we were right\n",
      "Pitch 65: We'd have guessed Fastball and the answer was Fastball so we were right\n",
      "Pitch 66: We'd have guessed Fastball and the answer was Not_Fastball so we were wrong\n",
      "Pitch 67: We'd have guessed Fastball and the answer was Not_Fastball so we were wrong\n",
      "Pitch 68: We'd have guessed Fastball and the answer was Fastball so we were right\n",
      "Pitch 69: We'd have guessed Fastball and the answer was Not_Fastball so we were wrong\n",
      "Pitch 70: We'd have guessed Fastball and the answer was Not_Fastball so we were wrong\n",
      "Pitch 71: We'd have guessed Fastball and the answer was Not_Fastball so we were wrong\n",
      "Pitch 72: We'd have guessed Fastball and the answer was Fastball so we were right\n",
      "Pitch 73: We'd have guessed Fastball and the answer was Fastball so we were right\n",
      "Pitch 74: We'd have guessed Fastball and the answer was Fastball so we were right\n",
      "Pitch 75: We'd have guessed Fastball and the answer was Fastball so we were right\n",
      "Pitch 76: We'd have guessed Fastball and the answer was Fastball so we were right\n",
      "Pitch 77: We'd have guessed Fastball and the answer was Fastball so we were right\n",
      "Pitch 78: We'd have guessed Fastball and the answer was Not_Fastball so we were wrong\n",
      "Pitch 79: We'd have guessed Fastball and the answer was Fastball so we were right\n",
      "Pitch 80: We'd have guessed Fastball and the answer was Fastball so we were right\n",
      "Pitch 81: We'd have guessed Fastball and the answer was Fastball so we were right\n",
      "Pitch 82: We'd have guessed Fastball and the answer was Fastball so we were right\n",
      "Pitch 83: We'd have guessed Fastball and the answer was Fastball so we were right\n",
      "Pitch 84: We'd have guessed Fastball and the answer was Fastball so we were right\n",
      "Pitch 85: We'd have guessed Fastball and the answer was Fastball so we were right\n",
      "Gettin' data!\n",
      "Gettin' data!\n"
     ]
    },
    {
     "ename": "KeyboardInterrupt",
     "evalue": "",
     "output_type": "error",
     "traceback": [
      "\u001b[0;31m---------------------------------------------------------------------------\u001b[0m",
      "\u001b[0;31mKeyboardInterrupt\u001b[0m                         Traceback (most recent call last)",
      "\u001b[0;32m<ipython-input-13-86b365debf52>\u001b[0m in \u001b[0;36m<module>\u001b[0;34m()\u001b[0m\n\u001b[1;32m     36\u001b[0m \u001b[0;34m\u001b[0m\u001b[0m\n\u001b[1;32m     37\u001b[0m             \u001b[0;31m# Make predictions on all pitches\u001b[0m\u001b[0;34m\u001b[0m\u001b[0;34m\u001b[0m\u001b[0m\n\u001b[0;32m---> 38\u001b[0;31m             \u001b[0mnew_preds\u001b[0m\u001b[0;34m,\u001b[0m \u001b[0mnew_targets\u001b[0m \u001b[0;34m=\u001b[0m \u001b[0mpm\u001b[0m\u001b[0;34m.\u001b[0m\u001b[0mget_new_pred\u001b[0m\u001b[0;34m(\u001b[0m\u001b[0mdata\u001b[0m\u001b[0;34m)\u001b[0m\u001b[0;34m\u001b[0m\u001b[0m\n\u001b[0m\u001b[1;32m     39\u001b[0m \u001b[0;34m\u001b[0m\u001b[0m\n\u001b[1;32m     40\u001b[0m             \u001b[0;32mif\u001b[0m \u001b[0mlen\u001b[0m\u001b[0;34m(\u001b[0m\u001b[0mnew_preds\u001b[0m\u001b[0;34m)\u001b[0m \u001b[0;34m>\u001b[0m \u001b[0mpreds_made\u001b[0m\u001b[0;34m:\u001b[0m\u001b[0;34m\u001b[0m\u001b[0m\n",
      "\u001b[0;32m/Users/jasongoodman/Desktop/Coursework/Capstone/pitchPrediction/src/realtime.py\u001b[0m in \u001b[0;36mget_new_pred\u001b[0;34m(self, new_pitches)\u001b[0m\n\u001b[1;32m    356\u001b[0m \u001b[0;34m\u001b[0m\u001b[0m\n\u001b[1;32m    357\u001b[0m         \u001b[0;31m#Run 4 classifiers on the data (returns dictionary containing all fitted classifiers)\u001b[0m\u001b[0;34m\u001b[0m\u001b[0;34m\u001b[0m\u001b[0m\n\u001b[0;32m--> 358\u001b[0;31m         \u001b[0mclassifier_dict\u001b[0m \u001b[0;34m=\u001b[0m \u001b[0mrun_all_classifiers\u001b[0m\u001b[0;34m(\u001b[0m\u001b[0mbaseline_dict\u001b[0m\u001b[0;34m)\u001b[0m\u001b[0;34m\u001b[0m\u001b[0m\n\u001b[0m\u001b[1;32m    359\u001b[0m \u001b[0;34m\u001b[0m\u001b[0m\n\u001b[1;32m    360\u001b[0m         \u001b[0mlin_svc_preds\u001b[0m \u001b[0;34m=\u001b[0m \u001b[0mclassifier_dict\u001b[0m\u001b[0;34m[\u001b[0m\u001b[0;34m'lin_svc'\u001b[0m\u001b[0;34m]\u001b[0m\u001b[0;34m.\u001b[0m\u001b[0mpredict\u001b[0m\u001b[0;34m(\u001b[0m\u001b[0mbaseline_dict\u001b[0m\u001b[0;34m[\u001b[0m\u001b[0;34m'test_data'\u001b[0m\u001b[0;34m]\u001b[0m\u001b[0;34m)\u001b[0m\u001b[0;34m\u001b[0m\u001b[0m\n",
      "\u001b[0;32m/Users/jasongoodman/Desktop/Coursework/Capstone/pitchPrediction/src/utils.py\u001b[0m in \u001b[0;36mrun_all_classifiers\u001b[0;34m(data_dict)\u001b[0m\n\u001b[1;32m    415\u001b[0m                                                          \u001b[0mloss\u001b[0m \u001b[0;34m=\u001b[0m \u001b[0;34m'deviance'\u001b[0m\u001b[0;34m,\u001b[0m\u001b[0;34m\u001b[0m\u001b[0m\n\u001b[1;32m    416\u001b[0m                                                          max_features = 'auto')\n\u001b[0;32m--> 417\u001b[0;31m                               .fit(data_dict['train_data'], data_dict['train_targets']))\n\u001b[0m\u001b[1;32m    418\u001b[0m     classifier_dict['log_reg'] = (LogisticRegression(C = 0.1,\n\u001b[1;32m    419\u001b[0m                                                 penalty = 'l1')\n",
      "\u001b[0;32m/usr/local/lib/python2.7/site-packages/sklearn/ensemble/gradient_boosting.pyc\u001b[0m in \u001b[0;36mfit\u001b[0;34m(self, X, y, sample_weight, monitor)\u001b[0m\n\u001b[1;32m    978\u001b[0m         \u001b[0;31m# fit the boosting stages\u001b[0m\u001b[0;34m\u001b[0m\u001b[0;34m\u001b[0m\u001b[0m\n\u001b[1;32m    979\u001b[0m         n_stages = self._fit_stages(X, y, y_pred, sample_weight, random_state,\n\u001b[0;32m--> 980\u001b[0;31m                                     begin_at_stage, monitor)\n\u001b[0m\u001b[1;32m    981\u001b[0m         \u001b[0;31m# change shape of arrays after fit (early-stopping or additional ests)\u001b[0m\u001b[0;34m\u001b[0m\u001b[0;34m\u001b[0m\u001b[0m\n\u001b[1;32m    982\u001b[0m         \u001b[0;32mif\u001b[0m \u001b[0mn_stages\u001b[0m \u001b[0;34m!=\u001b[0m \u001b[0mself\u001b[0m\u001b[0;34m.\u001b[0m\u001b[0mestimators_\u001b[0m\u001b[0;34m.\u001b[0m\u001b[0mshape\u001b[0m\u001b[0;34m[\u001b[0m\u001b[0;36m0\u001b[0m\u001b[0;34m]\u001b[0m\u001b[0;34m:\u001b[0m\u001b[0;34m\u001b[0m\u001b[0m\n",
      "\u001b[0;32m/usr/local/lib/python2.7/site-packages/sklearn/ensemble/gradient_boosting.pyc\u001b[0m in \u001b[0;36m_fit_stages\u001b[0;34m(self, X, y, y_pred, sample_weight, random_state, begin_at_stage, monitor)\u001b[0m\n\u001b[1;32m   1038\u001b[0m             y_pred = self._fit_stage(i, X, y, y_pred, sample_weight,\n\u001b[1;32m   1039\u001b[0m                                      \u001b[0msample_mask\u001b[0m\u001b[0;34m,\u001b[0m \u001b[0mcriterion\u001b[0m\u001b[0;34m,\u001b[0m \u001b[0msplitter\u001b[0m\u001b[0;34m,\u001b[0m\u001b[0;34m\u001b[0m\u001b[0m\n\u001b[0;32m-> 1040\u001b[0;31m                                      random_state)\n\u001b[0m\u001b[1;32m   1041\u001b[0m \u001b[0;34m\u001b[0m\u001b[0m\n\u001b[1;32m   1042\u001b[0m             \u001b[0;31m# track deviance (= loss)\u001b[0m\u001b[0;34m\u001b[0m\u001b[0;34m\u001b[0m\u001b[0m\n",
      "\u001b[0;32m/usr/local/lib/python2.7/site-packages/sklearn/ensemble/gradient_boosting.pyc\u001b[0m in \u001b[0;36m_fit_stage\u001b[0;34m(self, i, X, y, y_pred, sample_weight, sample_mask, criterion, splitter, random_state)\u001b[0m\n\u001b[1;32m    764\u001b[0m \u001b[0;34m\u001b[0m\u001b[0m\n\u001b[1;32m    765\u001b[0m             tree.fit(X, residual, sample_weight=sample_weight,\n\u001b[0;32m--> 766\u001b[0;31m                      check_input=False)\n\u001b[0m\u001b[1;32m    767\u001b[0m \u001b[0;34m\u001b[0m\u001b[0m\n\u001b[1;32m    768\u001b[0m             \u001b[0;31m# update tree leaves\u001b[0m\u001b[0;34m\u001b[0m\u001b[0;34m\u001b[0m\u001b[0m\n",
      "\u001b[0;32m/usr/local/lib/python2.7/site-packages/sklearn/tree/tree.pyc\u001b[0m in \u001b[0;36mfit\u001b[0;34m(self, X, y, sample_weight, check_input)\u001b[0m\n\u001b[1;32m    302\u001b[0m                                            max_leaf_nodes)\n\u001b[1;32m    303\u001b[0m \u001b[0;34m\u001b[0m\u001b[0m\n\u001b[0;32m--> 304\u001b[0;31m         \u001b[0mbuilder\u001b[0m\u001b[0;34m.\u001b[0m\u001b[0mbuild\u001b[0m\u001b[0;34m(\u001b[0m\u001b[0mself\u001b[0m\u001b[0;34m.\u001b[0m\u001b[0mtree_\u001b[0m\u001b[0;34m,\u001b[0m \u001b[0mX\u001b[0m\u001b[0;34m,\u001b[0m \u001b[0my\u001b[0m\u001b[0;34m,\u001b[0m \u001b[0msample_weight\u001b[0m\u001b[0;34m)\u001b[0m\u001b[0;34m\u001b[0m\u001b[0m\n\u001b[0m\u001b[1;32m    305\u001b[0m \u001b[0;34m\u001b[0m\u001b[0m\n\u001b[1;32m    306\u001b[0m         \u001b[0;32mif\u001b[0m \u001b[0mself\u001b[0m\u001b[0;34m.\u001b[0m\u001b[0mn_outputs_\u001b[0m \u001b[0;34m==\u001b[0m \u001b[0;36m1\u001b[0m\u001b[0;34m:\u001b[0m\u001b[0;34m\u001b[0m\u001b[0m\n",
      "\u001b[0;31mKeyboardInterrupt\u001b[0m: "
     ]
    }
   ],
   "source": [
    "# Process GID information for realtime scraping\n",
    "gid_components = gid.split(\"_\")\n",
    "game_date = \"-\".join(gid_components[1:4])\n",
    "game_id = \"/\".join(gid_components[1:4]) + \"/\" + \"-\".join(gid_components[4:7])\n",
    "\n",
    "# Set up object to make multiple predictions\n",
    "pm = rt.Prediction_Machine(pitcher, pitch_df, game_date)\n",
    "\n",
    "# Every three seconds, take a look at the server\n",
    "# If there are new pitches, then load the whole game's information into the object\n",
    "# Make predictions for all pitches, and report pitches that haven't been reported before\n",
    "\n",
    "last_id = 0\n",
    "preds_made = 0\n",
    "\n",
    "for i in range(0,1000):\n",
    "    print \"Gettin' data!\"\n",
    "\n",
    "    # Peek at the server\n",
    "    data = rt.AtBats(gid, game_id).save()\n",
    "    new_data = data[data['id'].astype(int) > last_id]\n",
    "    \n",
    "    next_pitch = new_data.head(1)\n",
    "\n",
    "    # No pitches since the last peek\n",
    "    if next_pitch.empty:\n",
    "        print \"No new pitches yet\"\n",
    "        \n",
    "    # There are new pitches\n",
    "    else:\n",
    "        new_id = int(next_pitch.id)\n",
    "\n",
    "        if new_id > last_id:\n",
    "            \n",
    "            last_id = new_id\n",
    "            \n",
    "            # Make predictions on all pitches\n",
    "            new_preds, new_targets = pm.get_new_pred(data)\n",
    "                        \n",
    "            if len(new_preds) > preds_made:\n",
    "                \n",
    "                # For each unreported pitch, report it\n",
    "                for i in range(preds_made, len(new_preds)):\n",
    "                    outcome = \"right\" if new_preds[i] == new_targets.values[i] else \"wrong\"\n",
    "                    \n",
    "                    print \"Pitch \" + str(i + 1) +\": We'd have guessed \" + \\\n",
    "                    new_preds[i] + \" and the answer was \" + \\\n",
    "                    new_targets.values[i] + \" so we were \" + outcome        \n",
    "                \n",
    "                preds_made = len(new_preds)\n",
    "\n",
    "    sleep(3) # No DOS attacks on MLB"
   ]
  },
  {
   "cell_type": "code",
   "execution_count": 12,
   "metadata": {
    "collapsed": false
   },
   "outputs": [
    {
     "data": {
      "text/plain": [
       "<module 'src.realtime' from 'src/realtime.py'>"
      ]
     },
     "execution_count": 12,
     "metadata": {},
     "output_type": "execute_result"
    }
   ],
   "source": [
    "reload(rt)"
   ]
  }
 ],
 "metadata": {
  "kernelspec": {
   "display_name": "Python 2",
   "language": "python",
   "name": "python2"
  },
  "language_info": {
   "codemirror_mode": {
    "name": "ipython",
    "version": 2
   },
   "file_extension": ".py",
   "mimetype": "text/x-python",
   "name": "python",
   "nbconvert_exporter": "python",
   "pygments_lexer": "ipython2",
   "version": "2.7.9"
  }
 },
 "nbformat": 4,
 "nbformat_minor": 0
}
