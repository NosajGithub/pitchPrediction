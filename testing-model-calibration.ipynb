{
 "cells": [
  {
   "cell_type": "markdown",
   "metadata": {},
   "source": [
    "#Testing Model Calibration"
   ]
  },
  {
   "cell_type": "code",
   "execution_count": 1,
   "metadata": {
    "collapsed": true
   },
   "outputs": [],
   "source": [
    "#todo:\n",
    "#Scale features for some classifiers\n",
    "#automate ensemble\n",
    "#Boruta\n",
    "#Add classifiers (non-linear SVM)"
   ]
  },
  {
   "cell_type": "code",
   "execution_count": 28,
   "metadata": {
    "collapsed": false
   },
   "outputs": [],
   "source": [
    "%matplotlib inline\n",
    "\n",
    "#Import necessary packages\n",
    "import psycopg2\n",
    "import sys  \n",
    "\n",
    "import numpy as np\n",
    "import pandas as pd\n",
    "\n",
    "import matplotlib.pyplot as plt\n",
    "from matplotlib import cm\n",
    "\n",
    "from config import REDSHIFT_CONFIG\n",
    "from src.features import *\n",
    "from src.utils import *\n",
    "from src.validation import *\n",
    "\n",
    "reload(sys)\n",
    "sys.setdefaultencoding('utf8')\n",
    "\n",
    "from src.exploration import *"
   ]
  },
  {
   "cell_type": "code",
   "execution_count": 3,
   "metadata": {
    "collapsed": true
   },
   "outputs": [],
   "source": [
    "# Establish a connection to the redshift database\n",
    "conn = create_rs_conn(config=REDSHIFT_CONFIG)\n",
    "cur = conn.cursor()"
   ]
  },
  {
   "cell_type": "markdown",
   "metadata": {},
   "source": [
    "## Creating data sets for Verlander from both the original pitch data and the rule-based reclassification provided by Alan. Then, going to run through some modeling with them and compare the accuracy differences "
   ]
  },
  {
   "cell_type": "code",
   "execution_count": 6,
   "metadata": {
    "collapsed": false
   },
   "outputs": [],
   "source": [
    "#Going to run through these steps with the real verlander and reclassed verlander data side by side\n",
    "verlander_df = get_pitcher_df_for_modeling(cur, pitcher_id = 434378, date_subsetting = False)\n",
    "verlander_df_rc = get_pitcher_df_for_modeling(cur, pitcher_id = 434378, date_subsetting = False, table = 'all_pitch_data_reclass')"
   ]
  },
  {
   "cell_type": "code",
   "execution_count": 7,
   "metadata": {
    "collapsed": true
   },
   "outputs": [],
   "source": [
    "#Subset the dates to get rid of weird data before 2009 and partial season data in 2015\n",
    "verlander_df = verlander_df[(verlander_df['date'] >= '2009-01-01') &\n",
    "                            (verlander_df['date'] <= '2015-01-01')]\n",
    "verlander_df_rc = verlander_df_rc[(verlander_df_rc['date'] >= '2009-01-01') &\n",
    "                            (verlander_df_rc['date'] <= '2015-01-01')]"
   ]
  },
  {
   "cell_type": "markdown",
   "metadata": {},
   "source": [
    "###Check out the binarized breakdown of pitch types by year for the original and reclassified pitches"
   ]
  },
  {
   "cell_type": "code",
   "execution_count": 8,
   "metadata": {
    "collapsed": false
   },
   "outputs": [
    {
     "data": {
      "text/html": [
       "<div>\n",
       "<table border=\"1\" class=\"dataframe\">\n",
       "  <thead>\n",
       "    <tr style=\"text-align: right;\">\n",
       "      <th>pitch_type</th>\n",
       "      <th>Fastball</th>\n",
       "      <th>Not_Fastball</th>\n",
       "    </tr>\n",
       "  </thead>\n",
       "  <tbody>\n",
       "    <tr>\n",
       "      <th>2009</th>\n",
       "      <td>2633</td>\n",
       "      <td>1285</td>\n",
       "    </tr>\n",
       "    <tr>\n",
       "      <th>2010</th>\n",
       "      <td>2187</td>\n",
       "      <td>1551</td>\n",
       "    </tr>\n",
       "    <tr>\n",
       "      <th>2011</th>\n",
       "      <td>2456</td>\n",
       "      <td>1811</td>\n",
       "    </tr>\n",
       "    <tr>\n",
       "      <th>2012</th>\n",
       "      <td>2303</td>\n",
       "      <td>1829</td>\n",
       "    </tr>\n",
       "    <tr>\n",
       "      <th>2013</th>\n",
       "      <td>2225</td>\n",
       "      <td>1704</td>\n",
       "    </tr>\n",
       "    <tr>\n",
       "      <th>2014</th>\n",
       "      <td>1936</td>\n",
       "      <td>1574</td>\n",
       "    </tr>\n",
       "  </tbody>\n",
       "</table>\n",
       "</div>"
      ],
      "text/plain": [
       "pitch_type  Fastball  Not_Fastball\n",
       "2009            2633          1285\n",
       "2010            2187          1551\n",
       "2011            2456          1811\n",
       "2012            2303          1829\n",
       "2013            2225          1704\n",
       "2014            1936          1574"
      ]
     },
     "execution_count": 8,
     "metadata": {},
     "output_type": "execute_result"
    }
   ],
   "source": [
    "get_pitch_types_by_year(verlander_df, use_gameday=False)"
   ]
  },
  {
   "cell_type": "code",
   "execution_count": 9,
   "metadata": {
    "collapsed": false
   },
   "outputs": [
    {
     "data": {
      "text/html": [
       "<div>\n",
       "<table border=\"1\" class=\"dataframe\">\n",
       "  <thead>\n",
       "    <tr style=\"text-align: right;\">\n",
       "      <th>pitch_type</th>\n",
       "      <th>Fastball</th>\n",
       "      <th>Not_Fastball</th>\n",
       "    </tr>\n",
       "  </thead>\n",
       "  <tbody>\n",
       "    <tr>\n",
       "      <th>2009</th>\n",
       "      <td>2568</td>\n",
       "      <td>1350</td>\n",
       "    </tr>\n",
       "    <tr>\n",
       "      <th>2010</th>\n",
       "      <td>2300</td>\n",
       "      <td>1438</td>\n",
       "    </tr>\n",
       "    <tr>\n",
       "      <th>2011</th>\n",
       "      <td>2421</td>\n",
       "      <td>1846</td>\n",
       "    </tr>\n",
       "    <tr>\n",
       "      <th>2012</th>\n",
       "      <td>2386</td>\n",
       "      <td>1746</td>\n",
       "    </tr>\n",
       "    <tr>\n",
       "      <th>2013</th>\n",
       "      <td>2192</td>\n",
       "      <td>1737</td>\n",
       "    </tr>\n",
       "    <tr>\n",
       "      <th>2014</th>\n",
       "      <td>1933</td>\n",
       "      <td>1577</td>\n",
       "    </tr>\n",
       "  </tbody>\n",
       "</table>\n",
       "</div>"
      ],
      "text/plain": [
       "pitch_type  Fastball  Not_Fastball\n",
       "2009            2568          1350\n",
       "2010            2300          1438\n",
       "2011            2421          1846\n",
       "2012            2386          1746\n",
       "2013            2192          1737\n",
       "2014            1933          1577"
      ]
     },
     "execution_count": 9,
     "metadata": {},
     "output_type": "execute_result"
    }
   ],
   "source": [
    "#Same totals but different fractions of each pitch\n",
    "get_pitch_types_by_year(verlander_df_rc, use_gameday=False)"
   ]
  },
  {
   "cell_type": "markdown",
   "metadata": {},
   "source": [
    "### Splitting the data half-way through the 2014 season and then checking to make sure the two data sets are identical in terms of number of observations"
   ]
  },
  {
   "cell_type": "code",
   "execution_count": 10,
   "metadata": {
    "collapsed": true
   },
   "outputs": [],
   "source": [
    "modeling_data = split_test_train(verlander_df, '2014-06-01')\n",
    "modeling_data_rc = split_test_train(verlander_df_rc, '2014-06-01')"
   ]
  },
  {
   "cell_type": "code",
   "execution_count": 11,
   "metadata": {
    "collapsed": false
   },
   "outputs": [
    {
     "data": {
      "text/plain": [
       "21332"
      ]
     },
     "execution_count": 11,
     "metadata": {},
     "output_type": "execute_result"
    }
   ],
   "source": [
    "len(modeling_data['train_data'])"
   ]
  },
  {
   "cell_type": "code",
   "execution_count": 12,
   "metadata": {
    "collapsed": false
   },
   "outputs": [
    {
     "data": {
      "text/plain": [
       "True"
      ]
     },
     "execution_count": 12,
     "metadata": {},
     "output_type": "execute_result"
    }
   ],
   "source": [
    "len(modeling_data['train_data']) == len(modeling_data_rc['train_data'])"
   ]
  },
  {
   "cell_type": "code",
   "execution_count": 13,
   "metadata": {
    "collapsed": false
   },
   "outputs": [
    {
     "data": {
      "text/plain": [
       "2162"
      ]
     },
     "execution_count": 13,
     "metadata": {},
     "output_type": "execute_result"
    }
   ],
   "source": [
    "len(modeling_data['test_data'])"
   ]
  },
  {
   "cell_type": "code",
   "execution_count": 14,
   "metadata": {
    "collapsed": false
   },
   "outputs": [
    {
     "data": {
      "text/plain": [
       "True"
      ]
     },
     "execution_count": 14,
     "metadata": {},
     "output_type": "execute_result"
    }
   ],
   "source": [
    "len(modeling_data['test_data'])  == len(modeling_data_rc['test_data']) "
   ]
  },
  {
   "cell_type": "code",
   "execution_count": 15,
   "metadata": {
    "collapsed": true
   },
   "outputs": [],
   "source": [
    "#Increase the number of columns displayed with Pandas\n",
    "pd.set_option('display.max_columns', 500)"
   ]
  },
  {
   "cell_type": "markdown",
   "metadata": {},
   "source": [
    "### Importing libraries needed to run a Random Forest and evaluate the accuracy"
   ]
  },
  {
   "cell_type": "code",
   "execution_count": 16,
   "metadata": {
    "collapsed": true
   },
   "outputs": [],
   "source": [
    "from sklearn.ensemble import RandomForestClassifier\n",
    "from sklearn.grid_search import RandomizedSearchCV\n",
    "from scipy.stats import randint as sp_randint\n",
    "from sklearn.metrics import accuracy_score"
   ]
  },
  {
   "cell_type": "markdown",
   "metadata": {},
   "source": [
    "Function to Subset the data down to contain only certain columns"
   ]
  },
  {
   "cell_type": "code",
   "execution_count": 17,
   "metadata": {
    "collapsed": true
   },
   "outputs": [],
   "source": [
    "def subset_data(modeling_dict, cols_of_interest):\n",
    "    new_dict = modeling_dict.copy()\n",
    "    new_dict['train_data'] = new_dict['train_data'][cols_of_interest]\n",
    "    new_dict['test_data'] = new_dict['test_data'][cols_of_interest]\n",
    "    return new_dict"
   ]
  },
  {
   "cell_type": "markdown",
   "metadata": {},
   "source": [
    "Check out the columns for potential subsetting"
   ]
  },
  {
   "cell_type": "code",
   "execution_count": 18,
   "metadata": {
    "collapsed": false
   },
   "outputs": [
    {
     "data": {
      "text/plain": [
       "Index([u'b', u's', u'on_1b', u'on_2b', u'on_3b', u'o', u'home_wins',\n",
       "       u'home_loss', u'away_wins', u'away_loss', u'Not_Fastball_pb_prior',\n",
       "       u'Not_Fastball_pbs_prior', u'Fastball_pb_prior', u'Fastball_pbs_prior',\n",
       "       u'Not_Fastball_pc_prior', u'Not_Fastball_pcs_prior',\n",
       "       u'Fastball_pc_prior', u'Fastball_pcs_prior', u'Not_Fastball_pg_prior',\n",
       "       u'Not_Fastball_pgs_prior', u'Fastball_pg_prior', u'Fastball_pgs_prior',\n",
       "       u'score_diff', u'ingame_pitch_count', u'season_pitch_count',\n",
       "       u'prev_pitches_mean_start_speed', u'prev_pitches_mean_end_speed',\n",
       "       u'prev_pitches_mean_break_y', u'prev_pitches_mean_break_angle',\n",
       "       u'prev_pitches_mean_break_length', u'cur_season', u'stand_L',\n",
       "       u'stand_R', u'p_throws_R', u'stadium_name_AT&T Park',\n",
       "       u'stadium_name_Angel Stadium of Anaheim', u'stadium_name_Busch Stadium',\n",
       "       u'stadium_name_Chase Field', u'stadium_name_Citi Field',\n",
       "       u'stadium_name_Comerica Park', u'stadium_name_Coors Field',\n",
       "       u'stadium_name_Fenway Park', u'stadium_name_Great American Ball Park',\n",
       "       u'stadium_name_Hubert H. Humphrey Metrodome',\n",
       "       u'stadium_name_Kauffman Stadium', u'stadium_name_Marlins Park',\n",
       "       u'stadium_name_Minute Maid Park', u'stadium_name_O.co Coliseum',\n",
       "       u'stadium_name_Oakland Coliseum',\n",
       "       u'stadium_name_Oriole Park at Camden Yards', u'stadium_name_PNC Park',\n",
       "       u'stadium_name_Petco Park', u'stadium_name_Progressive Field',\n",
       "       u'stadium_name_Rangers Ballpark in Arlington',\n",
       "       u'stadium_name_Rogers Centre', u'stadium_name_Safeco Field',\n",
       "       u'stadium_name_Target Field', u'stadium_name_Tropicana Field',\n",
       "       u'stadium_name_Turner Field', u'stadium_name_U.S. Cellular Field',\n",
       "       u'stadium_name_Wrigley Field', u'stadium_name_Yankee Stadium',\n",
       "       u'last_pitch_type_Fastball', u'last_pitch_type_Not_Fastball',\n",
       "       u'last_pitch_type_not_available', u'second_last_pitch_type_Fastball',\n",
       "       u'second_last_pitch_type_Not_Fastball',\n",
       "       u'second_last_pitch_type_not_available',\n",
       "       u'third_last_pitch_type_Fastball',\n",
       "       u'third_last_pitch_type_Not_Fastball',\n",
       "       u'third_last_pitch_type_not_available'],\n",
       "      dtype='object')"
      ]
     },
     "execution_count": 18,
     "metadata": {},
     "output_type": "execute_result"
    }
   ],
   "source": [
    "modeling_data['train_data'].columns"
   ]
  },
  {
   "cell_type": "markdown",
   "metadata": {},
   "source": [
    "Create different potential column subset groups"
   ]
  },
  {
   "cell_type": "code",
   "execution_count": 19,
   "metadata": {
    "collapsed": true
   },
   "outputs": [],
   "source": [
    "#Basic features\n",
    "the_basics = [u'b', u's', u'on_1b', u'on_2b', u'on_3b', u'o', \n",
    "              u'home_wins',u'home_loss', u'away_wins', u'away_loss', \n",
    "              u'stand_L', u'stand_R', u'p_throws_R']\n",
    "\n",
    "#Adding previous batter priors\n",
    "with_pbs_priors = the_basics + [u'Not_Fastball_pb_prior',\n",
    "                                u'Not_Fastball_pbs_prior', u'Fastball_pb_prior', u'Fastball_pbs_prior']\n",
    "\n",
    "#Adding pc priors\n",
    "with_pc_priors = the_basics + [u'Not_Fastball_pc_prior', u'Not_Fastball_pcs_prior',\n",
    "                               u'Fastball_pc_prior', u'Fastball_pcs_prior']\n",
    "\n",
    "#Adding previous games priors\n",
    "with_pg_priors = the_basics + [u'Not_Fastball_pg_prior', u'Not_Fastball_pgs_prior', \n",
    "                               u'Fastball_pg_prior', u'Fastball_pgs_prior']\n",
    "\n",
    "#Adding all priors\n",
    "basics_and_priors = (the_basics + [u'Not_Fastball_pb_prior',\n",
    "                                u'Not_Fastball_pbs_prior', u'Fastball_pb_prior', u'Fastball_pbs_prior'] +\n",
    "                     [u'Not_Fastball_pc_prior', u'Not_Fastball_pcs_prior',\n",
    "                               u'Fastball_pc_prior', u'Fastball_pcs_prior'] + \n",
    "                    [u'Not_Fastball_pg_prior', u'Not_Fastball_pgs_prior', \n",
    "                               u'Fastball_pg_prior', u'Fastball_pgs_prior'])\n",
    "\n",
    "#Adding previous pitch info\n",
    "with_previous_pitch_info = the_basics + [u'last_pitch_type_Fastball', u'last_pitch_type_Not_Fastball',\n",
    "       u'last_pitch_type_not_available', u'second_last_pitch_type_Fastball',\n",
    "       u'second_last_pitch_type_Not_Fastball',\n",
    "       u'second_last_pitch_type_not_available',\n",
    "       u'third_last_pitch_type_Fastball',\n",
    "       u'third_last_pitch_type_Not_Fastball',\n",
    "       u'third_last_pitch_type_not_available', u'prev_pitches_mean_start_speed', u'prev_pitches_mean_end_speed',\n",
    "       u'prev_pitches_mean_break_y', u'prev_pitches_mean_break_angle',\n",
    "       u'prev_pitches_mean_break_length']\n",
    "\n",
    "#priors and previous pitch info\n",
    "basics_priors_prev = basics_and_priors + [u'last_pitch_type_Fastball', u'last_pitch_type_Not_Fastball',\n",
    "       u'last_pitch_type_not_available', u'second_last_pitch_type_Fastball',\n",
    "       u'second_last_pitch_type_Not_Fastball',\n",
    "       u'second_last_pitch_type_not_available',\n",
    "       u'third_last_pitch_type_Fastball',\n",
    "       u'third_last_pitch_type_Not_Fastball',\n",
    "       u'third_last_pitch_type_not_available', u'prev_pitches_mean_start_speed', u'prev_pitches_mean_end_speed',\n",
    "       u'prev_pitches_mean_break_y', u'prev_pitches_mean_break_angle',\n",
    "       u'prev_pitches_mean_break_length']\n",
    "\n",
    "#Adding pitch_counts and previous pitches speeds and breaks\n",
    "with_pitch_counts_speeds_breaks = the_basics + [u'ingame_pitch_count', u'cur_season', \n",
    "                                                u'season_pitch_count']\n",
    "\n",
    "#Combining it with the above\n",
    "basics_pitch_stats_prev = basics_priors_prev + [u'ingame_pitch_count', u'cur_season', u'season_pitch_count']\n",
    "\n",
    "#Everything previous with stadiums Stadiums (should be all variables\n",
    "with_stadiums = basics_pitch_stats_prev + [u'stadium_name_Angel Stadium of Anaheim',\n",
    "       u'stadium_name_Citi Field', u'stadium_name_Comerica Park',\n",
    "       u'stadium_name_Fenway Park', u'stadium_name_Great American Ball Park',\n",
    "       u'stadium_name_Hubert H. Humphrey Metrodome',\n",
    "       u'stadium_name_Kauffman Stadium', u'stadium_name_Minute Maid Park',\n",
    "       u'stadium_name_Oakland Coliseum',\n",
    "       u'stadium_name_Oriole Park at Camden Yards', u'stadium_name_PNC Park',\n",
    "       u'stadium_name_Progressive Field',\n",
    "       u'stadium_name_Rangers Ballpark in Arlington',\n",
    "       u'stadium_name_Rogers Centre', u'stadium_name_Safeco Field',\n",
    "       u'stadium_name_Target Field', u'stadium_name_Tropicana Field',\n",
    "       u'stadium_name_Turner Field', u'stadium_name_U.S. Cellular Field',\n",
    "       u'stadium_name_Wrigley Field', u'stadium_name_Yankee Stadium']"
   ]
  },
  {
   "cell_type": "markdown",
   "metadata": {},
   "source": [
    "Function to guage the accuracy of just guessing the most frequent pitch"
   ]
  },
  {
   "cell_type": "code",
   "execution_count": 20,
   "metadata": {
    "collapsed": true
   },
   "outputs": [],
   "source": [
    "#Function to calculate the naive accuracy for a pitcher\n",
    "def naive_accuracy(data_dict):\n",
    "    biggest_count = data_dict['train_targets'].value_counts()[0]\n",
    "    all_counts = data_dict['train_targets'].value_counts().sum()\n",
    "    return round(float(biggest_count) / all_counts, 3)"
   ]
  },
  {
   "cell_type": "markdown",
   "metadata": {},
   "source": [
    "### Creating a Random Forest Model and evaluating its accuracy compared to the naive accuracy "
   ]
  },
  {
   "cell_type": "markdown",
   "metadata": {},
   "source": [
    "Naive Accuracy when Using the original data"
   ]
  },
  {
   "cell_type": "code",
   "execution_count": 21,
   "metadata": {
    "collapsed": false
   },
   "outputs": [
    {
     "data": {
      "text/plain": [
       "0.586"
      ]
     },
     "execution_count": 21,
     "metadata": {},
     "output_type": "execute_result"
    }
   ],
   "source": [
    "#Get the baseline accuracy for guessing the most frequent pitch with orig data\n",
    "naive_accuracy(modeling_data)"
   ]
  },
  {
   "cell_type": "markdown",
   "metadata": {},
   "source": [
    "Accuracy for random forest on original data"
   ]
  },
  {
   "cell_type": "code",
   "execution_count": 30,
   "metadata": {
    "collapsed": false
   },
   "outputs": [
    {
     "data": {
      "text/plain": [
       "0.61617900172117035"
      ]
     },
     "execution_count": 30,
     "metadata": {},
     "output_type": "execute_result"
    }
   ],
   "source": [
    "#Run Random forest Model for the original data\n",
    "baseline_dict = subset_data(modeling_data, basics_pitch_stats_prev)\n",
    "\n",
    "#Get predictions for a random forest\n",
    "rf = RandomForestClassifier(n_estimators = 50, max_depth = 3, min_samples_leaf = 5, \n",
    "                            min_samples_split = 5, max_features = None, random_state = 35)\n",
    "rf.fit(baseline_dict['train_data'], baseline_dict['train_targets'])\n",
    "rf_probs = rf.predict_proba(baseline_dict['test_data'][1000:])[:, 1]\n",
    "rf_preds = rf.predict(baseline_dict['test_data'][1000:])\n",
    "\n",
    "#See accuracy for this model\n",
    "rf_score = accuracy_score(baseline_dict['test_targets'][1000:], rf_preds)\n",
    "rf_score"
   ]
  },
  {
   "cell_type": "markdown",
   "metadata": {},
   "source": [
    "Accuracy for random forest on reclassified data"
   ]
  },
  {
   "cell_type": "code",
   "execution_count": 23,
   "metadata": {
    "collapsed": false
   },
   "outputs": [
    {
     "data": {
      "text/plain": [
       "0.592"
      ]
     },
     "execution_count": 23,
     "metadata": {},
     "output_type": "execute_result"
    }
   ],
   "source": [
    "#baseline for reclassed data\n",
    "naive_accuracy(modeling_data_rc)"
   ]
  },
  {
   "cell_type": "markdown",
   "metadata": {},
   "source": [
    "Accuracy for random forest on reclassified data...Pretty poor..."
   ]
  },
  {
   "cell_type": "code",
   "execution_count": 29,
   "metadata": {
    "collapsed": false
   },
   "outputs": [
    {
     "data": {
      "text/plain": [
       "0.61790017211703963"
      ]
     },
     "execution_count": 29,
     "metadata": {},
     "output_type": "execute_result"
    }
   ],
   "source": [
    "from sklearn.calibration import CalibratedClassifierCV\n",
    "\n",
    "sig_rf = CalibratedClassifierCV(rf, method=\"sigmoid\", cv=\"prefit\")\n",
    "sig_rf.fit(baseline_dict['test_data'][:1000], baseline_dict['test_targets'][:1000])\n",
    "sig_rf_probs = sig_rf.predict_proba(baseline_dict['test_data'][1000:])[:, 1]\n",
    "sig_rf_preds = sig_rf.predict(baseline_dict['test_data'][1000:])\n",
    "sig_rf_score = accuracy_score(baseline_dict['test_targets'][1000:], sig_rf_preds)\n",
    "sig_rf_score"
   ]
  },
  {
   "cell_type": "code",
   "execution_count": 31,
   "metadata": {
    "collapsed": false
   },
   "outputs": [
    {
     "data": {
      "text/plain": [
       "0.56970740103270223"
      ]
     },
     "execution_count": 31,
     "metadata": {},
     "output_type": "execute_result"
    }
   ],
   "source": [
    "iso_rf = CalibratedClassifierCV(rf, method=\"isotonic\", cv=\"prefit\")\n",
    "iso_rf.fit(baseline_dict['test_data'][:1000], baseline_dict['test_targets'][:1000])\n",
    "iso_rf_probs = iso_rf.predict_proba(baseline_dict['test_data'][1000:])[:, 1]\n",
    "iso_rf_preds = iso_rf.predict(baseline_dict['test_data'][1000:])\n",
    "iso_rf_score = accuracy_score(baseline_dict['test_targets'][1000:], iso_rf_preds)\n",
    "iso_rf_score"
   ]
  },
  {
   "cell_type": "code",
   "execution_count": 32,
   "metadata": {
    "collapsed": false
   },
   "outputs": [
    {
     "data": {
      "image/png": "[encoded data removed]",
      "text/plain": [
       "<matplotlib.figure.Figure at 0x49aaa080>"
      ]
     },
     "metadata": {},
     "output_type": "display_data"
    }
   ],
   "source": [
    "# Plot the data and the predicted probabilities\n",
    "plt.figure()\n",
    "order = np.lexsort((rf_probs, ))\n",
    "plt.plot(rf_probs[order], 'r', label='No calibration (%1.3f)' % rf_score)\n",
    "plt.plot(iso_rf_probs[order], 'g', linewidth=3,\n",
    "         label='Isotonic calibration (%1.3f)' % iso_rf_score)\n",
    "plt.plot(sig_rf_probs[order], 'b', linewidth=3,\n",
    "         label='Sigmoid calibration (%1.3f)' % sig_rf_score)\n",
    "plt.ylim([-0.05, 1.05])\n",
    "plt.xlabel(\"Instances sorted according to predicted probability \"\n",
    "           \"(uncalibrated RF)\")\n",
    "plt.ylabel(\"P(y=1)\")\n",
    "plt.legend(loc=\"upper left\")\n",
    "plt.title(\"Random Forest probabilities\")\n",
    "\n",
    "plt.show()"
   ]
  },
  {
   "cell_type": "code",
   "execution_count": null,
   "metadata": {
    "collapsed": true
   },
   "outputs": [],
   "source": []
  }
 ],
 "metadata": {
  "kernelspec": {
   "display_name": "Python 2",
   "language": "python",
   "name": "python2"
  },
  "language_info": {
   "codemirror_mode": {
    "name": "ipython",
    "version": 2
   },
   "file_extension": ".py",
   "mimetype": "text/x-python",
   "name": "python",
   "nbconvert_exporter": "python",
   "pygments_lexer": "ipython2",
   "version": "2.7.9"
  }
 },
 "nbformat": 4,
 "nbformat_minor": 0
}
